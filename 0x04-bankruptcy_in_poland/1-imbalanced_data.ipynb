{
 "cells": [
  {
   "cell_type": "markdown",
   "metadata": {},
   "source": [
    "# Imbalanced Data"
   ]
  },
  {
   "cell_type": "markdown",
   "metadata": {},
   "source": [
    "**Goal:** To explore features of the dataset, use visualizations to help in understanding those features, and develop a model that solves the problem of imbalanced data nu under- and over-sampling."
   ]
  },
  {
   "cell_type": "code",
   "execution_count": 15,
   "metadata": {},
   "outputs": [],
   "source": [
    "import pickle\n",
    "\n",
    "import pandas as pd\n",
    "import matplotlib.pyplot as plt\n",
    "import seaborn as sns\n",
    "from imblearn.over_sampling import RandomOverSampler\n",
    "from imblearn.under_sampling import RandomUnderSampler\n",
    "from sklearn.impute import SimpleImputer\n",
    "from sklearn.metrics import ConfusionMatrixDisplay\n",
    "from sklearn.model_selection import train_test_split\n",
    "from sklearn.tree import DecisionTreeClassifier"
   ]
  },
  {
   "cell_type": "markdown",
   "metadata": {},
   "source": [
    "### Import Data"
   ]
  },
  {
   "cell_type": "code",
   "execution_count": 22,
   "metadata": {},
   "outputs": [],
   "source": [
    "def wrangle(url):\n",
    "    df = pd.read_csv(url)\n",
    "    #Re-code the class variable to True = 1, and False = 0:\n",
    "    df['class'] = df['class'].replace({0: False, 1: True})\n",
    "    \n",
    "    #Rename the class variable to bankrupt\n",
    "    df = df.rename(columns={'class': 'bankrupt'})\n",
    "\n",
    "    return df"
   ]
  },
  {
   "cell_type": "code",
   "execution_count": 23,
   "metadata": {},
   "outputs": [
    {
     "name": "stderr",
     "output_type": "stream",
     "text": [
      "C:\\Users\\Asus\\AppData\\Local\\Temp\\ipykernel_21300\\125355118.py:4: FutureWarning: Downcasting behavior in `replace` is deprecated and will be removed in a future version. To retain the old behavior, explicitly call `result.infer_objects(copy=False)`. To opt-in to the future behavior, set `pd.set_option('future.no_silent_downcasting', True)`\n",
      "  df['class'] = df['class'].replace({0: False, 1: True})\n"
     ]
    },
    {
     "data": {
      "text/html": [
       "<div>\n",
       "<style scoped>\n",
       "    .dataframe tbody tr th:only-of-type {\n",
       "        vertical-align: middle;\n",
       "    }\n",
       "\n",
       "    .dataframe tbody tr th {\n",
       "        vertical-align: top;\n",
       "    }\n",
       "\n",
       "    .dataframe thead th {\n",
       "        text-align: right;\n",
       "    }\n",
       "</style>\n",
       "<table border=\"1\" class=\"dataframe\">\n",
       "  <thead>\n",
       "    <tr style=\"text-align: right;\">\n",
       "      <th></th>\n",
       "      <th>year</th>\n",
       "      <th>A1</th>\n",
       "      <th>A2</th>\n",
       "      <th>A3</th>\n",
       "      <th>A4</th>\n",
       "      <th>A5</th>\n",
       "      <th>A6</th>\n",
       "      <th>A7</th>\n",
       "      <th>A8</th>\n",
       "      <th>A9</th>\n",
       "      <th>...</th>\n",
       "      <th>A56</th>\n",
       "      <th>A57</th>\n",
       "      <th>A58</th>\n",
       "      <th>A59</th>\n",
       "      <th>A60</th>\n",
       "      <th>A61</th>\n",
       "      <th>A62</th>\n",
       "      <th>A63</th>\n",
       "      <th>A64</th>\n",
       "      <th>bankrupt</th>\n",
       "    </tr>\n",
       "  </thead>\n",
       "  <tbody>\n",
       "    <tr>\n",
       "      <th>0</th>\n",
       "      <td>1</td>\n",
       "      <td>0.200550</td>\n",
       "      <td>0.37951</td>\n",
       "      <td>0.39641</td>\n",
       "      <td>2.0472</td>\n",
       "      <td>32.3510</td>\n",
       "      <td>0.38825</td>\n",
       "      <td>0.249760</td>\n",
       "      <td>1.33050</td>\n",
       "      <td>1.1389</td>\n",
       "      <td>...</td>\n",
       "      <td>0.121960</td>\n",
       "      <td>0.39718</td>\n",
       "      <td>0.87804</td>\n",
       "      <td>0.001924</td>\n",
       "      <td>8.4160</td>\n",
       "      <td>5.1372</td>\n",
       "      <td>82.658</td>\n",
       "      <td>4.4158</td>\n",
       "      <td>7.4277</td>\n",
       "      <td>False</td>\n",
       "    </tr>\n",
       "    <tr>\n",
       "      <th>1</th>\n",
       "      <td>1</td>\n",
       "      <td>0.209120</td>\n",
       "      <td>0.49988</td>\n",
       "      <td>0.47225</td>\n",
       "      <td>1.9447</td>\n",
       "      <td>14.7860</td>\n",
       "      <td>0.00000</td>\n",
       "      <td>0.258340</td>\n",
       "      <td>0.99601</td>\n",
       "      <td>1.6996</td>\n",
       "      <td>...</td>\n",
       "      <td>0.121300</td>\n",
       "      <td>0.42002</td>\n",
       "      <td>0.85300</td>\n",
       "      <td>0.000000</td>\n",
       "      <td>4.1486</td>\n",
       "      <td>3.2732</td>\n",
       "      <td>107.350</td>\n",
       "      <td>3.4000</td>\n",
       "      <td>60.9870</td>\n",
       "      <td>False</td>\n",
       "    </tr>\n",
       "    <tr>\n",
       "      <th>2</th>\n",
       "      <td>1</td>\n",
       "      <td>0.248660</td>\n",
       "      <td>0.69592</td>\n",
       "      <td>0.26713</td>\n",
       "      <td>1.5548</td>\n",
       "      <td>-1.1523</td>\n",
       "      <td>0.00000</td>\n",
       "      <td>0.309060</td>\n",
       "      <td>0.43695</td>\n",
       "      <td>1.3090</td>\n",
       "      <td>...</td>\n",
       "      <td>0.241140</td>\n",
       "      <td>0.81774</td>\n",
       "      <td>0.76599</td>\n",
       "      <td>0.694840</td>\n",
       "      <td>4.9909</td>\n",
       "      <td>3.9510</td>\n",
       "      <td>134.270</td>\n",
       "      <td>2.7185</td>\n",
       "      <td>5.2078</td>\n",
       "      <td>False</td>\n",
       "    </tr>\n",
       "    <tr>\n",
       "      <th>3</th>\n",
       "      <td>1</td>\n",
       "      <td>0.081483</td>\n",
       "      <td>0.30734</td>\n",
       "      <td>0.45879</td>\n",
       "      <td>2.4928</td>\n",
       "      <td>51.9520</td>\n",
       "      <td>0.14988</td>\n",
       "      <td>0.092704</td>\n",
       "      <td>1.86610</td>\n",
       "      <td>1.0571</td>\n",
       "      <td>...</td>\n",
       "      <td>0.054015</td>\n",
       "      <td>0.14207</td>\n",
       "      <td>0.94598</td>\n",
       "      <td>0.000000</td>\n",
       "      <td>4.5746</td>\n",
       "      <td>3.6147</td>\n",
       "      <td>86.435</td>\n",
       "      <td>4.2228</td>\n",
       "      <td>5.5497</td>\n",
       "      <td>False</td>\n",
       "    </tr>\n",
       "    <tr>\n",
       "      <th>4</th>\n",
       "      <td>1</td>\n",
       "      <td>0.187320</td>\n",
       "      <td>0.61323</td>\n",
       "      <td>0.22960</td>\n",
       "      <td>1.4063</td>\n",
       "      <td>-7.3128</td>\n",
       "      <td>0.18732</td>\n",
       "      <td>0.187320</td>\n",
       "      <td>0.63070</td>\n",
       "      <td>1.1559</td>\n",
       "      <td>...</td>\n",
       "      <td>0.134850</td>\n",
       "      <td>0.48431</td>\n",
       "      <td>0.86515</td>\n",
       "      <td>0.124440</td>\n",
       "      <td>6.3985</td>\n",
       "      <td>4.3158</td>\n",
       "      <td>127.210</td>\n",
       "      <td>2.8692</td>\n",
       "      <td>7.8980</td>\n",
       "      <td>False</td>\n",
       "    </tr>\n",
       "  </tbody>\n",
       "</table>\n",
       "<p>5 rows × 66 columns</p>\n",
       "</div>"
      ],
      "text/plain": [
       "   year        A1       A2       A3      A4       A5       A6        A7  \\\n",
       "0     1  0.200550  0.37951  0.39641  2.0472  32.3510  0.38825  0.249760   \n",
       "1     1  0.209120  0.49988  0.47225  1.9447  14.7860  0.00000  0.258340   \n",
       "2     1  0.248660  0.69592  0.26713  1.5548  -1.1523  0.00000  0.309060   \n",
       "3     1  0.081483  0.30734  0.45879  2.4928  51.9520  0.14988  0.092704   \n",
       "4     1  0.187320  0.61323  0.22960  1.4063  -7.3128  0.18732  0.187320   \n",
       "\n",
       "        A8      A9  ...       A56      A57      A58       A59     A60     A61  \\\n",
       "0  1.33050  1.1389  ...  0.121960  0.39718  0.87804  0.001924  8.4160  5.1372   \n",
       "1  0.99601  1.6996  ...  0.121300  0.42002  0.85300  0.000000  4.1486  3.2732   \n",
       "2  0.43695  1.3090  ...  0.241140  0.81774  0.76599  0.694840  4.9909  3.9510   \n",
       "3  1.86610  1.0571  ...  0.054015  0.14207  0.94598  0.000000  4.5746  3.6147   \n",
       "4  0.63070  1.1559  ...  0.134850  0.48431  0.86515  0.124440  6.3985  4.3158   \n",
       "\n",
       "       A62     A63      A64  bankrupt  \n",
       "0   82.658  4.4158   7.4277     False  \n",
       "1  107.350  3.4000  60.9870     False  \n",
       "2  134.270  2.7185   5.2078     False  \n",
       "3   86.435  4.2228   5.5497     False  \n",
       "4  127.210  2.8692   7.8980     False  \n",
       "\n",
       "[5 rows x 66 columns]"
      ]
     },
     "execution_count": 23,
     "metadata": {},
     "output_type": "execute_result"
    }
   ],
   "source": [
    "df = wrangle(\"https://archive.ics.uci.edu/static/public/365/data.csv\")\n",
    "df.head()"
   ]
  },
  {
   "cell_type": "markdown",
   "metadata": {},
   "source": [
    "**Important Note**: Class: Whether a company went bankrupt(1) or a company that did not go bankrupt(0)"
   ]
  },
  {
   "cell_type": "markdown",
   "metadata": {},
   "source": [
    "Explore"
   ]
  },
  {
   "cell_type": "code",
   "execution_count": 24,
   "metadata": {},
   "outputs": [
    {
     "name": "stdout",
     "output_type": "stream",
     "text": [
      "<class 'pandas.core.frame.DataFrame'>\n",
      "RangeIndex: 43405 entries, 0 to 43404\n",
      "Data columns (total 66 columns):\n",
      " #   Column    Non-Null Count  Dtype  \n",
      "---  ------    --------------  -----  \n",
      " 0   year      43405 non-null  int64  \n",
      " 1   A1        43397 non-null  float64\n",
      " 2   A2        43397 non-null  float64\n",
      " 3   A3        43397 non-null  float64\n",
      " 4   A4        43271 non-null  float64\n",
      " 5   A5        43316 non-null  float64\n",
      " 6   A6        43397 non-null  float64\n",
      " 7   A7        43397 non-null  float64\n",
      " 8   A8        43311 non-null  float64\n",
      " 9   A9        43396 non-null  float64\n",
      " 10  A10       43397 non-null  float64\n",
      " 11  A11       43361 non-null  float64\n",
      " 12  A12       43271 non-null  float64\n",
      " 13  A13       43278 non-null  float64\n",
      " 14  A14       43397 non-null  float64\n",
      " 15  A15       43369 non-null  float64\n",
      " 16  A16       43310 non-null  float64\n",
      " 17  A17       43311 non-null  float64\n",
      " 18  A18       43397 non-null  float64\n",
      " 19  A19       43277 non-null  float64\n",
      " 20  A20       43278 non-null  float64\n",
      " 21  A21       37551 non-null  float64\n",
      " 22  A22       43397 non-null  float64\n",
      " 23  A23       43278 non-null  float64\n",
      " 24  A24       42483 non-null  float64\n",
      " 25  A25       43397 non-null  float64\n",
      " 26  A26       43310 non-null  float64\n",
      " 27  A27       40641 non-null  float64\n",
      " 28  A28       42593 non-null  float64\n",
      " 29  A29       43397 non-null  float64\n",
      " 30  A30       43278 non-null  float64\n",
      " 31  A31       43278 non-null  float64\n",
      " 32  A32       43037 non-null  float64\n",
      " 33  A33       43271 non-null  float64\n",
      " 34  A34       43311 non-null  float64\n",
      " 35  A35       43397 non-null  float64\n",
      " 36  A36       43397 non-null  float64\n",
      " 37  A37       24421 non-null  float64\n",
      " 38  A38       43397 non-null  float64\n",
      " 39  A39       43278 non-null  float64\n",
      " 40  A40       43271 non-null  float64\n",
      " 41  A41       42651 non-null  float64\n",
      " 42  A42       43278 non-null  float64\n",
      " 43  A43       43278 non-null  float64\n",
      " 44  A44       43278 non-null  float64\n",
      " 45  A45       41258 non-null  float64\n",
      " 46  A46       43270 non-null  float64\n",
      " 47  A47       43108 non-null  float64\n",
      " 48  A48       43396 non-null  float64\n",
      " 49  A49       43278 non-null  float64\n",
      " 50  A50       43311 non-null  float64\n",
      " 51  A51       43397 non-null  float64\n",
      " 52  A52       43104 non-null  float64\n",
      " 53  A53       42593 non-null  float64\n",
      " 54  A54       42593 non-null  float64\n",
      " 55  A55       43404 non-null  float64\n",
      " 56  A56       43278 non-null  float64\n",
      " 57  A57       43398 non-null  float64\n",
      " 58  A58       43321 non-null  float64\n",
      " 59  A59       43398 non-null  float64\n",
      " 60  A60       41253 non-null  float64\n",
      " 61  A61       43303 non-null  float64\n",
      " 62  A62       43278 non-null  float64\n",
      " 63  A63       43271 non-null  float64\n",
      " 64  A64       42593 non-null  float64\n",
      " 65  bankrupt  43405 non-null  bool   \n",
      "dtypes: bool(1), float64(64), int64(1)\n",
      "memory usage: 21.6 MB\n"
     ]
    }
   ],
   "source": [
    "df.info()"
   ]
  },
  {
   "cell_type": "code",
   "execution_count": 25,
   "metadata": {},
   "outputs": [
    {
     "data": {
      "text/plain": [
       "(43405, 66)"
      ]
     },
     "execution_count": 25,
     "metadata": {},
     "output_type": "execute_result"
    }
   ],
   "source": [
    "df.shape"
   ]
  },
  {
   "cell_type": "code",
   "execution_count": 26,
   "metadata": {},
   "outputs": [
    {
     "data": {
      "text/html": [
       "<div>\n",
       "<style scoped>\n",
       "    .dataframe tbody tr th:only-of-type {\n",
       "        vertical-align: middle;\n",
       "    }\n",
       "\n",
       "    .dataframe tbody tr th {\n",
       "        vertical-align: top;\n",
       "    }\n",
       "\n",
       "    .dataframe thead th {\n",
       "        text-align: right;\n",
       "    }\n",
       "</style>\n",
       "<table border=\"1\" class=\"dataframe\">\n",
       "  <thead>\n",
       "    <tr style=\"text-align: right;\">\n",
       "      <th></th>\n",
       "      <th>year</th>\n",
       "      <th>A1</th>\n",
       "      <th>A2</th>\n",
       "      <th>A3</th>\n",
       "      <th>A4</th>\n",
       "      <th>A5</th>\n",
       "      <th>A6</th>\n",
       "      <th>A7</th>\n",
       "      <th>A8</th>\n",
       "      <th>A9</th>\n",
       "      <th>...</th>\n",
       "      <th>A56</th>\n",
       "      <th>A57</th>\n",
       "      <th>A58</th>\n",
       "      <th>A59</th>\n",
       "      <th>A60</th>\n",
       "      <th>A61</th>\n",
       "      <th>A62</th>\n",
       "      <th>A63</th>\n",
       "      <th>A64</th>\n",
       "      <th>bankrupt</th>\n",
       "    </tr>\n",
       "  </thead>\n",
       "  <tbody>\n",
       "    <tr>\n",
       "      <th>0</th>\n",
       "      <td>1</td>\n",
       "      <td>0.20055</td>\n",
       "      <td>0.37951</td>\n",
       "      <td>0.39641</td>\n",
       "      <td>2.0472</td>\n",
       "      <td>32.3510</td>\n",
       "      <td>0.38825</td>\n",
       "      <td>0.24976</td>\n",
       "      <td>1.33050</td>\n",
       "      <td>1.1389</td>\n",
       "      <td>...</td>\n",
       "      <td>0.12196</td>\n",
       "      <td>0.39718</td>\n",
       "      <td>0.87804</td>\n",
       "      <td>0.001924</td>\n",
       "      <td>8.4160</td>\n",
       "      <td>5.1372</td>\n",
       "      <td>82.658</td>\n",
       "      <td>4.4158</td>\n",
       "      <td>7.4277</td>\n",
       "      <td>False</td>\n",
       "    </tr>\n",
       "    <tr>\n",
       "      <th>1</th>\n",
       "      <td>1</td>\n",
       "      <td>0.20912</td>\n",
       "      <td>0.49988</td>\n",
       "      <td>0.47225</td>\n",
       "      <td>1.9447</td>\n",
       "      <td>14.7860</td>\n",
       "      <td>0.00000</td>\n",
       "      <td>0.25834</td>\n",
       "      <td>0.99601</td>\n",
       "      <td>1.6996</td>\n",
       "      <td>...</td>\n",
       "      <td>0.12130</td>\n",
       "      <td>0.42002</td>\n",
       "      <td>0.85300</td>\n",
       "      <td>0.000000</td>\n",
       "      <td>4.1486</td>\n",
       "      <td>3.2732</td>\n",
       "      <td>107.350</td>\n",
       "      <td>3.4000</td>\n",
       "      <td>60.9870</td>\n",
       "      <td>False</td>\n",
       "    </tr>\n",
       "    <tr>\n",
       "      <th>2</th>\n",
       "      <td>1</td>\n",
       "      <td>0.24866</td>\n",
       "      <td>0.69592</td>\n",
       "      <td>0.26713</td>\n",
       "      <td>1.5548</td>\n",
       "      <td>-1.1523</td>\n",
       "      <td>0.00000</td>\n",
       "      <td>0.30906</td>\n",
       "      <td>0.43695</td>\n",
       "      <td>1.3090</td>\n",
       "      <td>...</td>\n",
       "      <td>0.24114</td>\n",
       "      <td>0.81774</td>\n",
       "      <td>0.76599</td>\n",
       "      <td>0.694840</td>\n",
       "      <td>4.9909</td>\n",
       "      <td>3.9510</td>\n",
       "      <td>134.270</td>\n",
       "      <td>2.7185</td>\n",
       "      <td>5.2078</td>\n",
       "      <td>False</td>\n",
       "    </tr>\n",
       "  </tbody>\n",
       "</table>\n",
       "<p>3 rows × 66 columns</p>\n",
       "</div>"
      ],
      "text/plain": [
       "   year       A1       A2       A3      A4       A5       A6       A7  \\\n",
       "0     1  0.20055  0.37951  0.39641  2.0472  32.3510  0.38825  0.24976   \n",
       "1     1  0.20912  0.49988  0.47225  1.9447  14.7860  0.00000  0.25834   \n",
       "2     1  0.24866  0.69592  0.26713  1.5548  -1.1523  0.00000  0.30906   \n",
       "\n",
       "        A8      A9  ...      A56      A57      A58       A59     A60     A61  \\\n",
       "0  1.33050  1.1389  ...  0.12196  0.39718  0.87804  0.001924  8.4160  5.1372   \n",
       "1  0.99601  1.6996  ...  0.12130  0.42002  0.85300  0.000000  4.1486  3.2732   \n",
       "2  0.43695  1.3090  ...  0.24114  0.81774  0.76599  0.694840  4.9909  3.9510   \n",
       "\n",
       "       A62     A63      A64  bankrupt  \n",
       "0   82.658  4.4158   7.4277     False  \n",
       "1  107.350  3.4000  60.9870     False  \n",
       "2  134.270  2.7185   5.2078     False  \n",
       "\n",
       "[3 rows x 66 columns]"
      ]
     },
     "execution_count": 26,
     "metadata": {},
     "output_type": "execute_result"
    }
   ],
   "source": [
    "df.head(3)"
   ]
  },
  {
   "cell_type": "markdown",
   "metadata": {},
   "source": [
    "Plot Class Balance"
   ]
  },
  {
   "cell_type": "code",
   "execution_count": 28,
   "metadata": {},
   "outputs": [
    {
     "data": {
      "text/plain": [
       "bankrupt\n",
       "False    0.951826\n",
       "True     0.048174\n",
       "Name: proportion, dtype: float64"
      ]
     },
     "execution_count": 28,
     "metadata": {},
     "output_type": "execute_result"
    }
   ],
   "source": [
    "df[\"bankrupt\"].value_counts(normalize=True)"
   ]
  },
  {
   "cell_type": "code",
   "execution_count": 29,
   "metadata": {},
   "outputs": [
    {
     "data": {
      "image/png": "[encoded data removed]",
      "text/plain": [
       "<Figure size 640x480 with 1 Axes>"
      ]
     },
     "metadata": {},
     "output_type": "display_data"
    }
   ],
   "source": [
    "# Plot class balance\n",
    "df[\"bankrupt\"].value_counts(normalize=True).plot(\n",
    "    kind=\"bar\",\n",
    "    xlabel=\"bankrupt\",\n",
    "    ylabel=\"Frequency\",\n",
    "    title=\"Class Balance\"\n",
    ");"
   ]
  },
  {
   "cell_type": "markdown",
   "metadata": {},
   "source": [
    "- Positive Class: True\n",
    "\n",
    "- Negative class: False"
   ]
  },
  {
   "cell_type": "markdown",
   "metadata": {},
   "source": [
    "Feature Box Plot: Feature A27\n",
    "\n",
    "- A7: profit on operating activities/ expenses"
   ]
  },
  {
   "cell_type": "code",
   "execution_count": 34,
   "metadata": {},
   "outputs": [
    {
     "data": {
      "image/png": "[encoded data removed]",
      "text/plain": [
       "<Figure size 640x480 with 1 Axes>"
      ]
     },
     "metadata": {},
     "output_type": "display_data"
    }
   ],
   "source": [
    "sns.boxplot(x=\"bankrupt\",\n",
    " y=\"A27\",\n",
    " data=df\n",
    ")\n",
    "plt.xlabel(\"Bankrupt\")\n",
    "plt.ylabel(\"POA / financial expenses\")\n",
    "plt.title(\"Distribution of Profit/Expenses Ratio, by Class\");"
   ]
  },
  {
   "cell_type": "markdown",
   "metadata": {},
   "source": [
    "Observation:\n",
    "- Companies that did not go bankrupt seem to have larger values of profit to expenses ratio.\n",
    "\n",
    "- Companies that went bankrupt seem to have smaller profit to expenses ratio.\n",
    "\n",
    "Genearrly, the results suggests that if a company is spending more than what it earns as profit, then that might be an indicator for bankruptcy while companies that makes lots of proft has the potential of not gong bankrupt."
   ]
  },
  {
   "cell_type": "markdown",
   "metadata": {},
   "source": [
    "#### Feature summary statistcs - A27"
   ]
  },
  {
   "cell_type": "code",
   "execution_count": 39,
   "metadata": {},
   "outputs": [
    {
     "data": {
      "text/plain": [
       "count       40,641\n",
       "mean         1,108\n",
       "std         35,015\n",
       "min       -259,000\n",
       "25%              0\n",
       "50%              1\n",
       "75%              5\n",
       "max      4,210,000\n",
       "Name: A27, dtype: object"
      ]
     },
     "execution_count": 39,
     "metadata": {},
     "output_type": "execute_result"
    }
   ],
   "source": [
    "df.A27.describe().apply(\"{0:,.0f}\".format)"
   ]
  },
  {
   "cell_type": "markdown",
   "metadata": {},
   "source": [
    "- The median (50%) is 1, implying that comapies that are below 1 are those that have higher expenses that profits. On the contrary, companies that are above 1 are those that are profitable - higher profits than expenses.\n",
    "\n",
    "- The middle 50% (between 25% quartile and 75% quartile) are those between 0 and 5. This is where most of the observations are falling.\n",
    "\n",
    "- The minimum is -259,000 implying that the company is making losses.\n",
    "\n",
    "- Maximum is 4, 210, 000 suggesting that the company is making a lot of profits. \n",
    "\n",
    "- Overal, the observations means that the data has a skewed distribution.\n",
    "- Now, given the median is 1, and the mean is is 1, 108 suggests that the large datasets are pulling the mean towrds the large posittive observatins.\n",
    "- The next task involves plotting the distribution of the feature.\n",
    "\n",
    "\n"
   ]
  },
  {
   "cell_type": "markdown",
   "metadata": {},
   "source": [
    "#### Feature Histogram"
   ]
  },
  {
   "cell_type": "code",
   "execution_count": 42,
   "metadata": {},
   "outputs": [
    {
     "data": {
      "image/png": "[encoded data removed]",
      "text/plain": [
       "<Figure size 640x480 with 1 Axes>"
      ]
     },
     "metadata": {},
     "output_type": "display_data"
    }
   ],
   "source": [
    "df[\"A27\"].hist()\n",
    "plt.xlabel(\"POA / financial expenses\")\n",
    "plt.ylabel(\"Count\"),\n",
    "plt.title(\"Distribution of Profit/Expenses Ratio\");"
   ]
  },
  {
   "cell_type": "markdown",
   "metadata": {},
   "source": [
    "#### Clipped Feature Histogram"
   ]
  },
  {
   "cell_type": "code",
   "execution_count": 43,
   "metadata": {},
   "outputs": [
    {
     "data": {
      "text/plain": [
       "0     True\n",
       "1    False\n",
       "2    False\n",
       "3     True\n",
       "4     True\n",
       "Name: A27, dtype: bool"
      ]
     },
     "execution_count": 43,
     "metadata": {},
     "output_type": "execute_result"
    }
   ],
   "source": [
    "Q1, Q9 = df[\"A27\"].quantile([.1, .9])\n",
    "mask = df[\"A27\"].between(Q1, Q9)\n",
    "mask.head()"
   ]
  },
  {
   "cell_type": "code",
   "execution_count": 45,
   "metadata": {},
   "outputs": [
    {
     "data": {
      "image/png": "[encoded data removed]",
      "text/plain": [
       "<Figure size 640x480 with 1 Axes>"
      ]
     },
     "metadata": {},
     "output_type": "display_data"
    }
   ],
   "source": [
    "Q1, Q9 = df[\"A27\"].quantile([.1, .9])\n",
    "mask = df[\"A27\"].between(Q1, Q9)\n",
    "sns.boxplot(x=\"bankrupt\", y=\"A27\", data=df[mask])\n",
    "plt.xlabel(\"Bankrupt\")\n",
    "plt.ylabel(\"POA / financial expenses\")\n",
    "plt.title(\"Distribution of Profit/Expenses Ratio, by Bankruptcy Status\");"
   ]
  },
  {
   "cell_type": "markdown",
   "metadata": {},
   "source": [
    "Correlation HeatMap"
   ]
  }
 ],
 "metadata": {
  "kernelspec": {
   "display_name": "Python 3",
   "language": "python",
   "name": "python3"
  },
  "language_info": {
   "codemirror_mode": {
    "name": "ipython",
    "version": 3
   },
   "file_extension": ".py",
   "mimetype": "text/x-python",
   "name": "python",
   "nbconvert_exporter": "python",
   "pygments_lexer": "ipython3",
   "version": "3.12.1"
  }
 },
 "nbformat": 4,
 "nbformat_minor": 2
}
