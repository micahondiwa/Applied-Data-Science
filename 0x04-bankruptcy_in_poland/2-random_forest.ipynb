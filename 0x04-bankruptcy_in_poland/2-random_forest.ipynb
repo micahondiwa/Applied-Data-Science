{
 "cells": [
  {
   "cell_type": "markdown",
   "metadata": {},
   "source": [
    "# Random Forest"
   ]
  },
  {
   "cell_type": "markdown",
   "metadata": {},
   "source": [
    "**Project Goal**: To expand the decision tree model into an entire forest (an example of something called an ensemble model); use a grid search cv to tune hyperparameters; and create a function that loads data and a pre-trained model, and uses that model to generate a Series of predictions."
   ]
  },
  {
   "cell_type": "code",
   "execution_count": 4,
   "metadata": {},
   "outputs": [],
   "source": [
    "import gzip\n",
    "import json\n",
    "import pickle\n",
    "import matplotlib.pyplot as plt\n",
    "import pandas as pd\n",
    "from imblearn.over_sampling import RandomOverSampler\n",
    "\n",
    "from sklearn.ensemble import RandomForestClassifier\n",
    "from sklearn.impute import SimpleImputer\n",
    "from sklearn.metrics import ConfusionMatrixDisplay\n",
    "from sklearn.model_selection import GridSearchCV, cross_val_score, train_test_split\n",
    "from sklearn.pipeline import make_pipeline"
   ]
  },
  {
   "cell_type": "markdown",
   "metadata": {},
   "source": [
    "#### Import Data"
   ]
  },
  {
   "cell_type": "code",
   "execution_count": 5,
   "metadata": {},
   "outputs": [],
   "source": [
    "def wrangle(url):\n",
    "    df = pd.read_csv(url)\n",
    "    #Re-code the class variable to True = 1, and False = 0:\n",
    "    df['class'] = df['class'].replace({0: False, 1: True})\n",
    "    \n",
    "    #Rename the class variable to bankrupt\n",
    "    df = df.rename(columns={'class': 'bankrupt'}) #.set_index(\"year\")\n",
    "\n",
    "    return df"
   ]
  },
  {
   "cell_type": "code",
   "execution_count": 6,
   "metadata": {},
   "outputs": [
    {
     "name": "stderr",
     "output_type": "stream",
     "text": [
      "C:\\Users\\Asus\\AppData\\Local\\Temp\\ipykernel_14680\\3935766308.py:4: FutureWarning: Downcasting behavior in `replace` is deprecated and will be removed in a future version. To retain the old behavior, explicitly call `result.infer_objects(copy=False)`. To opt-in to the future behavior, set `pd.set_option('future.no_silent_downcasting', True)`\n",
      "  df['class'] = df['class'].replace({0: False, 1: True})\n"
     ]
    },
    {
     "data": {
      "text/html": [
       "<div>\n",
       "<style scoped>\n",
       "    .dataframe tbody tr th:only-of-type {\n",
       "        vertical-align: middle;\n",
       "    }\n",
       "\n",
       "    .dataframe tbody tr th {\n",
       "        vertical-align: top;\n",
       "    }\n",
       "\n",
       "    .dataframe thead th {\n",
       "        text-align: right;\n",
       "    }\n",
       "</style>\n",
       "<table border=\"1\" class=\"dataframe\">\n",
       "  <thead>\n",
       "    <tr style=\"text-align: right;\">\n",
       "      <th></th>\n",
       "      <th>year</th>\n",
       "      <th>A1</th>\n",
       "      <th>A2</th>\n",
       "      <th>A3</th>\n",
       "      <th>A4</th>\n",
       "      <th>A5</th>\n",
       "      <th>A6</th>\n",
       "      <th>A7</th>\n",
       "      <th>A8</th>\n",
       "      <th>A9</th>\n",
       "      <th>...</th>\n",
       "      <th>A56</th>\n",
       "      <th>A57</th>\n",
       "      <th>A58</th>\n",
       "      <th>A59</th>\n",
       "      <th>A60</th>\n",
       "      <th>A61</th>\n",
       "      <th>A62</th>\n",
       "      <th>A63</th>\n",
       "      <th>A64</th>\n",
       "      <th>bankrupt</th>\n",
       "    </tr>\n",
       "  </thead>\n",
       "  <tbody>\n",
       "    <tr>\n",
       "      <th>0</th>\n",
       "      <td>1</td>\n",
       "      <td>0.200550</td>\n",
       "      <td>0.37951</td>\n",
       "      <td>0.39641</td>\n",
       "      <td>2.0472</td>\n",
       "      <td>32.3510</td>\n",
       "      <td>0.38825</td>\n",
       "      <td>0.249760</td>\n",
       "      <td>1.33050</td>\n",
       "      <td>1.1389</td>\n",
       "      <td>...</td>\n",
       "      <td>0.121960</td>\n",
       "      <td>0.39718</td>\n",
       "      <td>0.87804</td>\n",
       "      <td>0.001924</td>\n",
       "      <td>8.4160</td>\n",
       "      <td>5.1372</td>\n",
       "      <td>82.658</td>\n",
       "      <td>4.4158</td>\n",
       "      <td>7.4277</td>\n",
       "      <td>False</td>\n",
       "    </tr>\n",
       "    <tr>\n",
       "      <th>1</th>\n",
       "      <td>1</td>\n",
       "      <td>0.209120</td>\n",
       "      <td>0.49988</td>\n",
       "      <td>0.47225</td>\n",
       "      <td>1.9447</td>\n",
       "      <td>14.7860</td>\n",
       "      <td>0.00000</td>\n",
       "      <td>0.258340</td>\n",
       "      <td>0.99601</td>\n",
       "      <td>1.6996</td>\n",
       "      <td>...</td>\n",
       "      <td>0.121300</td>\n",
       "      <td>0.42002</td>\n",
       "      <td>0.85300</td>\n",
       "      <td>0.000000</td>\n",
       "      <td>4.1486</td>\n",
       "      <td>3.2732</td>\n",
       "      <td>107.350</td>\n",
       "      <td>3.4000</td>\n",
       "      <td>60.9870</td>\n",
       "      <td>False</td>\n",
       "    </tr>\n",
       "    <tr>\n",
       "      <th>2</th>\n",
       "      <td>1</td>\n",
       "      <td>0.248660</td>\n",
       "      <td>0.69592</td>\n",
       "      <td>0.26713</td>\n",
       "      <td>1.5548</td>\n",
       "      <td>-1.1523</td>\n",
       "      <td>0.00000</td>\n",
       "      <td>0.309060</td>\n",
       "      <td>0.43695</td>\n",
       "      <td>1.3090</td>\n",
       "      <td>...</td>\n",
       "      <td>0.241140</td>\n",
       "      <td>0.81774</td>\n",
       "      <td>0.76599</td>\n",
       "      <td>0.694840</td>\n",
       "      <td>4.9909</td>\n",
       "      <td>3.9510</td>\n",
       "      <td>134.270</td>\n",
       "      <td>2.7185</td>\n",
       "      <td>5.2078</td>\n",
       "      <td>False</td>\n",
       "    </tr>\n",
       "    <tr>\n",
       "      <th>3</th>\n",
       "      <td>1</td>\n",
       "      <td>0.081483</td>\n",
       "      <td>0.30734</td>\n",
       "      <td>0.45879</td>\n",
       "      <td>2.4928</td>\n",
       "      <td>51.9520</td>\n",
       "      <td>0.14988</td>\n",
       "      <td>0.092704</td>\n",
       "      <td>1.86610</td>\n",
       "      <td>1.0571</td>\n",
       "      <td>...</td>\n",
       "      <td>0.054015</td>\n",
       "      <td>0.14207</td>\n",
       "      <td>0.94598</td>\n",
       "      <td>0.000000</td>\n",
       "      <td>4.5746</td>\n",
       "      <td>3.6147</td>\n",
       "      <td>86.435</td>\n",
       "      <td>4.2228</td>\n",
       "      <td>5.5497</td>\n",
       "      <td>False</td>\n",
       "    </tr>\n",
       "    <tr>\n",
       "      <th>4</th>\n",
       "      <td>1</td>\n",
       "      <td>0.187320</td>\n",
       "      <td>0.61323</td>\n",
       "      <td>0.22960</td>\n",
       "      <td>1.4063</td>\n",
       "      <td>-7.3128</td>\n",
       "      <td>0.18732</td>\n",
       "      <td>0.187320</td>\n",
       "      <td>0.63070</td>\n",
       "      <td>1.1559</td>\n",
       "      <td>...</td>\n",
       "      <td>0.134850</td>\n",
       "      <td>0.48431</td>\n",
       "      <td>0.86515</td>\n",
       "      <td>0.124440</td>\n",
       "      <td>6.3985</td>\n",
       "      <td>4.3158</td>\n",
       "      <td>127.210</td>\n",
       "      <td>2.8692</td>\n",
       "      <td>7.8980</td>\n",
       "      <td>False</td>\n",
       "    </tr>\n",
       "  </tbody>\n",
       "</table>\n",
       "<p>5 rows × 66 columns</p>\n",
       "</div>"
      ],
      "text/plain": [
       "   year        A1       A2       A3      A4       A5       A6        A7  \\\n",
       "0     1  0.200550  0.37951  0.39641  2.0472  32.3510  0.38825  0.249760   \n",
       "1     1  0.209120  0.49988  0.47225  1.9447  14.7860  0.00000  0.258340   \n",
       "2     1  0.248660  0.69592  0.26713  1.5548  -1.1523  0.00000  0.309060   \n",
       "3     1  0.081483  0.30734  0.45879  2.4928  51.9520  0.14988  0.092704   \n",
       "4     1  0.187320  0.61323  0.22960  1.4063  -7.3128  0.18732  0.187320   \n",
       "\n",
       "        A8      A9  ...       A56      A57      A58       A59     A60     A61  \\\n",
       "0  1.33050  1.1389  ...  0.121960  0.39718  0.87804  0.001924  8.4160  5.1372   \n",
       "1  0.99601  1.6996  ...  0.121300  0.42002  0.85300  0.000000  4.1486  3.2732   \n",
       "2  0.43695  1.3090  ...  0.241140  0.81774  0.76599  0.694840  4.9909  3.9510   \n",
       "3  1.86610  1.0571  ...  0.054015  0.14207  0.94598  0.000000  4.5746  3.6147   \n",
       "4  0.63070  1.1559  ...  0.134850  0.48431  0.86515  0.124440  6.3985  4.3158   \n",
       "\n",
       "       A62     A63      A64  bankrupt  \n",
       "0   82.658  4.4158   7.4277     False  \n",
       "1  107.350  3.4000  60.9870     False  \n",
       "2  134.270  2.7185   5.2078     False  \n",
       "3   86.435  4.2228   5.5497     False  \n",
       "4  127.210  2.8692   7.8980     False  \n",
       "\n",
       "[5 rows x 66 columns]"
      ]
     },
     "execution_count": 6,
     "metadata": {},
     "output_type": "execute_result"
    }
   ],
   "source": [
    "df = wrangle(\"https://archive.ics.uci.edu/static/public/365/data.csv\")\n",
    "df.head()"
   ]
  },
  {
   "cell_type": "markdown",
   "metadata": {},
   "source": [
    "#### Split Data"
   ]
  },
  {
   "cell_type": "markdown",
   "metadata": {},
   "source": [
    "Split data vertically into X (the features) and y(the target)"
   ]
  },
  {
   "cell_type": "code",
   "execution_count": 7,
   "metadata": {},
   "outputs": [
    {
     "name": "stdout",
     "output_type": "stream",
     "text": [
      "X shape: (43405, 65)\n",
      "y shape: (43405,)\n"
     ]
    }
   ],
   "source": [
    "target = \"bankrupt\"\n",
    "X = df.drop(columns=target)\n",
    "y = df[target]\n",
    "\n",
    "print(\"X shape:\", X.shape)\n",
    "print(\"y shape:\", y.shape)"
   ]
  },
  {
   "cell_type": "markdown",
   "metadata": {},
   "source": [
    "Split Data horizontally - train and test sets:"
   ]
  },
  {
   "cell_type": "code",
   "execution_count": 8,
   "metadata": {},
   "outputs": [
    {
     "name": "stdout",
     "output_type": "stream",
     "text": [
      "X_train shape: (34724, 65)\n",
      "y_train shape: (34724,)\n",
      "X_test shape: (8681, 65)\n",
      "y_test shape: (8681,)\n"
     ]
    }
   ],
   "source": [
    "X_train, X_test, y_train, y_test = train_test_split(X, y, test_size=0.2)\n",
    "\n",
    "\n",
    "print(\"X_train shape:\", X_train.shape)\n",
    "print(\"y_train shape:\", y_train.shape)\n",
    "print(\"X_test shape:\", X_test.shape)\n",
    "print(\"y_test shape:\", y_test.shape)"
   ]
  },
  {
   "cell_type": "markdown",
   "metadata": {},
   "source": [
    "Resample"
   ]
  },
  {
   "cell_type": "code",
   "execution_count": 9,
   "metadata": {},
   "outputs": [
    {
     "name": "stdout",
     "output_type": "stream",
     "text": [
      "X_train_over shape: (66098, 65)\n"
     ]
    },
    {
     "data": {
      "text/html": [
       "<div>\n",
       "<style scoped>\n",
       "    .dataframe tbody tr th:only-of-type {\n",
       "        vertical-align: middle;\n",
       "    }\n",
       "\n",
       "    .dataframe tbody tr th {\n",
       "        vertical-align: top;\n",
       "    }\n",
       "\n",
       "    .dataframe thead th {\n",
       "        text-align: right;\n",
       "    }\n",
       "</style>\n",
       "<table border=\"1\" class=\"dataframe\">\n",
       "  <thead>\n",
       "    <tr style=\"text-align: right;\">\n",
       "      <th></th>\n",
       "      <th>year</th>\n",
       "      <th>A1</th>\n",
       "      <th>A2</th>\n",
       "      <th>A3</th>\n",
       "      <th>A4</th>\n",
       "      <th>A5</th>\n",
       "      <th>A6</th>\n",
       "      <th>A7</th>\n",
       "      <th>A8</th>\n",
       "      <th>A9</th>\n",
       "      <th>...</th>\n",
       "      <th>A55</th>\n",
       "      <th>A56</th>\n",
       "      <th>A57</th>\n",
       "      <th>A58</th>\n",
       "      <th>A59</th>\n",
       "      <th>A60</th>\n",
       "      <th>A61</th>\n",
       "      <th>A62</th>\n",
       "      <th>A63</th>\n",
       "      <th>A64</th>\n",
       "    </tr>\n",
       "  </thead>\n",
       "  <tbody>\n",
       "    <tr>\n",
       "      <th>0</th>\n",
       "      <td>4</td>\n",
       "      <td>-0.013224</td>\n",
       "      <td>0.398380</td>\n",
       "      <td>-0.042533</td>\n",
       "      <td>0.83862</td>\n",
       "      <td>-26.922</td>\n",
       "      <td>-0.070108</td>\n",
       "      <td>-0.007444</td>\n",
       "      <td>1.5102</td>\n",
       "      <td>0.710170</td>\n",
       "      <td>...</td>\n",
       "      <td>-2735.00</td>\n",
       "      <td>0.005017</td>\n",
       "      <td>-0.021980</td>\n",
       "      <td>1.01000</td>\n",
       "      <td>0.090420</td>\n",
       "      <td>118.420</td>\n",
       "      <td>3.715600</td>\n",
       "      <td>135.450</td>\n",
       "      <td>2.694600</td>\n",
       "      <td>0.91166</td>\n",
       "    </tr>\n",
       "    <tr>\n",
       "      <th>1</th>\n",
       "      <td>4</td>\n",
       "      <td>0.048354</td>\n",
       "      <td>0.396080</td>\n",
       "      <td>0.586460</td>\n",
       "      <td>2.48060</td>\n",
       "      <td>20.699</td>\n",
       "      <td>0.207470</td>\n",
       "      <td>0.072721</td>\n",
       "      <td>1.5247</td>\n",
       "      <td>5.615400</td>\n",
       "      <td>...</td>\n",
       "      <td>554.46</td>\n",
       "      <td>0.002328</td>\n",
       "      <td>0.080067</td>\n",
       "      <td>0.98728</td>\n",
       "      <td>0.000000</td>\n",
       "      <td>22.074</td>\n",
       "      <td>16.626000</td>\n",
       "      <td>25.746</td>\n",
       "      <td>14.177000</td>\n",
       "      <td>321.75000</td>\n",
       "    </tr>\n",
       "    <tr>\n",
       "      <th>2</th>\n",
       "      <td>2</td>\n",
       "      <td>-0.452000</td>\n",
       "      <td>0.070426</td>\n",
       "      <td>0.892070</td>\n",
       "      <td>13.66700</td>\n",
       "      <td>393.340</td>\n",
       "      <td>1.043400</td>\n",
       "      <td>-0.452000</td>\n",
       "      <td>13.1990</td>\n",
       "      <td>0.237890</td>\n",
       "      <td>...</td>\n",
       "      <td>5011.40</td>\n",
       "      <td>-0.449260</td>\n",
       "      <td>-0.486250</td>\n",
       "      <td>2.62110</td>\n",
       "      <td>0.000000</td>\n",
       "      <td>NaN</td>\n",
       "      <td>0.838730</td>\n",
       "      <td>108.060</td>\n",
       "      <td>3.377900</td>\n",
       "      <td>6.34300</td>\n",
       "    </tr>\n",
       "    <tr>\n",
       "      <th>3</th>\n",
       "      <td>2</td>\n",
       "      <td>-0.020526</td>\n",
       "      <td>0.273260</td>\n",
       "      <td>0.070290</td>\n",
       "      <td>1.26050</td>\n",
       "      <td>17.946</td>\n",
       "      <td>-0.020526</td>\n",
       "      <td>-0.020526</td>\n",
       "      <td>2.5029</td>\n",
       "      <td>0.995670</td>\n",
       "      <td>...</td>\n",
       "      <td>871.98</td>\n",
       "      <td>-0.004346</td>\n",
       "      <td>-0.030012</td>\n",
       "      <td>1.00430</td>\n",
       "      <td>0.004955</td>\n",
       "      <td>44.113</td>\n",
       "      <td>3.207300</td>\n",
       "      <td>101.840</td>\n",
       "      <td>3.583900</td>\n",
       "      <td>1.46580</td>\n",
       "    </tr>\n",
       "    <tr>\n",
       "      <th>4</th>\n",
       "      <td>2</td>\n",
       "      <td>-0.170790</td>\n",
       "      <td>0.335700</td>\n",
       "      <td>-0.153930</td>\n",
       "      <td>0.54147</td>\n",
       "      <td>-332.990</td>\n",
       "      <td>-0.170790</td>\n",
       "      <td>-0.170790</td>\n",
       "      <td>1.9185</td>\n",
       "      <td>0.018351</td>\n",
       "      <td>...</td>\n",
       "      <td>-17021.00</td>\n",
       "      <td>-53.493000</td>\n",
       "      <td>-0.265180</td>\n",
       "      <td>54.49300</td>\n",
       "      <td>0.000000</td>\n",
       "      <td>NaN</td>\n",
       "      <td>0.034089</td>\n",
       "      <td>37818.000</td>\n",
       "      <td>0.009652</td>\n",
       "      <td>0.00396</td>\n",
       "    </tr>\n",
       "  </tbody>\n",
       "</table>\n",
       "<p>5 rows × 65 columns</p>\n",
       "</div>"
      ],
      "text/plain": [
       "   year        A1        A2        A3        A4       A5        A6        A7  \\\n",
       "0     4 -0.013224  0.398380 -0.042533   0.83862  -26.922 -0.070108 -0.007444   \n",
       "1     4  0.048354  0.396080  0.586460   2.48060   20.699  0.207470  0.072721   \n",
       "2     2 -0.452000  0.070426  0.892070  13.66700  393.340  1.043400 -0.452000   \n",
       "3     2 -0.020526  0.273260  0.070290   1.26050   17.946 -0.020526 -0.020526   \n",
       "4     2 -0.170790  0.335700 -0.153930   0.54147 -332.990 -0.170790 -0.170790   \n",
       "\n",
       "        A8        A9  ...       A55        A56       A57       A58       A59  \\\n",
       "0   1.5102  0.710170  ...  -2735.00   0.005017 -0.021980   1.01000  0.090420   \n",
       "1   1.5247  5.615400  ...    554.46   0.002328  0.080067   0.98728  0.000000   \n",
       "2  13.1990  0.237890  ...   5011.40  -0.449260 -0.486250   2.62110  0.000000   \n",
       "3   2.5029  0.995670  ...    871.98  -0.004346 -0.030012   1.00430  0.004955   \n",
       "4   1.9185  0.018351  ... -17021.00 -53.493000 -0.265180  54.49300  0.000000   \n",
       "\n",
       "       A60        A61        A62        A63        A64  \n",
       "0  118.420   3.715600    135.450   2.694600    0.91166  \n",
       "1   22.074  16.626000     25.746  14.177000  321.75000  \n",
       "2      NaN   0.838730    108.060   3.377900    6.34300  \n",
       "3   44.113   3.207300    101.840   3.583900    1.46580  \n",
       "4      NaN   0.034089  37818.000   0.009652    0.00396  \n",
       "\n",
       "[5 rows x 65 columns]"
      ]
     },
     "execution_count": 9,
     "metadata": {},
     "output_type": "execute_result"
    }
   ],
   "source": [
    "over_sampler = RandomOverSampler(random_state=42)\n",
    "X_train_over, y_train_over = over_sampler.fit_resample(X_train, y_train)\n",
    "print(\"X_train_over shape:\", X_train_over.shape)\n",
    "X_train_over.head()"
   ]
  },
  {
   "cell_type": "markdown",
   "metadata": {},
   "source": [
    "#### Build Model"
   ]
  },
  {
   "cell_type": "markdown",
   "metadata": {},
   "source": [
    "Baseline Model: Accuracy"
   ]
  },
  {
   "cell_type": "code",
   "execution_count": 10,
   "metadata": {},
   "outputs": [
    {
     "name": "stdout",
     "output_type": "stream",
     "text": [
      "Baseline Accuracy: 0.9518\n"
     ]
    }
   ],
   "source": [
    "acc_baseline = y_train.value_counts(normalize=True).max()\n",
    "print(\"Baseline Accuracy:\", round(acc_baseline, 4))"
   ]
  },
  {
   "cell_type": "markdown",
   "metadata": {},
   "source": [
    "- The baseline model predicts a single outcome. The question is whether it is the rigt prediction.\n",
    "\n",
    "-  If we could somehow use more than one model simultaneously, we'd have a more trustworthy prediction.\n",
    "\n",
    "- **Ensemble models** work by building multiple models on random subsets of the same data, and then comparing their predictions to make a final prediction. \n",
    "\n",
    "- The next step is to create an ensemble of trees here. This type of model is called a **random forest.**"
   ]
  },
  {
   "cell_type": "code",
   "execution_count": 11,
   "metadata": {},
   "outputs": [
    {
     "name": "stdout",
     "output_type": "stream",
     "text": [
      "Pipeline(steps=[('simpleimputer', SimpleImputer()),\n",
      "                ('randomforestclassifier',\n",
      "                 RandomForestClassifier(random_state=42))])\n"
     ]
    }
   ],
   "source": [
    "clf = make_pipeline(SimpleImputer(),\n",
    "                    RandomForestClassifier(random_state=42)\n",
    "                   )\n",
    "print(clf)"
   ]
  }
 ],
 "metadata": {
  "kernelspec": {
   "display_name": "Python 3",
   "language": "python",
   "name": "python3"
  },
  "language_info": {
   "codemirror_mode": {
    "name": "ipython",
    "version": 3
   },
   "file_extension": ".py",
   "mimetype": "text/x-python",
   "name": "python",
   "nbconvert_exporter": "python",
   "pygments_lexer": "ipython3",
   "version": "3.12.1"
  }
 },
 "nbformat": 4,
 "nbformat_minor": 2
}
