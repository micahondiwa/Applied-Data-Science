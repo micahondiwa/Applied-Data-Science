{
 "cells": [
  {
   "cell_type": "markdown",
   "metadata": {},
   "source": [
    "# Working with JSON Data"
   ]
  },
  {
   "cell_type": "markdown",
   "metadata": {},
   "source": [
    "**Overall Goal**: To predict whether or not a company will go bankrupt based on several financial indicators.\n",
    "\n",
    "- This project focuses on acquaring data and have it in a usable format."
   ]
  },
  {
   "cell_type": "code",
   "execution_count": 8,
   "metadata": {},
   "outputs": [],
   "source": [
    "import gzip\n",
    "import json\n",
    "\n",
    "import pandas as pd\n",
    "from ucimlrepo import fetch_ucirepo "
   ]
  },
  {
   "cell_type": "markdown",
   "metadata": {},
   "source": [
    "### Prepare Data"
   ]
  },
  {
   "cell_type": "code",
   "execution_count": 9,
   "metadata": {},
   "outputs": [
    {
     "name": "stdout",
     "output_type": "stream",
     "text": [
      "{'uci_id': 365, 'name': 'Polish Companies Bankruptcy', 'repository_url': 'https://archive.ics.uci.edu/dataset/365/polish+companies+bankruptcy+data', 'data_url': 'https://archive.ics.uci.edu/static/public/365/data.csv', 'abstract': 'The dataset is about bankruptcy prediction of Polish companies.The bankrupt companies were analyzed in the period 2000-2012, while the still operating companies were evaluated from 2007 to 2013.', 'area': 'Business', 'tasks': ['Classification'], 'characteristics': ['Multivariate'], 'num_instances': 10503, 'num_features': 65, 'feature_types': ['Real'], 'demographics': [], 'target_col': ['class'], 'index_col': None, 'has_missing_values': 'yes', 'missing_values_symbol': 'NaN', 'year_of_dataset_creation': 2016, 'last_updated': 'Sat Mar 09 2024', 'dataset_doi': '10.24432/C5F600', 'creators': ['Sebastian Tomczak'], 'intro_paper': {'title': 'Ensemble boosted trees with synthetic features generation in application to bankruptcy prediction', 'authors': 'Maciej Ziȩba, S. Tomczak, Jakub M. Tomczak', 'published_in': 'Expert systems with applications', 'year': 2016, 'url': 'https://www.semanticscholar.org/paper/c0b86d47505223db7e6085c10dd797169a32fa78', 'doi': '10.1016/j.eswa.2016.04.001'}, 'additional_info': {'summary': 'The dataset is about bankruptcy prediction of Polish companies. The data was collected from Emerging Markets Information Service (EMIS, http://www.securities.com), which is a database containing information on emerging markets around the world. The bankrupt companies were analyzed in the period 2000-2012, while the still operating companies were evaluated from 2007 to 2013.\\r\\nBasing on the collected data five classification cases were distinguished, that depends on the forecasting period:\\r\\n- 1stYear â€“ the data contains financial rates from 1st year of the forecasting period and corresponding class label that indicates bankruptcy status after 5 years. The data contains 7027 instances (financial statements), 271 represents bankrupted companies, 6756 firms that did not bankrupt in the forecasting period.\\r\\n- 2ndYear â€“ the data contains financial rates from 2nd year of the forecasting period and corresponding class label that indicates bankruptcy status after 4 years. The data contains 10173 instances (financial statements), 400 represents bankrupted companies, 9773 firms that did not bankrupt in the forecasting period.\\r\\n- 3rdYear â€“ the data contains financial rates from 3rd year of the forecasting period and corresponding class label that indicates bankruptcy status after 3 years. The data contains 10503 instances (financial statements), 495 represents bankrupted companies, 10008 firms that did not bankrupt in the forecasting period.\\r\\n- 4thYear â€“ the data contains financial rates from 4th year of the forecasting period and corresponding class label that indicates bankruptcy status after 2 years. The data contains 9792 instances (financial statements), 515 represents bankrupted companies, 9277 firms that did not bankrupt in the forecasting period.\\r\\n- 5thYear â€“ the data contains financial rates from 5th year of the forecasting period and corresponding class label that indicates bankruptcy status after 1 year. The data contains 5910 instances (financial statements), 410 represents bankrupted companies, 5500 firms that did not bankrupt in the forecasting period.', 'purpose': None, 'funded_by': None, 'instances_represent': None, 'recommended_data_splits': None, 'sensitive_data': None, 'preprocessing_description': None, 'variable_info': 'X1\\tnet profit / total assets\\r\\nX2\\ttotal liabilities / total assets\\r\\nX3\\tworking capital / total assets\\r\\nX4\\tcurrent assets / short-term liabilities\\r\\nX5\\t[(cash + short-term securities + receivables - short-term liabilities) / (operating expenses - depreciation)] * 365\\r\\nX6\\tretained earnings / total assets\\r\\nX7\\tEBIT / total assets\\r\\nX8\\tbook value of equity / total liabilities\\r\\nX9\\tsales / total assets\\r\\nX10\\tequity / total assets\\r\\nX11\\t(gross profit + extraordinary items + financial expenses) / total assets\\r\\nX12\\tgross profit / short-term liabilities\\r\\nX13\\t(gross profit + depreciation) / sales\\r\\nX14\\t(gross profit + interest) / total assets\\r\\nX15\\t(total liabilities * 365) / (gross profit + depreciation)\\r\\nX16\\t(gross profit + depreciation) / total liabilities\\r\\nX17\\ttotal assets / total liabilities\\r\\nX18\\tgross profit / total assets\\r\\nX19\\tgross profit / sales\\r\\nX20\\t(inventory * 365) / sales\\r\\nX21\\tsales (n) / sales (n-1)\\r\\nX22\\tprofit on operating activities / total assets\\r\\nX23\\tnet profit / sales\\r\\nX24\\tgross profit (in 3 years) / total assets\\r\\nX25\\t(equity - share capital) / total assets\\r\\nX26\\t(net profit + depreciation) / total liabilities\\r\\nX27\\tprofit on operating activities / financial expenses\\r\\nX28\\tworking capital / fixed assets\\r\\nX29\\tlogarithm of total assets\\r\\nX30\\t(total liabilities - cash) / sales\\r\\nX31\\t(gross profit + interest) / sales\\r\\nX32\\t(current liabilities * 365) / cost of products sold\\r\\nX33\\toperating expenses / short-term liabilities\\r\\nX34\\toperating expenses / total liabilities\\r\\nX35\\tprofit on sales / total assets\\r\\nX36\\ttotal sales / total assets\\r\\nX37\\t(current assets - inventories) / long-term liabilities\\r\\nX38\\tconstant capital / total assets\\r\\nX39\\tprofit on sales / sales\\r\\nX40\\t(current assets - inventory - receivables) / short-term liabilities\\r\\nX41\\ttotal liabilities / ((profit on operating activities + depreciation) * (12/365))\\r\\nX42\\tprofit on operating activities / sales\\r\\nX43\\trotation receivables + inventory turnover in days\\r\\nX44\\t(receivables * 365) / sales\\r\\nX45\\tnet profit / inventory\\r\\nX46\\t(current assets - inventory) / short-term liabilities\\r\\nX47\\t(inventory * 365) / cost of products sold\\r\\nX48\\tEBITDA (profit on operating activities - depreciation) / total assets\\r\\nX49\\tEBITDA (profit on operating activities - depreciation) / sales\\r\\nX50\\tcurrent assets / total liabilities\\r\\nX51\\tshort-term liabilities / total assets\\r\\nX52\\t(short-term liabilities * 365) / cost of products sold)\\r\\nX53\\tequity / fixed assets\\r\\nX54\\tconstant capital / fixed assets\\r\\nX55\\tworking capital\\r\\nX56\\t(sales - cost of products sold) / sales\\r\\nX57\\t(current assets - inventory - short-term liabilities) / (sales - gross profit - depreciation)\\r\\nX58\\ttotal costs /total sales\\r\\nX59\\tlong-term liabilities / equity\\r\\nX60\\tsales / inventory\\r\\nX61\\tsales / receivables\\r\\nX62\\t(short-term liabilities *365) / sales\\r\\nX63\\tsales / short-term liabilities\\r\\nX64\\tsales / fixed assets', 'citation': None}}\n",
      "     name     role        type demographic description units missing_values\n",
      "0    year  Feature     Integer        None        None  None             no\n",
      "1      A1  Feature  Continuous        None        None  None             no\n",
      "2      A2  Feature  Continuous        None        None  None             no\n",
      "3      A3  Feature  Continuous        None        None  None             no\n",
      "4      A4  Feature  Continuous        None        None  None            yes\n",
      "..    ...      ...         ...         ...         ...   ...            ...\n",
      "61    A61  Feature  Continuous        None        None  None            yes\n",
      "62    A62  Feature  Continuous        None        None  None             no\n",
      "63    A63  Feature  Continuous        None        None  None            yes\n",
      "64    A64  Feature  Continuous        None        None  None            yes\n",
      "65  class   Target     Integer        None        None  None             no\n",
      "\n",
      "[66 rows x 7 columns]\n"
     ]
    }
   ],
   "source": [
    "# fetch dataset \n",
    "polish_companies_bankruptcy = fetch_ucirepo(id=365) \n",
    "  \n",
    "# data (as pandas dataframes) \n",
    "X = polish_companies_bankruptcy.data.features \n",
    "y = polish_companies_bankruptcy.data.targets \n",
    "  \n",
    "# metadata \n",
    "print(polish_companies_bankruptcy.metadata) \n",
    "  \n",
    "# variable information \n",
    "print(polish_companies_bankruptcy.variables) \n"
   ]
  }
 ],
 "metadata": {
  "kernelspec": {
   "display_name": "Python 3",
   "language": "python",
   "name": "python3"
  },
  "language_info": {
   "codemirror_mode": {
    "name": "ipython",
    "version": 3
   },
   "file_extension": ".py",
   "mimetype": "text/x-python",
   "name": "python",
   "nbconvert_exporter": "python",
   "pygments_lexer": "ipython3",
   "version": "3.12.1"
  }
 },
 "nbformat": 4,
 "nbformat_minor": 2
}
