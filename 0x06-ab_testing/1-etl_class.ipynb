{
 "cells": [
  {
   "cell_type": "markdown",
   "metadata": {},
   "source": [
    "# Etract, Transform, Load"
   ]
  },
  {
   "cell_type": "markdown",
   "metadata": {},
   "source": [
    "**Goal**: Exploratory Data Analysis - to design the experiment. Transform the data and load it back to the database."
   ]
  },
  {
   "cell_type": "markdown",
   "metadata": {},
   "source": [
    "Specific:\n",
    "\n",
    "- Extract applicant information regarding addmissions quiz completion.\n",
    "- Design a research question, null hypothesis and alternative hypothesis for the experiment.\n",
    "- Create functions for transforming applicant documents and loading them to a database.\n",
    "- Build a Python class to streamline the experiment."
   ]
  },
  {
   "cell_type": "code",
   "execution_count": 7,
   "metadata": {},
   "outputs": [],
   "source": [
    "import random\n",
    "\n",
    "import pandas as pd\n",
    "from pymongo import MongoClient"
   ]
  },
  {
   "cell_type": "markdown",
   "metadata": {},
   "source": [
    "### Extract"
   ]
  },
  {
   "cell_type": "markdown",
   "metadata": {},
   "source": [
    "Aggregate Clients by Quiz Completion"
   ]
  },
  {
   "cell_type": "code",
   "execution_count": 9,
   "metadata": {},
   "outputs": [],
   "source": [
    "complete = 3717\n",
    "incomplete = 1308"
   ]
  },
  {
   "cell_type": "code",
   "execution_count": 10,
   "metadata": {},
   "outputs": [
    {
     "name": "stdout",
     "output_type": "stream",
     "text": [
      "Proportion of users who don't complete admissions quiz: 0.26\n"
     ]
    }
   ],
   "source": [
    "total = complete + incomplete\n",
    "prop_incomplete = incomplete/total\n",
    "print(\n",
    "    \"Proportion of users who don't complete admissions quiz:\", round(prop_incomplete, 2)\n",
    ")"
   ]
  },
  {
   "cell_type": "markdown",
   "metadata": {},
   "source": [
    "Developing a Research Question"
   ]
  },
  {
   "cell_type": "markdown",
   "metadata": {},
   "source": [
    "RQ: Does sending to no-quiz applicants Increase their likelihood of taking admission exams?"
   ]
  },
  {
   "cell_type": "code",
   "execution_count": 11,
   "metadata": {},
   "outputs": [
    {
     "name": "stdout",
     "output_type": "stream",
     "text": [
      "Null Hypothesis:  No significant difference in the quiz completion between the 2 groups\n",
      "Alternate Hypothesis:  A significant difference in the quiz completion between the 2 groups\n"
     ]
    }
   ],
   "source": [
    "null_hypothesis = \" No significant difference in the quiz completion between the 2 groups\"\n",
    "\n",
    "alternate_hypothesis = \" A significant difference in the quiz completion between the 2 groups\"\n",
    "\n",
    "print(\"Null Hypothesis:\", null_hypothesis)\n",
    "print(\"Alternate Hypothesis:\", alternate_hypothesis)"
   ]
  },
  {
   "cell_type": "markdown",
   "metadata": {},
   "source": [
    "Find_by_date function"
   ]
  },
  {
   "cell_type": "code",
   "execution_count": 12,
   "metadata": {},
   "outputs": [],
   "source": [
    "def find_by_date(collection, date_string):\n",
    "    \"\"\"Find records in a PyMongo Collection created on a given date.\n",
    "\n",
    "    Parameters\n",
    "    ----------\n",
    "    collection : pymongo.collection.Collection\n",
    "        Collection in which to search for documents.\n",
    "    date_string : str\n",
    "        Date to query. Format must be '%Y-%m-%d', e.g. '2022-06-28'.\n",
    "\n",
    "    Returns\n",
    "    -------\n",
    "    observations : list\n",
    "        Result of query. List of documents (dictionaries).\n",
    "    \"\"\"\n",
    "    collection = ds_app\n",
    "    date_string = \"2022-05-04\"\n",
    "    # Convert `date_string` to datetime object\n",
    "    start = pd.to_datetime(date_string, format='%Y-%m-%d')\n",
    "    # Offset `start` by 1 day\n",
    "    end = start + pd.DateOffset(days=1)\n",
    "    # Create PyMongo query for no-quiz applicants b/t `start` and `end`\n",
    "    query = {\"createdAt\": {\"$gte\": start, \"$lt\": end}, \"admissionsQuiz\": \"incomplete\"}\n",
    "    # Query collection, get result\n",
    "    result=collection.find(query)\n",
    "    # Convert `result` to list\n",
    "    observations = list(result)\n",
    "    # REMOVE}\n",
    "    return observations"
   ]
  },
  {
   "cell_type": "markdown",
   "metadata": {},
   "source": [
    "### Transform: Designing the Experiment"
   ]
  },
  {
   "cell_type": "markdown",
   "metadata": {},
   "source": [
    "- This step involves manipulating the data extracted."
   ]
  },
  {
   "cell_type": "markdown",
   "metadata": {},
   "source": [
    "Assign_to_groups Function"
   ]
  },
  {
   "cell_type": "code",
   "execution_count": 14,
   "metadata": {},
   "outputs": [],
   "source": [
    "def assign_to_groups(observations):\n",
    "    \"\"\"Randomly assigns observations to control and treatment groups.\n",
    "\n",
    "    Parameters\n",
    "    ----------\n",
    "    observations : list or pymongo.cursor.Cursor\n",
    "        List of users to assign to groups.\n",
    "\n",
    "    Returns\n",
    "    -------\n",
    "    observations : list\n",
    "        List of documents from `observations` with two additional keys:\n",
    "        `inExperiment` and `group`.\n",
    "    \"\"\"\n",
    "\n",
    "    # Shuffle `observations`\n",
    "    random.seed(42)\n",
    "    random.shuffle(observations)\n",
    "    \n",
    "    # Get index position of item at observations halfway point\n",
    "    idx = len(observations) // 2\n",
    "\n",
    "    # Assign first half of observations to control group\n",
    "    for doc in observations[:idx]:\n",
    "        doc[\"inexperiment\"] = True\n",
    "        doc[\"group\"] = \"no email (control)\"\n",
    "\n",
    "    # Assign second half of observations to treatment group\n",
    "    for doc in observations[idx:]:\n",
    "        doc[\"inexperiment\"] = True\n",
    "        doc[\"group\"] = \"email (treatment)\"\n",
    "\n",
    "    return observations"
   ]
  },
  {
   "cell_type": "markdown",
   "metadata": {},
   "source": [
    "Export_treament_emails Function"
   ]
  },
  {
   "cell_type": "markdown",
   "metadata": {},
   "source": []
  }
 ],
 "metadata": {
  "kernelspec": {
   "display_name": "venv",
   "language": "python",
   "name": "python3"
  },
  "language_info": {
   "codemirror_mode": {
    "name": "ipython",
    "version": 3
   },
   "file_extension": ".py",
   "mimetype": "text/x-python",
   "name": "python",
   "nbconvert_exporter": "python",
   "pygments_lexer": "ipython3",
   "version": "3.12.1"
  }
 },
 "nbformat": 4,
 "nbformat_minor": 2
}
