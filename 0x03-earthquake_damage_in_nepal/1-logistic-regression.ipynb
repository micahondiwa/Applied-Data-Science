{
 "cells": [
  {
   "cell_type": "markdown",
   "metadata": {},
   "source": [
    "## Predicting Damage with Logistic Regression"
   ]
  },
  {
   "cell_type": "code",
   "execution_count": 8,
   "metadata": {},
   "outputs": [],
   "source": [
    "import sqlite3\n",
    "\n",
    "import matplotlib.pyplot as plt \n",
    "import numpy as np \n",
    "import pandas as pd \n",
    "import seaborn as sns \n",
    "from category_encoders import  OneHotEncoder\n",
    "from sklearn.linear_model import  LogisticRegression\n",
    "from sklearn.metrics import  accuracy_score\n",
    "from sklearn.model_selection import train_test_split\n",
    "from sklearn.pipeline import Pipeline, make_pipeline\n",
    "from sklearn.utils.validation import check_is_fitted"
   ]
  },
  {
   "cell_type": "markdown",
   "metadata": {},
   "source": [
    "#### Prepare Data"
   ]
  },
  {
   "cell_type": "markdown",
   "metadata": {},
   "source": [
    "Import"
   ]
  },
  {
   "cell_type": "markdown",
   "metadata": {},
   "source": [
    "1. Using a function to import from an sqlite database"
   ]
  },
  {
   "cell_type": "code",
   "execution_count": 9,
   "metadata": {},
   "outputs": [],
   "source": [
    "def wrangle(db_path):\n",
    "    # Connect to database\n",
    "    conn = sqlite3.connect(db_path)\n",
    "\n",
    "    # Construct query\n",
    "    query = \"\"\"\n",
    "        SELECT distinct(i.building_id) AS b_id,\n",
    "           s.*,\n",
    "           d.damage_grade\n",
    "        FROM id_map AS i\n",
    "        JOIN building_structure AS s ON i.building_id = s.building_id\n",
    "        JOIN building_damage AS d ON i.building_id = d.building_id\n",
    "        WHERE district_id = 4\n",
    "    \"\"\"\n",
    "\n",
    "    # Read query results into DataFrame\n",
    "    df = pd.read_sql(query, conn, \"b_id\")\n",
    "\n",
    "    \n",
    "    return df"
   ]
  },
  {
   "cell_type": "code",
   "execution_count": null,
   "metadata": {},
   "outputs": [],
   "source": [
    "df = wrangle(\"/home/jovyan/nepal.sqlite\")\n",
    "df.head()"
   ]
  },
  {
   "cell_type": "markdown",
   "metadata": {},
   "source": [
    "2. Importing csv file as pd DataFrame"
   ]
  },
  {
   "cell_type": "code",
   "execution_count": 13,
   "metadata": {},
   "outputs": [
    {
     "data": {
      "text/html": [
       "<div>\n",
       "<style scoped>\n",
       "    .dataframe tbody tr th:only-of-type {\n",
       "        vertical-align: middle;\n",
       "    }\n",
       "\n",
       "    .dataframe tbody tr th {\n",
       "        vertical-align: top;\n",
       "    }\n",
       "\n",
       "    .dataframe thead th {\n",
       "        text-align: right;\n",
       "    }\n",
       "</style>\n",
       "<table border=\"1\" class=\"dataframe\">\n",
       "  <thead>\n",
       "    <tr style=\"text-align: right;\">\n",
       "      <th></th>\n",
       "      <th>building_id</th>\n",
       "      <th>count_floors_pre_eq</th>\n",
       "      <th>count_floors_post_eq</th>\n",
       "      <th>age_building</th>\n",
       "      <th>plinth_area_sq_ft</th>\n",
       "      <th>height_ft_pre_eq</th>\n",
       "      <th>height_ft_post_eq</th>\n",
       "      <th>land_surface_condition</th>\n",
       "      <th>foundation_type</th>\n",
       "      <th>roof_type</th>\n",
       "      <th>ground_floor_type</th>\n",
       "      <th>other_floor_type</th>\n",
       "      <th>position</th>\n",
       "      <th>plan_configuration</th>\n",
       "      <th>condition_post_eq</th>\n",
       "      <th>superstructure</th>\n",
       "      <th>damage_grade</th>\n",
       "    </tr>\n",
       "    <tr>\n",
       "      <th>b_id</th>\n",
       "      <th></th>\n",
       "      <th></th>\n",
       "      <th></th>\n",
       "      <th></th>\n",
       "      <th></th>\n",
       "      <th></th>\n",
       "      <th></th>\n",
       "      <th></th>\n",
       "      <th></th>\n",
       "      <th></th>\n",
       "      <th></th>\n",
       "      <th></th>\n",
       "      <th></th>\n",
       "      <th></th>\n",
       "      <th></th>\n",
       "      <th></th>\n",
       "      <th></th>\n",
       "    </tr>\n",
       "  </thead>\n",
       "  <tbody>\n",
       "    <tr>\n",
       "      <th>164002</th>\n",
       "      <td>164002</td>\n",
       "      <td>3</td>\n",
       "      <td>3</td>\n",
       "      <td>20</td>\n",
       "      <td>560</td>\n",
       "      <td>18</td>\n",
       "      <td>18</td>\n",
       "      <td>Flat</td>\n",
       "      <td>Mud mortar-Stone/Brick</td>\n",
       "      <td>Bamboo/Timber-Light roof</td>\n",
       "      <td>Mud</td>\n",
       "      <td>TImber/Bamboo-Mud</td>\n",
       "      <td>Not attached</td>\n",
       "      <td>Rectangular</td>\n",
       "      <td>Damaged-Repaired and used</td>\n",
       "      <td>Stone</td>\n",
       "      <td>NaN</td>\n",
       "    </tr>\n",
       "    <tr>\n",
       "      <th>164081</th>\n",
       "      <td>164081</td>\n",
       "      <td>2</td>\n",
       "      <td>2</td>\n",
       "      <td>21</td>\n",
       "      <td>200</td>\n",
       "      <td>12</td>\n",
       "      <td>12</td>\n",
       "      <td>Flat</td>\n",
       "      <td>Mud mortar-Stone/Brick</td>\n",
       "      <td>Bamboo/Timber-Light roof</td>\n",
       "      <td>Mud</td>\n",
       "      <td>TImber/Bamboo-Mud</td>\n",
       "      <td>Not attached</td>\n",
       "      <td>Rectangular</td>\n",
       "      <td>Damaged-Used in risk</td>\n",
       "      <td>Stone</td>\n",
       "      <td>NaN</td>\n",
       "    </tr>\n",
       "    <tr>\n",
       "      <th>164089</th>\n",
       "      <td>164089</td>\n",
       "      <td>3</td>\n",
       "      <td>3</td>\n",
       "      <td>18</td>\n",
       "      <td>315</td>\n",
       "      <td>20</td>\n",
       "      <td>20</td>\n",
       "      <td>Flat</td>\n",
       "      <td>Mud mortar-Stone/Brick</td>\n",
       "      <td>Bamboo/Timber-Light roof</td>\n",
       "      <td>Mud</td>\n",
       "      <td>TImber/Bamboo-Mud</td>\n",
       "      <td>Not attached</td>\n",
       "      <td>Rectangular</td>\n",
       "      <td>Damaged-Used in risk</td>\n",
       "      <td>Stone</td>\n",
       "      <td>NaN</td>\n",
       "    </tr>\n",
       "    <tr>\n",
       "      <th>164098</th>\n",
       "      <td>164098</td>\n",
       "      <td>2</td>\n",
       "      <td>2</td>\n",
       "      <td>45</td>\n",
       "      <td>290</td>\n",
       "      <td>13</td>\n",
       "      <td>13</td>\n",
       "      <td>Flat</td>\n",
       "      <td>Mud mortar-Stone/Brick</td>\n",
       "      <td>Bamboo/Timber-Light roof</td>\n",
       "      <td>Mud</td>\n",
       "      <td>TImber/Bamboo-Mud</td>\n",
       "      <td>Not attached</td>\n",
       "      <td>Rectangular</td>\n",
       "      <td>Damaged-Used in risk</td>\n",
       "      <td>Stone</td>\n",
       "      <td>NaN</td>\n",
       "    </tr>\n",
       "    <tr>\n",
       "      <th>164103</th>\n",
       "      <td>164103</td>\n",
       "      <td>2</td>\n",
       "      <td>2</td>\n",
       "      <td>21</td>\n",
       "      <td>230</td>\n",
       "      <td>13</td>\n",
       "      <td>13</td>\n",
       "      <td>Flat</td>\n",
       "      <td>Mud mortar-Stone/Brick</td>\n",
       "      <td>Bamboo/Timber-Light roof</td>\n",
       "      <td>Mud</td>\n",
       "      <td>TImber/Bamboo-Mud</td>\n",
       "      <td>Not attached</td>\n",
       "      <td>Rectangular</td>\n",
       "      <td>Damaged-Used in risk</td>\n",
       "      <td>Stone</td>\n",
       "      <td>NaN</td>\n",
       "    </tr>\n",
       "  </tbody>\n",
       "</table>\n",
       "</div>"
      ],
      "text/plain": [
       "        building_id  count_floors_pre_eq  count_floors_post_eq  age_building  \\\n",
       "b_id                                                                           \n",
       "164002       164002                    3                     3            20   \n",
       "164081       164081                    2                     2            21   \n",
       "164089       164089                    3                     3            18   \n",
       "164098       164098                    2                     2            45   \n",
       "164103       164103                    2                     2            21   \n",
       "\n",
       "        plinth_area_sq_ft  height_ft_pre_eq  height_ft_post_eq  \\\n",
       "b_id                                                             \n",
       "164002                560                18                 18   \n",
       "164081                200                12                 12   \n",
       "164089                315                20                 20   \n",
       "164098                290                13                 13   \n",
       "164103                230                13                 13   \n",
       "\n",
       "       land_surface_condition         foundation_type  \\\n",
       "b_id                                                    \n",
       "164002                   Flat  Mud mortar-Stone/Brick   \n",
       "164081                   Flat  Mud mortar-Stone/Brick   \n",
       "164089                   Flat  Mud mortar-Stone/Brick   \n",
       "164098                   Flat  Mud mortar-Stone/Brick   \n",
       "164103                   Flat  Mud mortar-Stone/Brick   \n",
       "\n",
       "                       roof_type ground_floor_type   other_floor_type  \\\n",
       "b_id                                                                    \n",
       "164002  Bamboo/Timber-Light roof               Mud  TImber/Bamboo-Mud   \n",
       "164081  Bamboo/Timber-Light roof               Mud  TImber/Bamboo-Mud   \n",
       "164089  Bamboo/Timber-Light roof               Mud  TImber/Bamboo-Mud   \n",
       "164098  Bamboo/Timber-Light roof               Mud  TImber/Bamboo-Mud   \n",
       "164103  Bamboo/Timber-Light roof               Mud  TImber/Bamboo-Mud   \n",
       "\n",
       "            position plan_configuration          condition_post_eq  \\\n",
       "b_id                                                                 \n",
       "164002  Not attached        Rectangular  Damaged-Repaired and used   \n",
       "164081  Not attached        Rectangular       Damaged-Used in risk   \n",
       "164089  Not attached        Rectangular       Damaged-Used in risk   \n",
       "164098  Not attached        Rectangular       Damaged-Used in risk   \n",
       "164103  Not attached        Rectangular       Damaged-Used in risk   \n",
       "\n",
       "       superstructure damage_grade  \n",
       "b_id                                \n",
       "164002          Stone          NaN  \n",
       "164081          Stone          NaN  \n",
       "164089          Stone          NaN  \n",
       "164098          Stone          NaN  \n",
       "164103          Stone          NaN  "
      ]
     },
     "execution_count": 13,
     "metadata": {},
     "output_type": "execute_result"
    }
   ],
   "source": [
    "df = pd.read_csv(\"data/df.csv\").set_index(\"b_id\")\n",
    "df.head()"
   ]
  },
  {
   "cell_type": "markdown",
   "metadata": {},
   "source": [
    "Drop Features from the df (Drop Leaky features)"
   ]
  },
  {
   "cell_type": "code",
   "execution_count": 14,
   "metadata": {},
   "outputs": [
    {
     "name": "stdout",
     "output_type": "stream",
     "text": [
      "<class 'pandas.core.frame.DataFrame'>\n",
      "Index: 70836 entries, 164002 to 234835\n",
      "Data columns (total 17 columns):\n",
      " #   Column                  Non-Null Count  Dtype \n",
      "---  ------                  --------------  ----- \n",
      " 0   building_id             70836 non-null  int64 \n",
      " 1   count_floors_pre_eq     70836 non-null  int64 \n",
      " 2   count_floors_post_eq    70836 non-null  int64 \n",
      " 3   age_building            70836 non-null  int64 \n",
      " 4   plinth_area_sq_ft       70836 non-null  int64 \n",
      " 5   height_ft_pre_eq        70836 non-null  int64 \n",
      " 6   height_ft_post_eq       70836 non-null  int64 \n",
      " 7   land_surface_condition  70836 non-null  object\n",
      " 8   foundation_type         70836 non-null  object\n",
      " 9   roof_type               70836 non-null  object\n",
      " 10  ground_floor_type       70836 non-null  object\n",
      " 11  other_floor_type        70836 non-null  object\n",
      " 12  position                70836 non-null  object\n",
      " 13  plan_configuration      70836 non-null  object\n",
      " 14  condition_post_eq       70836 non-null  object\n",
      " 15  superstructure          70836 non-null  object\n",
      " 16  damage_grade            5004 non-null   object\n",
      "dtypes: int64(7), object(10)\n",
      "memory usage: 9.7+ MB\n"
     ]
    }
   ],
   "source": [
    "df.info()"
   ]
  },
  {
   "cell_type": "markdown",
   "metadata": {},
   "source": [
    "Remove features that will give the model info whether the building suffered earthquake damage:"
   ]
  },
  {
   "cell_type": "code",
   "execution_count": 16,
   "metadata": {},
   "outputs": [
    {
     "name": "stdout",
     "output_type": "stream",
     "text": [
      "building_id\n",
      "count_floors_pre_eq\n",
      "count_floors_post_eq\n",
      "age_building\n",
      "plinth_area_sq_ft\n",
      "height_ft_pre_eq\n",
      "height_ft_post_eq\n",
      "land_surface_condition\n",
      "foundation_type\n",
      "roof_type\n",
      "ground_floor_type\n",
      "other_floor_type\n",
      "position\n",
      "plan_configuration\n",
      "condition_post_eq\n",
      "superstructure\n",
      "damage_grade\n"
     ]
    }
   ],
   "source": [
    "drop_cols =[]\n",
    "for col in df.columns:\n",
    "    print(col)"
   ]
  }
 ],
 "metadata": {
  "kernelspec": {
   "display_name": "Python 3",
   "language": "python",
   "name": "python3"
  },
  "language_info": {
   "codemirror_mode": {
    "name": "ipython",
    "version": 3
   },
   "file_extension": ".py",
   "mimetype": "text/x-python",
   "name": "python",
   "nbconvert_exporter": "python",
   "pygments_lexer": "ipython3",
   "version": "3.12.1"
  }
 },
 "nbformat": 4,
 "nbformat_minor": 2
}
