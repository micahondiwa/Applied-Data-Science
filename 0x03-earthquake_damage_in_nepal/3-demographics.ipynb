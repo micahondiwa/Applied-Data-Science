{
 "cells": [
  {
   "cell_type": "markdown",
   "metadata": {},
   "source": [
    "## Beyond the Model: Data Ethics"
   ]
  },
  {
   "cell_type": "markdown",
   "metadata": {},
   "source": [
    "**Goals:**\n",
    "\n",
    "- Prepare a household dataset for binary classification.\n",
    "\n",
    "- Create a logistic regression model to predict severe damage.\n",
    "\n",
    "- Explain model prediction using odds ratio.\n",
    "\n",
    "- Interrogate importance features based on caste."
   ]
  },
  {
   "cell_type": "code",
   "execution_count": 1,
   "metadata": {},
   "outputs": [],
   "source": [
    "import sqlite3\n",
    "import warnings\n",
    "\n",
    "import matplotlib.pyplot as plt\n",
    "import numpy as np\n",
    "import pandas as pd\n",
    "\n",
    "from category_encoders import OneHotEncoder\n",
    "\n",
    "from sklearn.linear_model import LogisticRegression\n",
    "from sklearn.metrics import accuracy_score\n",
    "from sklearn.model_selection import train_test_split\n",
    "from sklearn.pipeline import Pipeline, make_pipeline\n",
    "from sklearn.utils.validation import check_is_fitted"
   ]
  },
  {
   "cell_type": "markdown",
   "metadata": {},
   "source": [
    "### Prepare Data"
   ]
  },
  {
   "cell_type": "markdown",
   "metadata": {},
   "source": [
    "Import data from sqlite server"
   ]
  },
  {
   "cell_type": "code",
   "execution_count": 3,
   "metadata": {},
   "outputs": [],
   "source": [
    "def wrangle(db_path):\n",
    "    # Connect to database\n",
    "    conn = sqlite3.connect(db_path)\n",
    "\n",
    "    # Construct query\n",
    "    query = \"\"\"\n",
    "            SELECT h.*,\n",
    "            s.*,\n",
    "            i.vdcmun_id,\n",
    "            d.damage_grade\n",
    "        FROM household_demographics AS h\n",
    "        JOIN id_map AS i ON i.household_id = h.household_id\n",
    "        JOIN building_structure AS s ON i.building_id = s.building_id\n",
    "        JOIN building_damage as d ON i.building_id = d.building_id\n",
    "        WHERE district_id = 4\n",
    "        \"\"\"\n",
    "\n",
    "    # Read query results into DataFrame\n",
    "    df = pd.read_sql(query, conn, index_col=\"household_id\")\n",
    "\n",
    "    # Identify leaky columns\n",
    "    drop_cols = [col for col in df.columns if \"post_eq\" in col]\n",
    "\n",
    "    # Add high-cardinality / redundant column\n",
    "    drop_cols.append(\"building_id\")\n",
    "\n",
    "    # Create binary target column\n",
    "    df[\"damage_grade\"] = df[\"damage_grade\"].str[-1].astype(int)\n",
    "    df[\"severe_damage\"] = (df[\"damage_grade\"] > 3).astype(int)\n",
    "\n",
    "    # Drop old target\n",
    "    drop_cols.append(\"damage_grade\")\n",
    "\n",
    "    # Drop multicollinearity column\n",
    "    drop_cols.append(\"count_floors_pre_eq\")\n",
    "    \n",
    "    # Drop columns\n",
    "    df.drop(columns=drop_cols, inplace=True)\n",
    "\n",
    "    return df"
   ]
  },
  {
   "cell_type": "markdown",
   "metadata": {},
   "source": [
    "Importing from local dir:"
   ]
  },
  {
   "cell_type": "code",
   "execution_count": 5,
   "metadata": {},
   "outputs": [
    {
     "data": {
      "text/html": [
       "<div>\n",
       "<style scoped>\n",
       "    .dataframe tbody tr th:only-of-type {\n",
       "        vertical-align: middle;\n",
       "    }\n",
       "\n",
       "    .dataframe tbody tr th {\n",
       "        vertical-align: top;\n",
       "    }\n",
       "\n",
       "    .dataframe thead th {\n",
       "        text-align: right;\n",
       "    }\n",
       "</style>\n",
       "<table border=\"1\" class=\"dataframe\">\n",
       "  <thead>\n",
       "    <tr style=\"text-align: right;\">\n",
       "      <th></th>\n",
       "      <th>household_id</th>\n",
       "      <th>gender_household_head</th>\n",
       "      <th>age_household_head</th>\n",
       "      <th>caste_household</th>\n",
       "      <th>education_level_household_head</th>\n",
       "      <th>income_level_household</th>\n",
       "      <th>size_household</th>\n",
       "      <th>is_bank_account_present_in_household</th>\n",
       "      <th>age_building</th>\n",
       "      <th>plinth_area_sq_ft</th>\n",
       "      <th>...</th>\n",
       "      <th>land_surface_condition</th>\n",
       "      <th>foundation_type</th>\n",
       "      <th>roof_type</th>\n",
       "      <th>ground_floor_type</th>\n",
       "      <th>other_floor_type</th>\n",
       "      <th>position</th>\n",
       "      <th>plan_configuration</th>\n",
       "      <th>superstructure</th>\n",
       "      <th>vdcmun_id</th>\n",
       "      <th>severe_damage</th>\n",
       "    </tr>\n",
       "  </thead>\n",
       "  <tbody>\n",
       "    <tr>\n",
       "      <th>0</th>\n",
       "      <td>16400201</td>\n",
       "      <td>Female</td>\n",
       "      <td>46</td>\n",
       "      <td>Chhetree</td>\n",
       "      <td>Class 5</td>\n",
       "      <td>Rs. 10-20 thousand</td>\n",
       "      <td>4</td>\n",
       "      <td>1</td>\n",
       "      <td>20</td>\n",
       "      <td>560</td>\n",
       "      <td>...</td>\n",
       "      <td>Flat</td>\n",
       "      <td>Mud mortar-Stone/Brick</td>\n",
       "      <td>Bamboo/Timber-Light roof</td>\n",
       "      <td>Mud</td>\n",
       "      <td>TImber/Bamboo-Mud</td>\n",
       "      <td>Not attached</td>\n",
       "      <td>Rectangular</td>\n",
       "      <td>Stone, mud mortar</td>\n",
       "      <td>38</td>\n",
       "      <td>0</td>\n",
       "    </tr>\n",
       "    <tr>\n",
       "      <th>1</th>\n",
       "      <td>16408101</td>\n",
       "      <td>Male</td>\n",
       "      <td>66</td>\n",
       "      <td>Chhetree</td>\n",
       "      <td>Illiterate</td>\n",
       "      <td>Rs. 10 thousand</td>\n",
       "      <td>5</td>\n",
       "      <td>0</td>\n",
       "      <td>21</td>\n",
       "      <td>200</td>\n",
       "      <td>...</td>\n",
       "      <td>Flat</td>\n",
       "      <td>Mud mortar-Stone/Brick</td>\n",
       "      <td>Bamboo/Timber-Light roof</td>\n",
       "      <td>Mud</td>\n",
       "      <td>TImber/Bamboo-Mud</td>\n",
       "      <td>Not attached</td>\n",
       "      <td>Rectangular</td>\n",
       "      <td>Stone, mud mortar</td>\n",
       "      <td>38</td>\n",
       "      <td>0</td>\n",
       "    </tr>\n",
       "    <tr>\n",
       "      <th>2</th>\n",
       "      <td>16408901</td>\n",
       "      <td>Male</td>\n",
       "      <td>54</td>\n",
       "      <td>Magar</td>\n",
       "      <td>Class 4</td>\n",
       "      <td>Rs. 10 thousand</td>\n",
       "      <td>5</td>\n",
       "      <td>1</td>\n",
       "      <td>18</td>\n",
       "      <td>315</td>\n",
       "      <td>...</td>\n",
       "      <td>Flat</td>\n",
       "      <td>Mud mortar-Stone/Brick</td>\n",
       "      <td>Bamboo/Timber-Light roof</td>\n",
       "      <td>Mud</td>\n",
       "      <td>TImber/Bamboo-Mud</td>\n",
       "      <td>Not attached</td>\n",
       "      <td>Rectangular</td>\n",
       "      <td>Stone, mud mortar</td>\n",
       "      <td>38</td>\n",
       "      <td>0</td>\n",
       "    </tr>\n",
       "    <tr>\n",
       "      <th>3</th>\n",
       "      <td>16409801</td>\n",
       "      <td>Male</td>\n",
       "      <td>36</td>\n",
       "      <td>Chhetree</td>\n",
       "      <td>Class 5</td>\n",
       "      <td>Rs. 10 thousand</td>\n",
       "      <td>6</td>\n",
       "      <td>1</td>\n",
       "      <td>45</td>\n",
       "      <td>290</td>\n",
       "      <td>...</td>\n",
       "      <td>Flat</td>\n",
       "      <td>Mud mortar-Stone/Brick</td>\n",
       "      <td>Bamboo/Timber-Light roof</td>\n",
       "      <td>Mud</td>\n",
       "      <td>TImber/Bamboo-Mud</td>\n",
       "      <td>Not attached</td>\n",
       "      <td>Rectangular</td>\n",
       "      <td>Stone, mud mortar</td>\n",
       "      <td>38</td>\n",
       "      <td>0</td>\n",
       "    </tr>\n",
       "    <tr>\n",
       "      <th>4</th>\n",
       "      <td>16410301</td>\n",
       "      <td>Female</td>\n",
       "      <td>39</td>\n",
       "      <td>Chhetree</td>\n",
       "      <td>Class 4</td>\n",
       "      <td>Rs. 10 thousand</td>\n",
       "      <td>3</td>\n",
       "      <td>0</td>\n",
       "      <td>21</td>\n",
       "      <td>230</td>\n",
       "      <td>...</td>\n",
       "      <td>Flat</td>\n",
       "      <td>Mud mortar-Stone/Brick</td>\n",
       "      <td>Bamboo/Timber-Light roof</td>\n",
       "      <td>Mud</td>\n",
       "      <td>TImber/Bamboo-Mud</td>\n",
       "      <td>Not attached</td>\n",
       "      <td>Rectangular</td>\n",
       "      <td>Stone, mud mortar</td>\n",
       "      <td>38</td>\n",
       "      <td>0</td>\n",
       "    </tr>\n",
       "  </tbody>\n",
       "</table>\n",
       "<p>5 rows × 21 columns</p>\n",
       "</div>"
      ],
      "text/plain": [
       "   household_id gender_household_head  age_household_head caste_household  \\\n",
       "0      16400201                Female                  46        Chhetree   \n",
       "1      16408101                  Male                  66        Chhetree   \n",
       "2      16408901                  Male                  54           Magar   \n",
       "3      16409801                  Male                  36        Chhetree   \n",
       "4      16410301                Female                  39        Chhetree   \n",
       "\n",
       "  education_level_household_head income_level_household  size_household  \\\n",
       "0                        Class 5     Rs. 10-20 thousand               4   \n",
       "1                     Illiterate        Rs. 10 thousand               5   \n",
       "2                        Class 4        Rs. 10 thousand               5   \n",
       "3                        Class 5        Rs. 10 thousand               6   \n",
       "4                        Class 4        Rs. 10 thousand               3   \n",
       "\n",
       "   is_bank_account_present_in_household  age_building  plinth_area_sq_ft  ...  \\\n",
       "0                                     1            20                560  ...   \n",
       "1                                     0            21                200  ...   \n",
       "2                                     1            18                315  ...   \n",
       "3                                     1            45                290  ...   \n",
       "4                                     0            21                230  ...   \n",
       "\n",
       "   land_surface_condition         foundation_type                 roof_type  \\\n",
       "0                    Flat  Mud mortar-Stone/Brick  Bamboo/Timber-Light roof   \n",
       "1                    Flat  Mud mortar-Stone/Brick  Bamboo/Timber-Light roof   \n",
       "2                    Flat  Mud mortar-Stone/Brick  Bamboo/Timber-Light roof   \n",
       "3                    Flat  Mud mortar-Stone/Brick  Bamboo/Timber-Light roof   \n",
       "4                    Flat  Mud mortar-Stone/Brick  Bamboo/Timber-Light roof   \n",
       "\n",
       "  ground_floor_type   other_floor_type      position plan_configuration  \\\n",
       "0               Mud  TImber/Bamboo-Mud  Not attached        Rectangular   \n",
       "1               Mud  TImber/Bamboo-Mud  Not attached        Rectangular   \n",
       "2               Mud  TImber/Bamboo-Mud  Not attached        Rectangular   \n",
       "3               Mud  TImber/Bamboo-Mud  Not attached        Rectangular   \n",
       "4               Mud  TImber/Bamboo-Mud  Not attached        Rectangular   \n",
       "\n",
       "      superstructure vdcmun_id  severe_damage  \n",
       "0  Stone, mud mortar        38              0  \n",
       "1  Stone, mud mortar        38              0  \n",
       "2  Stone, mud mortar        38              0  \n",
       "3  Stone, mud mortar        38              0  \n",
       "4  Stone, mud mortar        38              0  \n",
       "\n",
       "[5 rows x 21 columns]"
      ]
     },
     "execution_count": 5,
     "metadata": {},
     "output_type": "execute_result"
    }
   ],
   "source": [
    "df = pd.read_csv(\"data/household_df.csv\")\n",
    "df.head()"
   ]
  },
  {
   "cell_type": "markdown",
   "metadata": {},
   "source": [
    "High-Cardinality Features"
   ]
  },
  {
   "cell_type": "code",
   "execution_count": 8,
   "metadata": {},
   "outputs": [
    {
     "data": {
      "text/plain": [
       "gender_household_head              2\n",
       "caste_household                   63\n",
       "education_level_household_head    19\n",
       "income_level_household             5\n",
       "land_surface_condition             3\n",
       "foundation_type                    5\n",
       "roof_type                          3\n",
       "ground_floor_type                  5\n",
       "other_floor_type                   4\n",
       "position                           4\n",
       "plan_configuration                10\n",
       "superstructure                    11\n",
       "dtype: int64"
      ]
     },
     "execution_count": 8,
     "metadata": {},
     "output_type": "execute_result"
    }
   ],
   "source": [
    "df.select_dtypes(\"object\").nunique()"
   ]
  },
  {
   "cell_type": "code",
   "execution_count": 10,
   "metadata": {},
   "outputs": [
    {
     "data": {
      "text/plain": [
       "caste_household\n",
       "Gurung          15119\n",
       "Brahman-Hill    13043\n",
       "Chhetree         8766\n",
       "Magar            8180\n",
       "Sarki            6052\n",
       "Name: count, dtype: int64"
      ]
     },
     "execution_count": 10,
     "metadata": {},
     "output_type": "execute_result"
    }
   ],
   "source": [
    "df[\"caste_household\"].value_counts().head()"
   ]
  },
  {
   "cell_type": "code",
   "execution_count": 11,
   "metadata": {},
   "outputs": [
    {
     "data": {
      "text/plain": [
       "caste_household\n",
       "Byasi/Sauka    1\n",
       "Kalar          1\n",
       "Dhimal         1\n",
       "Kalwar         1\n",
       "Hyolmo         1\n",
       "Name: count, dtype: int64"
      ]
     },
     "execution_count": 11,
     "metadata": {},
     "output_type": "execute_result"
    }
   ],
   "source": [
    "df[\"caste_household\"].value_counts().tail()"
   ]
  },
  {
   "cell_type": "markdown",
   "metadata": {},
   "source": [
    "Next: Take the top 10 ethnicities, and group the rest as others."
   ]
  },
  {
   "cell_type": "code",
   "execution_count": 14,
   "metadata": {},
   "outputs": [
    {
     "data": {
      "text/plain": [
       "caste_household\n",
       "Gurung          15119\n",
       "Brahman-Hill    13043\n",
       "Chhetree         8766\n",
       "Magar            8180\n",
       "Sarki            6052\n",
       "Newar            5906\n",
       "Kami             3565\n",
       "Tamang           2396\n",
       "Kumal            2271\n",
       "Damai/Dholi      1977\n",
       "Name: count, dtype: int64"
      ]
     },
     "execution_count": 14,
     "metadata": {},
     "output_type": "execute_result"
    }
   ],
   "source": [
    "df[\"caste_household\"].value_counts().head(10)"
   ]
  },
  {
   "cell_type": "code",
   "execution_count": 17,
   "metadata": {},
   "outputs": [
    {
     "data": {
      "text/plain": [
       "Index(['Gurung', 'Brahman-Hill', 'Chhetree', 'Magar', 'Sarki', 'Newar', 'Kami',\n",
       "       'Tamang', 'Kumal', 'Damai/Dholi'],\n",
       "      dtype='object', name='caste_household')"
      ]
     },
     "execution_count": 17,
     "metadata": {},
     "output_type": "execute_result"
    }
   ],
   "source": [
    "top_10=df[\"caste_household\"].value_counts().head(10).index\n",
    "top_10"
   ]
  },
  {
   "cell_type": "code",
   "execution_count": 21,
   "metadata": {},
   "outputs": [
    {
     "data": {
      "text/plain": [
       "caste_household\n",
       "Gurung          15119\n",
       "Brahman-Hill    13043\n",
       "Chhetree         8766\n",
       "other            8608\n",
       "Magar            8180\n",
       "Sarki            6052\n",
       "Newar            5906\n",
       "Kami             3565\n",
       "Tamang           2396\n",
       "Kumal            2271\n",
       "Damai/Dholi      1977\n",
       "Name: count, dtype: int64"
      ]
     },
     "execution_count": 21,
     "metadata": {},
     "output_type": "execute_result"
    }
   ],
   "source": [
    "df[\"caste_household\"].apply(lambda c: c if c in top_10 else \"other\")#.value_counts()"
   ]
  }
 ],
 "metadata": {
  "kernelspec": {
   "display_name": "Python 3",
   "language": "python",
   "name": "python3"
  },
  "language_info": {
   "codemirror_mode": {
    "name": "ipython",
    "version": 3
   },
   "file_extension": ".py",
   "mimetype": "text/x-python",
   "name": "python",
   "nbconvert_exporter": "python",
   "pygments_lexer": "ipython3",
   "version": "3.12.1"
  }
 },
 "nbformat": 4,
 "nbformat_minor": 2
}
