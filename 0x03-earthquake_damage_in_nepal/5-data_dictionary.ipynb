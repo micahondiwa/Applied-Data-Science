{
 "cells": [
  {
   "cell_type": "markdown",
   "metadata": {},
   "source": [
    "## Data Dictionary"
   ]
  },
  {
   "cell_type": "markdown",
   "metadata": {},
   "source": [
    "### Table ```building_structure```"
   ]
  },
  {
   "cell_type": "markdown",
   "metadata": {},
   "source": [
    "|Variable                              |Description                                                                                        |Type       |\n",
    "|:-------------------------------------|:--------------------------------------------------------------------------------------------------|:----------|\n",
    "|`age_building`                          |Age of the building (in years)                                                                     |Number     |\n",
    "|`building_id`                           |A unique ID that identifies a unique building from the survey                                      |Text       |\n",
    "|`condition_post_eq`                     |Actual condition of the building after the earthquake                                              |Categorical|\n",
    "|`count_floors_post_eq`                  |Number of floors that the building had after the earthquake                                        |Number     |\n",
    "|`count_floors_pre_eq`                   |Number of floors that the building had before the earthquake                                       |Number     |\n",
    "|`foundation_type`                       |Type of foundation used in the building                                                            |Categorical|\n",
    "|`ground_floor_type`                     |Ground floor type                                                                                  |Categorical|\n",
    "|`height_ft_post_eq`                     |Height of the building after the earthquake (in feet)                                              |Number     |\n",
    "|`height_ft_pre_eq`                      |Height of the building before the earthquake (in feet)                                             |Number     |\n",
    "|`land_surface_condition`                |Surface condition of the land in which the building is built                                       |categorical|\n",
    "|`other_floor_type`                      |Type of construction used in other floors (except ground floor and roof)                           |Categorical|\n",
    "|`plan_configuration`                    |Building plan configuration                                                                        |Categorical|\n",
    "|`plinth_area_sq_ft`                     |Plinth area of the building (in square feet)                                                       |Number     |\n",
    "|`position`                              |Position of the building                                                                           |Categorical|\n",
    "|`roof_type`                             |Type of roof used in the building. Categories are (1) light bamboo/timber, (2) heavy bamboo timber, and (3) reinforced cement concrete/reinforced brick/reinforced brick concrete                                                                |Categorical|\n",
    "|`superstructure`                        |Superstructure of the building|Categorical\n"
   ]
  },
  {
   "cell_type": "markdown",
   "metadata": {},
   "source": [
    "### Table ```building_damage```"
   ]
  }
 ],
 "metadata": {
  "kernelspec": {
   "display_name": "Python 3",
   "language": "python",
   "name": "python3"
  },
  "language_info": {
   "name": "python",
   "version": "3.12.1"
  }
 },
 "nbformat": 4,
 "nbformat_minor": 2
}
