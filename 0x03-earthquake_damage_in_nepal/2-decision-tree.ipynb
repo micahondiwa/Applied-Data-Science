{
 "cells": [
  {
   "cell_type": "markdown",
   "metadata": {},
   "source": [
    "## Predicting Damage with Decision Trees"
   ]
  },
  {
   "cell_type": "markdown",
   "metadata": {},
   "source": [
    "**Goal**: Build a classification model that will predict whether a building will be severely damagaed or not severely damaged. "
   ]
  },
  {
   "cell_type": "code",
   "execution_count": 2,
   "metadata": {},
   "outputs": [],
   "source": [
    "import sqlite3\n",
    "import warnings\n",
    "\n",
    "import matplotlib.pyplot as plt \n",
    "import pandas as pd \n",
    "from category_encoders import OrdinalEncoder\n",
    "from sklearn.metrics import  accuracy_score\n",
    "from sklearn.model_selection import train_test_split\n",
    "from sklearn.pipeline import Pipeline, make_pipeline\n",
    "from sklearn.tree import DecisionTreeClassifier, plot_tree\n",
    "from sklearn.utils.validation import check_is_fitted"
   ]
  },
  {
   "cell_type": "markdown",
   "metadata": {},
   "source": [
    "#### Prepare Data"
   ]
  },
  {
   "cell_type": "markdown",
   "metadata": {},
   "source": [
    "Import Data"
   ]
  },
  {
   "cell_type": "markdown",
   "metadata": {},
   "source": [
    "The function below imports data from sqlite server:"
   ]
  },
  {
   "cell_type": "code",
   "execution_count": null,
   "metadata": {},
   "outputs": [],
   "source": [
    "def wrangle(db_path):\n",
    "    # Connect to database\n",
    "    conn = sqlite3.connect(db_path)\n",
    "\n",
    "    # Construct query\n",
    "    query = \"\"\"\n",
    "        SELECT distinct(i.building_id) AS b_id,\n",
    "           s.*,\n",
    "           d.damage_grade\n",
    "        FROM id_map AS i\n",
    "        JOIN building_structure AS s ON i.building_id = s.building_id\n",
    "        JOIN building_damage AS d ON i.building_id = d.building_id\n",
    "        WHERE district_id = 4\n",
    "    \"\"\"\n",
    "\n",
    "    # Read query results into DataFrame\n",
    "    df = pd.read_sql(query, conn, index_col=\"b_id\")\n",
    "\n",
    "    # Identify leaky columns\n",
    "    drop_cols = [col for col in df.columns if \"post_eq\" in col]\n",
    "\n",
    "    # Add high-cardinality / redundant column\n",
    "    drop_cols.append(\"building_id\")\n",
    "\n",
    "    # Create binary target column\n",
    "    df[\"damage_grade\"] = df[\"damage_grade\"].str[-1].astype(int)\n",
    "    df[\"severe_damage\"] = (df[\"damage_grade\"] > 3).astype(int)\n",
    "\n",
    "    # Drop old target\n",
    "    drop_cols.append(\"damage_grade\")\n",
    "\n",
    "    # Drop multicollinearity column\n",
    "    drop_cols.append(\"count_floors_pre_eq\")\n",
    "\n",
    "    # Drop columns\n",
    "    df.drop(columns=drop_cols, inplace=True)\n",
    "\n",
    "    return df"
   ]
  },
  {
   "cell_type": "markdown",
   "metadata": {},
   "source": [
    "Example importing:"
   ]
  },
  {
   "cell_type": "markdown",
   "metadata": {},
   "source": [
    "df = wrangle(\"/some/dir/some/data.sqlite\")\n",
    "df.head()"
   ]
  },
  {
   "cell_type": "markdown",
   "metadata": {},
   "source": [
    "Importing csv with pd"
   ]
  },
  {
   "cell_type": "code",
   "execution_count": 3,
   "metadata": {},
   "outputs": [],
   "source": [
    "def wrangle2(filepath):\n",
    "      # Read data into DataFrame\n",
    "    df = pd.read_csv(filepath).set_index(\"b_id\")\n",
    "\n",
    "    # Identify leaky columns\n",
    "    drop_cols = [col for col in df.columns if \"post_eq\" in col]\n",
    "\n",
    "    # Add high-cardinality / redundant column\n",
    "    drop_cols.append(\"building_id\")\n",
    "\n",
    "    # Create binary target column\n",
    "    df[\"damage_grade\"] = df[\"damage_grade\"].str[-1].astype(int)\n",
    "    df[\"severe_damage\"] = (df[\"damage_grade\"] > 3).astype(int)\n",
    "\n",
    "    # Drop old target\n",
    "    drop_cols.append(\"damage_grade\")\n",
    "\n",
    "    # Drop multicollinearity column\n",
    "    drop_cols.append(\"count_floors_pre_eq\")\n",
    "\n",
    "    # Drop columns\n",
    "    df.drop(columns=drop_cols, inplace=True)\n",
    "    \n",
    "    return df\n"
   ]
  },
  {
   "cell_type": "code",
   "execution_count": 5,
   "metadata": {},
   "outputs": [
    {
     "data": {
      "text/html": [
       "<div>\n",
       "<style scoped>\n",
       "    .dataframe tbody tr th:only-of-type {\n",
       "        vertical-align: middle;\n",
       "    }\n",
       "\n",
       "    .dataframe tbody tr th {\n",
       "        vertical-align: top;\n",
       "    }\n",
       "\n",
       "    .dataframe thead th {\n",
       "        text-align: right;\n",
       "    }\n",
       "</style>\n",
       "<table border=\"1\" class=\"dataframe\">\n",
       "  <thead>\n",
       "    <tr style=\"text-align: right;\">\n",
       "      <th></th>\n",
       "      <th>age_building</th>\n",
       "      <th>plinth_area_sq_ft</th>\n",
       "      <th>height_ft_pre_eq</th>\n",
       "      <th>land_surface_condition</th>\n",
       "      <th>foundation_type</th>\n",
       "      <th>roof_type</th>\n",
       "      <th>ground_floor_type</th>\n",
       "      <th>other_floor_type</th>\n",
       "      <th>position</th>\n",
       "      <th>plan_configuration</th>\n",
       "      <th>superstructure</th>\n",
       "      <th>severe_damage</th>\n",
       "    </tr>\n",
       "    <tr>\n",
       "      <th>b_id</th>\n",
       "      <th></th>\n",
       "      <th></th>\n",
       "      <th></th>\n",
       "      <th></th>\n",
       "      <th></th>\n",
       "      <th></th>\n",
       "      <th></th>\n",
       "      <th></th>\n",
       "      <th></th>\n",
       "      <th></th>\n",
       "      <th></th>\n",
       "      <th></th>\n",
       "    </tr>\n",
       "  </thead>\n",
       "  <tbody>\n",
       "    <tr>\n",
       "      <th>164002</th>\n",
       "      <td>20</td>\n",
       "      <td>560</td>\n",
       "      <td>18</td>\n",
       "      <td>Flat</td>\n",
       "      <td>Mud mortar-Stone/Brick</td>\n",
       "      <td>Bamboo/Timber-Light roof</td>\n",
       "      <td>Mud</td>\n",
       "      <td>TImber/Bamboo-Mud</td>\n",
       "      <td>Not attached</td>\n",
       "      <td>Rectangular</td>\n",
       "      <td>Stone</td>\n",
       "      <td>0</td>\n",
       "    </tr>\n",
       "    <tr>\n",
       "      <th>164081</th>\n",
       "      <td>21</td>\n",
       "      <td>200</td>\n",
       "      <td>12</td>\n",
       "      <td>Flat</td>\n",
       "      <td>Mud mortar-Stone/Brick</td>\n",
       "      <td>Bamboo/Timber-Light roof</td>\n",
       "      <td>Mud</td>\n",
       "      <td>TImber/Bamboo-Mud</td>\n",
       "      <td>Not attached</td>\n",
       "      <td>Rectangular</td>\n",
       "      <td>Stone</td>\n",
       "      <td>0</td>\n",
       "    </tr>\n",
       "    <tr>\n",
       "      <th>164089</th>\n",
       "      <td>18</td>\n",
       "      <td>315</td>\n",
       "      <td>20</td>\n",
       "      <td>Flat</td>\n",
       "      <td>Mud mortar-Stone/Brick</td>\n",
       "      <td>Bamboo/Timber-Light roof</td>\n",
       "      <td>Mud</td>\n",
       "      <td>TImber/Bamboo-Mud</td>\n",
       "      <td>Not attached</td>\n",
       "      <td>Rectangular</td>\n",
       "      <td>Stone</td>\n",
       "      <td>0</td>\n",
       "    </tr>\n",
       "    <tr>\n",
       "      <th>164098</th>\n",
       "      <td>45</td>\n",
       "      <td>290</td>\n",
       "      <td>13</td>\n",
       "      <td>Flat</td>\n",
       "      <td>Mud mortar-Stone/Brick</td>\n",
       "      <td>Bamboo/Timber-Light roof</td>\n",
       "      <td>Mud</td>\n",
       "      <td>TImber/Bamboo-Mud</td>\n",
       "      <td>Not attached</td>\n",
       "      <td>Rectangular</td>\n",
       "      <td>Stone</td>\n",
       "      <td>0</td>\n",
       "    </tr>\n",
       "    <tr>\n",
       "      <th>164103</th>\n",
       "      <td>21</td>\n",
       "      <td>230</td>\n",
       "      <td>13</td>\n",
       "      <td>Flat</td>\n",
       "      <td>Mud mortar-Stone/Brick</td>\n",
       "      <td>Bamboo/Timber-Light roof</td>\n",
       "      <td>Mud</td>\n",
       "      <td>TImber/Bamboo-Mud</td>\n",
       "      <td>Not attached</td>\n",
       "      <td>Rectangular</td>\n",
       "      <td>Stone</td>\n",
       "      <td>0</td>\n",
       "    </tr>\n",
       "  </tbody>\n",
       "</table>\n",
       "</div>"
      ],
      "text/plain": [
       "        age_building  plinth_area_sq_ft  ...  superstructure severe_damage\n",
       "b_id                                     ...                              \n",
       "164002            20                560  ...           Stone             0\n",
       "164081            21                200  ...           Stone             0\n",
       "164089            18                315  ...           Stone             0\n",
       "164098            45                290  ...           Stone             0\n",
       "164103            21                230  ...           Stone             0\n",
       "\n",
       "[5 rows x 12 columns]"
      ]
     },
     "execution_count": 5,
     "metadata": {},
     "output_type": "execute_result"
    }
   ],
   "source": [
    "df = wrangle2(\"data/df.csv\")\n",
    "df.head()"
   ]
  },
  {
   "cell_type": "markdown",
   "metadata": {},
   "source": [
    "Assert importation:"
   ]
  },
  {
   "cell_type": "code",
   "execution_count": 7,
   "metadata": {},
   "outputs": [],
   "source": [
    "assert df.shape[0] == 70836, f\"`df` should have 70,836 rows, not {df.shape[0]}.\"\n",
    "assert df.shape[1] == 12, f\"`df` should have 12 columns, not {df.shape[1]}.\""
   ]
  },
  {
   "cell_type": "markdown",
   "metadata": {},
   "source": [
    "Split"
   ]
  },
  {
   "cell_type": "markdown",
   "metadata": {},
   "source": [
    "Split features(X) and target(y):"
   ]
  },
  {
   "cell_type": "code",
   "execution_count": 8,
   "metadata": {},
   "outputs": [],
   "source": [
    "target = \"severe_damage\"\n",
    "X = df.drop(columns=target)\n",
    "y = df[target]"
   ]
  },
  {
   "cell_type": "markdown",
   "metadata": {},
   "source": [
    "Assert spliting data into X and y:"
   ]
  },
  {
   "cell_type": "code",
   "execution_count": 9,
   "metadata": {},
   "outputs": [],
   "source": [
    "assert X.shape == (70836, 11), f\"The shape of `X` should be (70836, 11), not {X.shape}.\"\n",
    "assert y.shape == (70836,), f\"The shape of `y` should be (70836,), not {y.shape}.\""
   ]
  },
  {
   "cell_type": "markdown",
   "metadata": {},
   "source": [
    "Randomized Train-Test Split"
   ]
  },
  {
   "cell_type": "code",
   "execution_count": 11,
   "metadata": {},
   "outputs": [],
   "source": [
    "X_train, X_test, y_train, y_test = train_test_split(\n",
    "    X, y, test_size=.2, random_state=42\n",
    ")"
   ]
  },
  {
   "cell_type": "markdown",
   "metadata": {},
   "source": [
    "Assert split:"
   ]
  },
  {
   "cell_type": "code",
   "execution_count": 12,
   "metadata": {},
   "outputs": [],
   "source": [
    "assert X_train.shape == (\n",
    "    56668,\n",
    "    11,\n",
    "), f\"The shape of `X_train` should be (56668, 11), not {X_train.shape}.\"\n",
    "assert y_train.shape == (\n",
    "    56668,\n",
    "), f\"The shape of `y_train` should be (56668,), not {y_train.shape}.\"\n",
    "assert X_test.shape == (\n",
    "    14168,\n",
    "    11,\n",
    "), f\"The shape of `X_test` should be (14168, 11), not {X_test.shape}.\"\n",
    "assert y_test.shape == (\n",
    "    14168,\n",
    "), f\"The shape of `y_test` should be (14168,), not {y_test.shape}.\""
   ]
  }
 ],
 "metadata": {
  "kernelspec": {
   "display_name": "Python 3",
   "language": "python",
   "name": "python3"
  },
  "language_info": {
   "codemirror_mode": {
    "name": "ipython",
    "version": 3
   },
   "file_extension": ".py",
   "mimetype": "text/x-python",
   "name": "python",
   "nbconvert_exporter": "python",
   "pygments_lexer": "ipython3",
   "version": "3.12.1"
  }
 },
 "nbformat": 4,
 "nbformat_minor": 2
}
