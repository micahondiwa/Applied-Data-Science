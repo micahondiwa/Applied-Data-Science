{
 "cells": [
  {
   "cell_type": "markdown",
   "metadata": {},
   "source": [
    "# Clustering Multiple Features"
   ]
  },
  {
   "cell_type": "markdown",
   "metadata": {},
   "source": [
    "**Project Goal**: Build a clustering model for multiple features. \n",
    "\n",
    "Specific Goals:\n",
    "\n",
    "- Determine the highest variance features in the dataset - variance and trimmed variance.\n",
    "- Build unsupervised model to divide households into groups.\n",
    "- Visualize clsuters using principal component analysis (PCA) - dimensionality reduction."
   ]
  },
  {
   "cell_type": "code",
   "execution_count": 3,
   "metadata": {},
   "outputs": [],
   "source": [
    "import pandas as pd \n",
    "import plotly.express as px \n",
    "from scipy.stats.mstats import trimmed_var\n",
    "from sklearn.cluster import KMeans\n",
    "from sklearn.decomposition import PCA \n",
    "from sklearn.metrics import silhouette_score\n",
    "from sklearn.pipeline import make_pipeline\n",
    "from sklearn.preprocessing import StandardScaler\n",
    "from sklearn.utils.validation import check_is_fitted"
   ]
  },
  {
   "cell_type": "markdown",
   "metadata": {},
   "source": [
    "### Prepare Data"
   ]
  },
  {
   "cell_type": "markdown",
   "metadata": {},
   "source": [
    "Import"
   ]
  },
  {
   "cell_type": "markdown",
   "metadata": {},
   "source": [
    "- The goal here is to create a wrangle function that eturns a DataFrame of households whose net worth is less than $2 million and that have been turned down for credit or feared being denied credit in the past 5 years (see \"TURNFEAR\")."
   ]
  },
  {
   "cell_type": "code",
   "execution_count": 4,
   "metadata": {},
   "outputs": [],
   "source": [
    "def wrangle(filepath):\n",
    "    df=pd.read_csv(filepath)\n",
    "    mask=(df[\"TURNFEAR\"]==1) & (df[\"NETWORTH\"] <2e6)\n",
    "    df=df[mask]\n",
    "    \n",
    "    return df"
   ]
  },
  {
   "cell_type": "code",
   "execution_count": 5,
   "metadata": {},
   "outputs": [
    {
     "name": "stdout",
     "output_type": "stream",
     "text": [
      "df type: <class 'pandas.core.frame.DataFrame'>\n",
      "df shape: (4418, 351)\n"
     ]
    },
    {
     "data": {
      "text/html": [
       "<div>\n",
       "<style scoped>\n",
       "    .dataframe tbody tr th:only-of-type {\n",
       "        vertical-align: middle;\n",
       "    }\n",
       "\n",
       "    .dataframe tbody tr th {\n",
       "        vertical-align: top;\n",
       "    }\n",
       "\n",
       "    .dataframe thead th {\n",
       "        text-align: right;\n",
       "    }\n",
       "</style>\n",
       "<table border=\"1\" class=\"dataframe\">\n",
       "  <thead>\n",
       "    <tr style=\"text-align: right;\">\n",
       "      <th></th>\n",
       "      <th>YY1</th>\n",
       "      <th>Y1</th>\n",
       "      <th>WGT</th>\n",
       "      <th>HHSEX</th>\n",
       "      <th>AGE</th>\n",
       "      <th>AGECL</th>\n",
       "      <th>EDUC</th>\n",
       "      <th>EDCL</th>\n",
       "      <th>MARRIED</th>\n",
       "      <th>KIDS</th>\n",
       "      <th>...</th>\n",
       "      <th>NWCAT</th>\n",
       "      <th>INCCAT</th>\n",
       "      <th>ASSETCAT</th>\n",
       "      <th>NINCCAT</th>\n",
       "      <th>NINC2CAT</th>\n",
       "      <th>NWPCTLECAT</th>\n",
       "      <th>INCPCTLECAT</th>\n",
       "      <th>NINCPCTLECAT</th>\n",
       "      <th>INCQRTCAT</th>\n",
       "      <th>NINCQRTCAT</th>\n",
       "    </tr>\n",
       "  </thead>\n",
       "  <tbody>\n",
       "    <tr>\n",
       "      <th>5</th>\n",
       "      <td>2</td>\n",
       "      <td>21</td>\n",
       "      <td>3790.476607</td>\n",
       "      <td>1</td>\n",
       "      <td>50</td>\n",
       "      <td>3</td>\n",
       "      <td>8</td>\n",
       "      <td>2</td>\n",
       "      <td>1</td>\n",
       "      <td>3</td>\n",
       "      <td>...</td>\n",
       "      <td>1</td>\n",
       "      <td>2</td>\n",
       "      <td>1</td>\n",
       "      <td>2</td>\n",
       "      <td>1</td>\n",
       "      <td>1</td>\n",
       "      <td>4</td>\n",
       "      <td>4</td>\n",
       "      <td>2</td>\n",
       "      <td>2</td>\n",
       "    </tr>\n",
       "    <tr>\n",
       "      <th>6</th>\n",
       "      <td>2</td>\n",
       "      <td>22</td>\n",
       "      <td>3798.868505</td>\n",
       "      <td>1</td>\n",
       "      <td>50</td>\n",
       "      <td>3</td>\n",
       "      <td>8</td>\n",
       "      <td>2</td>\n",
       "      <td>1</td>\n",
       "      <td>3</td>\n",
       "      <td>...</td>\n",
       "      <td>1</td>\n",
       "      <td>2</td>\n",
       "      <td>1</td>\n",
       "      <td>2</td>\n",
       "      <td>1</td>\n",
       "      <td>1</td>\n",
       "      <td>4</td>\n",
       "      <td>3</td>\n",
       "      <td>2</td>\n",
       "      <td>2</td>\n",
       "    </tr>\n",
       "    <tr>\n",
       "      <th>7</th>\n",
       "      <td>2</td>\n",
       "      <td>23</td>\n",
       "      <td>3799.468393</td>\n",
       "      <td>1</td>\n",
       "      <td>50</td>\n",
       "      <td>3</td>\n",
       "      <td>8</td>\n",
       "      <td>2</td>\n",
       "      <td>1</td>\n",
       "      <td>3</td>\n",
       "      <td>...</td>\n",
       "      <td>1</td>\n",
       "      <td>2</td>\n",
       "      <td>1</td>\n",
       "      <td>2</td>\n",
       "      <td>1</td>\n",
       "      <td>1</td>\n",
       "      <td>4</td>\n",
       "      <td>4</td>\n",
       "      <td>2</td>\n",
       "      <td>2</td>\n",
       "    </tr>\n",
       "    <tr>\n",
       "      <th>8</th>\n",
       "      <td>2</td>\n",
       "      <td>24</td>\n",
       "      <td>3788.076005</td>\n",
       "      <td>1</td>\n",
       "      <td>50</td>\n",
       "      <td>3</td>\n",
       "      <td>8</td>\n",
       "      <td>2</td>\n",
       "      <td>1</td>\n",
       "      <td>3</td>\n",
       "      <td>...</td>\n",
       "      <td>1</td>\n",
       "      <td>2</td>\n",
       "      <td>1</td>\n",
       "      <td>2</td>\n",
       "      <td>1</td>\n",
       "      <td>1</td>\n",
       "      <td>4</td>\n",
       "      <td>4</td>\n",
       "      <td>2</td>\n",
       "      <td>2</td>\n",
       "    </tr>\n",
       "    <tr>\n",
       "      <th>9</th>\n",
       "      <td>2</td>\n",
       "      <td>25</td>\n",
       "      <td>3793.066589</td>\n",
       "      <td>1</td>\n",
       "      <td>50</td>\n",
       "      <td>3</td>\n",
       "      <td>8</td>\n",
       "      <td>2</td>\n",
       "      <td>1</td>\n",
       "      <td>3</td>\n",
       "      <td>...</td>\n",
       "      <td>1</td>\n",
       "      <td>2</td>\n",
       "      <td>1</td>\n",
       "      <td>2</td>\n",
       "      <td>1</td>\n",
       "      <td>1</td>\n",
       "      <td>4</td>\n",
       "      <td>4</td>\n",
       "      <td>2</td>\n",
       "      <td>2</td>\n",
       "    </tr>\n",
       "  </tbody>\n",
       "</table>\n",
       "<p>5 rows × 351 columns</p>\n",
       "</div>"
      ],
      "text/plain": [
       "   YY1  Y1          WGT  HHSEX  AGE  AGECL  EDUC  EDCL  MARRIED  KIDS  ...  \\\n",
       "5    2  21  3790.476607      1   50      3     8     2        1     3  ...   \n",
       "6    2  22  3798.868505      1   50      3     8     2        1     3  ...   \n",
       "7    2  23  3799.468393      1   50      3     8     2        1     3  ...   \n",
       "8    2  24  3788.076005      1   50      3     8     2        1     3  ...   \n",
       "9    2  25  3793.066589      1   50      3     8     2        1     3  ...   \n",
       "\n",
       "   NWCAT  INCCAT  ASSETCAT  NINCCAT  NINC2CAT  NWPCTLECAT  INCPCTLECAT  \\\n",
       "5      1       2         1        2         1           1            4   \n",
       "6      1       2         1        2         1           1            4   \n",
       "7      1       2         1        2         1           1            4   \n",
       "8      1       2         1        2         1           1            4   \n",
       "9      1       2         1        2         1           1            4   \n",
       "\n",
       "   NINCPCTLECAT  INCQRTCAT  NINCQRTCAT  \n",
       "5             4          2           2  \n",
       "6             3          2           2  \n",
       "7             4          2           2  \n",
       "8             4          2           2  \n",
       "9             4          2           2  \n",
       "\n",
       "[5 rows x 351 columns]"
      ]
     },
     "execution_count": 5,
     "metadata": {},
     "output_type": "execute_result"
    }
   ],
   "source": [
    "df=wrangle(\"data/customer.csv\")\n",
    "print(\"df type:\", type(df))\n",
    "print(\"df shape:\", df.shape)\n",
    "df.head()"
   ]
  },
  {
   "cell_type": "markdown",
   "metadata": {},
   "source": [
    "Explore"
   ]
  },
  {
   "cell_type": "markdown",
   "metadata": {},
   "source": [
    "- The goal is to make clusters using more than 2 features, but what features are the best?"
   ]
  },
  {
   "cell_type": "markdown",
   "metadata": {},
   "source": [
    "- One way to choose the best features for clustering is to determine which numerical features have the largest variance. "
   ]
  },
  {
   "cell_type": "markdown",
   "metadata": {},
   "source": [
    "Calculate Variance"
   ]
  },
  {
   "cell_type": "markdown",
   "metadata": {},
   "source": [
    "- First step is to claculate the variance for all the features in df, and create a Series top_ten_var with the 10 features with the largest variance.\n",
    "- High variance features often gives better clusters."
   ]
  },
  {
   "cell_type": "code",
   "execution_count": 6,
   "metadata": {},
   "outputs": [
    {
     "name": "stdout",
     "output_type": "stream",
     "text": [
      "top_ten_var type: <class 'pandas.core.series.Series'>\n",
      "top_ten_var shape: (10,)\n"
     ]
    },
    {
     "data": {
      "text/plain": [
       "PLOAN1      1.140894e+10\n",
       "ACTBUS      1.251892e+10\n",
       "BUS         1.256643e+10\n",
       "KGTOTAL     1.346475e+10\n",
       "DEBT        1.848252e+10\n",
       "NHNFIN      2.254163e+10\n",
       "HOUSES      2.388459e+10\n",
       "NETWORTH    4.847029e+10\n",
       "NFIN        5.713939e+10\n",
       "ASSET       8.303967e+10\n",
       "dtype: float64"
      ]
     },
     "execution_count": 6,
     "metadata": {},
     "output_type": "execute_result"
    }
   ],
   "source": [
    "# Calculate variance, get 10 largest features\n",
    "top_ten_var = df.var().sort_values().tail(10)\n",
    "\n",
    "print(\"top_ten_var type:\", type(top_ten_var))\n",
    "print(\"top_ten_var shape:\", top_ten_var.shape)\n",
    "top_ten_var"
   ]
  },
  {
   "cell_type": "markdown",
   "metadata": {},
   "source": [
    "Plot Variance"
   ]
  },
  {
   "cell_type": "code",
   "execution_count": 12,
   "metadata": {},
   "outputs": [
    {
     "data": {
      "application/vnd.plotly.v1+json": {
       "config": {
        "plotlyServerURL": "https://plot.ly"
       },
       "data": [
        {
         "alignmentgroup": "True",
         "hovertemplate": "x=%{x}<br>y=%{y}<extra></extra>",
         "legendgroup": "",
         "marker": {
          "color": "#636efa",
          "pattern": {
           "shape": ""
          }
         },
         "name": "",
         "offsetgroup": "",
         "orientation": "h",
         "showlegend": false,
         "textposition": "auto",
         "type": "bar",
         "x": [
          11408942527.82743,
          12518916948.613602,
          12566432445.275385,
          13464753169.730022,
          18482520920.40815,
          22541633958.338097,
          23884594633.763046,
          48470286637.42383,
          57139390964.95616,
          83039666928.1987
         ],
         "xaxis": "x",
         "y": [
          "PLOAN1",
          "ACTBUS",
          "BUS",
          "KGTOTAL",
          "DEBT",
          "NHNFIN",
          "HOUSES",
          "NETWORTH",
          "NFIN",
          "ASSET"
         ],
         "yaxis": "y"
        }
       ],
       "layout": {
        "barmode": "relative",
        "legend": {
         "tracegroupgap": 0
        },
        "template": {
         "data": {
          "bar": [
           {
            "error_x": {
             "color": "#2a3f5f"
            },
            "error_y": {
             "color": "#2a3f5f"
            },
            "marker": {
             "line": {
              "color": "#E5ECF6",
              "width": 0.5
             },
             "pattern": {
              "fillmode": "overlay",
              "size": 10,
              "solidity": 0.2
             }
            },
            "type": "bar"
           }
          ],
          "barpolar": [
           {
            "marker": {
             "line": {
              "color": "#E5ECF6",
              "width": 0.5
             },
             "pattern": {
              "fillmode": "overlay",
              "size": 10,
              "solidity": 0.2
             }
            },
            "type": "barpolar"
           }
          ],
          "carpet": [
           {
            "aaxis": {
             "endlinecolor": "#2a3f5f",
             "gridcolor": "white",
             "linecolor": "white",
             "minorgridcolor": "white",
             "startlinecolor": "#2a3f5f"
            },
            "baxis": {
             "endlinecolor": "#2a3f5f",
             "gridcolor": "white",
             "linecolor": "white",
             "minorgridcolor": "white",
             "startlinecolor": "#2a3f5f"
            },
            "type": "carpet"
           }
          ],
          "choropleth": [
           {
            "colorbar": {
             "outlinewidth": 0,
             "ticks": ""
            },
            "type": "choropleth"
           }
          ],
          "contour": [
           {
            "colorbar": {
             "outlinewidth": 0,
             "ticks": ""
            },
            "colorscale": [
             [
              0,
              "#0d0887"
             ],
             [
              0.1111111111111111,
              "#46039f"
             ],
             [
              0.2222222222222222,
              "#7201a8"
             ],
             [
              0.3333333333333333,
              "#9c179e"
             ],
             [
              0.4444444444444444,
              "#bd3786"
             ],
             [
              0.5555555555555556,
              "#d8576b"
             ],
             [
              0.6666666666666666,
              "#ed7953"
             ],
             [
              0.7777777777777778,
              "#fb9f3a"
             ],
             [
              0.8888888888888888,
              "#fdca26"
             ],
             [
              1,
              "#f0f921"
             ]
            ],
            "type": "contour"
           }
          ],
          "contourcarpet": [
           {
            "colorbar": {
             "outlinewidth": 0,
             "ticks": ""
            },
            "type": "contourcarpet"
           }
          ],
          "heatmap": [
           {
            "colorbar": {
             "outlinewidth": 0,
             "ticks": ""
            },
            "colorscale": [
             [
              0,
              "#0d0887"
             ],
             [
              0.1111111111111111,
              "#46039f"
             ],
             [
              0.2222222222222222,
              "#7201a8"
             ],
             [
              0.3333333333333333,
              "#9c179e"
             ],
             [
              0.4444444444444444,
              "#bd3786"
             ],
             [
              0.5555555555555556,
              "#d8576b"
             ],
             [
              0.6666666666666666,
              "#ed7953"
             ],
             [
              0.7777777777777778,
              "#fb9f3a"
             ],
             [
              0.8888888888888888,
              "#fdca26"
             ],
             [
              1,
              "#f0f921"
             ]
            ],
            "type": "heatmap"
           }
          ],
          "heatmapgl": [
           {
            "colorbar": {
             "outlinewidth": 0,
             "ticks": ""
            },
            "colorscale": [
             [
              0,
              "#0d0887"
             ],
             [
              0.1111111111111111,
              "#46039f"
             ],
             [
              0.2222222222222222,
              "#7201a8"
             ],
             [
              0.3333333333333333,
              "#9c179e"
             ],
             [
              0.4444444444444444,
              "#bd3786"
             ],
             [
              0.5555555555555556,
              "#d8576b"
             ],
             [
              0.6666666666666666,
              "#ed7953"
             ],
             [
              0.7777777777777778,
              "#fb9f3a"
             ],
             [
              0.8888888888888888,
              "#fdca26"
             ],
             [
              1,
              "#f0f921"
             ]
            ],
            "type": "heatmapgl"
           }
          ],
          "histogram": [
           {
            "marker": {
             "pattern": {
              "fillmode": "overlay",
              "size": 10,
              "solidity": 0.2
             }
            },
            "type": "histogram"
           }
          ],
          "histogram2d": [
           {
            "colorbar": {
             "outlinewidth": 0,
             "ticks": ""
            },
            "colorscale": [
             [
              0,
              "#0d0887"
             ],
             [
              0.1111111111111111,
              "#46039f"
             ],
             [
              0.2222222222222222,
              "#7201a8"
             ],
             [
              0.3333333333333333,
              "#9c179e"
             ],
             [
              0.4444444444444444,
              "#bd3786"
             ],
             [
              0.5555555555555556,
              "#d8576b"
             ],
             [
              0.6666666666666666,
              "#ed7953"
             ],
             [
              0.7777777777777778,
              "#fb9f3a"
             ],
             [
              0.8888888888888888,
              "#fdca26"
             ],
             [
              1,
              "#f0f921"
             ]
            ],
            "type": "histogram2d"
           }
          ],
          "histogram2dcontour": [
           {
            "colorbar": {
             "outlinewidth": 0,
             "ticks": ""
            },
            "colorscale": [
             [
              0,
              "#0d0887"
             ],
             [
              0.1111111111111111,
              "#46039f"
             ],
             [
              0.2222222222222222,
              "#7201a8"
             ],
             [
              0.3333333333333333,
              "#9c179e"
             ],
             [
              0.4444444444444444,
              "#bd3786"
             ],
             [
              0.5555555555555556,
              "#d8576b"
             ],
             [
              0.6666666666666666,
              "#ed7953"
             ],
             [
              0.7777777777777778,
              "#fb9f3a"
             ],
             [
              0.8888888888888888,
              "#fdca26"
             ],
             [
              1,
              "#f0f921"
             ]
            ],
            "type": "histogram2dcontour"
           }
          ],
          "mesh3d": [
           {
            "colorbar": {
             "outlinewidth": 0,
             "ticks": ""
            },
            "type": "mesh3d"
           }
          ],
          "parcoords": [
           {
            "line": {
             "colorbar": {
              "outlinewidth": 0,
              "ticks": ""
             }
            },
            "type": "parcoords"
           }
          ],
          "pie": [
           {
            "automargin": true,
            "type": "pie"
           }
          ],
          "scatter": [
           {
            "fillpattern": {
             "fillmode": "overlay",
             "size": 10,
             "solidity": 0.2
            },
            "type": "scatter"
           }
          ],
          "scatter3d": [
           {
            "line": {
             "colorbar": {
              "outlinewidth": 0,
              "ticks": ""
             }
            },
            "marker": {
             "colorbar": {
              "outlinewidth": 0,
              "ticks": ""
             }
            },
            "type": "scatter3d"
           }
          ],
          "scattercarpet": [
           {
            "marker": {
             "colorbar": {
              "outlinewidth": 0,
              "ticks": ""
             }
            },
            "type": "scattercarpet"
           }
          ],
          "scattergeo": [
           {
            "marker": {
             "colorbar": {
              "outlinewidth": 0,
              "ticks": ""
             }
            },
            "type": "scattergeo"
           }
          ],
          "scattergl": [
           {
            "marker": {
             "colorbar": {
              "outlinewidth": 0,
              "ticks": ""
             }
            },
            "type": "scattergl"
           }
          ],
          "scattermapbox": [
           {
            "marker": {
             "colorbar": {
              "outlinewidth": 0,
              "ticks": ""
             }
            },
            "type": "scattermapbox"
           }
          ],
          "scatterpolar": [
           {
            "marker": {
             "colorbar": {
              "outlinewidth": 0,
              "ticks": ""
             }
            },
            "type": "scatterpolar"
           }
          ],
          "scatterpolargl": [
           {
            "marker": {
             "colorbar": {
              "outlinewidth": 0,
              "ticks": ""
             }
            },
            "type": "scatterpolargl"
           }
          ],
          "scatterternary": [
           {
            "marker": {
             "colorbar": {
              "outlinewidth": 0,
              "ticks": ""
             }
            },
            "type": "scatterternary"
           }
          ],
          "surface": [
           {
            "colorbar": {
             "outlinewidth": 0,
             "ticks": ""
            },
            "colorscale": [
             [
              0,
              "#0d0887"
             ],
             [
              0.1111111111111111,
              "#46039f"
             ],
             [
              0.2222222222222222,
              "#7201a8"
             ],
             [
              0.3333333333333333,
              "#9c179e"
             ],
             [
              0.4444444444444444,
              "#bd3786"
             ],
             [
              0.5555555555555556,
              "#d8576b"
             ],
             [
              0.6666666666666666,
              "#ed7953"
             ],
             [
              0.7777777777777778,
              "#fb9f3a"
             ],
             [
              0.8888888888888888,
              "#fdca26"
             ],
             [
              1,
              "#f0f921"
             ]
            ],
            "type": "surface"
           }
          ],
          "table": [
           {
            "cells": {
             "fill": {
              "color": "#EBF0F8"
             },
             "line": {
              "color": "white"
             }
            },
            "header": {
             "fill": {
              "color": "#C8D4E3"
             },
             "line": {
              "color": "white"
             }
            },
            "type": "table"
           }
          ]
         },
         "layout": {
          "annotationdefaults": {
           "arrowcolor": "#2a3f5f",
           "arrowhead": 0,
           "arrowwidth": 1
          },
          "autotypenumbers": "strict",
          "coloraxis": {
           "colorbar": {
            "outlinewidth": 0,
            "ticks": ""
           }
          },
          "colorscale": {
           "diverging": [
            [
             0,
             "#8e0152"
            ],
            [
             0.1,
             "#c51b7d"
            ],
            [
             0.2,
             "#de77ae"
            ],
            [
             0.3,
             "#f1b6da"
            ],
            [
             0.4,
             "#fde0ef"
            ],
            [
             0.5,
             "#f7f7f7"
            ],
            [
             0.6,
             "#e6f5d0"
            ],
            [
             0.7,
             "#b8e186"
            ],
            [
             0.8,
             "#7fbc41"
            ],
            [
             0.9,
             "#4d9221"
            ],
            [
             1,
             "#276419"
            ]
           ],
           "sequential": [
            [
             0,
             "#0d0887"
            ],
            [
             0.1111111111111111,
             "#46039f"
            ],
            [
             0.2222222222222222,
             "#7201a8"
            ],
            [
             0.3333333333333333,
             "#9c179e"
            ],
            [
             0.4444444444444444,
             "#bd3786"
            ],
            [
             0.5555555555555556,
             "#d8576b"
            ],
            [
             0.6666666666666666,
             "#ed7953"
            ],
            [
             0.7777777777777778,
             "#fb9f3a"
            ],
            [
             0.8888888888888888,
             "#fdca26"
            ],
            [
             1,
             "#f0f921"
            ]
           ],
           "sequentialminus": [
            [
             0,
             "#0d0887"
            ],
            [
             0.1111111111111111,
             "#46039f"
            ],
            [
             0.2222222222222222,
             "#7201a8"
            ],
            [
             0.3333333333333333,
             "#9c179e"
            ],
            [
             0.4444444444444444,
             "#bd3786"
            ],
            [
             0.5555555555555556,
             "#d8576b"
            ],
            [
             0.6666666666666666,
             "#ed7953"
            ],
            [
             0.7777777777777778,
             "#fb9f3a"
            ],
            [
             0.8888888888888888,
             "#fdca26"
            ],
            [
             1,
             "#f0f921"
            ]
           ]
          },
          "colorway": [
           "#636efa",
           "#EF553B",
           "#00cc96",
           "#ab63fa",
           "#FFA15A",
           "#19d3f3",
           "#FF6692",
           "#B6E880",
           "#FF97FF",
           "#FECB52"
          ],
          "font": {
           "color": "#2a3f5f"
          },
          "geo": {
           "bgcolor": "white",
           "lakecolor": "white",
           "landcolor": "#E5ECF6",
           "showlakes": true,
           "showland": true,
           "subunitcolor": "white"
          },
          "hoverlabel": {
           "align": "left"
          },
          "hovermode": "closest",
          "mapbox": {
           "style": "light"
          },
          "paper_bgcolor": "white",
          "plot_bgcolor": "#E5ECF6",
          "polar": {
           "angularaxis": {
            "gridcolor": "white",
            "linecolor": "white",
            "ticks": ""
           },
           "bgcolor": "#E5ECF6",
           "radialaxis": {
            "gridcolor": "white",
            "linecolor": "white",
            "ticks": ""
           }
          },
          "scene": {
           "xaxis": {
            "backgroundcolor": "#E5ECF6",
            "gridcolor": "white",
            "gridwidth": 2,
            "linecolor": "white",
            "showbackground": true,
            "ticks": "",
            "zerolinecolor": "white"
           },
           "yaxis": {
            "backgroundcolor": "#E5ECF6",
            "gridcolor": "white",
            "gridwidth": 2,
            "linecolor": "white",
            "showbackground": true,
            "ticks": "",
            "zerolinecolor": "white"
           },
           "zaxis": {
            "backgroundcolor": "#E5ECF6",
            "gridcolor": "white",
            "gridwidth": 2,
            "linecolor": "white",
            "showbackground": true,
            "ticks": "",
            "zerolinecolor": "white"
           }
          },
          "shapedefaults": {
           "line": {
            "color": "#2a3f5f"
           }
          },
          "ternary": {
           "aaxis": {
            "gridcolor": "white",
            "linecolor": "white",
            "ticks": ""
           },
           "baxis": {
            "gridcolor": "white",
            "linecolor": "white",
            "ticks": ""
           },
           "bgcolor": "#E5ECF6",
           "caxis": {
            "gridcolor": "white",
            "linecolor": "white",
            "ticks": ""
           }
          },
          "title": {
           "x": 0.05
          },
          "xaxis": {
           "automargin": true,
           "gridcolor": "white",
           "linecolor": "white",
           "ticks": "",
           "title": {
            "standoff": 15
           },
           "zerolinecolor": "white",
           "zerolinewidth": 2
          },
          "yaxis": {
           "automargin": true,
           "gridcolor": "white",
           "linecolor": "white",
           "ticks": "",
           "title": {
            "standoff": 15
           },
           "zerolinecolor": "white",
           "zerolinewidth": 2
          }
         }
        },
        "title": {
         "text": "SCF: High Variance Features"
        },
        "xaxis": {
         "anchor": "y",
         "domain": [
          0,
          1
         ],
         "title": {
          "text": "Variance"
         }
        },
        "yaxis": {
         "anchor": "x",
         "domain": [
          0,
          1
         ],
         "title": {
          "text": "Feature"
         }
        }
       }
      }
     },
     "metadata": {},
     "output_type": "display_data"
    }
   ],
   "source": [
    "# Create horizontal bar chart of `top_ten_var`\n",
    "fig = px.bar(\n",
    "    x=top_ten_var,\n",
    "    y=top_ten_var.index,\n",
    "    title=\"SCF: High Variance Features\"\n",
    ")\n",
    "fig.update_layout(xaxis_title=\"Variance\",yaxis_title=\"Feature\")\n",
    "\n",
    "fig.show();"
   ]
  },
  {
   "cell_type": "markdown",
   "metadata": {},
   "source": [
    "- A peculiar observation from previous project is that many of the wealth indicators are highly skewed, with a few outlier households having enormous wealth. Those outliers can affect our measure of variance. Let's see if that's the case with one of the features from top_five_var."
   ]
  },
  {
   "cell_type": "markdown",
   "metadata": {},
   "source": [
    "Plot Distribution of NHNFIN - Non-Home Non-Financial Assets"
   ]
  },
  {
   "cell_type": "code",
   "execution_count": 14,
   "metadata": {},
   "outputs": [
    {
     "data": {
      "application/vnd.plotly.v1+json": {
       "config": {
        "plotlyServerURL": "https://plot.ly"
       },
       "data": [
        {
         "alignmentgroup": "True",
         "hovertemplate": "NHNFIN=%{x}<extra></extra>",
         "legendgroup": "",
         "marker": {
          "color": "#636efa"
         },
         "name": "",
         "notched": false,
         "offsetgroup": "",
         "orientation": "h",
         "showlegend": false,
         "type": "box",
         "x": [
          3900,
          6300,
          5600,
          10000,
          8100,
          7000,
          5500,
          2700,
          3900,
          4800,
          53000,
          51900,
          52000,
          51900,
          52000,
          9800,
          9800,
          8600,
          6800,
          11400,
          27500,
          27500,
          27500,
          27500,
          26500,
          23000,
          23000,
          23000,
          23000,
          22000,
          90500,
          88600,
          94400,
          92500,
          90600,
          20000,
          20000,
          19000,
          19000,
          20000,
          3600,
          3600,
          3600,
          3600,
          3600,
          21100,
          20200,
          21100,
          20200,
          21200,
          38600,
          37600,
          37600,
          37600,
          38700,
          34200,
          33200,
          34200,
          35200,
          34200,
          181500,
          181500,
          181500,
          181600,
          181500,
          24500,
          24500,
          24500,
          24500,
          24500,
          15810,
          16350,
          15250,
          15750,
          16400,
          3800,
          3700,
          3700,
          3700,
          3700,
          23000,
          23000,
          22000,
          23000,
          23000,
          5600,
          5600,
          5600,
          5700,
          5600,
          7100,
          5500,
          8300,
          9900,
          7800,
          5400,
          5400,
          5400,
          5400,
          5400,
          0,
          0,
          0,
          0,
          0,
          4600,
          4600,
          4600,
          4600,
          4600,
          4400,
          8600,
          9200,
          7200,
          5600,
          52300,
          28700,
          28700,
          48300,
          41000,
          3700,
          3700,
          3700,
          3700,
          3800,
          42900,
          42900,
          42900,
          42900,
          43900,
          0,
          0,
          0,
          0,
          0,
          102000,
          0,
          113000,
          33000,
          29900,
          7900,
          8000,
          7900,
          7900,
          8000,
          5800,
          5800,
          5800,
          5900,
          5900,
          8100,
          8200,
          8100,
          8200,
          8200,
          0,
          0,
          0,
          0,
          0,
          2800,
          2800,
          2800,
          2800,
          2800,
          0,
          0,
          0,
          0,
          0,
          12000,
          12000,
          11000,
          12000,
          12000,
          5200,
          4100,
          3200,
          4100,
          6700,
          10400,
          10400,
          10400,
          10400,
          10300,
          0,
          0,
          0,
          0,
          0,
          70000,
          69000,
          69000,
          70000,
          70000,
          0,
          0,
          0,
          0,
          0,
          29100,
          30000,
          28000,
          29100,
          30100,
          13000,
          16000,
          15000,
          13000,
          15000,
          19000,
          19000,
          20000,
          20000,
          19000,
          30000,
          30000,
          30000,
          30000,
          30000,
          29000,
          28000,
          28000,
          28000,
          28000,
          64200,
          64200,
          64200,
          63200,
          64200,
          0,
          0,
          0,
          0,
          0,
          6100,
          6200,
          6200,
          6100,
          6200,
          339641,
          339641,
          339641,
          339641,
          340641,
          27200,
          27100,
          28100,
          28100,
          27100,
          14100,
          14000,
          14100,
          14000,
          14000,
          0,
          0,
          0,
          0,
          0,
          22800,
          42000,
          25200,
          28000,
          28600,
          19200,
          18100,
          19100,
          18100,
          19200,
          5900,
          5900,
          5900,
          5900,
          5900,
          6000,
          6100,
          6100,
          6100,
          6100,
          435400,
          439500,
          441300,
          440500,
          433500,
          15800,
          14800,
          15800,
          15700,
          15800,
          32000,
          32000,
          32000,
          32000,
          33000,
          3900,
          3900,
          3900,
          3900,
          3900,
          6900,
          6900,
          6900,
          6900,
          6900,
          43000,
          43000,
          43000,
          43000,
          44000,
          2900,
          2900,
          3000,
          3000,
          3000,
          0,
          0,
          0,
          0,
          0,
          0,
          0,
          0,
          0,
          0,
          287200,
          287200,
          287200,
          287200,
          287200,
          39500,
          46400,
          38500,
          35500,
          39400,
          111000,
          111000,
          100000,
          120000,
          135000,
          0,
          0,
          0,
          0,
          0,
          3700,
          2700,
          3600,
          3200,
          6200,
          3900,
          3900,
          3900,
          3900,
          3900,
          6900,
          7000,
          7000,
          6900,
          7000,
          6600,
          2600,
          2600,
          4700,
          6800,
          11900,
          11800,
          11900,
          11900,
          11800,
          9900,
          9900,
          9900,
          9900,
          9900,
          3600,
          3600,
          3600,
          3600,
          3600,
          308000,
          308000,
          308000,
          308000,
          309000,
          16700,
          16700,
          16700,
          16700,
          16600,
          0,
          0,
          0,
          0,
          0,
          7000,
          7000,
          7000,
          6800,
          6900,
          0,
          0,
          0,
          0,
          0,
          9700,
          9700,
          9700,
          9700,
          9700,
          13500,
          8300,
          12700,
          11800,
          8500,
          12000,
          12000,
          12000,
          12000,
          12000,
          0,
          0,
          0,
          0,
          0,
          2900,
          4000,
          4500,
          2500,
          3200,
          4700,
          4700,
          4700,
          4800,
          4800,
          6400,
          6400,
          6400,
          6400,
          6400,
          73000,
          6900,
          13000,
          13000,
          27000,
          2500,
          2500,
          2500,
          2700,
          2600,
          23000,
          23000,
          23000,
          22000,
          22000,
          15000,
          14000,
          14000,
          14000,
          14000,
          231000,
          230100,
          230000,
          230000,
          230000,
          57730,
          61700,
          60600,
          58520,
          72700,
          10000,
          11000,
          11000,
          11000,
          11000,
          23100,
          23000,
          23000,
          23200,
          23100,
          24400,
          30000,
          26000,
          19100,
          22300,
          25900,
          24900,
          24900,
          24800,
          25900,
          8300,
          8200,
          8300,
          8200,
          8200,
          31200,
          31200,
          32100,
          31200,
          31100,
          16000,
          8500,
          28000,
          13000,
          7100,
          3000,
          3300,
          2900,
          7400,
          3600,
          5800,
          5900,
          5800,
          5800,
          5800,
          0,
          0,
          0,
          0,
          0,
          11200,
          11300,
          11200,
          11300,
          11300,
          0,
          0,
          0,
          0,
          0,
          0,
          0,
          0,
          0,
          0,
          0,
          0,
          0,
          0,
          0,
          4900,
          4800,
          4900,
          4800,
          4800,
          70000,
          63000,
          46900,
          60000,
          51000,
          13400,
          11300,
          15200,
          8600,
          9100,
          3600,
          3600,
          3600,
          3600,
          3700,
          0,
          0,
          0,
          0,
          0,
          3900,
          3900,
          3900,
          3900,
          3900,
          8500,
          8500,
          8500,
          8500,
          8500,
          3200,
          3200,
          3200,
          3200,
          3200,
          10000,
          9900,
          9900,
          9900,
          9900,
          4700,
          4600,
          4600,
          4700,
          4700,
          45000,
          45000,
          45000,
          46000,
          46000,
          9700,
          9700,
          9700,
          9700,
          9700,
          6300,
          6300,
          6300,
          6300,
          6300,
          2700,
          2700,
          2700,
          2700,
          2700,
          12400,
          9900,
          7200,
          6400,
          6300,
          0,
          0,
          0,
          0,
          0,
          31800,
          28900,
          16800,
          164900,
          59900,
          11900,
          11700,
          11300,
          10800,
          12900,
          121900,
          121900,
          120900,
          121800,
          120800,
          26000,
          26000,
          26000,
          26000,
          26000,
          15000,
          15000,
          15000,
          15000,
          15000,
          59100,
          59100,
          59100,
          59100,
          59100,
          32200,
          33200,
          33200,
          33200,
          33100,
          3100,
          3100,
          3100,
          3100,
          3100,
          84000,
          84000,
          85000,
          84000,
          84000,
          16000,
          16000,
          16000,
          16000,
          16000,
          24850,
          27650,
          25850,
          30650,
          29450,
          646000,
          520000,
          521000,
          521000,
          538000,
          433100,
          436200,
          500400,
          510100,
          443200,
          47000,
          48000,
          47000,
          47000,
          47000,
          0,
          0,
          0,
          0,
          0,
          307300,
          313300,
          291300,
          309300,
          293400,
          15000,
          14000,
          14000,
          14000,
          14000,
          12500,
          12400,
          12400,
          12600,
          12600,
          14000,
          14000,
          14000,
          14000,
          14000,
          0,
          0,
          0,
          0,
          0,
          1000,
          1000,
          1000,
          1000,
          1000,
          2700,
          5600,
          4000,
          2900,
          4000,
          8100,
          5700,
          7800,
          5400,
          6400,
          19000,
          19000,
          19000,
          19000,
          19000,
          747000,
          747000,
          747000,
          747000,
          747000,
          13300,
          18200,
          12500,
          17600,
          12300,
          14800,
          14800,
          14800,
          14800,
          14800,
          12750,
          13650,
          22950,
          19050,
          16350,
          0,
          0,
          0,
          0,
          0,
          11300,
          11300,
          11300,
          11200,
          11200,
          12100,
          7020,
          6920,
          10400,
          6930,
          41000,
          42000,
          41000,
          41000,
          41000,
          8700,
          8600,
          8700,
          8700,
          8600,
          3600,
          3600,
          3500,
          3500,
          3600,
          3000,
          3100,
          3100,
          3100,
          3600,
          20700,
          21700,
          20600,
          20700,
          20700,
          61300,
          65400,
          66400,
          65300,
          57300,
          103100,
          105600,
          103500,
          105600,
          104100,
          133000,
          103700,
          117700,
          111600,
          158300,
          19000,
          19000,
          19000,
          19000,
          19000,
          0,
          0,
          0,
          0,
          0,
          5000,
          6200,
          4900,
          6500,
          8100,
          0,
          0,
          0,
          0,
          0,
          18400,
          18900,
          20100,
          20400,
          20300,
          11000,
          10000,
          10000,
          11000,
          10000,
          197600,
          197600,
          197600,
          197600,
          198600,
          6200,
          6100,
          6100,
          6100,
          6200,
          0,
          0,
          0,
          0,
          0,
          5000,
          5000,
          5000,
          5000,
          5000,
          0,
          0,
          0,
          0,
          0,
          22300,
          23200,
          23200,
          22200,
          23200,
          4100,
          4100,
          4100,
          4100,
          4100,
          3900,
          3900,
          4000,
          3900,
          4000,
          800000,
          800000,
          800000,
          800000,
          800000,
          22800,
          22900,
          23800,
          23800,
          22900,
          0,
          0,
          0,
          0,
          0,
          6700,
          6600,
          6600,
          6700,
          6600,
          694900,
          564800,
          614700,
          389900,
          554800,
          19700,
          20700,
          20700,
          19700,
          19700,
          0,
          0,
          0,
          0,
          0,
          45500,
          45500,
          45500,
          45500,
          45500,
          3700,
          3700,
          5400,
          4500,
          3700,
          33080,
          58300,
          61400,
          33080,
          60300,
          4800,
          4800,
          4800,
          4800,
          4800,
          0,
          0,
          0,
          0,
          0,
          191000,
          192000,
          192000,
          191000,
          191000,
          51400,
          53100,
          53000,
          52600,
          53700,
          0,
          0,
          0,
          0,
          0,
          142100,
          129500,
          117000,
          123900,
          137500,
          16400,
          16400,
          16400,
          16400,
          16400,
          16000,
          17000,
          16000,
          16000,
          17000,
          10000,
          11000,
          10000,
          11000,
          11000,
          7000,
          7000,
          7000,
          7000,
          7000,
          29500,
          28500,
          29600,
          28500,
          29500,
          44000,
          44000,
          44000,
          44000,
          44000,
          67900,
          68000,
          67900,
          67900,
          68900,
          14800,
          14900,
          14900,
          15800,
          15900,
          400,
          400,
          400,
          400,
          400,
          26600,
          23500,
          29200,
          25800,
          18880,
          69000,
          51400,
          58100,
          66000,
          68000,
          14800,
          14800,
          14800,
          14800,
          14800,
          15000,
          15000,
          15000,
          15000,
          14000,
          22600,
          22600,
          22600,
          22600,
          22600,
          14000,
          14000,
          14000,
          14000,
          14000,
          338900,
          342800,
          346900,
          335700,
          346700,
          2800,
          2800,
          2800,
          2800,
          2800,
          3100,
          3100,
          3200,
          3100,
          3100,
          18000,
          19000,
          19000,
          19000,
          19000,
          29000,
          18850,
          22300,
          24000,
          19620,
          24700,
          24700,
          24700,
          25800,
          25800,
          89200,
          89100,
          89200,
          89200,
          89100,
          6100,
          6100,
          6100,
          6100,
          6100,
          14500,
          14500,
          14500,
          14500,
          14500,
          7000,
          7000,
          7000,
          7000,
          7000,
          0,
          0,
          0,
          0,
          0,
          61500,
          61500,
          60500,
          60500,
          60500,
          8100,
          8200,
          8100,
          8100,
          8100,
          12800,
          11730,
          14800,
          14300,
          16400,
          5800,
          5800,
          5900,
          5800,
          5800,
          33000,
          34900,
          34000,
          44900,
          25100,
          4300,
          4300,
          4300,
          4300,
          4300,
          23000,
          24000,
          23000,
          24000,
          24000,
          9500,
          9500,
          9400,
          9500,
          9400,
          39000,
          39000,
          40000,
          38000,
          39000,
          4800,
          4800,
          4800,
          4800,
          4700,
          68100,
          68100,
          69100,
          68100,
          69000,
          21500,
          20500,
          20600,
          21500,
          21600,
          44800,
          43800,
          43800,
          45000,
          43400,
          19700,
          18700,
          18600,
          19700,
          19600,
          0,
          0,
          0,
          0,
          0,
          255000,
          255000,
          255000,
          255000,
          255000,
          6200,
          6000,
          6200,
          6100,
          6100,
          0,
          0,
          0,
          0,
          0,
          3400,
          3300,
          3400,
          3400,
          3400,
          173400,
          173300,
          173400,
          173400,
          173400,
          16000,
          17000,
          16000,
          16000,
          17000,
          8000,
          4800,
          9400,
          6900,
          6600,
          2600,
          2600,
          2700,
          2600,
          2600,
          2400,
          2400,
          2400,
          2400,
          2500,
          8300,
          8300,
          8200,
          8200,
          8200,
          17800,
          17900,
          17800,
          17800,
          17900,
          254300,
          255200,
          255300,
          255300,
          254300,
          255600,
          257500,
          256600,
          255600,
          256500,
          157400,
          163600,
          169300,
          164500,
          168300,
          70900,
          70900,
          71000,
          70900,
          70900,
          0,
          0,
          0,
          0,
          0,
          11800,
          11900,
          11900,
          11900,
          11800,
          0,
          0,
          0,
          0,
          0,
          0,
          0,
          0,
          0,
          0,
          6400,
          8000,
          9400,
          6600,
          6900,
          7300,
          7300,
          7400,
          7300,
          7400,
          13500,
          17800,
          19400,
          16600,
          15800,
          5100,
          5100,
          5100,
          5200,
          5100,
          0,
          0,
          0,
          0,
          0,
          50000,
          50000,
          50000,
          50000,
          50000,
          12600,
          31000,
          14800,
          36000,
          31000,
          31200,
          32200,
          32100,
          32100,
          31100,
          0,
          0,
          0,
          0,
          0,
          2200,
          2200,
          2300,
          2300,
          2300,
          0,
          0,
          0,
          0,
          0,
          0,
          0,
          0,
          0,
          0,
          0,
          0,
          0,
          0,
          0,
          0,
          0,
          0,
          0,
          0,
          0,
          10100,
          10000,
          10100,
          10000,
          10000,
          3800,
          3800,
          3800,
          3800,
          3800,
          10000,
          10000,
          10000,
          10000,
          10000,
          0,
          0,
          0,
          0,
          0,
          10000,
          10000,
          10000,
          10000,
          10000,
          242300,
          241300,
          164300,
          161300,
          242300,
          0,
          0,
          0,
          0,
          0,
          61000,
          60000,
          60000,
          61000,
          60000,
          2200,
          2300,
          2200,
          2200,
          2200,
          13000,
          13000,
          13000,
          13000,
          13000,
          6400,
          6400,
          6400,
          6400,
          6400,
          29700,
          29800,
          29700,
          29700,
          28800,
          6100,
          6100,
          6100,
          6100,
          6100,
          0,
          0,
          0,
          0,
          0,
          1712700,
          1382700,
          1222600,
          0,
          0,
          0,
          0,
          0,
          403900,
          382300,
          408100,
          366400,
          350800,
          24000,
          25000,
          24000,
          24000,
          25000,
          0,
          0,
          0,
          0,
          0,
          25000,
          25000,
          25000,
          25000,
          26000,
          15900,
          15900,
          15800,
          15900,
          15900,
          0,
          0,
          0,
          0,
          0,
          134000,
          134000,
          124000,
          126000,
          119000,
          21800,
          20900,
          20900,
          20800,
          20800,
          27200,
          27300,
          27200,
          27200,
          27200,
          3500,
          5200,
          7500,
          6000,
          8200,
          1500,
          1600,
          1500,
          1600,
          1600,
          14200,
          14200,
          14200,
          14300,
          14200,
          5100,
          5100,
          5100,
          5000,
          5100,
          13000,
          13000,
          13000,
          13000,
          13000,
          18000,
          18000,
          18000,
          18000,
          18000,
          0,
          0,
          0,
          0,
          0,
          7400,
          6500,
          6300,
          4400,
          8500,
          19900,
          19900,
          21000,
          19900,
          19900,
          8000,
          8000,
          7900,
          8000,
          7900,
          0,
          0,
          0,
          0,
          0,
          0,
          0,
          0,
          0,
          0,
          24600,
          24600,
          24700,
          23700,
          24600,
          10000,
          10000,
          10000,
          10000,
          10000,
          0,
          0,
          0,
          0,
          0,
          8600,
          8600,
          8600,
          8600,
          8600,
          32800,
          27700,
          32500,
          31200,
          29200,
          0,
          0,
          0,
          0,
          0,
          12000,
          12000,
          12000,
          12000,
          12000,
          3800,
          3800,
          3900,
          3900,
          3800,
          3900,
          4000,
          3900,
          4000,
          3900,
          15900,
          12200,
          19100,
          16900,
          12900,
          0,
          0,
          0,
          0,
          0,
          17000,
          16000,
          16000,
          16000,
          16000,
          0,
          0,
          0,
          0,
          0,
          0,
          0,
          0,
          0,
          0,
          2700,
          2600,
          2600,
          2700,
          2600,
          3900,
          3900,
          3900,
          3900,
          3900,
          0,
          0,
          0,
          0,
          0,
          3600,
          3600,
          3600,
          3600,
          3600,
          7400,
          7400,
          7500,
          7400,
          7400,
          46400,
          47500,
          45500,
          47400,
          46500,
          2500,
          2500,
          2500,
          2500,
          2500,
          9200,
          9200,
          9100,
          9200,
          9100,
          8200,
          7000,
          10200,
          10600,
          10600,
          4600,
          4700,
          4600,
          4700,
          4600,
          32300,
          33200,
          32300,
          33300,
          33300,
          3400,
          2400,
          3300,
          4700,
          4700,
          1566000,
          1567000,
          1567000,
          1567000,
          1567000,
          0,
          0,
          0,
          0,
          0,
          16000,
          16100,
          16000,
          16000,
          16000,
          0,
          0,
          0,
          0,
          0,
          0,
          0,
          0,
          0,
          0,
          69000,
          69000,
          66000,
          66000,
          67000,
          26000,
          25000,
          26000,
          26000,
          26000,
          36000,
          34900,
          35000,
          35000,
          36000,
          3000,
          3000,
          3000,
          3000,
          3000,
          7000,
          7000,
          7000,
          7000,
          7000,
          1800,
          1800,
          1900,
          1800,
          1800,
          0,
          0,
          0,
          0,
          0,
          14900,
          11100,
          7700,
          11700,
          12700,
          0,
          0,
          0,
          0,
          0,
          4800,
          4900,
          4900,
          4800,
          4900,
          114000,
          104480,
          103380,
          111700,
          114000,
          11000,
          12000,
          12000,
          12000,
          12000,
          35400,
          22600,
          39500,
          34300,
          21600,
          94000,
          95000,
          94000,
          95000,
          95000,
          19500,
          19500,
          20500,
          20500,
          20500,
          7300,
          7300,
          7300,
          7300,
          7300,
          0,
          0,
          0,
          0,
          0,
          4400,
          4400,
          4400,
          4400,
          4400,
          13000,
          13000,
          13000,
          13000,
          13000,
          17400,
          17400,
          16400,
          16400,
          16400,
          5000,
          5300,
          4500,
          4500,
          4500,
          13000,
          13000,
          13000,
          13000,
          12000,
          6700,
          9900,
          11800,
          8500,
          5200,
          7800,
          7800,
          7900,
          7900,
          7900,
          10000,
          7600,
          6500,
          8300,
          6700,
          2800,
          2700,
          2700,
          2800,
          2800,
          0,
          0,
          0,
          0,
          0,
          190700,
          204700,
          147700,
          146700,
          147700,
          8400,
          6800,
          7800,
          6700,
          5200,
          41100,
          41200,
          41200,
          41100,
          40100,
          2000,
          2000,
          2000,
          2000,
          2000,
          0,
          0,
          0,
          0,
          0,
          7400,
          10400,
          9300,
          10000,
          12400,
          23000,
          22000,
          22000,
          23000,
          22000,
          62000,
          56100,
          56800,
          52500,
          50900,
          12000,
          12000,
          12000,
          12000,
          12000,
          4000,
          4000,
          4000,
          3900,
          3900,
          0,
          0,
          0,
          0,
          0,
          0,
          0,
          0,
          0,
          0,
          7900,
          0,
          0,
          0,
          0,
          0,
          36770,
          37400,
          37170,
          37500,
          37700,
          3500,
          3500,
          3500,
          3500,
          3500,
          21900,
          22000,
          22100,
          22900,
          22900,
          0,
          0,
          0,
          0,
          0,
          5000,
          5000,
          5000,
          4900,
          4900,
          195000,
          120100,
          126100,
          195200,
          156100,
          65400,
          59400,
          51400,
          54500,
          53500,
          51000,
          51000,
          51000,
          50000,
          50000,
          7000,
          7000,
          7000,
          7000,
          7000,
          12000,
          12000,
          11000,
          12000,
          12000,
          9070,
          11340,
          11650,
          11640,
          13300,
          0,
          0,
          0,
          0,
          0,
          3400,
          3500,
          3500,
          3400,
          3400,
          16200,
          16200,
          17200,
          17200,
          16200,
          115000,
          114000,
          115000,
          114000,
          115000,
          44400,
          45400,
          44400,
          44400,
          44400,
          4200,
          4200,
          4200,
          4200,
          4200,
          26500,
          26500,
          26500,
          26500,
          26500,
          19800,
          20100,
          16100,
          14160,
          15400,
          25000,
          25000,
          25000,
          25000,
          25000,
          5100,
          5100,
          5100,
          5200,
          5100,
          17700,
          17600,
          17600,
          17600,
          17700,
          2800,
          2800,
          2800,
          2800,
          2900,
          67100,
          66100,
          73500,
          67100,
          67100,
          7300,
          7300,
          7300,
          7400,
          7300,
          10000,
          11000,
          11000,
          11000,
          10000,
          16800,
          16800,
          16800,
          16800,
          16300,
          16200,
          14100,
          13300,
          12300,
          11400,
          4100,
          3900,
          4200,
          3800,
          3800,
          8000,
          7200,
          18100,
          13000,
          6000,
          4400,
          4400,
          4400,
          4500,
          4400,
          10200,
          10100,
          10200,
          10100,
          10200,
          27000,
          28000,
          27000,
          27000,
          27000,
          9500,
          9500,
          9500,
          9500,
          9500,
          11000,
          10000,
          10000,
          11000,
          11000,
          151000,
          15400,
          11100,
          11000,
          10400,
          18400,
          7000,
          7000,
          7000,
          7000,
          7100,
          0,
          0,
          0,
          0,
          0,
          20900,
          19900,
          19900,
          20900,
          20900,
          34300,
          46900,
          38000,
          29600,
          36100,
          5200,
          5200,
          5200,
          5300,
          5200,
          2700,
          2600,
          2700,
          2600,
          2600,
          712800,
          711700,
          712800,
          712700,
          711700,
          0,
          0,
          0,
          0,
          0,
          0,
          0,
          0,
          0,
          0,
          44100,
          44000,
          45100,
          45000,
          44100,
          58700,
          53200,
          62300,
          54230,
          55100,
          0,
          0,
          0,
          0,
          0,
          13000,
          13000,
          13000,
          13000,
          13000,
          11800,
          11700,
          11800,
          11600,
          11700,
          199000,
          199000,
          207000,
          197000,
          200000,
          6200,
          6200,
          6200,
          6300,
          6200,
          13000,
          13000,
          14000,
          13000,
          13000,
          29000,
          26000,
          23000,
          27000,
          19600,
          12800,
          14800,
          11100,
          15200,
          16800,
          14500,
          14500,
          14500,
          14500,
          14500,
          0,
          0,
          0,
          0,
          0,
          18500,
          17500,
          18400,
          17500,
          18400,
          40100,
          42400,
          41100,
          41100,
          42500,
          29000,
          29000,
          29000,
          29000,
          28000,
          4400,
          4400,
          4400,
          4400,
          4400,
          306400,
          304300,
          304400,
          305400,
          304400,
          13000,
          13000,
          13000,
          13000,
          13000,
          13000,
          13000,
          14000,
          14000,
          14000,
          14000,
          14000,
          13000,
          13000,
          14000,
          910000,
          910000,
          910000,
          910000,
          910000,
          0,
          0,
          0,
          0,
          0,
          31000,
          31000,
          33000,
          32000,
          33000,
          12000,
          12000,
          12000,
          12000,
          12000,
          9500,
          7500,
          8600,
          9400,
          8000,
          0,
          0,
          0,
          0,
          0,
          8200,
          8200,
          8200,
          8200,
          8100,
          10400,
          10300,
          10400,
          10300,
          10400,
          0,
          0,
          0,
          0,
          0,
          52000,
          52000,
          60000,
          62000,
          52000,
          10580,
          9100,
          17000,
          13900,
          14200,
          36100,
          36000,
          35000,
          36100,
          36100,
          626000,
          627000,
          627000,
          627000,
          627000,
          4800,
          4800,
          4800,
          4800,
          4800,
          3600,
          3600,
          3700,
          3400,
          3300,
          9800,
          9900,
          9800,
          9800,
          9900,
          6300,
          8400,
          5500,
          7200,
          4700,
          6700,
          6700,
          6700,
          6700,
          6700,
          11000,
          10000,
          11000,
          10000,
          11000,
          30500,
          34500,
          31200,
          30400,
          25100,
          15700,
          16000,
          14900,
          14400,
          15000,
          25000,
          25000,
          24000,
          24000,
          24000,
          31200,
          31200,
          30300,
          31200,
          31200,
          48000,
          47000,
          49000,
          48000,
          49000,
          0,
          0,
          0,
          0,
          0,
          3200,
          4000,
          4800,
          4300,
          5800,
          0,
          0,
          0,
          0,
          0,
          4800,
          4800,
          4800,
          4800,
          4800,
          0,
          0,
          0,
          0,
          0,
          14700,
          15700,
          15700,
          15700,
          14700,
          7300,
          7200,
          7100,
          7100,
          7200,
          5700,
          5800,
          5700,
          5700,
          5700,
          4200,
          4200,
          4200,
          4200,
          4300,
          0,
          331000,
          1480000,
          237000,
          0,
          12500,
          12600,
          12500,
          12600,
          12500,
          26000,
          25900,
          25900,
          26000,
          25900,
          48100,
          48200,
          48200,
          48200,
          48100,
          0,
          0,
          0,
          0,
          0,
          18000,
          18000,
          18000,
          17000,
          18000,
          0,
          0,
          0,
          0,
          0,
          0,
          0,
          0,
          0,
          0,
          15000,
          15000,
          15000,
          16000,
          15000,
          0,
          0,
          0,
          0,
          0,
          5000,
          5100,
          5000,
          5000,
          5100,
          0,
          0,
          0,
          0,
          0,
          25000,
          24900,
          25000,
          25000,
          25000,
          20000,
          20000,
          20000,
          20000,
          20000,
          3500,
          3500,
          3500,
          3500,
          3500,
          16000,
          16100,
          16100,
          16000,
          16000,
          13200,
          13300,
          13200,
          13200,
          13300,
          41000,
          30180,
          31100,
          36000,
          33400,
          14000,
          14000,
          14000,
          13000,
          13000,
          20400,
          15600,
          11200,
          11600,
          11200,
          20000,
          20000,
          20000,
          20000,
          20000,
          12000,
          12000,
          12000,
          12000,
          12000,
          0,
          0,
          0,
          0,
          0,
          3800,
          4900,
          6200,
          3900,
          3000,
          0,
          0,
          0,
          0,
          0,
          0,
          0,
          0,
          0,
          0,
          59500,
          58500,
          58500,
          59500,
          58500,
          0,
          0,
          0,
          0,
          0,
          7900,
          8000,
          7900,
          7900,
          7900,
          16100,
          16200,
          16300,
          16200,
          16200,
          14300,
          14400,
          14400,
          14300,
          14300,
          0,
          0,
          0,
          0,
          0,
          5300,
          5300,
          5300,
          5300,
          5300,
          9800,
          9800,
          9900,
          9900,
          9800,
          5600,
          6900,
          5700,
          9300,
          9600,
          4000,
          4100,
          4000,
          4100,
          4100,
          19000,
          19000,
          19000,
          19000,
          19000,
          12000,
          12000,
          12000,
          11000,
          11000,
          2800,
          2800,
          2800,
          2800,
          2800,
          30900,
          25900,
          22800,
          26900,
          23800,
          18500,
          18500,
          18600,
          18400,
          18600,
          8500,
          8500,
          8500,
          8500,
          8500,
          13500,
          13500,
          13600,
          13500,
          13500,
          36000,
          36000,
          38000,
          38000,
          34000,
          28900,
          28900,
          28800,
          28800,
          28900,
          74000,
          74000,
          74000,
          74000,
          74000,
          3400,
          3300,
          3400,
          3400,
          3400,
          266900,
          257500,
          260000,
          272300,
          272000,
          36000,
          36000,
          36000,
          35000,
          35000,
          2400,
          2500,
          2400,
          2400,
          2400,
          25400,
          24400,
          25400,
          24400,
          25400,
          8000,
          6700,
          7600,
          9100,
          14000,
          6800,
          6800,
          6800,
          6800,
          6800,
          10000,
          10000,
          10000,
          10000,
          10000,
          4200,
          4200,
          4300,
          4200,
          4200,
          15000,
          15000,
          15000,
          15000,
          15000,
          2900,
          2900,
          2800,
          2900,
          2900,
          16000,
          16000,
          17000,
          16000,
          16000,
          6200,
          4400,
          5200,
          3800,
          3000,
          3200,
          3100,
          3200,
          3100,
          3100,
          0,
          0,
          0,
          0,
          0,
          4900,
          4100,
          6300,
          3300,
          4600,
          69200,
          69100,
          69200,
          69200,
          69200,
          4500,
          4400,
          4400,
          4400,
          4400,
          0,
          0,
          0,
          0,
          0,
          133220,
          135600,
          135600,
          132800,
          133600,
          0,
          0,
          0,
          0,
          0,
          12000,
          12000,
          12000,
          12000,
          12000,
          7200,
          7100,
          7200,
          7100,
          7200,
          47000,
          47000,
          47000,
          47000,
          47000,
          1049300,
          1049300,
          1049300,
          1049200,
          1049300,
          1769600,
          8400,
          8400,
          8300,
          8400,
          8400,
          14000,
          15000,
          15000,
          14000,
          14000,
          0,
          0,
          0,
          0,
          0,
          0,
          0,
          0,
          0,
          0,
          47000,
          47000,
          46000,
          45000,
          46000,
          2800,
          2800,
          2900,
          2800,
          2800,
          0,
          0,
          0,
          0,
          0,
          100000,
          100000,
          100000,
          100000,
          100000,
          7800,
          7900,
          7800,
          7900,
          7800,
          65000,
          64000,
          63000,
          64000,
          65000,
          41000,
          42000,
          41000,
          42000,
          43000,
          7100,
          3200,
          7100,
          3600,
          3300,
          17400,
          17300,
          17400,
          17400,
          17300,
          5400,
          5400,
          5400,
          5400,
          5400,
          2400,
          2300,
          2300,
          2400,
          2300,
          147050,
          154050,
          147950,
          147950,
          153950,
          0,
          0,
          0,
          0,
          0,
          6000,
          5900,
          12000,
          11000,
          12000,
          11000,
          11000,
          130100,
          172100,
          110200,
          136200,
          173200,
          5000,
          5100,
          5100,
          5000,
          5000,
          154000,
          154000,
          154000,
          154000,
          154000,
          7400,
          7400,
          7400,
          7400,
          7300,
          14100,
          12200,
          12200,
          16300,
          12200,
          5600,
          5600,
          5600,
          5600,
          5600,
          7200,
          7200,
          7300,
          7200,
          7200,
          5300,
          5300,
          5300,
          5300,
          5300,
          2000,
          2000,
          1900,
          2000,
          2000,
          6100,
          5400,
          4500,
          4500,
          3200,
          14500,
          14500,
          14500,
          14500,
          14600,
          3600,
          3600,
          3600,
          3600,
          3600,
          7100,
          4400,
          7600,
          3900,
          4300,
          11700,
          11800,
          11800,
          11800,
          11800,
          19100,
          18100,
          19200,
          18200,
          19200,
          772000,
          773000,
          772000,
          772000,
          772000,
          0,
          0,
          0,
          0,
          0,
          39700,
          39700,
          40800,
          40800,
          40800,
          7600,
          8900,
          8800,
          9900,
          8200,
          9400,
          9300,
          9400,
          9300,
          9400,
          8200,
          6800,
          5800,
          6900,
          4200,
          35300,
          35300,
          34200,
          35200,
          35300,
          5900,
          6000,
          8300,
          5400,
          6300,
          0,
          0,
          0,
          0,
          0,
          497000,
          592000,
          508000,
          551000,
          608000,
          38200,
          36100,
          25540,
          37200,
          47100,
          0,
          0,
          0,
          0,
          0,
          7000,
          7000,
          7000,
          7000,
          7000,
          850,
          850,
          850,
          850,
          850,
          11000,
          11000,
          11000,
          11000,
          11000,
          25000,
          24000,
          24000,
          24000,
          24000,
          7500,
          7500,
          7600,
          7500,
          7500,
          26700,
          27700,
          27700,
          26700,
          27600,
          462600,
          462500,
          462500,
          462500,
          462500,
          0,
          0,
          0,
          0,
          0,
          0,
          0,
          0,
          3100,
          3100,
          3100,
          3100,
          3000,
          4300,
          10000,
          4800,
          7900,
          5400,
          13000,
          13000,
          12900,
          13000,
          13000,
          0,
          0,
          0,
          0,
          0,
          49000,
          48000,
          49000,
          49000,
          49000,
          7700,
          7700,
          7700,
          7700,
          7600,
          17400,
          17400,
          17500,
          17500,
          17500,
          0,
          0,
          0,
          0,
          0,
          0,
          0,
          0,
          0,
          0,
          28600,
          28700,
          28600,
          28700,
          27700,
          0,
          0,
          0,
          0,
          0,
          843000,
          540000,
          622000,
          804000,
          552000,
          14000,
          13000,
          14000,
          14000,
          13000,
          0,
          0,
          0,
          0,
          0,
          52400,
          52400,
          52400,
          52400,
          52400,
          6800,
          6900,
          6900,
          6900,
          6900,
          4300,
          6100,
          4100,
          4500,
          5900,
          8400,
          10200,
          9100,
          9200,
          9100,
          90400,
          50900,
          86800,
          22500,
          21920,
          0,
          0,
          0,
          0,
          0,
          25800,
          25700,
          25700,
          26700,
          25700,
          0,
          0,
          0,
          0,
          0,
          6900,
          6900,
          6900,
          7000,
          6900,
          947000,
          947000,
          946000,
          946000,
          946000,
          5200,
          5400,
          7900,
          13000,
          5500,
          0,
          0,
          0,
          0,
          0,
          8200,
          8300,
          8300,
          8300,
          8300,
          158800,
          158800,
          158900,
          158900,
          158800,
          0,
          0,
          0,
          0,
          0,
          0,
          0,
          0,
          0,
          0,
          25100,
          25000,
          24000,
          24000,
          24100,
          11300,
          11300,
          11300,
          11300,
          11300,
          6800,
          7600,
          6600,
          7300,
          6200,
          19300,
          19300,
          19300,
          19300,
          19400,
          18000,
          18100,
          18000,
          17900,
          17900,
          51000,
          51000,
          51000,
          51000,
          51000,
          5000,
          4900,
          5000,
          5000,
          4900,
          6700,
          6700,
          6700,
          6700,
          6700,
          0,
          0,
          0,
          0,
          0,
          17600,
          13300,
          15600,
          16700,
          18600,
          3200,
          3200,
          3100,
          3200,
          3200,
          0,
          0,
          0,
          0,
          0,
          17400,
          17400,
          17400,
          17400,
          17400,
          0,
          0,
          0,
          0,
          0,
          0,
          0,
          0,
          0,
          0,
          7900,
          5800,
          9500,
          6900,
          6000,
          0,
          0,
          0,
          0,
          0,
          5500,
          5500,
          5500,
          5500,
          5500,
          0,
          0,
          0,
          0,
          0,
          3400,
          3300,
          3300,
          3400,
          3300,
          0,
          0,
          0,
          0,
          0,
          0,
          0,
          0,
          0,
          0,
          68050,
          68100,
          56800,
          67000,
          63600,
          33000,
          34000,
          33000,
          33000,
          33000,
          33500,
          34500,
          34600,
          33500,
          34600,
          4700,
          4700,
          4700,
          4700,
          4700,
          8100,
          6800,
          6800,
          7800,
          6300,
          3700,
          3700,
          3800,
          3700,
          3700,
          4800,
          4800,
          4800,
          4700,
          4700,
          22200,
          22100,
          22100,
          22200,
          22200,
          24300,
          25300,
          24400,
          25300,
          24400,
          6050,
          6050,
          5650,
          5750,
          5250,
          11000,
          11000,
          10000,
          10000,
          11000,
          6500,
          6500,
          6500,
          6500,
          6500,
          18300,
          18300,
          18300,
          18300,
          18300,
          13000,
          12000,
          13000,
          13000,
          13000,
          11000,
          11000,
          11000,
          11000,
          11000,
          33200,
          31100,
          27700,
          31400,
          33200,
          32300,
          31300,
          32300,
          31300,
          31300,
          5000,
          13300,
          13100,
          9500,
          5200,
          12700,
          12800,
          12800,
          12700,
          12700,
          3200,
          3800,
          6100,
          4800,
          4800,
          6800,
          10100,
          9200,
          5900,
          7500,
          8400,
          7000,
          5100,
          4000,
          5900,
          9900,
          9900,
          10000,
          10000,
          10000,
          4250,
          6500,
          4400,
          4750,
          7000,
          37900,
          37800,
          37900,
          37900,
          37900,
          0,
          0,
          0,
          0,
          0,
          15000,
          15000,
          15000,
          14000,
          14000,
          9200,
          9300,
          9300,
          9300,
          9300,
          18300,
          19300,
          18300,
          18300,
          18300,
          35000,
          35000,
          35000,
          34000,
          34000,
          30000,
          30000,
          31000,
          31000,
          31000,
          11800,
          11800,
          11800,
          11800,
          11800,
          0,
          0,
          0,
          0,
          0,
          0,
          0,
          0,
          0,
          0,
          12000,
          13000,
          12000,
          12000,
          13000,
          3600,
          3600,
          3600,
          3600,
          3600,
          22000,
          22000,
          22000,
          23000,
          22000,
          58170,
          60300,
          58750,
          58050,
          64600,
          0,
          0,
          0,
          0,
          0,
          4800,
          4800,
          5000,
          11700,
          7000,
          21200,
          22100,
          21200,
          21200,
          22200,
          14300,
          16000,
          19100,
          13100,
          14400,
          13000,
          13000,
          12000,
          13000,
          13000,
          7800,
          7800,
          7800,
          7900,
          7800,
          18000,
          18000,
          18000,
          18000,
          19000,
          13100,
          13000,
          13100,
          13000,
          13000,
          0,
          0,
          0,
          0,
          0,
          0,
          0,
          0,
          0,
          0,
          9800,
          9800,
          9800,
          9800,
          9800,
          21300,
          19200,
          22200,
          21200,
          20300,
          27000,
          26000,
          27000,
          26000,
          26000,
          7900,
          7800,
          7800,
          7800,
          7800,
          5100,
          5100,
          5100,
          5100,
          5000,
          24100,
          24100,
          25100,
          24100,
          25100,
          2800,
          2800,
          2800,
          2800,
          2800,
          19300,
          15800,
          16200,
          14700,
          16200,
          3600,
          3600,
          3500,
          3600,
          3600,
          0,
          0,
          0,
          0,
          0,
          45500,
          45500,
          45500,
          45400,
          45400,
          16600,
          20500,
          26300,
          15500,
          29300,
          0,
          0,
          0,
          0,
          0,
          13800,
          9800,
          13300,
          16600,
          8800,
          24640,
          22350,
          29800,
          24830,
          37000,
          4000,
          4200,
          4600,
          4200,
          3200,
          1392000,
          1472000,
          1172000,
          1452000,
          1221000,
          3600,
          7200,
          8900,
          5000,
          4300,
          62000,
          62000,
          62000,
          62000,
          62000,
          0,
          0,
          0,
          0,
          0,
          3200,
          3200,
          3200,
          3200,
          3200,
          4400,
          5300,
          6600,
          4700,
          6200,
          0,
          0,
          0,
          0,
          0,
          5300,
          4900,
          6600,
          6600,
          5200,
          5000,
          5000,
          5000,
          5100,
          5000,
          41250,
          41250,
          41250,
          41250,
          41250,
          6100,
          5900,
          12000,
          12000,
          5700,
          31200,
          30100,
          30100,
          30100,
          30000,
          3000,
          3000,
          3000,
          3000,
          3100,
          3800,
          3800,
          3800,
          3800,
          3800,
          3900,
          3900,
          3900,
          3900,
          3900,
          5300,
          5300,
          5300,
          5300,
          5300,
          59000,
          59000,
          59000,
          59000,
          58000,
          0,
          0,
          0,
          0,
          0,
          0,
          0,
          0,
          0,
          0,
          267000,
          330000,
          481000,
          187000,
          475000,
          5500,
          5500,
          5500,
          5500,
          5500,
          10000,
          10000,
          10000,
          10000,
          10000,
          6200,
          2900,
          7400,
          4500,
          3800,
          6500,
          4500,
          4500,
          3000,
          4400,
          29200,
          71500,
          33300,
          49500,
          70500,
          7700,
          7700,
          7800,
          7700,
          7700,
          8400,
          8400,
          8400,
          8400,
          8400,
          4200,
          4200,
          4300,
          4300,
          4300,
          3900,
          3900,
          3900,
          3900,
          3900,
          0,
          0,
          0,
          0,
          0,
          34000,
          34000,
          34000,
          34000,
          34000,
          6600,
          6700,
          6700,
          6700,
          6700,
          3500,
          4100,
          3700,
          3300,
          6400,
          0,
          0,
          0,
          0,
          0,
          0,
          0,
          0,
          0,
          0,
          8700,
          8700,
          8800,
          8800,
          8700,
          2400,
          2300,
          2200,
          2200,
          2200,
          105000,
          105000,
          105000,
          104000,
          104000,
          4700,
          5400,
          2900,
          4600,
          3000,
          2900,
          3000,
          2900,
          2900,
          2900,
          0,
          0,
          0,
          0,
          0,
          13300,
          13300,
          13300,
          13300,
          14300,
          9800,
          9800,
          9900,
          9900,
          9900,
          24800,
          24700,
          24800,
          24600,
          24800,
          7700,
          7600,
          7700,
          7600,
          7700,
          6600,
          5500,
          7600,
          3800,
          4600,
          17000,
          17000,
          16000,
          16000,
          16000,
          13800,
          13900,
          13900,
          13900,
          13900,
          0,
          0,
          0,
          0,
          0,
          28000,
          27000,
          28000,
          28000,
          28000,
          2100,
          2200,
          2200,
          2100,
          2100,
          0,
          0,
          0,
          0,
          0,
          83800,
          93600,
          83900,
          96200,
          88900,
          0,
          0,
          0,
          0,
          0,
          8700,
          8700,
          8700,
          8700,
          8700,
          83000,
          83000,
          84000,
          84000,
          84000,
          15000,
          15000,
          16000,
          16000,
          16000,
          0,
          0,
          0,
          0,
          0,
          228000,
          228000,
          228000,
          228000,
          228000,
          0,
          0,
          0,
          0,
          0,
          10300,
          10300,
          10300,
          10300,
          10300,
          136700,
          140600,
          134700,
          132600,
          141600,
          52890,
          52600,
          52600,
          53180,
          52600,
          41000,
          41000,
          40000,
          40000,
          40000,
          12300,
          12200,
          12300,
          12300,
          12200,
          49900,
          143900,
          51900,
          38600,
          51900,
          0,
          0,
          0,
          0,
          0,
          0,
          0,
          0,
          0,
          0,
          11000,
          11000,
          12000,
          12000,
          12000,
          1970200,
          1970200,
          1970200,
          1970200,
          1970200,
          5800,
          5800,
          5800,
          5800,
          5800,
          2000,
          2000,
          2100,
          2000,
          2100,
          4000,
          4000,
          4000,
          4000,
          4000,
          11000,
          11000,
          11000,
          11000,
          11000,
          23500,
          23500,
          23500,
          23500,
          23500,
          17000,
          18000,
          17000,
          18000,
          18000,
          112000,
          112000,
          112000,
          112000,
          112000,
          18000,
          17000,
          18000,
          18000,
          17000,
          1041000,
          1042000,
          1042000,
          1043000,
          1042000,
          0,
          0,
          0,
          0,
          0,
          43800,
          43800,
          44900,
          45400,
          43800,
          0,
          0,
          0,
          0,
          0,
          17000,
          17000,
          17000,
          17000,
          17000,
          6900,
          3400,
          5400,
          4800,
          5400,
          13000,
          13000,
          13000,
          13000,
          14000,
          56000,
          56000,
          56000,
          56000,
          56000,
          43500,
          43500,
          42500,
          42500,
          42500,
          14500,
          15500,
          15600,
          15600,
          15600,
          5620,
          6300,
          8500,
          6800,
          6300,
          48000,
          49000,
          48000,
          49000,
          49000,
          4100,
          4000,
          4000,
          4100,
          4100,
          60000,
          30000,
          34000,
          52000,
          41000,
          0,
          0,
          0,
          0,
          0,
          16100,
          17200,
          16200,
          17100,
          16200,
          3600,
          3600,
          3600,
          3500,
          3600,
          4000,
          3500,
          4100,
          3400,
          3900,
          13800,
          13700,
          13700,
          13800,
          13700,
          0,
          0,
          0,
          0,
          0,
          332000,
          137000,
          235000,
          277200,
          223000,
          12000,
          11000,
          11000,
          12000,
          12000,
          19000,
          19000,
          18000,
          19000,
          19000,
          0,
          0,
          0,
          0,
          0,
          2400,
          3800,
          4900,
          4900,
          3300,
          15400,
          19600,
          16400,
          19100,
          19500,
          0,
          0,
          0,
          0,
          0,
          0,
          2600,
          2700,
          2600,
          2700,
          2600,
          48000,
          40000,
          42000,
          51000,
          49000,
          14000,
          13000,
          13000,
          14000,
          13000,
          0,
          0,
          0,
          0,
          0,
          52000,
          52000,
          52000,
          52000,
          52000,
          0,
          0,
          0,
          0,
          0,
          46000,
          45000,
          45000,
          45000,
          45000,
          18000,
          18000,
          18000,
          18000,
          18000,
          3100,
          2400,
          5300,
          3100,
          3100,
          17000,
          17000,
          15900,
          16900,
          17000,
          3900,
          3900,
          3900,
          3900,
          3900,
          0,
          0,
          0,
          0,
          0,
          2200,
          2300,
          2200,
          2200,
          2300,
          5800,
          5800,
          5800,
          5800,
          5800,
          0,
          0,
          0,
          0,
          0,
          0,
          0,
          0,
          0,
          0,
          0,
          0,
          0,
          0,
          0,
          0,
          0,
          0,
          0,
          0,
          33000,
          34000,
          34000,
          33000,
          34000,
          13400,
          13300,
          13400,
          13300,
          13300,
          27000,
          28000,
          27000,
          27000,
          28000,
          24000,
          24000,
          24000,
          24000,
          24000,
          14600,
          14500,
          14600,
          14500,
          14500,
          8500,
          8500,
          8500,
          8500,
          8500,
          19000,
          19000,
          19000,
          19000,
          19000,
          12400,
          20700,
          16600,
          11200,
          17800,
          13000,
          13000,
          12000,
          13000,
          13000,
          0,
          0,
          0,
          0,
          0,
          8800,
          5900,
          7400,
          6800,
          4900,
          0,
          0,
          0,
          0,
          0,
          7000,
          7000,
          7100,
          7000,
          7000,
          42100,
          51400,
          61400,
          57400,
          54400,
          3700,
          3700,
          3700,
          3700,
          3700,
          16400,
          16300,
          16400,
          17300,
          16400,
          10600,
          14800,
          14800,
          11100,
          10500,
          0,
          0,
          0,
          0,
          0,
          0,
          0,
          0,
          0,
          0,
          5900,
          5900,
          5900,
          5900,
          5900,
          7270,
          10400,
          10800,
          9100,
          9900,
          20000,
          20000,
          20000,
          19000,
          20000,
          7800,
          7800,
          7800,
          7800,
          7800,
          5400,
          16400,
          53400,
          5400,
          5400,
          5900,
          5900,
          5900,
          5900,
          5900,
          13800,
          13800,
          13800,
          13800,
          13800,
          0,
          0,
          0,
          0,
          0,
          5900,
          5900,
          6000,
          6000,
          6000,
          12000,
          12000,
          12000,
          12000,
          13000,
          0,
          0,
          0,
          0,
          0,
          15000,
          14000,
          14000,
          15000,
          14000,
          9300,
          9400,
          9300,
          9400,
          9400,
          0,
          0,
          0,
          0,
          0,
          12100,
          12100,
          12100,
          12100,
          12100,
          12600,
          12600,
          12600,
          12600,
          12700,
          18000,
          18000,
          18000,
          18000,
          18000,
          5200,
          4200,
          3600,
          5600,
          6000,
          6500,
          6600,
          6600,
          6500,
          6600,
          51000,
          50000,
          51000,
          50000,
          50000,
          0,
          0,
          0,
          0,
          0,
          21000,
          25000,
          21000,
          24000,
          23000,
          0,
          0,
          0,
          0,
          0,
          7900,
          7900,
          7900,
          7900,
          7900,
          13880,
          13880,
          13980,
          13980,
          13780,
          0,
          0,
          0,
          0,
          0,
          282600,
          282300,
          280300,
          283200,
          287100
         ],
         "x0": " ",
         "xaxis": "x",
         "y0": " ",
         "yaxis": "y"
        }
       ],
       "layout": {
        "boxmode": "group",
        "legend": {
         "tracegroupgap": 0
        },
        "template": {
         "data": {
          "bar": [
           {
            "error_x": {
             "color": "#2a3f5f"
            },
            "error_y": {
             "color": "#2a3f5f"
            },
            "marker": {
             "line": {
              "color": "#E5ECF6",
              "width": 0.5
             },
             "pattern": {
              "fillmode": "overlay",
              "size": 10,
              "solidity": 0.2
             }
            },
            "type": "bar"
           }
          ],
          "barpolar": [
           {
            "marker": {
             "line": {
              "color": "#E5ECF6",
              "width": 0.5
             },
             "pattern": {
              "fillmode": "overlay",
              "size": 10,
              "solidity": 0.2
             }
            },
            "type": "barpolar"
           }
          ],
          "carpet": [
           {
            "aaxis": {
             "endlinecolor": "#2a3f5f",
             "gridcolor": "white",
             "linecolor": "white",
             "minorgridcolor": "white",
             "startlinecolor": "#2a3f5f"
            },
            "baxis": {
             "endlinecolor": "#2a3f5f",
             "gridcolor": "white",
             "linecolor": "white",
             "minorgridcolor": "white",
             "startlinecolor": "#2a3f5f"
            },
            "type": "carpet"
           }
          ],
          "choropleth": [
           {
            "colorbar": {
             "outlinewidth": 0,
             "ticks": ""
            },
            "type": "choropleth"
           }
          ],
          "contour": [
           {
            "colorbar": {
             "outlinewidth": 0,
             "ticks": ""
            },
            "colorscale": [
             [
              0,
              "#0d0887"
             ],
             [
              0.1111111111111111,
              "#46039f"
             ],
             [
              0.2222222222222222,
              "#7201a8"
             ],
             [
              0.3333333333333333,
              "#9c179e"
             ],
             [
              0.4444444444444444,
              "#bd3786"
             ],
             [
              0.5555555555555556,
              "#d8576b"
             ],
             [
              0.6666666666666666,
              "#ed7953"
             ],
             [
              0.7777777777777778,
              "#fb9f3a"
             ],
             [
              0.8888888888888888,
              "#fdca26"
             ],
             [
              1,
              "#f0f921"
             ]
            ],
            "type": "contour"
           }
          ],
          "contourcarpet": [
           {
            "colorbar": {
             "outlinewidth": 0,
             "ticks": ""
            },
            "type": "contourcarpet"
           }
          ],
          "heatmap": [
           {
            "colorbar": {
             "outlinewidth": 0,
             "ticks": ""
            },
            "colorscale": [
             [
              0,
              "#0d0887"
             ],
             [
              0.1111111111111111,
              "#46039f"
             ],
             [
              0.2222222222222222,
              "#7201a8"
             ],
             [
              0.3333333333333333,
              "#9c179e"
             ],
             [
              0.4444444444444444,
              "#bd3786"
             ],
             [
              0.5555555555555556,
              "#d8576b"
             ],
             [
              0.6666666666666666,
              "#ed7953"
             ],
             [
              0.7777777777777778,
              "#fb9f3a"
             ],
             [
              0.8888888888888888,
              "#fdca26"
             ],
             [
              1,
              "#f0f921"
             ]
            ],
            "type": "heatmap"
           }
          ],
          "heatmapgl": [
           {
            "colorbar": {
             "outlinewidth": 0,
             "ticks": ""
            },
            "colorscale": [
             [
              0,
              "#0d0887"
             ],
             [
              0.1111111111111111,
              "#46039f"
             ],
             [
              0.2222222222222222,
              "#7201a8"
             ],
             [
              0.3333333333333333,
              "#9c179e"
             ],
             [
              0.4444444444444444,
              "#bd3786"
             ],
             [
              0.5555555555555556,
              "#d8576b"
             ],
             [
              0.6666666666666666,
              "#ed7953"
             ],
             [
              0.7777777777777778,
              "#fb9f3a"
             ],
             [
              0.8888888888888888,
              "#fdca26"
             ],
             [
              1,
              "#f0f921"
             ]
            ],
            "type": "heatmapgl"
           }
          ],
          "histogram": [
           {
            "marker": {
             "pattern": {
              "fillmode": "overlay",
              "size": 10,
              "solidity": 0.2
             }
            },
            "type": "histogram"
           }
          ],
          "histogram2d": [
           {
            "colorbar": {
             "outlinewidth": 0,
             "ticks": ""
            },
            "colorscale": [
             [
              0,
              "#0d0887"
             ],
             [
              0.1111111111111111,
              "#46039f"
             ],
             [
              0.2222222222222222,
              "#7201a8"
             ],
             [
              0.3333333333333333,
              "#9c179e"
             ],
             [
              0.4444444444444444,
              "#bd3786"
             ],
             [
              0.5555555555555556,
              "#d8576b"
             ],
             [
              0.6666666666666666,
              "#ed7953"
             ],
             [
              0.7777777777777778,
              "#fb9f3a"
             ],
             [
              0.8888888888888888,
              "#fdca26"
             ],
             [
              1,
              "#f0f921"
             ]
            ],
            "type": "histogram2d"
           }
          ],
          "histogram2dcontour": [
           {
            "colorbar": {
             "outlinewidth": 0,
             "ticks": ""
            },
            "colorscale": [
             [
              0,
              "#0d0887"
             ],
             [
              0.1111111111111111,
              "#46039f"
             ],
             [
              0.2222222222222222,
              "#7201a8"
             ],
             [
              0.3333333333333333,
              "#9c179e"
             ],
             [
              0.4444444444444444,
              "#bd3786"
             ],
             [
              0.5555555555555556,
              "#d8576b"
             ],
             [
              0.6666666666666666,
              "#ed7953"
             ],
             [
              0.7777777777777778,
              "#fb9f3a"
             ],
             [
              0.8888888888888888,
              "#fdca26"
             ],
             [
              1,
              "#f0f921"
             ]
            ],
            "type": "histogram2dcontour"
           }
          ],
          "mesh3d": [
           {
            "colorbar": {
             "outlinewidth": 0,
             "ticks": ""
            },
            "type": "mesh3d"
           }
          ],
          "parcoords": [
           {
            "line": {
             "colorbar": {
              "outlinewidth": 0,
              "ticks": ""
             }
            },
            "type": "parcoords"
           }
          ],
          "pie": [
           {
            "automargin": true,
            "type": "pie"
           }
          ],
          "scatter": [
           {
            "fillpattern": {
             "fillmode": "overlay",
             "size": 10,
             "solidity": 0.2
            },
            "type": "scatter"
           }
          ],
          "scatter3d": [
           {
            "line": {
             "colorbar": {
              "outlinewidth": 0,
              "ticks": ""
             }
            },
            "marker": {
             "colorbar": {
              "outlinewidth": 0,
              "ticks": ""
             }
            },
            "type": "scatter3d"
           }
          ],
          "scattercarpet": [
           {
            "marker": {
             "colorbar": {
              "outlinewidth": 0,
              "ticks": ""
             }
            },
            "type": "scattercarpet"
           }
          ],
          "scattergeo": [
           {
            "marker": {
             "colorbar": {
              "outlinewidth": 0,
              "ticks": ""
             }
            },
            "type": "scattergeo"
           }
          ],
          "scattergl": [
           {
            "marker": {
             "colorbar": {
              "outlinewidth": 0,
              "ticks": ""
             }
            },
            "type": "scattergl"
           }
          ],
          "scattermapbox": [
           {
            "marker": {
             "colorbar": {
              "outlinewidth": 0,
              "ticks": ""
             }
            },
            "type": "scattermapbox"
           }
          ],
          "scatterpolar": [
           {
            "marker": {
             "colorbar": {
              "outlinewidth": 0,
              "ticks": ""
             }
            },
            "type": "scatterpolar"
           }
          ],
          "scatterpolargl": [
           {
            "marker": {
             "colorbar": {
              "outlinewidth": 0,
              "ticks": ""
             }
            },
            "type": "scatterpolargl"
           }
          ],
          "scatterternary": [
           {
            "marker": {
             "colorbar": {
              "outlinewidth": 0,
              "ticks": ""
             }
            },
            "type": "scatterternary"
           }
          ],
          "surface": [
           {
            "colorbar": {
             "outlinewidth": 0,
             "ticks": ""
            },
            "colorscale": [
             [
              0,
              "#0d0887"
             ],
             [
              0.1111111111111111,
              "#46039f"
             ],
             [
              0.2222222222222222,
              "#7201a8"
             ],
             [
              0.3333333333333333,
              "#9c179e"
             ],
             [
              0.4444444444444444,
              "#bd3786"
             ],
             [
              0.5555555555555556,
              "#d8576b"
             ],
             [
              0.6666666666666666,
              "#ed7953"
             ],
             [
              0.7777777777777778,
              "#fb9f3a"
             ],
             [
              0.8888888888888888,
              "#fdca26"
             ],
             [
              1,
              "#f0f921"
             ]
            ],
            "type": "surface"
           }
          ],
          "table": [
           {
            "cells": {
             "fill": {
              "color": "#EBF0F8"
             },
             "line": {
              "color": "white"
             }
            },
            "header": {
             "fill": {
              "color": "#C8D4E3"
             },
             "line": {
              "color": "white"
             }
            },
            "type": "table"
           }
          ]
         },
         "layout": {
          "annotationdefaults": {
           "arrowcolor": "#2a3f5f",
           "arrowhead": 0,
           "arrowwidth": 1
          },
          "autotypenumbers": "strict",
          "coloraxis": {
           "colorbar": {
            "outlinewidth": 0,
            "ticks": ""
           }
          },
          "colorscale": {
           "diverging": [
            [
             0,
             "#8e0152"
            ],
            [
             0.1,
             "#c51b7d"
            ],
            [
             0.2,
             "#de77ae"
            ],
            [
             0.3,
             "#f1b6da"
            ],
            [
             0.4,
             "#fde0ef"
            ],
            [
             0.5,
             "#f7f7f7"
            ],
            [
             0.6,
             "#e6f5d0"
            ],
            [
             0.7,
             "#b8e186"
            ],
            [
             0.8,
             "#7fbc41"
            ],
            [
             0.9,
             "#4d9221"
            ],
            [
             1,
             "#276419"
            ]
           ],
           "sequential": [
            [
             0,
             "#0d0887"
            ],
            [
             0.1111111111111111,
             "#46039f"
            ],
            [
             0.2222222222222222,
             "#7201a8"
            ],
            [
             0.3333333333333333,
             "#9c179e"
            ],
            [
             0.4444444444444444,
             "#bd3786"
            ],
            [
             0.5555555555555556,
             "#d8576b"
            ],
            [
             0.6666666666666666,
             "#ed7953"
            ],
            [
             0.7777777777777778,
             "#fb9f3a"
            ],
            [
             0.8888888888888888,
             "#fdca26"
            ],
            [
             1,
             "#f0f921"
            ]
           ],
           "sequentialminus": [
            [
             0,
             "#0d0887"
            ],
            [
             0.1111111111111111,
             "#46039f"
            ],
            [
             0.2222222222222222,
             "#7201a8"
            ],
            [
             0.3333333333333333,
             "#9c179e"
            ],
            [
             0.4444444444444444,
             "#bd3786"
            ],
            [
             0.5555555555555556,
             "#d8576b"
            ],
            [
             0.6666666666666666,
             "#ed7953"
            ],
            [
             0.7777777777777778,
             "#fb9f3a"
            ],
            [
             0.8888888888888888,
             "#fdca26"
            ],
            [
             1,
             "#f0f921"
            ]
           ]
          },
          "colorway": [
           "#636efa",
           "#EF553B",
           "#00cc96",
           "#ab63fa",
           "#FFA15A",
           "#19d3f3",
           "#FF6692",
           "#B6E880",
           "#FF97FF",
           "#FECB52"
          ],
          "font": {
           "color": "#2a3f5f"
          },
          "geo": {
           "bgcolor": "white",
           "lakecolor": "white",
           "landcolor": "#E5ECF6",
           "showlakes": true,
           "showland": true,
           "subunitcolor": "white"
          },
          "hoverlabel": {
           "align": "left"
          },
          "hovermode": "closest",
          "mapbox": {
           "style": "light"
          },
          "paper_bgcolor": "white",
          "plot_bgcolor": "#E5ECF6",
          "polar": {
           "angularaxis": {
            "gridcolor": "white",
            "linecolor": "white",
            "ticks": ""
           },
           "bgcolor": "#E5ECF6",
           "radialaxis": {
            "gridcolor": "white",
            "linecolor": "white",
            "ticks": ""
           }
          },
          "scene": {
           "xaxis": {
            "backgroundcolor": "#E5ECF6",
            "gridcolor": "white",
            "gridwidth": 2,
            "linecolor": "white",
            "showbackground": true,
            "ticks": "",
            "zerolinecolor": "white"
           },
           "yaxis": {
            "backgroundcolor": "#E5ECF6",
            "gridcolor": "white",
            "gridwidth": 2,
            "linecolor": "white",
            "showbackground": true,
            "ticks": "",
            "zerolinecolor": "white"
           },
           "zaxis": {
            "backgroundcolor": "#E5ECF6",
            "gridcolor": "white",
            "gridwidth": 2,
            "linecolor": "white",
            "showbackground": true,
            "ticks": "",
            "zerolinecolor": "white"
           }
          },
          "shapedefaults": {
           "line": {
            "color": "#2a3f5f"
           }
          },
          "ternary": {
           "aaxis": {
            "gridcolor": "white",
            "linecolor": "white",
            "ticks": ""
           },
           "baxis": {
            "gridcolor": "white",
            "linecolor": "white",
            "ticks": ""
           },
           "bgcolor": "#E5ECF6",
           "caxis": {
            "gridcolor": "white",
            "linecolor": "white",
            "ticks": ""
           }
          },
          "title": {
           "x": 0.05
          },
          "xaxis": {
           "automargin": true,
           "gridcolor": "white",
           "linecolor": "white",
           "ticks": "",
           "title": {
            "standoff": 15
           },
           "zerolinecolor": "white",
           "zerolinewidth": 2
          },
          "yaxis": {
           "automargin": true,
           "gridcolor": "white",
           "linecolor": "white",
           "ticks": "",
           "title": {
            "standoff": 15
           },
           "zerolinecolor": "white",
           "zerolinewidth": 2
          }
         }
        },
        "title": {
         "text": "Distribution of Non-home, Non-Financial Assets"
        },
        "xaxis": {
         "anchor": "y",
         "domain": [
          0,
          1
         ],
         "title": {
          "text": "Value [$]"
         }
        },
        "yaxis": {
         "anchor": "x",
         "domain": [
          0,
          1
         ]
        }
       }
      }
     },
     "metadata": {},
     "output_type": "display_data"
    }
   ],
   "source": [
    "# Create a boxplot of `NHNFIN`\n",
    "fig = px.box(\n",
    "    data_frame=df,\n",
    "    x=\"NHNFIN\",\n",
    "    title= \"Distribution of Non-home, Non-Financial Assets\"\n",
    ")\n",
    "fig.update_layout(xaxis_title=\"Value [$]\")\n",
    "fig.show()"
   ]
  },
  {
   "cell_type": "markdown",
   "metadata": {},
   "source": [
    "-  The dataset is massively right-skewed because of the huge outliers on the right side of the distribution"
   ]
  },
  {
   "cell_type": "markdown",
   "metadata": {},
   "source": [
    "- The  best way to deal with this is to look at the trimmed variance, where we remove extreme values before calculating variance."
   ]
  },
  {
   "cell_type": "markdown",
   "metadata": {},
   "source": [
    "Calculating Trimmed Variance"
   ]
  },
  {
   "cell_type": "markdown",
   "metadata": {},
   "source": [
    "- A trimmed variances that does not include the top and bottom 10% of observation."
   ]
  },
  {
   "cell_type": "code",
   "execution_count": 20,
   "metadata": {},
   "outputs": [
    {
     "name": "stdout",
     "output_type": "stream",
     "text": [
      "top_ten_trim_var type: <class 'pandas.core.series.Series'>\n",
      "top_ten_trim_var shape: (10,)\n"
     ]
    },
    {
     "data": {
      "text/plain": [
       "WAGEINC     5.550737e+08\n",
       "HOMEEQ      7.338377e+08\n",
       "NH_MORT     1.333125e+09\n",
       "MRTHEL      1.380468e+09\n",
       "PLOAN1      1.441968e+09\n",
       "DEBT        3.089865e+09\n",
       "NETWORTH    3.099929e+09\n",
       "HOUSES      4.978660e+09\n",
       "NFIN        8.456442e+09\n",
       "ASSET       1.175370e+10\n",
       "dtype: float64"
      ]
     },
     "execution_count": 20,
     "metadata": {},
     "output_type": "execute_result"
    }
   ],
   "source": [
    "# Calculate trimmed variance\n",
    "top_ten_trim_var = df.apply(trimmed_var, limits=(0.1, 0.1)).sort_values().tail(10)\n",
    "\n",
    "print(\"top_ten_trim_var type:\", type(top_ten_trim_var))\n",
    "print(\"top_ten_trim_var shape:\", top_ten_trim_var.shape)\n",
    "top_ten_trim_var"
   ]
  },
  {
   "cell_type": "markdown",
   "metadata": {},
   "source": [
    "Plot Trimmed Variances"
   ]
  },
  {
   "cell_type": "code",
   "execution_count": 18,
   "metadata": {},
   "outputs": [
    {
     "data": {
      "application/vnd.plotly.v1+json": {
       "config": {
        "plotlyServerURL": "https://plot.ly"
       },
       "data": [
        {
         "alignmentgroup": "True",
         "hovertemplate": "x=%{x}<br>y=%{y}<extra></extra>",
         "legendgroup": "",
         "marker": {
          "color": "#636efa",
          "pattern": {
           "shape": ""
          }
         },
         "name": "",
         "offsetgroup": "",
         "orientation": "h",
         "showlegend": false,
         "textposition": "auto",
         "type": "bar",
         "x": [
          555073745.5922831,
          733837686.0245491,
          1333125491.9014952,
          1380467574.4371724,
          1441968346.3800585,
          3089864647.655702,
          3099929075.2287264,
          4978660011.138663,
          8456441584.954463,
          11753695011.53143
         ],
         "xaxis": "x",
         "y": [
          "WAGEINC",
          "HOMEEQ",
          "NH_MORT",
          "MRTHEL",
          "PLOAN1",
          "DEBT",
          "NETWORTH",
          "HOUSES",
          "NFIN",
          "ASSET"
         ],
         "yaxis": "y"
        }
       ],
       "layout": {
        "barmode": "relative",
        "legend": {
         "tracegroupgap": 0
        },
        "template": {
         "data": {
          "bar": [
           {
            "error_x": {
             "color": "#2a3f5f"
            },
            "error_y": {
             "color": "#2a3f5f"
            },
            "marker": {
             "line": {
              "color": "#E5ECF6",
              "width": 0.5
             },
             "pattern": {
              "fillmode": "overlay",
              "size": 10,
              "solidity": 0.2
             }
            },
            "type": "bar"
           }
          ],
          "barpolar": [
           {
            "marker": {
             "line": {
              "color": "#E5ECF6",
              "width": 0.5
             },
             "pattern": {
              "fillmode": "overlay",
              "size": 10,
              "solidity": 0.2
             }
            },
            "type": "barpolar"
           }
          ],
          "carpet": [
           {
            "aaxis": {
             "endlinecolor": "#2a3f5f",
             "gridcolor": "white",
             "linecolor": "white",
             "minorgridcolor": "white",
             "startlinecolor": "#2a3f5f"
            },
            "baxis": {
             "endlinecolor": "#2a3f5f",
             "gridcolor": "white",
             "linecolor": "white",
             "minorgridcolor": "white",
             "startlinecolor": "#2a3f5f"
            },
            "type": "carpet"
           }
          ],
          "choropleth": [
           {
            "colorbar": {
             "outlinewidth": 0,
             "ticks": ""
            },
            "type": "choropleth"
           }
          ],
          "contour": [
           {
            "colorbar": {
             "outlinewidth": 0,
             "ticks": ""
            },
            "colorscale": [
             [
              0,
              "#0d0887"
             ],
             [
              0.1111111111111111,
              "#46039f"
             ],
             [
              0.2222222222222222,
              "#7201a8"
             ],
             [
              0.3333333333333333,
              "#9c179e"
             ],
             [
              0.4444444444444444,
              "#bd3786"
             ],
             [
              0.5555555555555556,
              "#d8576b"
             ],
             [
              0.6666666666666666,
              "#ed7953"
             ],
             [
              0.7777777777777778,
              "#fb9f3a"
             ],
             [
              0.8888888888888888,
              "#fdca26"
             ],
             [
              1,
              "#f0f921"
             ]
            ],
            "type": "contour"
           }
          ],
          "contourcarpet": [
           {
            "colorbar": {
             "outlinewidth": 0,
             "ticks": ""
            },
            "type": "contourcarpet"
           }
          ],
          "heatmap": [
           {
            "colorbar": {
             "outlinewidth": 0,
             "ticks": ""
            },
            "colorscale": [
             [
              0,
              "#0d0887"
             ],
             [
              0.1111111111111111,
              "#46039f"
             ],
             [
              0.2222222222222222,
              "#7201a8"
             ],
             [
              0.3333333333333333,
              "#9c179e"
             ],
             [
              0.4444444444444444,
              "#bd3786"
             ],
             [
              0.5555555555555556,
              "#d8576b"
             ],
             [
              0.6666666666666666,
              "#ed7953"
             ],
             [
              0.7777777777777778,
              "#fb9f3a"
             ],
             [
              0.8888888888888888,
              "#fdca26"
             ],
             [
              1,
              "#f0f921"
             ]
            ],
            "type": "heatmap"
           }
          ],
          "heatmapgl": [
           {
            "colorbar": {
             "outlinewidth": 0,
             "ticks": ""
            },
            "colorscale": [
             [
              0,
              "#0d0887"
             ],
             [
              0.1111111111111111,
              "#46039f"
             ],
             [
              0.2222222222222222,
              "#7201a8"
             ],
             [
              0.3333333333333333,
              "#9c179e"
             ],
             [
              0.4444444444444444,
              "#bd3786"
             ],
             [
              0.5555555555555556,
              "#d8576b"
             ],
             [
              0.6666666666666666,
              "#ed7953"
             ],
             [
              0.7777777777777778,
              "#fb9f3a"
             ],
             [
              0.8888888888888888,
              "#fdca26"
             ],
             [
              1,
              "#f0f921"
             ]
            ],
            "type": "heatmapgl"
           }
          ],
          "histogram": [
           {
            "marker": {
             "pattern": {
              "fillmode": "overlay",
              "size": 10,
              "solidity": 0.2
             }
            },
            "type": "histogram"
           }
          ],
          "histogram2d": [
           {
            "colorbar": {
             "outlinewidth": 0,
             "ticks": ""
            },
            "colorscale": [
             [
              0,
              "#0d0887"
             ],
             [
              0.1111111111111111,
              "#46039f"
             ],
             [
              0.2222222222222222,
              "#7201a8"
             ],
             [
              0.3333333333333333,
              "#9c179e"
             ],
             [
              0.4444444444444444,
              "#bd3786"
             ],
             [
              0.5555555555555556,
              "#d8576b"
             ],
             [
              0.6666666666666666,
              "#ed7953"
             ],
             [
              0.7777777777777778,
              "#fb9f3a"
             ],
             [
              0.8888888888888888,
              "#fdca26"
             ],
             [
              1,
              "#f0f921"
             ]
            ],
            "type": "histogram2d"
           }
          ],
          "histogram2dcontour": [
           {
            "colorbar": {
             "outlinewidth": 0,
             "ticks": ""
            },
            "colorscale": [
             [
              0,
              "#0d0887"
             ],
             [
              0.1111111111111111,
              "#46039f"
             ],
             [
              0.2222222222222222,
              "#7201a8"
             ],
             [
              0.3333333333333333,
              "#9c179e"
             ],
             [
              0.4444444444444444,
              "#bd3786"
             ],
             [
              0.5555555555555556,
              "#d8576b"
             ],
             [
              0.6666666666666666,
              "#ed7953"
             ],
             [
              0.7777777777777778,
              "#fb9f3a"
             ],
             [
              0.8888888888888888,
              "#fdca26"
             ],
             [
              1,
              "#f0f921"
             ]
            ],
            "type": "histogram2dcontour"
           }
          ],
          "mesh3d": [
           {
            "colorbar": {
             "outlinewidth": 0,
             "ticks": ""
            },
            "type": "mesh3d"
           }
          ],
          "parcoords": [
           {
            "line": {
             "colorbar": {
              "outlinewidth": 0,
              "ticks": ""
             }
            },
            "type": "parcoords"
           }
          ],
          "pie": [
           {
            "automargin": true,
            "type": "pie"
           }
          ],
          "scatter": [
           {
            "fillpattern": {
             "fillmode": "overlay",
             "size": 10,
             "solidity": 0.2
            },
            "type": "scatter"
           }
          ],
          "scatter3d": [
           {
            "line": {
             "colorbar": {
              "outlinewidth": 0,
              "ticks": ""
             }
            },
            "marker": {
             "colorbar": {
              "outlinewidth": 0,
              "ticks": ""
             }
            },
            "type": "scatter3d"
           }
          ],
          "scattercarpet": [
           {
            "marker": {
             "colorbar": {
              "outlinewidth": 0,
              "ticks": ""
             }
            },
            "type": "scattercarpet"
           }
          ],
          "scattergeo": [
           {
            "marker": {
             "colorbar": {
              "outlinewidth": 0,
              "ticks": ""
             }
            },
            "type": "scattergeo"
           }
          ],
          "scattergl": [
           {
            "marker": {
             "colorbar": {
              "outlinewidth": 0,
              "ticks": ""
             }
            },
            "type": "scattergl"
           }
          ],
          "scattermapbox": [
           {
            "marker": {
             "colorbar": {
              "outlinewidth": 0,
              "ticks": ""
             }
            },
            "type": "scattermapbox"
           }
          ],
          "scatterpolar": [
           {
            "marker": {
             "colorbar": {
              "outlinewidth": 0,
              "ticks": ""
             }
            },
            "type": "scatterpolar"
           }
          ],
          "scatterpolargl": [
           {
            "marker": {
             "colorbar": {
              "outlinewidth": 0,
              "ticks": ""
             }
            },
            "type": "scatterpolargl"
           }
          ],
          "scatterternary": [
           {
            "marker": {
             "colorbar": {
              "outlinewidth": 0,
              "ticks": ""
             }
            },
            "type": "scatterternary"
           }
          ],
          "surface": [
           {
            "colorbar": {
             "outlinewidth": 0,
             "ticks": ""
            },
            "colorscale": [
             [
              0,
              "#0d0887"
             ],
             [
              0.1111111111111111,
              "#46039f"
             ],
             [
              0.2222222222222222,
              "#7201a8"
             ],
             [
              0.3333333333333333,
              "#9c179e"
             ],
             [
              0.4444444444444444,
              "#bd3786"
             ],
             [
              0.5555555555555556,
              "#d8576b"
             ],
             [
              0.6666666666666666,
              "#ed7953"
             ],
             [
              0.7777777777777778,
              "#fb9f3a"
             ],
             [
              0.8888888888888888,
              "#fdca26"
             ],
             [
              1,
              "#f0f921"
             ]
            ],
            "type": "surface"
           }
          ],
          "table": [
           {
            "cells": {
             "fill": {
              "color": "#EBF0F8"
             },
             "line": {
              "color": "white"
             }
            },
            "header": {
             "fill": {
              "color": "#C8D4E3"
             },
             "line": {
              "color": "white"
             }
            },
            "type": "table"
           }
          ]
         },
         "layout": {
          "annotationdefaults": {
           "arrowcolor": "#2a3f5f",
           "arrowhead": 0,
           "arrowwidth": 1
          },
          "autotypenumbers": "strict",
          "coloraxis": {
           "colorbar": {
            "outlinewidth": 0,
            "ticks": ""
           }
          },
          "colorscale": {
           "diverging": [
            [
             0,
             "#8e0152"
            ],
            [
             0.1,
             "#c51b7d"
            ],
            [
             0.2,
             "#de77ae"
            ],
            [
             0.3,
             "#f1b6da"
            ],
            [
             0.4,
             "#fde0ef"
            ],
            [
             0.5,
             "#f7f7f7"
            ],
            [
             0.6,
             "#e6f5d0"
            ],
            [
             0.7,
             "#b8e186"
            ],
            [
             0.8,
             "#7fbc41"
            ],
            [
             0.9,
             "#4d9221"
            ],
            [
             1,
             "#276419"
            ]
           ],
           "sequential": [
            [
             0,
             "#0d0887"
            ],
            [
             0.1111111111111111,
             "#46039f"
            ],
            [
             0.2222222222222222,
             "#7201a8"
            ],
            [
             0.3333333333333333,
             "#9c179e"
            ],
            [
             0.4444444444444444,
             "#bd3786"
            ],
            [
             0.5555555555555556,
             "#d8576b"
            ],
            [
             0.6666666666666666,
             "#ed7953"
            ],
            [
             0.7777777777777778,
             "#fb9f3a"
            ],
            [
             0.8888888888888888,
             "#fdca26"
            ],
            [
             1,
             "#f0f921"
            ]
           ],
           "sequentialminus": [
            [
             0,
             "#0d0887"
            ],
            [
             0.1111111111111111,
             "#46039f"
            ],
            [
             0.2222222222222222,
             "#7201a8"
            ],
            [
             0.3333333333333333,
             "#9c179e"
            ],
            [
             0.4444444444444444,
             "#bd3786"
            ],
            [
             0.5555555555555556,
             "#d8576b"
            ],
            [
             0.6666666666666666,
             "#ed7953"
            ],
            [
             0.7777777777777778,
             "#fb9f3a"
            ],
            [
             0.8888888888888888,
             "#fdca26"
            ],
            [
             1,
             "#f0f921"
            ]
           ]
          },
          "colorway": [
           "#636efa",
           "#EF553B",
           "#00cc96",
           "#ab63fa",
           "#FFA15A",
           "#19d3f3",
           "#FF6692",
           "#B6E880",
           "#FF97FF",
           "#FECB52"
          ],
          "font": {
           "color": "#2a3f5f"
          },
          "geo": {
           "bgcolor": "white",
           "lakecolor": "white",
           "landcolor": "#E5ECF6",
           "showlakes": true,
           "showland": true,
           "subunitcolor": "white"
          },
          "hoverlabel": {
           "align": "left"
          },
          "hovermode": "closest",
          "mapbox": {
           "style": "light"
          },
          "paper_bgcolor": "white",
          "plot_bgcolor": "#E5ECF6",
          "polar": {
           "angularaxis": {
            "gridcolor": "white",
            "linecolor": "white",
            "ticks": ""
           },
           "bgcolor": "#E5ECF6",
           "radialaxis": {
            "gridcolor": "white",
            "linecolor": "white",
            "ticks": ""
           }
          },
          "scene": {
           "xaxis": {
            "backgroundcolor": "#E5ECF6",
            "gridcolor": "white",
            "gridwidth": 2,
            "linecolor": "white",
            "showbackground": true,
            "ticks": "",
            "zerolinecolor": "white"
           },
           "yaxis": {
            "backgroundcolor": "#E5ECF6",
            "gridcolor": "white",
            "gridwidth": 2,
            "linecolor": "white",
            "showbackground": true,
            "ticks": "",
            "zerolinecolor": "white"
           },
           "zaxis": {
            "backgroundcolor": "#E5ECF6",
            "gridcolor": "white",
            "gridwidth": 2,
            "linecolor": "white",
            "showbackground": true,
            "ticks": "",
            "zerolinecolor": "white"
           }
          },
          "shapedefaults": {
           "line": {
            "color": "#2a3f5f"
           }
          },
          "ternary": {
           "aaxis": {
            "gridcolor": "white",
            "linecolor": "white",
            "ticks": ""
           },
           "baxis": {
            "gridcolor": "white",
            "linecolor": "white",
            "ticks": ""
           },
           "bgcolor": "#E5ECF6",
           "caxis": {
            "gridcolor": "white",
            "linecolor": "white",
            "ticks": ""
           }
          },
          "title": {
           "x": 0.05
          },
          "xaxis": {
           "automargin": true,
           "gridcolor": "white",
           "linecolor": "white",
           "ticks": "",
           "title": {
            "standoff": 15
           },
           "zerolinecolor": "white",
           "zerolinewidth": 2
          },
          "yaxis": {
           "automargin": true,
           "gridcolor": "white",
           "linecolor": "white",
           "ticks": "",
           "title": {
            "standoff": 15
           },
           "zerolinecolor": "white",
           "zerolinewidth": 2
          }
         }
        },
        "title": {
         "text": "Top 10 Trimmed Variance Features"
        },
        "xaxis": {
         "anchor": "y",
         "domain": [
          0,
          1
         ],
         "title": {
          "text": "Variance"
         }
        },
        "yaxis": {
         "anchor": "x",
         "domain": [
          0,
          1
         ],
         "title": {
          "text": "Feature"
         }
        }
       }
      }
     },
     "metadata": {},
     "output_type": "display_data"
    }
   ],
   "source": [
    "# Create horizontal bar chart of `top_ten_trim__var`\n",
    "fig = px.bar(\n",
    "    x=top_ten_trim_var,\n",
    "    y=top_ten_trim_var.index,\n",
    "    title=\"Top 10 Trimmed Variance Features\"\n",
    ")\n",
    "fig.update_layout(xaxis_title=\"Variance\",yaxis_title=\"Feature\")\n",
    "\n",
    "fig.show();"
   ]
  },
  {
   "cell_type": "markdown",
   "metadata": {},
   "source": [
    "- The variances have decreased significantly."
   ]
  },
  {
   "cell_type": "markdown",
   "metadata": {},
   "source": [
    "- The top 10 features have changed slightly."
   ]
  },
  {
   "cell_type": "markdown",
   "metadata": {},
   "source": [
    "- There are big differences in variance from feature to feature. For example, the variance for \"WAGEINC\" is around than $500 million, while the variance for \"ASSET\" is nearly $12 billion."
   ]
  },
  {
   "cell_type": "markdown",
   "metadata": {},
   "source": [
    "Extract Feature Names"
   ]
  },
  {
   "cell_type": "code",
   "execution_count": 26,
   "metadata": {},
   "outputs": [
    {
     "name": "stdout",
     "output_type": "stream",
     "text": [
      "high_var_cols type: <class 'list'>\n",
      "high_var_cols len: 10\n"
     ]
    },
    {
     "data": {
      "text/plain": [
       "['DEBT', 'NETWORTH', 'HOUSES', 'NFIN', 'ASSET']"
      ]
     },
     "execution_count": 26,
     "metadata": {},
     "output_type": "execute_result"
    }
   ],
   "source": [
    "high_var_cols = top_ten_trim_var.tail(5).index.to_list()\n",
    "\n",
    "print(\"high_var_cols type:\", type(high_var_cols))\n",
    "print(\"high_var_cols len:\", len(top_ten_trim_var))\n",
    "high_var_cols"
   ]
  },
  {
   "cell_type": "markdown",
   "metadata": {},
   "source": [
    "Split: Vertical split"
   ]
  },
  {
   "cell_type": "code",
   "execution_count": 27,
   "metadata": {},
   "outputs": [
    {
     "name": "stdout",
     "output_type": "stream",
     "text": [
      "X type: <class 'pandas.core.frame.DataFrame'>\n",
      "X shape: (4418, 5)\n"
     ]
    },
    {
     "data": {
      "text/html": [
       "<div>\n",
       "<style scoped>\n",
       "    .dataframe tbody tr th:only-of-type {\n",
       "        vertical-align: middle;\n",
       "    }\n",
       "\n",
       "    .dataframe tbody tr th {\n",
       "        vertical-align: top;\n",
       "    }\n",
       "\n",
       "    .dataframe thead th {\n",
       "        text-align: right;\n",
       "    }\n",
       "</style>\n",
       "<table border=\"1\" class=\"dataframe\">\n",
       "  <thead>\n",
       "    <tr style=\"text-align: right;\">\n",
       "      <th></th>\n",
       "      <th>DEBT</th>\n",
       "      <th>NETWORTH</th>\n",
       "      <th>HOUSES</th>\n",
       "      <th>NFIN</th>\n",
       "      <th>ASSET</th>\n",
       "    </tr>\n",
       "  </thead>\n",
       "  <tbody>\n",
       "    <tr>\n",
       "      <th>5</th>\n",
       "      <td>12200.0</td>\n",
       "      <td>-6710.0</td>\n",
       "      <td>0.0</td>\n",
       "      <td>3900.0</td>\n",
       "      <td>5490.0</td>\n",
       "    </tr>\n",
       "    <tr>\n",
       "      <th>6</th>\n",
       "      <td>12600.0</td>\n",
       "      <td>-4710.0</td>\n",
       "      <td>0.0</td>\n",
       "      <td>6300.0</td>\n",
       "      <td>7890.0</td>\n",
       "    </tr>\n",
       "    <tr>\n",
       "      <th>7</th>\n",
       "      <td>15300.0</td>\n",
       "      <td>-8115.0</td>\n",
       "      <td>0.0</td>\n",
       "      <td>5600.0</td>\n",
       "      <td>7185.0</td>\n",
       "    </tr>\n",
       "    <tr>\n",
       "      <th>8</th>\n",
       "      <td>14100.0</td>\n",
       "      <td>-2510.0</td>\n",
       "      <td>0.0</td>\n",
       "      <td>10000.0</td>\n",
       "      <td>11590.0</td>\n",
       "    </tr>\n",
       "    <tr>\n",
       "      <th>9</th>\n",
       "      <td>15400.0</td>\n",
       "      <td>-5715.0</td>\n",
       "      <td>0.0</td>\n",
       "      <td>8100.0</td>\n",
       "      <td>9685.0</td>\n",
       "    </tr>\n",
       "  </tbody>\n",
       "</table>\n",
       "</div>"
      ],
      "text/plain": [
       "      DEBT  NETWORTH  HOUSES     NFIN    ASSET\n",
       "5  12200.0   -6710.0     0.0   3900.0   5490.0\n",
       "6  12600.0   -4710.0     0.0   6300.0   7890.0\n",
       "7  15300.0   -8115.0     0.0   5600.0   7185.0\n",
       "8  14100.0   -2510.0     0.0  10000.0  11590.0\n",
       "9  15400.0   -5715.0     0.0   8100.0   9685.0"
      ]
     },
     "execution_count": 27,
     "metadata": {},
     "output_type": "execute_result"
    }
   ],
   "source": [
    "X = df[high_var_cols]\n",
    "\n",
    "print(\"X type:\", type(X))\n",
    "print(\"X shape:\", X.shape)\n",
    "X.head()"
   ]
  },
  {
   "cell_type": "markdown",
   "metadata": {},
   "source": [
    "### Build Model"
   ]
  },
  {
   "cell_type": "markdown",
   "metadata": {},
   "source": [
    "- First step is to conduct standardization -  a statistical method for putting all the variables in a dataset on the same scale."
   ]
  },
  {
   "cell_type": "markdown",
   "metadata": {},
   "source": [
    "Standardization: Aggregating Mean and STD"
   ]
  },
  {
   "cell_type": "code",
   "execution_count": 30,
   "metadata": {},
   "outputs": [
    {
     "name": "stdout",
     "output_type": "stream",
     "text": [
      "X_summary type: <class 'pandas.core.frame.DataFrame'>\n",
      "X_summary shape: (2, 5)\n"
     ]
    },
    {
     "data": {
      "text/html": [
       "<div>\n",
       "<style scoped>\n",
       "    .dataframe tbody tr th:only-of-type {\n",
       "        vertical-align: middle;\n",
       "    }\n",
       "\n",
       "    .dataframe tbody tr th {\n",
       "        vertical-align: top;\n",
       "    }\n",
       "\n",
       "    .dataframe thead th {\n",
       "        text-align: right;\n",
       "    }\n",
       "</style>\n",
       "<table border=\"1\" class=\"dataframe\">\n",
       "  <thead>\n",
       "    <tr style=\"text-align: right;\">\n",
       "      <th></th>\n",
       "      <th>DEBT</th>\n",
       "      <th>NETWORTH</th>\n",
       "      <th>HOUSES</th>\n",
       "      <th>NFIN</th>\n",
       "      <th>ASSET</th>\n",
       "    </tr>\n",
       "  </thead>\n",
       "  <tbody>\n",
       "    <tr>\n",
       "      <th>mean</th>\n",
       "      <td>72701</td>\n",
       "      <td>76387</td>\n",
       "      <td>74530</td>\n",
       "      <td>117330</td>\n",
       "      <td>149089</td>\n",
       "    </tr>\n",
       "    <tr>\n",
       "      <th>std</th>\n",
       "      <td>135950</td>\n",
       "      <td>220159</td>\n",
       "      <td>154546</td>\n",
       "      <td>239038</td>\n",
       "      <td>288166</td>\n",
       "    </tr>\n",
       "  </tbody>\n",
       "</table>\n",
       "</div>"
      ],
      "text/plain": [
       "        DEBT  NETWORTH  HOUSES    NFIN   ASSET\n",
       "mean   72701     76387   74530  117330  149089\n",
       "std   135950    220159  154546  239038  288166"
      ]
     },
     "execution_count": 30,
     "metadata": {},
     "output_type": "execute_result"
    }
   ],
   "source": [
    "X_summary = X.aggregate([\"mean\",\"std\"]).astype(int)\n",
    "\n",
    "print(\"X_summary type:\", type(X_summary))\n",
    "print(\"X_summary shape:\", X_summary.shape)\n",
    "X_summary"
   ]
  },
  {
   "cell_type": "markdown",
   "metadata": {},
   "source": [
    "Standardization: Standard Scalar"
   ]
  },
  {
   "cell_type": "code",
   "execution_count": 32,
   "metadata": {},
   "outputs": [
    {
     "name": "stdout",
     "output_type": "stream",
     "text": [
      "X_scaled type: <class 'pandas.core.frame.DataFrame'>\n",
      "X_scaled shape: (4418, 5)\n"
     ]
    },
    {
     "data": {
      "text/html": [
       "<div>\n",
       "<style scoped>\n",
       "    .dataframe tbody tr th:only-of-type {\n",
       "        vertical-align: middle;\n",
       "    }\n",
       "\n",
       "    .dataframe tbody tr th {\n",
       "        vertical-align: top;\n",
       "    }\n",
       "\n",
       "    .dataframe thead th {\n",
       "        text-align: right;\n",
       "    }\n",
       "</style>\n",
       "<table border=\"1\" class=\"dataframe\">\n",
       "  <thead>\n",
       "    <tr style=\"text-align: right;\">\n",
       "      <th></th>\n",
       "      <th>DEBT</th>\n",
       "      <th>NETWORTH</th>\n",
       "      <th>HOUSES</th>\n",
       "      <th>NFIN</th>\n",
       "      <th>ASSET</th>\n",
       "    </tr>\n",
       "  </thead>\n",
       "  <tbody>\n",
       "    <tr>\n",
       "      <th>0</th>\n",
       "      <td>-0.445075</td>\n",
       "      <td>-0.377486</td>\n",
       "      <td>-0.48231</td>\n",
       "      <td>-0.474583</td>\n",
       "      <td>-0.498377</td>\n",
       "    </tr>\n",
       "    <tr>\n",
       "      <th>1</th>\n",
       "      <td>-0.442132</td>\n",
       "      <td>-0.368401</td>\n",
       "      <td>-0.48231</td>\n",
       "      <td>-0.464541</td>\n",
       "      <td>-0.490047</td>\n",
       "    </tr>\n",
       "    <tr>\n",
       "      <th>2</th>\n",
       "      <td>-0.422270</td>\n",
       "      <td>-0.383868</td>\n",
       "      <td>-0.48231</td>\n",
       "      <td>-0.467470</td>\n",
       "      <td>-0.492494</td>\n",
       "    </tr>\n",
       "    <tr>\n",
       "      <th>3</th>\n",
       "      <td>-0.431097</td>\n",
       "      <td>-0.358407</td>\n",
       "      <td>-0.48231</td>\n",
       "      <td>-0.449061</td>\n",
       "      <td>-0.477206</td>\n",
       "    </tr>\n",
       "    <tr>\n",
       "      <th>4</th>\n",
       "      <td>-0.421534</td>\n",
       "      <td>-0.372966</td>\n",
       "      <td>-0.48231</td>\n",
       "      <td>-0.457010</td>\n",
       "      <td>-0.483818</td>\n",
       "    </tr>\n",
       "  </tbody>\n",
       "</table>\n",
       "</div>"
      ],
      "text/plain": [
       "       DEBT  NETWORTH   HOUSES      NFIN     ASSET\n",
       "0 -0.445075 -0.377486 -0.48231 -0.474583 -0.498377\n",
       "1 -0.442132 -0.368401 -0.48231 -0.464541 -0.490047\n",
       "2 -0.422270 -0.383868 -0.48231 -0.467470 -0.492494\n",
       "3 -0.431097 -0.358407 -0.48231 -0.449061 -0.477206\n",
       "4 -0.421534 -0.372966 -0.48231 -0.457010 -0.483818"
      ]
     },
     "execution_count": 32,
     "metadata": {},
     "output_type": "execute_result"
    }
   ],
   "source": [
    "# Instantiate transformer\n",
    "ss = StandardScaler()\n",
    "\n",
    "# Transform `X`\n",
    "X_scaled_data = ss.fit_transform(X)\n",
    "\n",
    "# Put `X_scaled_data` into DataFrame\n",
    "X_scaled = pd.DataFrame(X_scaled_data, columns=X.columns)\n",
    "\n",
    "print(\"X_scaled type:\", type(X_scaled))\n",
    "print(\"X_scaled shape:\", X_scaled.shape)\n",
    "X_scaled.head()"
   ]
  },
  {
   "cell_type": "markdown",
   "metadata": {},
   "source": [
    "Standardization: Check Mean and STD"
   ]
  },
  {
   "cell_type": "code",
   "execution_count": 34,
   "metadata": {},
   "outputs": [
    {
     "name": "stdout",
     "output_type": "stream",
     "text": [
      "X_scaled_summary type: <class 'pandas.core.frame.DataFrame'>\n",
      "X_scaled_summary shape: (2, 5)\n"
     ]
    },
    {
     "data": {
      "text/html": [
       "<div>\n",
       "<style scoped>\n",
       "    .dataframe tbody tr th:only-of-type {\n",
       "        vertical-align: middle;\n",
       "    }\n",
       "\n",
       "    .dataframe tbody tr th {\n",
       "        vertical-align: top;\n",
       "    }\n",
       "\n",
       "    .dataframe thead th {\n",
       "        text-align: right;\n",
       "    }\n",
       "</style>\n",
       "<table border=\"1\" class=\"dataframe\">\n",
       "  <thead>\n",
       "    <tr style=\"text-align: right;\">\n",
       "      <th></th>\n",
       "      <th>DEBT</th>\n",
       "      <th>NETWORTH</th>\n",
       "      <th>HOUSES</th>\n",
       "      <th>NFIN</th>\n",
       "      <th>ASSET</th>\n",
       "    </tr>\n",
       "  </thead>\n",
       "  <tbody>\n",
       "    <tr>\n",
       "      <th>mean</th>\n",
       "      <td>0</td>\n",
       "      <td>0</td>\n",
       "      <td>0</td>\n",
       "      <td>0</td>\n",
       "      <td>0</td>\n",
       "    </tr>\n",
       "    <tr>\n",
       "      <th>std</th>\n",
       "      <td>1</td>\n",
       "      <td>1</td>\n",
       "      <td>1</td>\n",
       "      <td>1</td>\n",
       "      <td>1</td>\n",
       "    </tr>\n",
       "  </tbody>\n",
       "</table>\n",
       "</div>"
      ],
      "text/plain": [
       "      DEBT  NETWORTH  HOUSES  NFIN  ASSET\n",
       "mean     0         0       0     0      0\n",
       "std      1         1       1     1      1"
      ]
     },
     "execution_count": 34,
     "metadata": {},
     "output_type": "execute_result"
    }
   ],
   "source": [
    "X_scaled_summary = X_scaled.aggregate([\"mean\",\"std\"]).astype(int)\n",
    "\n",
    "print(\"X_scaled_summary type:\", type(X_scaled_summary))\n",
    "print(\"X_scaled_summary shape:\", X_scaled_summary.shape)\n",
    "X_scaled_summary"
   ]
  },
  {
   "cell_type": "markdown",
   "metadata": {},
   "source": [
    "Build and Tune Model"
   ]
  },
  {
   "cell_type": "code",
   "execution_count": 35,
   "metadata": {},
   "outputs": [
    {
     "name": "stdout",
     "output_type": "stream",
     "text": [
      "inertia_errors type: <class 'list'>\n",
      "inertia_errors len: 11\n",
      "Inertia: [11028.058082607182, 7190.703769068726, 6233.106346879304, 5009.683910188741, 4935.578599045227, 4282.331488864092, 4103.658567417195, 3503.1098972163218, 2874.9614912019983, 2646.094394137882, 2505.4713082028998]\n",
      "\n",
      "silhouette_scores type: <class 'list'>\n",
      "silhouette_scores len: 11\n",
      "Silhouette Scores: [0.7464502937083215, 0.7042841259119152, 0.7046977054481021, 0.6563064140490201, 0.6589817231149715, 0.6414988659227319, 0.6423235394675234, 0.6453132882450023, 0.6392046929708322, 0.6214410819897591, 0.6237975162108229]\n"
     ]
    }
   ],
   "source": [
    "n_clusters = range(2,13)\n",
    "inertia_errors = []\n",
    "silhouette_scores = []\n",
    "\n",
    "# Add `for` loop to train model and calculate inertia, silhouette score.\n",
    "for k in n_clusters:\n",
    "    model = make_pipeline(\n",
    "        StandardScaler(),\n",
    "        KMeans(n_clusters=k, random_state=42)\n",
    "    )\n",
    "    model.fit(X)\n",
    "    inertia_errors.append(model.named_steps[\"kmeans\"].inertia_)        \n",
    "    silhouette_scores.append(silhouette_score(X,model.named_steps[\"kmeans\"].labels_))\n",
    "        \n",
    "\n",
    "print(\"inertia_errors type:\", type(inertia_errors))\n",
    "print(\"inertia_errors len:\", len(inertia_errors))\n",
    "print(\"Inertia:\", inertia_errors)\n",
    "print()\n",
    "print(\"silhouette_scores type:\", type(silhouette_scores))\n",
    "print(\"silhouette_scores len:\", len(silhouette_scores))\n",
    "print(\"Silhouette Scores:\", silhouette_scores)"
   ]
  },
  {
   "cell_type": "markdown",
   "metadata": {},
   "source": [
    "Plot Inertia Clusters"
   ]
  },
  {
   "cell_type": "code",
   "execution_count": 36,
   "metadata": {},
   "outputs": [
    {
     "data": {
      "application/vnd.plotly.v1+json": {
       "config": {
        "plotlyServerURL": "https://plot.ly"
       },
       "data": [
        {
         "hovertemplate": "x=%{x}<br>y=%{y}<extra></extra>",
         "legendgroup": "",
         "line": {
          "color": "#636efa",
          "dash": "solid"
         },
         "marker": {
          "symbol": "circle"
         },
         "mode": "lines",
         "name": "",
         "orientation": "v",
         "showlegend": false,
         "type": "scatter",
         "x": [
          2,
          3,
          4,
          5,
          6,
          7,
          8,
          9,
          10,
          11,
          12
         ],
         "xaxis": "x",
         "y": [
          11028.058082607182,
          7190.703769068726,
          6233.106346879304,
          5009.683910188741,
          4935.578599045227,
          4282.331488864092,
          4103.658567417195,
          3503.1098972163218,
          2874.9614912019983,
          2646.094394137882,
          2505.4713082028998
         ],
         "yaxis": "y"
        }
       ],
       "layout": {
        "legend": {
         "tracegroupgap": 0
        },
        "template": {
         "data": {
          "bar": [
           {
            "error_x": {
             "color": "#2a3f5f"
            },
            "error_y": {
             "color": "#2a3f5f"
            },
            "marker": {
             "line": {
              "color": "#E5ECF6",
              "width": 0.5
             },
             "pattern": {
              "fillmode": "overlay",
              "size": 10,
              "solidity": 0.2
             }
            },
            "type": "bar"
           }
          ],
          "barpolar": [
           {
            "marker": {
             "line": {
              "color": "#E5ECF6",
              "width": 0.5
             },
             "pattern": {
              "fillmode": "overlay",
              "size": 10,
              "solidity": 0.2
             }
            },
            "type": "barpolar"
           }
          ],
          "carpet": [
           {
            "aaxis": {
             "endlinecolor": "#2a3f5f",
             "gridcolor": "white",
             "linecolor": "white",
             "minorgridcolor": "white",
             "startlinecolor": "#2a3f5f"
            },
            "baxis": {
             "endlinecolor": "#2a3f5f",
             "gridcolor": "white",
             "linecolor": "white",
             "minorgridcolor": "white",
             "startlinecolor": "#2a3f5f"
            },
            "type": "carpet"
           }
          ],
          "choropleth": [
           {
            "colorbar": {
             "outlinewidth": 0,
             "ticks": ""
            },
            "type": "choropleth"
           }
          ],
          "contour": [
           {
            "colorbar": {
             "outlinewidth": 0,
             "ticks": ""
            },
            "colorscale": [
             [
              0,
              "#0d0887"
             ],
             [
              0.1111111111111111,
              "#46039f"
             ],
             [
              0.2222222222222222,
              "#7201a8"
             ],
             [
              0.3333333333333333,
              "#9c179e"
             ],
             [
              0.4444444444444444,
              "#bd3786"
             ],
             [
              0.5555555555555556,
              "#d8576b"
             ],
             [
              0.6666666666666666,
              "#ed7953"
             ],
             [
              0.7777777777777778,
              "#fb9f3a"
             ],
             [
              0.8888888888888888,
              "#fdca26"
             ],
             [
              1,
              "#f0f921"
             ]
            ],
            "type": "contour"
           }
          ],
          "contourcarpet": [
           {
            "colorbar": {
             "outlinewidth": 0,
             "ticks": ""
            },
            "type": "contourcarpet"
           }
          ],
          "heatmap": [
           {
            "colorbar": {
             "outlinewidth": 0,
             "ticks": ""
            },
            "colorscale": [
             [
              0,
              "#0d0887"
             ],
             [
              0.1111111111111111,
              "#46039f"
             ],
             [
              0.2222222222222222,
              "#7201a8"
             ],
             [
              0.3333333333333333,
              "#9c179e"
             ],
             [
              0.4444444444444444,
              "#bd3786"
             ],
             [
              0.5555555555555556,
              "#d8576b"
             ],
             [
              0.6666666666666666,
              "#ed7953"
             ],
             [
              0.7777777777777778,
              "#fb9f3a"
             ],
             [
              0.8888888888888888,
              "#fdca26"
             ],
             [
              1,
              "#f0f921"
             ]
            ],
            "type": "heatmap"
           }
          ],
          "heatmapgl": [
           {
            "colorbar": {
             "outlinewidth": 0,
             "ticks": ""
            },
            "colorscale": [
             [
              0,
              "#0d0887"
             ],
             [
              0.1111111111111111,
              "#46039f"
             ],
             [
              0.2222222222222222,
              "#7201a8"
             ],
             [
              0.3333333333333333,
              "#9c179e"
             ],
             [
              0.4444444444444444,
              "#bd3786"
             ],
             [
              0.5555555555555556,
              "#d8576b"
             ],
             [
              0.6666666666666666,
              "#ed7953"
             ],
             [
              0.7777777777777778,
              "#fb9f3a"
             ],
             [
              0.8888888888888888,
              "#fdca26"
             ],
             [
              1,
              "#f0f921"
             ]
            ],
            "type": "heatmapgl"
           }
          ],
          "histogram": [
           {
            "marker": {
             "pattern": {
              "fillmode": "overlay",
              "size": 10,
              "solidity": 0.2
             }
            },
            "type": "histogram"
           }
          ],
          "histogram2d": [
           {
            "colorbar": {
             "outlinewidth": 0,
             "ticks": ""
            },
            "colorscale": [
             [
              0,
              "#0d0887"
             ],
             [
              0.1111111111111111,
              "#46039f"
             ],
             [
              0.2222222222222222,
              "#7201a8"
             ],
             [
              0.3333333333333333,
              "#9c179e"
             ],
             [
              0.4444444444444444,
              "#bd3786"
             ],
             [
              0.5555555555555556,
              "#d8576b"
             ],
             [
              0.6666666666666666,
              "#ed7953"
             ],
             [
              0.7777777777777778,
              "#fb9f3a"
             ],
             [
              0.8888888888888888,
              "#fdca26"
             ],
             [
              1,
              "#f0f921"
             ]
            ],
            "type": "histogram2d"
           }
          ],
          "histogram2dcontour": [
           {
            "colorbar": {
             "outlinewidth": 0,
             "ticks": ""
            },
            "colorscale": [
             [
              0,
              "#0d0887"
             ],
             [
              0.1111111111111111,
              "#46039f"
             ],
             [
              0.2222222222222222,
              "#7201a8"
             ],
             [
              0.3333333333333333,
              "#9c179e"
             ],
             [
              0.4444444444444444,
              "#bd3786"
             ],
             [
              0.5555555555555556,
              "#d8576b"
             ],
             [
              0.6666666666666666,
              "#ed7953"
             ],
             [
              0.7777777777777778,
              "#fb9f3a"
             ],
             [
              0.8888888888888888,
              "#fdca26"
             ],
             [
              1,
              "#f0f921"
             ]
            ],
            "type": "histogram2dcontour"
           }
          ],
          "mesh3d": [
           {
            "colorbar": {
             "outlinewidth": 0,
             "ticks": ""
            },
            "type": "mesh3d"
           }
          ],
          "parcoords": [
           {
            "line": {
             "colorbar": {
              "outlinewidth": 0,
              "ticks": ""
             }
            },
            "type": "parcoords"
           }
          ],
          "pie": [
           {
            "automargin": true,
            "type": "pie"
           }
          ],
          "scatter": [
           {
            "fillpattern": {
             "fillmode": "overlay",
             "size": 10,
             "solidity": 0.2
            },
            "type": "scatter"
           }
          ],
          "scatter3d": [
           {
            "line": {
             "colorbar": {
              "outlinewidth": 0,
              "ticks": ""
             }
            },
            "marker": {
             "colorbar": {
              "outlinewidth": 0,
              "ticks": ""
             }
            },
            "type": "scatter3d"
           }
          ],
          "scattercarpet": [
           {
            "marker": {
             "colorbar": {
              "outlinewidth": 0,
              "ticks": ""
             }
            },
            "type": "scattercarpet"
           }
          ],
          "scattergeo": [
           {
            "marker": {
             "colorbar": {
              "outlinewidth": 0,
              "ticks": ""
             }
            },
            "type": "scattergeo"
           }
          ],
          "scattergl": [
           {
            "marker": {
             "colorbar": {
              "outlinewidth": 0,
              "ticks": ""
             }
            },
            "type": "scattergl"
           }
          ],
          "scattermapbox": [
           {
            "marker": {
             "colorbar": {
              "outlinewidth": 0,
              "ticks": ""
             }
            },
            "type": "scattermapbox"
           }
          ],
          "scatterpolar": [
           {
            "marker": {
             "colorbar": {
              "outlinewidth": 0,
              "ticks": ""
             }
            },
            "type": "scatterpolar"
           }
          ],
          "scatterpolargl": [
           {
            "marker": {
             "colorbar": {
              "outlinewidth": 0,
              "ticks": ""
             }
            },
            "type": "scatterpolargl"
           }
          ],
          "scatterternary": [
           {
            "marker": {
             "colorbar": {
              "outlinewidth": 0,
              "ticks": ""
             }
            },
            "type": "scatterternary"
           }
          ],
          "surface": [
           {
            "colorbar": {
             "outlinewidth": 0,
             "ticks": ""
            },
            "colorscale": [
             [
              0,
              "#0d0887"
             ],
             [
              0.1111111111111111,
              "#46039f"
             ],
             [
              0.2222222222222222,
              "#7201a8"
             ],
             [
              0.3333333333333333,
              "#9c179e"
             ],
             [
              0.4444444444444444,
              "#bd3786"
             ],
             [
              0.5555555555555556,
              "#d8576b"
             ],
             [
              0.6666666666666666,
              "#ed7953"
             ],
             [
              0.7777777777777778,
              "#fb9f3a"
             ],
             [
              0.8888888888888888,
              "#fdca26"
             ],
             [
              1,
              "#f0f921"
             ]
            ],
            "type": "surface"
           }
          ],
          "table": [
           {
            "cells": {
             "fill": {
              "color": "#EBF0F8"
             },
             "line": {
              "color": "white"
             }
            },
            "header": {
             "fill": {
              "color": "#C8D4E3"
             },
             "line": {
              "color": "white"
             }
            },
            "type": "table"
           }
          ]
         },
         "layout": {
          "annotationdefaults": {
           "arrowcolor": "#2a3f5f",
           "arrowhead": 0,
           "arrowwidth": 1
          },
          "autotypenumbers": "strict",
          "coloraxis": {
           "colorbar": {
            "outlinewidth": 0,
            "ticks": ""
           }
          },
          "colorscale": {
           "diverging": [
            [
             0,
             "#8e0152"
            ],
            [
             0.1,
             "#c51b7d"
            ],
            [
             0.2,
             "#de77ae"
            ],
            [
             0.3,
             "#f1b6da"
            ],
            [
             0.4,
             "#fde0ef"
            ],
            [
             0.5,
             "#f7f7f7"
            ],
            [
             0.6,
             "#e6f5d0"
            ],
            [
             0.7,
             "#b8e186"
            ],
            [
             0.8,
             "#7fbc41"
            ],
            [
             0.9,
             "#4d9221"
            ],
            [
             1,
             "#276419"
            ]
           ],
           "sequential": [
            [
             0,
             "#0d0887"
            ],
            [
             0.1111111111111111,
             "#46039f"
            ],
            [
             0.2222222222222222,
             "#7201a8"
            ],
            [
             0.3333333333333333,
             "#9c179e"
            ],
            [
             0.4444444444444444,
             "#bd3786"
            ],
            [
             0.5555555555555556,
             "#d8576b"
            ],
            [
             0.6666666666666666,
             "#ed7953"
            ],
            [
             0.7777777777777778,
             "#fb9f3a"
            ],
            [
             0.8888888888888888,
             "#fdca26"
            ],
            [
             1,
             "#f0f921"
            ]
           ],
           "sequentialminus": [
            [
             0,
             "#0d0887"
            ],
            [
             0.1111111111111111,
             "#46039f"
            ],
            [
             0.2222222222222222,
             "#7201a8"
            ],
            [
             0.3333333333333333,
             "#9c179e"
            ],
            [
             0.4444444444444444,
             "#bd3786"
            ],
            [
             0.5555555555555556,
             "#d8576b"
            ],
            [
             0.6666666666666666,
             "#ed7953"
            ],
            [
             0.7777777777777778,
             "#fb9f3a"
            ],
            [
             0.8888888888888888,
             "#fdca26"
            ],
            [
             1,
             "#f0f921"
            ]
           ]
          },
          "colorway": [
           "#636efa",
           "#EF553B",
           "#00cc96",
           "#ab63fa",
           "#FFA15A",
           "#19d3f3",
           "#FF6692",
           "#B6E880",
           "#FF97FF",
           "#FECB52"
          ],
          "font": {
           "color": "#2a3f5f"
          },
          "geo": {
           "bgcolor": "white",
           "lakecolor": "white",
           "landcolor": "#E5ECF6",
           "showlakes": true,
           "showland": true,
           "subunitcolor": "white"
          },
          "hoverlabel": {
           "align": "left"
          },
          "hovermode": "closest",
          "mapbox": {
           "style": "light"
          },
          "paper_bgcolor": "white",
          "plot_bgcolor": "#E5ECF6",
          "polar": {
           "angularaxis": {
            "gridcolor": "white",
            "linecolor": "white",
            "ticks": ""
           },
           "bgcolor": "#E5ECF6",
           "radialaxis": {
            "gridcolor": "white",
            "linecolor": "white",
            "ticks": ""
           }
          },
          "scene": {
           "xaxis": {
            "backgroundcolor": "#E5ECF6",
            "gridcolor": "white",
            "gridwidth": 2,
            "linecolor": "white",
            "showbackground": true,
            "ticks": "",
            "zerolinecolor": "white"
           },
           "yaxis": {
            "backgroundcolor": "#E5ECF6",
            "gridcolor": "white",
            "gridwidth": 2,
            "linecolor": "white",
            "showbackground": true,
            "ticks": "",
            "zerolinecolor": "white"
           },
           "zaxis": {
            "backgroundcolor": "#E5ECF6",
            "gridcolor": "white",
            "gridwidth": 2,
            "linecolor": "white",
            "showbackground": true,
            "ticks": "",
            "zerolinecolor": "white"
           }
          },
          "shapedefaults": {
           "line": {
            "color": "#2a3f5f"
           }
          },
          "ternary": {
           "aaxis": {
            "gridcolor": "white",
            "linecolor": "white",
            "ticks": ""
           },
           "baxis": {
            "gridcolor": "white",
            "linecolor": "white",
            "ticks": ""
           },
           "bgcolor": "#E5ECF6",
           "caxis": {
            "gridcolor": "white",
            "linecolor": "white",
            "ticks": ""
           }
          },
          "title": {
           "x": 0.05
          },
          "xaxis": {
           "automargin": true,
           "gridcolor": "white",
           "linecolor": "white",
           "ticks": "",
           "title": {
            "standoff": 15
           },
           "zerolinecolor": "white",
           "zerolinewidth": 2
          },
          "yaxis": {
           "automargin": true,
           "gridcolor": "white",
           "linecolor": "white",
           "ticks": "",
           "title": {
            "standoff": 15
           },
           "zerolinecolor": "white",
           "zerolinewidth": 2
          }
         }
        },
        "title": {
         "text": "Means Model: Inertia vs Number of Clusters"
        },
        "xaxis": {
         "anchor": "y",
         "domain": [
          0,
          1
         ],
         "title": {
          "text": "Number of Clusters"
         }
        },
        "yaxis": {
         "anchor": "x",
         "domain": [
          0,
          1
         ],
         "title": {
          "text": "Inertia"
         }
        }
       }
      }
     },
     "metadata": {},
     "output_type": "display_data"
    }
   ],
   "source": [
    "# Create line plot of `inertia_errors` vs `n_clusters`\n",
    "fig = px.line(\n",
    "    x=n_clusters, \n",
    "    y=inertia_errors,\n",
    "    title=\"Means Model: Inertia vs Number of Clusters\"\n",
    ")\n",
    "fig.update_layout(xaxis_title=\"Number of Clusters\", yaxis_title=\"Inertia\")\n",
    "\n",
    "fig.show()"
   ]
  },
  {
   "cell_type": "markdown",
   "metadata": {},
   "source": [
    "- We can see that the line starts to flatten out around 4 or 5 cluster."
   ]
  },
  {
   "cell_type": "markdown",
   "metadata": {},
   "source": [
    "Plot Silhoutte Scores vs Clusters"
   ]
  },
  {
   "cell_type": "code",
   "execution_count": 37,
   "metadata": {},
   "outputs": [
    {
     "data": {
      "application/vnd.plotly.v1+json": {
       "config": {
        "plotlyServerURL": "https://plot.ly"
       },
       "data": [
        {
         "hovertemplate": "x=%{x}<br>y=%{y}<extra></extra>",
         "legendgroup": "",
         "line": {
          "color": "#636efa",
          "dash": "solid"
         },
         "marker": {
          "symbol": "circle"
         },
         "mode": "lines",
         "name": "",
         "orientation": "v",
         "showlegend": false,
         "type": "scatter",
         "x": [
          2,
          3,
          4,
          5,
          6,
          7,
          8,
          9,
          10,
          11,
          12
         ],
         "xaxis": "x",
         "y": [
          0.7464502937083215,
          0.7042841259119152,
          0.7046977054481021,
          0.6563064140490201,
          0.6589817231149715,
          0.6414988659227319,
          0.6423235394675234,
          0.6453132882450023,
          0.6392046929708322,
          0.6214410819897591,
          0.6237975162108229
         ],
         "yaxis": "y"
        }
       ],
       "layout": {
        "legend": {
         "tracegroupgap": 0
        },
        "template": {
         "data": {
          "bar": [
           {
            "error_x": {
             "color": "#2a3f5f"
            },
            "error_y": {
             "color": "#2a3f5f"
            },
            "marker": {
             "line": {
              "color": "#E5ECF6",
              "width": 0.5
             },
             "pattern": {
              "fillmode": "overlay",
              "size": 10,
              "solidity": 0.2
             }
            },
            "type": "bar"
           }
          ],
          "barpolar": [
           {
            "marker": {
             "line": {
              "color": "#E5ECF6",
              "width": 0.5
             },
             "pattern": {
              "fillmode": "overlay",
              "size": 10,
              "solidity": 0.2
             }
            },
            "type": "barpolar"
           }
          ],
          "carpet": [
           {
            "aaxis": {
             "endlinecolor": "#2a3f5f",
             "gridcolor": "white",
             "linecolor": "white",
             "minorgridcolor": "white",
             "startlinecolor": "#2a3f5f"
            },
            "baxis": {
             "endlinecolor": "#2a3f5f",
             "gridcolor": "white",
             "linecolor": "white",
             "minorgridcolor": "white",
             "startlinecolor": "#2a3f5f"
            },
            "type": "carpet"
           }
          ],
          "choropleth": [
           {
            "colorbar": {
             "outlinewidth": 0,
             "ticks": ""
            },
            "type": "choropleth"
           }
          ],
          "contour": [
           {
            "colorbar": {
             "outlinewidth": 0,
             "ticks": ""
            },
            "colorscale": [
             [
              0,
              "#0d0887"
             ],
             [
              0.1111111111111111,
              "#46039f"
             ],
             [
              0.2222222222222222,
              "#7201a8"
             ],
             [
              0.3333333333333333,
              "#9c179e"
             ],
             [
              0.4444444444444444,
              "#bd3786"
             ],
             [
              0.5555555555555556,
              "#d8576b"
             ],
             [
              0.6666666666666666,
              "#ed7953"
             ],
             [
              0.7777777777777778,
              "#fb9f3a"
             ],
             [
              0.8888888888888888,
              "#fdca26"
             ],
             [
              1,
              "#f0f921"
             ]
            ],
            "type": "contour"
           }
          ],
          "contourcarpet": [
           {
            "colorbar": {
             "outlinewidth": 0,
             "ticks": ""
            },
            "type": "contourcarpet"
           }
          ],
          "heatmap": [
           {
            "colorbar": {
             "outlinewidth": 0,
             "ticks": ""
            },
            "colorscale": [
             [
              0,
              "#0d0887"
             ],
             [
              0.1111111111111111,
              "#46039f"
             ],
             [
              0.2222222222222222,
              "#7201a8"
             ],
             [
              0.3333333333333333,
              "#9c179e"
             ],
             [
              0.4444444444444444,
              "#bd3786"
             ],
             [
              0.5555555555555556,
              "#d8576b"
             ],
             [
              0.6666666666666666,
              "#ed7953"
             ],
             [
              0.7777777777777778,
              "#fb9f3a"
             ],
             [
              0.8888888888888888,
              "#fdca26"
             ],
             [
              1,
              "#f0f921"
             ]
            ],
            "type": "heatmap"
           }
          ],
          "heatmapgl": [
           {
            "colorbar": {
             "outlinewidth": 0,
             "ticks": ""
            },
            "colorscale": [
             [
              0,
              "#0d0887"
             ],
             [
              0.1111111111111111,
              "#46039f"
             ],
             [
              0.2222222222222222,
              "#7201a8"
             ],
             [
              0.3333333333333333,
              "#9c179e"
             ],
             [
              0.4444444444444444,
              "#bd3786"
             ],
             [
              0.5555555555555556,
              "#d8576b"
             ],
             [
              0.6666666666666666,
              "#ed7953"
             ],
             [
              0.7777777777777778,
              "#fb9f3a"
             ],
             [
              0.8888888888888888,
              "#fdca26"
             ],
             [
              1,
              "#f0f921"
             ]
            ],
            "type": "heatmapgl"
           }
          ],
          "histogram": [
           {
            "marker": {
             "pattern": {
              "fillmode": "overlay",
              "size": 10,
              "solidity": 0.2
             }
            },
            "type": "histogram"
           }
          ],
          "histogram2d": [
           {
            "colorbar": {
             "outlinewidth": 0,
             "ticks": ""
            },
            "colorscale": [
             [
              0,
              "#0d0887"
             ],
             [
              0.1111111111111111,
              "#46039f"
             ],
             [
              0.2222222222222222,
              "#7201a8"
             ],
             [
              0.3333333333333333,
              "#9c179e"
             ],
             [
              0.4444444444444444,
              "#bd3786"
             ],
             [
              0.5555555555555556,
              "#d8576b"
             ],
             [
              0.6666666666666666,
              "#ed7953"
             ],
             [
              0.7777777777777778,
              "#fb9f3a"
             ],
             [
              0.8888888888888888,
              "#fdca26"
             ],
             [
              1,
              "#f0f921"
             ]
            ],
            "type": "histogram2d"
           }
          ],
          "histogram2dcontour": [
           {
            "colorbar": {
             "outlinewidth": 0,
             "ticks": ""
            },
            "colorscale": [
             [
              0,
              "#0d0887"
             ],
             [
              0.1111111111111111,
              "#46039f"
             ],
             [
              0.2222222222222222,
              "#7201a8"
             ],
             [
              0.3333333333333333,
              "#9c179e"
             ],
             [
              0.4444444444444444,
              "#bd3786"
             ],
             [
              0.5555555555555556,
              "#d8576b"
             ],
             [
              0.6666666666666666,
              "#ed7953"
             ],
             [
              0.7777777777777778,
              "#fb9f3a"
             ],
             [
              0.8888888888888888,
              "#fdca26"
             ],
             [
              1,
              "#f0f921"
             ]
            ],
            "type": "histogram2dcontour"
           }
          ],
          "mesh3d": [
           {
            "colorbar": {
             "outlinewidth": 0,
             "ticks": ""
            },
            "type": "mesh3d"
           }
          ],
          "parcoords": [
           {
            "line": {
             "colorbar": {
              "outlinewidth": 0,
              "ticks": ""
             }
            },
            "type": "parcoords"
           }
          ],
          "pie": [
           {
            "automargin": true,
            "type": "pie"
           }
          ],
          "scatter": [
           {
            "fillpattern": {
             "fillmode": "overlay",
             "size": 10,
             "solidity": 0.2
            },
            "type": "scatter"
           }
          ],
          "scatter3d": [
           {
            "line": {
             "colorbar": {
              "outlinewidth": 0,
              "ticks": ""
             }
            },
            "marker": {
             "colorbar": {
              "outlinewidth": 0,
              "ticks": ""
             }
            },
            "type": "scatter3d"
           }
          ],
          "scattercarpet": [
           {
            "marker": {
             "colorbar": {
              "outlinewidth": 0,
              "ticks": ""
             }
            },
            "type": "scattercarpet"
           }
          ],
          "scattergeo": [
           {
            "marker": {
             "colorbar": {
              "outlinewidth": 0,
              "ticks": ""
             }
            },
            "type": "scattergeo"
           }
          ],
          "scattergl": [
           {
            "marker": {
             "colorbar": {
              "outlinewidth": 0,
              "ticks": ""
             }
            },
            "type": "scattergl"
           }
          ],
          "scattermapbox": [
           {
            "marker": {
             "colorbar": {
              "outlinewidth": 0,
              "ticks": ""
             }
            },
            "type": "scattermapbox"
           }
          ],
          "scatterpolar": [
           {
            "marker": {
             "colorbar": {
              "outlinewidth": 0,
              "ticks": ""
             }
            },
            "type": "scatterpolar"
           }
          ],
          "scatterpolargl": [
           {
            "marker": {
             "colorbar": {
              "outlinewidth": 0,
              "ticks": ""
             }
            },
            "type": "scatterpolargl"
           }
          ],
          "scatterternary": [
           {
            "marker": {
             "colorbar": {
              "outlinewidth": 0,
              "ticks": ""
             }
            },
            "type": "scatterternary"
           }
          ],
          "surface": [
           {
            "colorbar": {
             "outlinewidth": 0,
             "ticks": ""
            },
            "colorscale": [
             [
              0,
              "#0d0887"
             ],
             [
              0.1111111111111111,
              "#46039f"
             ],
             [
              0.2222222222222222,
              "#7201a8"
             ],
             [
              0.3333333333333333,
              "#9c179e"
             ],
             [
              0.4444444444444444,
              "#bd3786"
             ],
             [
              0.5555555555555556,
              "#d8576b"
             ],
             [
              0.6666666666666666,
              "#ed7953"
             ],
             [
              0.7777777777777778,
              "#fb9f3a"
             ],
             [
              0.8888888888888888,
              "#fdca26"
             ],
             [
              1,
              "#f0f921"
             ]
            ],
            "type": "surface"
           }
          ],
          "table": [
           {
            "cells": {
             "fill": {
              "color": "#EBF0F8"
             },
             "line": {
              "color": "white"
             }
            },
            "header": {
             "fill": {
              "color": "#C8D4E3"
             },
             "line": {
              "color": "white"
             }
            },
            "type": "table"
           }
          ]
         },
         "layout": {
          "annotationdefaults": {
           "arrowcolor": "#2a3f5f",
           "arrowhead": 0,
           "arrowwidth": 1
          },
          "autotypenumbers": "strict",
          "coloraxis": {
           "colorbar": {
            "outlinewidth": 0,
            "ticks": ""
           }
          },
          "colorscale": {
           "diverging": [
            [
             0,
             "#8e0152"
            ],
            [
             0.1,
             "#c51b7d"
            ],
            [
             0.2,
             "#de77ae"
            ],
            [
             0.3,
             "#f1b6da"
            ],
            [
             0.4,
             "#fde0ef"
            ],
            [
             0.5,
             "#f7f7f7"
            ],
            [
             0.6,
             "#e6f5d0"
            ],
            [
             0.7,
             "#b8e186"
            ],
            [
             0.8,
             "#7fbc41"
            ],
            [
             0.9,
             "#4d9221"
            ],
            [
             1,
             "#276419"
            ]
           ],
           "sequential": [
            [
             0,
             "#0d0887"
            ],
            [
             0.1111111111111111,
             "#46039f"
            ],
            [
             0.2222222222222222,
             "#7201a8"
            ],
            [
             0.3333333333333333,
             "#9c179e"
            ],
            [
             0.4444444444444444,
             "#bd3786"
            ],
            [
             0.5555555555555556,
             "#d8576b"
            ],
            [
             0.6666666666666666,
             "#ed7953"
            ],
            [
             0.7777777777777778,
             "#fb9f3a"
            ],
            [
             0.8888888888888888,
             "#fdca26"
            ],
            [
             1,
             "#f0f921"
            ]
           ],
           "sequentialminus": [
            [
             0,
             "#0d0887"
            ],
            [
             0.1111111111111111,
             "#46039f"
            ],
            [
             0.2222222222222222,
             "#7201a8"
            ],
            [
             0.3333333333333333,
             "#9c179e"
            ],
            [
             0.4444444444444444,
             "#bd3786"
            ],
            [
             0.5555555555555556,
             "#d8576b"
            ],
            [
             0.6666666666666666,
             "#ed7953"
            ],
            [
             0.7777777777777778,
             "#fb9f3a"
            ],
            [
             0.8888888888888888,
             "#fdca26"
            ],
            [
             1,
             "#f0f921"
            ]
           ]
          },
          "colorway": [
           "#636efa",
           "#EF553B",
           "#00cc96",
           "#ab63fa",
           "#FFA15A",
           "#19d3f3",
           "#FF6692",
           "#B6E880",
           "#FF97FF",
           "#FECB52"
          ],
          "font": {
           "color": "#2a3f5f"
          },
          "geo": {
           "bgcolor": "white",
           "lakecolor": "white",
           "landcolor": "#E5ECF6",
           "showlakes": true,
           "showland": true,
           "subunitcolor": "white"
          },
          "hoverlabel": {
           "align": "left"
          },
          "hovermode": "closest",
          "mapbox": {
           "style": "light"
          },
          "paper_bgcolor": "white",
          "plot_bgcolor": "#E5ECF6",
          "polar": {
           "angularaxis": {
            "gridcolor": "white",
            "linecolor": "white",
            "ticks": ""
           },
           "bgcolor": "#E5ECF6",
           "radialaxis": {
            "gridcolor": "white",
            "linecolor": "white",
            "ticks": ""
           }
          },
          "scene": {
           "xaxis": {
            "backgroundcolor": "#E5ECF6",
            "gridcolor": "white",
            "gridwidth": 2,
            "linecolor": "white",
            "showbackground": true,
            "ticks": "",
            "zerolinecolor": "white"
           },
           "yaxis": {
            "backgroundcolor": "#E5ECF6",
            "gridcolor": "white",
            "gridwidth": 2,
            "linecolor": "white",
            "showbackground": true,
            "ticks": "",
            "zerolinecolor": "white"
           },
           "zaxis": {
            "backgroundcolor": "#E5ECF6",
            "gridcolor": "white",
            "gridwidth": 2,
            "linecolor": "white",
            "showbackground": true,
            "ticks": "",
            "zerolinecolor": "white"
           }
          },
          "shapedefaults": {
           "line": {
            "color": "#2a3f5f"
           }
          },
          "ternary": {
           "aaxis": {
            "gridcolor": "white",
            "linecolor": "white",
            "ticks": ""
           },
           "baxis": {
            "gridcolor": "white",
            "linecolor": "white",
            "ticks": ""
           },
           "bgcolor": "#E5ECF6",
           "caxis": {
            "gridcolor": "white",
            "linecolor": "white",
            "ticks": ""
           }
          },
          "title": {
           "x": 0.05
          },
          "xaxis": {
           "automargin": true,
           "gridcolor": "white",
           "linecolor": "white",
           "ticks": "",
           "title": {
            "standoff": 15
           },
           "zerolinecolor": "white",
           "zerolinewidth": 2
          },
          "yaxis": {
           "automargin": true,
           "gridcolor": "white",
           "linecolor": "white",
           "ticks": "",
           "title": {
            "standoff": 15
           },
           "zerolinecolor": "white",
           "zerolinewidth": 2
          }
         }
        },
        "title": {
         "text": "K-Means Model: Silhouette Score vs Number of Clusters"
        },
        "xaxis": {
         "anchor": "y",
         "domain": [
          0,
          1
         ],
         "title": {
          "text": "Number of Clusters"
         }
        },
        "yaxis": {
         "anchor": "x",
         "domain": [
          0,
          1
         ],
         "title": {
          "text": "Silhoutte Score"
         }
        }
       }
      }
     },
     "metadata": {},
     "output_type": "display_data"
    }
   ],
   "source": [
    "# Create a line plot of `silhouette_scores` vs `n_clusters`\n",
    "fig = px.line(\n",
    "    x=n_clusters,\n",
    "    y=silhouette_scores,\n",
    "    title=\"K-Means Model: Silhouette Score vs Number of Clusters\"\n",
    ")\n",
    "fig.update_layout(xaxis_title=\"Number of Clusters\", yaxis_title=\"Silhoutte Score\")\n",
    "\n",
    "fig.show()"
   ]
  },
  {
   "cell_type": "markdown",
   "metadata": {},
   "source": [
    "- Here we can see that the best silhouette scores occur when there are 3 or 4 clusters."
   ]
  },
  {
   "cell_type": "markdown",
   "metadata": {},
   "source": [
    "- Conclusions: the best is to use n_clusters = 4"
   ]
  },
  {
   "cell_type": "markdown",
   "metadata": {},
   "source": [
    "Build Final Model"
   ]
  },
  {
   "cell_type": "code",
   "execution_count": 39,
   "metadata": {},
   "outputs": [
    {
     "data": {
      "text/html": [
       "<style>#sk-container-id-1 {\n",
       "  /* Definition of color scheme common for light and dark mode */\n",
       "  --sklearn-color-text: black;\n",
       "  --sklearn-color-line: gray;\n",
       "  /* Definition of color scheme for unfitted estimators */\n",
       "  --sklearn-color-unfitted-level-0: #fff5e6;\n",
       "  --sklearn-color-unfitted-level-1: #f6e4d2;\n",
       "  --sklearn-color-unfitted-level-2: #ffe0b3;\n",
       "  --sklearn-color-unfitted-level-3: chocolate;\n",
       "  /* Definition of color scheme for fitted estimators */\n",
       "  --sklearn-color-fitted-level-0: #f0f8ff;\n",
       "  --sklearn-color-fitted-level-1: #d4ebff;\n",
       "  --sklearn-color-fitted-level-2: #b3dbfd;\n",
       "  --sklearn-color-fitted-level-3: cornflowerblue;\n",
       "\n",
       "  /* Specific color for light theme */\n",
       "  --sklearn-color-text-on-default-background: var(--sg-text-color, var(--theme-code-foreground, var(--jp-content-font-color1, black)));\n",
       "  --sklearn-color-background: var(--sg-background-color, var(--theme-background, var(--jp-layout-color0, white)));\n",
       "  --sklearn-color-border-box: var(--sg-text-color, var(--theme-code-foreground, var(--jp-content-font-color1, black)));\n",
       "  --sklearn-color-icon: #696969;\n",
       "\n",
       "  @media (prefers-color-scheme: dark) {\n",
       "    /* Redefinition of color scheme for dark theme */\n",
       "    --sklearn-color-text-on-default-background: var(--sg-text-color, var(--theme-code-foreground, var(--jp-content-font-color1, white)));\n",
       "    --sklearn-color-background: var(--sg-background-color, var(--theme-background, var(--jp-layout-color0, #111)));\n",
       "    --sklearn-color-border-box: var(--sg-text-color, var(--theme-code-foreground, var(--jp-content-font-color1, white)));\n",
       "    --sklearn-color-icon: #878787;\n",
       "  }\n",
       "}\n",
       "\n",
       "#sk-container-id-1 {\n",
       "  color: var(--sklearn-color-text);\n",
       "}\n",
       "\n",
       "#sk-container-id-1 pre {\n",
       "  padding: 0;\n",
       "}\n",
       "\n",
       "#sk-container-id-1 input.sk-hidden--visually {\n",
       "  border: 0;\n",
       "  clip: rect(1px 1px 1px 1px);\n",
       "  clip: rect(1px, 1px, 1px, 1px);\n",
       "  height: 1px;\n",
       "  margin: -1px;\n",
       "  overflow: hidden;\n",
       "  padding: 0;\n",
       "  position: absolute;\n",
       "  width: 1px;\n",
       "}\n",
       "\n",
       "#sk-container-id-1 div.sk-dashed-wrapped {\n",
       "  border: 1px dashed var(--sklearn-color-line);\n",
       "  margin: 0 0.4em 0.5em 0.4em;\n",
       "  box-sizing: border-box;\n",
       "  padding-bottom: 0.4em;\n",
       "  background-color: var(--sklearn-color-background);\n",
       "}\n",
       "\n",
       "#sk-container-id-1 div.sk-container {\n",
       "  /* jupyter's `normalize.less` sets `[hidden] { display: none; }`\n",
       "     but bootstrap.min.css set `[hidden] { display: none !important; }`\n",
       "     so we also need the `!important` here to be able to override the\n",
       "     default hidden behavior on the sphinx rendered scikit-learn.org.\n",
       "     See: https://github.com/scikit-learn/scikit-learn/issues/21755 */\n",
       "  display: inline-block !important;\n",
       "  position: relative;\n",
       "}\n",
       "\n",
       "#sk-container-id-1 div.sk-text-repr-fallback {\n",
       "  display: none;\n",
       "}\n",
       "\n",
       "div.sk-parallel-item,\n",
       "div.sk-serial,\n",
       "div.sk-item {\n",
       "  /* draw centered vertical line to link estimators */\n",
       "  background-image: linear-gradient(var(--sklearn-color-text-on-default-background), var(--sklearn-color-text-on-default-background));\n",
       "  background-size: 2px 100%;\n",
       "  background-repeat: no-repeat;\n",
       "  background-position: center center;\n",
       "}\n",
       "\n",
       "/* Parallel-specific style estimator block */\n",
       "\n",
       "#sk-container-id-1 div.sk-parallel-item::after {\n",
       "  content: \"\";\n",
       "  width: 100%;\n",
       "  border-bottom: 2px solid var(--sklearn-color-text-on-default-background);\n",
       "  flex-grow: 1;\n",
       "}\n",
       "\n",
       "#sk-container-id-1 div.sk-parallel {\n",
       "  display: flex;\n",
       "  align-items: stretch;\n",
       "  justify-content: center;\n",
       "  background-color: var(--sklearn-color-background);\n",
       "  position: relative;\n",
       "}\n",
       "\n",
       "#sk-container-id-1 div.sk-parallel-item {\n",
       "  display: flex;\n",
       "  flex-direction: column;\n",
       "}\n",
       "\n",
       "#sk-container-id-1 div.sk-parallel-item:first-child::after {\n",
       "  align-self: flex-end;\n",
       "  width: 50%;\n",
       "}\n",
       "\n",
       "#sk-container-id-1 div.sk-parallel-item:last-child::after {\n",
       "  align-self: flex-start;\n",
       "  width: 50%;\n",
       "}\n",
       "\n",
       "#sk-container-id-1 div.sk-parallel-item:only-child::after {\n",
       "  width: 0;\n",
       "}\n",
       "\n",
       "/* Serial-specific style estimator block */\n",
       "\n",
       "#sk-container-id-1 div.sk-serial {\n",
       "  display: flex;\n",
       "  flex-direction: column;\n",
       "  align-items: center;\n",
       "  background-color: var(--sklearn-color-background);\n",
       "  padding-right: 1em;\n",
       "  padding-left: 1em;\n",
       "}\n",
       "\n",
       "\n",
       "/* Toggleable style: style used for estimator/Pipeline/ColumnTransformer box that is\n",
       "clickable and can be expanded/collapsed.\n",
       "- Pipeline and ColumnTransformer use this feature and define the default style\n",
       "- Estimators will overwrite some part of the style using the `sk-estimator` class\n",
       "*/\n",
       "\n",
       "/* Pipeline and ColumnTransformer style (default) */\n",
       "\n",
       "#sk-container-id-1 div.sk-toggleable {\n",
       "  /* Default theme specific background. It is overwritten whether we have a\n",
       "  specific estimator or a Pipeline/ColumnTransformer */\n",
       "  background-color: var(--sklearn-color-background);\n",
       "}\n",
       "\n",
       "/* Toggleable label */\n",
       "#sk-container-id-1 label.sk-toggleable__label {\n",
       "  cursor: pointer;\n",
       "  display: block;\n",
       "  width: 100%;\n",
       "  margin-bottom: 0;\n",
       "  padding: 0.5em;\n",
       "  box-sizing: border-box;\n",
       "  text-align: center;\n",
       "}\n",
       "\n",
       "#sk-container-id-1 label.sk-toggleable__label-arrow:before {\n",
       "  /* Arrow on the left of the label */\n",
       "  content: \"▸\";\n",
       "  float: left;\n",
       "  margin-right: 0.25em;\n",
       "  color: var(--sklearn-color-icon);\n",
       "}\n",
       "\n",
       "#sk-container-id-1 label.sk-toggleable__label-arrow:hover:before {\n",
       "  color: var(--sklearn-color-text);\n",
       "}\n",
       "\n",
       "/* Toggleable content - dropdown */\n",
       "\n",
       "#sk-container-id-1 div.sk-toggleable__content {\n",
       "  max-height: 0;\n",
       "  max-width: 0;\n",
       "  overflow: hidden;\n",
       "  text-align: left;\n",
       "  /* unfitted */\n",
       "  background-color: var(--sklearn-color-unfitted-level-0);\n",
       "}\n",
       "\n",
       "#sk-container-id-1 div.sk-toggleable__content.fitted {\n",
       "  /* fitted */\n",
       "  background-color: var(--sklearn-color-fitted-level-0);\n",
       "}\n",
       "\n",
       "#sk-container-id-1 div.sk-toggleable__content pre {\n",
       "  margin: 0.2em;\n",
       "  border-radius: 0.25em;\n",
       "  color: var(--sklearn-color-text);\n",
       "  /* unfitted */\n",
       "  background-color: var(--sklearn-color-unfitted-level-0);\n",
       "}\n",
       "\n",
       "#sk-container-id-1 div.sk-toggleable__content.fitted pre {\n",
       "  /* unfitted */\n",
       "  background-color: var(--sklearn-color-fitted-level-0);\n",
       "}\n",
       "\n",
       "#sk-container-id-1 input.sk-toggleable__control:checked~div.sk-toggleable__content {\n",
       "  /* Expand drop-down */\n",
       "  max-height: 200px;\n",
       "  max-width: 100%;\n",
       "  overflow: auto;\n",
       "}\n",
       "\n",
       "#sk-container-id-1 input.sk-toggleable__control:checked~label.sk-toggleable__label-arrow:before {\n",
       "  content: \"▾\";\n",
       "}\n",
       "\n",
       "/* Pipeline/ColumnTransformer-specific style */\n",
       "\n",
       "#sk-container-id-1 div.sk-label input.sk-toggleable__control:checked~label.sk-toggleable__label {\n",
       "  color: var(--sklearn-color-text);\n",
       "  background-color: var(--sklearn-color-unfitted-level-2);\n",
       "}\n",
       "\n",
       "#sk-container-id-1 div.sk-label.fitted input.sk-toggleable__control:checked~label.sk-toggleable__label {\n",
       "  background-color: var(--sklearn-color-fitted-level-2);\n",
       "}\n",
       "\n",
       "/* Estimator-specific style */\n",
       "\n",
       "/* Colorize estimator box */\n",
       "#sk-container-id-1 div.sk-estimator input.sk-toggleable__control:checked~label.sk-toggleable__label {\n",
       "  /* unfitted */\n",
       "  background-color: var(--sklearn-color-unfitted-level-2);\n",
       "}\n",
       "\n",
       "#sk-container-id-1 div.sk-estimator.fitted input.sk-toggleable__control:checked~label.sk-toggleable__label {\n",
       "  /* fitted */\n",
       "  background-color: var(--sklearn-color-fitted-level-2);\n",
       "}\n",
       "\n",
       "#sk-container-id-1 div.sk-label label.sk-toggleable__label,\n",
       "#sk-container-id-1 div.sk-label label {\n",
       "  /* The background is the default theme color */\n",
       "  color: var(--sklearn-color-text-on-default-background);\n",
       "}\n",
       "\n",
       "/* On hover, darken the color of the background */\n",
       "#sk-container-id-1 div.sk-label:hover label.sk-toggleable__label {\n",
       "  color: var(--sklearn-color-text);\n",
       "  background-color: var(--sklearn-color-unfitted-level-2);\n",
       "}\n",
       "\n",
       "/* Label box, darken color on hover, fitted */\n",
       "#sk-container-id-1 div.sk-label.fitted:hover label.sk-toggleable__label.fitted {\n",
       "  color: var(--sklearn-color-text);\n",
       "  background-color: var(--sklearn-color-fitted-level-2);\n",
       "}\n",
       "\n",
       "/* Estimator label */\n",
       "\n",
       "#sk-container-id-1 div.sk-label label {\n",
       "  font-family: monospace;\n",
       "  font-weight: bold;\n",
       "  display: inline-block;\n",
       "  line-height: 1.2em;\n",
       "}\n",
       "\n",
       "#sk-container-id-1 div.sk-label-container {\n",
       "  text-align: center;\n",
       "}\n",
       "\n",
       "/* Estimator-specific */\n",
       "#sk-container-id-1 div.sk-estimator {\n",
       "  font-family: monospace;\n",
       "  border: 1px dotted var(--sklearn-color-border-box);\n",
       "  border-radius: 0.25em;\n",
       "  box-sizing: border-box;\n",
       "  margin-bottom: 0.5em;\n",
       "  /* unfitted */\n",
       "  background-color: var(--sklearn-color-unfitted-level-0);\n",
       "}\n",
       "\n",
       "#sk-container-id-1 div.sk-estimator.fitted {\n",
       "  /* fitted */\n",
       "  background-color: var(--sklearn-color-fitted-level-0);\n",
       "}\n",
       "\n",
       "/* on hover */\n",
       "#sk-container-id-1 div.sk-estimator:hover {\n",
       "  /* unfitted */\n",
       "  background-color: var(--sklearn-color-unfitted-level-2);\n",
       "}\n",
       "\n",
       "#sk-container-id-1 div.sk-estimator.fitted:hover {\n",
       "  /* fitted */\n",
       "  background-color: var(--sklearn-color-fitted-level-2);\n",
       "}\n",
       "\n",
       "/* Specification for estimator info (e.g. \"i\" and \"?\") */\n",
       "\n",
       "/* Common style for \"i\" and \"?\" */\n",
       "\n",
       ".sk-estimator-doc-link,\n",
       "a:link.sk-estimator-doc-link,\n",
       "a:visited.sk-estimator-doc-link {\n",
       "  float: right;\n",
       "  font-size: smaller;\n",
       "  line-height: 1em;\n",
       "  font-family: monospace;\n",
       "  background-color: var(--sklearn-color-background);\n",
       "  border-radius: 1em;\n",
       "  height: 1em;\n",
       "  width: 1em;\n",
       "  text-decoration: none !important;\n",
       "  margin-left: 1ex;\n",
       "  /* unfitted */\n",
       "  border: var(--sklearn-color-unfitted-level-1) 1pt solid;\n",
       "  color: var(--sklearn-color-unfitted-level-1);\n",
       "}\n",
       "\n",
       ".sk-estimator-doc-link.fitted,\n",
       "a:link.sk-estimator-doc-link.fitted,\n",
       "a:visited.sk-estimator-doc-link.fitted {\n",
       "  /* fitted */\n",
       "  border: var(--sklearn-color-fitted-level-1) 1pt solid;\n",
       "  color: var(--sklearn-color-fitted-level-1);\n",
       "}\n",
       "\n",
       "/* On hover */\n",
       "div.sk-estimator:hover .sk-estimator-doc-link:hover,\n",
       ".sk-estimator-doc-link:hover,\n",
       "div.sk-label-container:hover .sk-estimator-doc-link:hover,\n",
       ".sk-estimator-doc-link:hover {\n",
       "  /* unfitted */\n",
       "  background-color: var(--sklearn-color-unfitted-level-3);\n",
       "  color: var(--sklearn-color-background);\n",
       "  text-decoration: none;\n",
       "}\n",
       "\n",
       "div.sk-estimator.fitted:hover .sk-estimator-doc-link.fitted:hover,\n",
       ".sk-estimator-doc-link.fitted:hover,\n",
       "div.sk-label-container:hover .sk-estimator-doc-link.fitted:hover,\n",
       ".sk-estimator-doc-link.fitted:hover {\n",
       "  /* fitted */\n",
       "  background-color: var(--sklearn-color-fitted-level-3);\n",
       "  color: var(--sklearn-color-background);\n",
       "  text-decoration: none;\n",
       "}\n",
       "\n",
       "/* Span, style for the box shown on hovering the info icon */\n",
       ".sk-estimator-doc-link span {\n",
       "  display: none;\n",
       "  z-index: 9999;\n",
       "  position: relative;\n",
       "  font-weight: normal;\n",
       "  right: .2ex;\n",
       "  padding: .5ex;\n",
       "  margin: .5ex;\n",
       "  width: min-content;\n",
       "  min-width: 20ex;\n",
       "  max-width: 50ex;\n",
       "  color: var(--sklearn-color-text);\n",
       "  box-shadow: 2pt 2pt 4pt #999;\n",
       "  /* unfitted */\n",
       "  background: var(--sklearn-color-unfitted-level-0);\n",
       "  border: .5pt solid var(--sklearn-color-unfitted-level-3);\n",
       "}\n",
       "\n",
       ".sk-estimator-doc-link.fitted span {\n",
       "  /* fitted */\n",
       "  background: var(--sklearn-color-fitted-level-0);\n",
       "  border: var(--sklearn-color-fitted-level-3);\n",
       "}\n",
       "\n",
       ".sk-estimator-doc-link:hover span {\n",
       "  display: block;\n",
       "}\n",
       "\n",
       "/* \"?\"-specific style due to the `<a>` HTML tag */\n",
       "\n",
       "#sk-container-id-1 a.estimator_doc_link {\n",
       "  float: right;\n",
       "  font-size: 1rem;\n",
       "  line-height: 1em;\n",
       "  font-family: monospace;\n",
       "  background-color: var(--sklearn-color-background);\n",
       "  border-radius: 1rem;\n",
       "  height: 1rem;\n",
       "  width: 1rem;\n",
       "  text-decoration: none;\n",
       "  /* unfitted */\n",
       "  color: var(--sklearn-color-unfitted-level-1);\n",
       "  border: var(--sklearn-color-unfitted-level-1) 1pt solid;\n",
       "}\n",
       "\n",
       "#sk-container-id-1 a.estimator_doc_link.fitted {\n",
       "  /* fitted */\n",
       "  border: var(--sklearn-color-fitted-level-1) 1pt solid;\n",
       "  color: var(--sklearn-color-fitted-level-1);\n",
       "}\n",
       "\n",
       "/* On hover */\n",
       "#sk-container-id-1 a.estimator_doc_link:hover {\n",
       "  /* unfitted */\n",
       "  background-color: var(--sklearn-color-unfitted-level-3);\n",
       "  color: var(--sklearn-color-background);\n",
       "  text-decoration: none;\n",
       "}\n",
       "\n",
       "#sk-container-id-1 a.estimator_doc_link.fitted:hover {\n",
       "  /* fitted */\n",
       "  background-color: var(--sklearn-color-fitted-level-3);\n",
       "}\n",
       "</style><div id=\"sk-container-id-1\" class=\"sk-top-container\"><div class=\"sk-text-repr-fallback\"><pre>Pipeline(steps=[(&#x27;standardscaler&#x27;, StandardScaler()),\n",
       "                (&#x27;kmeans&#x27;, KMeans(n_clusters=4, random_state=42))])</pre><b>In a Jupyter environment, please rerun this cell to show the HTML representation or trust the notebook. <br />On GitHub, the HTML representation is unable to render, please try loading this page with nbviewer.org.</b></div><div class=\"sk-container\" hidden><div class=\"sk-item sk-dashed-wrapped\"><div class=\"sk-label-container\"><div class=\"sk-label fitted sk-toggleable\"><input class=\"sk-toggleable__control sk-hidden--visually\" id=\"sk-estimator-id-1\" type=\"checkbox\" ><label for=\"sk-estimator-id-1\" class=\"sk-toggleable__label fitted sk-toggleable__label-arrow fitted\">&nbsp;&nbsp;Pipeline<a class=\"sk-estimator-doc-link fitted\" rel=\"noreferrer\" target=\"_blank\" href=\"https://scikit-learn.org/1.4/modules/generated/sklearn.pipeline.Pipeline.html\">?<span>Documentation for Pipeline</span></a><span class=\"sk-estimator-doc-link fitted\">i<span>Fitted</span></span></label><div class=\"sk-toggleable__content fitted\"><pre>Pipeline(steps=[(&#x27;standardscaler&#x27;, StandardScaler()),\n",
       "                (&#x27;kmeans&#x27;, KMeans(n_clusters=4, random_state=42))])</pre></div> </div></div><div class=\"sk-serial\"><div class=\"sk-item\"><div class=\"sk-estimator fitted sk-toggleable\"><input class=\"sk-toggleable__control sk-hidden--visually\" id=\"sk-estimator-id-2\" type=\"checkbox\" ><label for=\"sk-estimator-id-2\" class=\"sk-toggleable__label fitted sk-toggleable__label-arrow fitted\">&nbsp;StandardScaler<a class=\"sk-estimator-doc-link fitted\" rel=\"noreferrer\" target=\"_blank\" href=\"https://scikit-learn.org/1.4/modules/generated/sklearn.preprocessing.StandardScaler.html\">?<span>Documentation for StandardScaler</span></a></label><div class=\"sk-toggleable__content fitted\"><pre>StandardScaler()</pre></div> </div></div><div class=\"sk-item\"><div class=\"sk-estimator fitted sk-toggleable\"><input class=\"sk-toggleable__control sk-hidden--visually\" id=\"sk-estimator-id-3\" type=\"checkbox\" ><label for=\"sk-estimator-id-3\" class=\"sk-toggleable__label fitted sk-toggleable__label-arrow fitted\">&nbsp;KMeans<a class=\"sk-estimator-doc-link fitted\" rel=\"noreferrer\" target=\"_blank\" href=\"https://scikit-learn.org/1.4/modules/generated/sklearn.cluster.KMeans.html\">?<span>Documentation for KMeans</span></a></label><div class=\"sk-toggleable__content fitted\"><pre>KMeans(n_clusters=4, random_state=42)</pre></div> </div></div></div></div></div></div>"
      ],
      "text/plain": [
       "Pipeline(steps=[('standardscaler', StandardScaler()),\n",
       "                ('kmeans', KMeans(n_clusters=4, random_state=42))])"
      ]
     },
     "execution_count": 39,
     "metadata": {},
     "output_type": "execute_result"
    }
   ],
   "source": [
    "# Build model\n",
    "final_model =make_pipeline(\n",
    "    StandardScaler(),\n",
    "    KMeans(n_clusters=4, random_state=42)\n",
    ")\n",
    "\n",
    "# Fit model to data\n",
    "final_model.fit(X)"
   ]
  },
  {
   "cell_type": "code",
   "execution_count": 40,
   "metadata": {},
   "outputs": [],
   "source": [
    "# Assert that model has been fit to data\n",
    "check_is_fitted(final_model)"
   ]
  },
  {
   "cell_type": "markdown",
   "metadata": {},
   "source": [
    "### Communicate Results"
   ]
  },
  {
   "cell_type": "markdown",
   "metadata": {},
   "source": [
    "Extracting Labels"
   ]
  },
  {
   "cell_type": "code",
   "execution_count": 41,
   "metadata": {},
   "outputs": [
    {
     "name": "stdout",
     "output_type": "stream",
     "text": [
      "labels type: <class 'numpy.ndarray'>\n",
      "labels len: 4418\n",
      "[1 1 1 1 1]\n"
     ]
    }
   ],
   "source": [
    "labels = final_model.named_steps[\"kmeans\"].labels_\n",
    "\n",
    "print(\"labels type:\", type(labels))\n",
    "print(\"labels len:\", len(labels))\n",
    "print(labels[:5])"
   ]
  },
  {
   "cell_type": "markdown",
   "metadata": {},
   "source": [
    "Side-by-Side Bar Chart: Get Centroids"
   ]
  },
  {
   "cell_type": "code",
   "execution_count": 42,
   "metadata": {},
   "outputs": [
    {
     "name": "stdout",
     "output_type": "stream",
     "text": [
      "xgb type: <class 'pandas.core.frame.DataFrame'>\n",
      "xgb shape: (4, 5)\n"
     ]
    },
    {
     "data": {
      "text/html": [
       "<div>\n",
       "<style scoped>\n",
       "    .dataframe tbody tr th:only-of-type {\n",
       "        vertical-align: middle;\n",
       "    }\n",
       "\n",
       "    .dataframe tbody tr th {\n",
       "        vertical-align: top;\n",
       "    }\n",
       "\n",
       "    .dataframe thead th {\n",
       "        text-align: right;\n",
       "    }\n",
       "</style>\n",
       "<table border=\"1\" class=\"dataframe\">\n",
       "  <thead>\n",
       "    <tr style=\"text-align: right;\">\n",
       "      <th></th>\n",
       "      <th>DEBT</th>\n",
       "      <th>NETWORTH</th>\n",
       "      <th>HOUSES</th>\n",
       "      <th>NFIN</th>\n",
       "      <th>ASSET</th>\n",
       "    </tr>\n",
       "  </thead>\n",
       "  <tbody>\n",
       "    <tr>\n",
       "      <th>0</th>\n",
       "      <td>205111.440049</td>\n",
       "      <td>2.314333e+05</td>\n",
       "      <td>261927.688504</td>\n",
       "      <td>3.512653e+05</td>\n",
       "      <td>4.365447e+05</td>\n",
       "    </tr>\n",
       "    <tr>\n",
       "      <th>1</th>\n",
       "      <td>28650.810927</td>\n",
       "      <td>1.176536e+04</td>\n",
       "      <td>14647.482838</td>\n",
       "      <td>2.825256e+04</td>\n",
       "      <td>4.041617e+04</td>\n",
       "    </tr>\n",
       "    <tr>\n",
       "      <th>2</th>\n",
       "      <td>669360.967742</td>\n",
       "      <td>5.819507e+05</td>\n",
       "      <td>788306.451613</td>\n",
       "      <td>1.118355e+06</td>\n",
       "      <td>1.251312e+06</td>\n",
       "    </tr>\n",
       "    <tr>\n",
       "      <th>3</th>\n",
       "      <td>266576.274510</td>\n",
       "      <td>1.432137e+06</td>\n",
       "      <td>339117.647059</td>\n",
       "      <td>1.295769e+06</td>\n",
       "      <td>1.698713e+06</td>\n",
       "    </tr>\n",
       "  </tbody>\n",
       "</table>\n",
       "</div>"
      ],
      "text/plain": [
       "            DEBT      NETWORTH         HOUSES          NFIN         ASSET\n",
       "0  205111.440049  2.314333e+05  261927.688504  3.512653e+05  4.365447e+05\n",
       "1   28650.810927  1.176536e+04   14647.482838  2.825256e+04  4.041617e+04\n",
       "2  669360.967742  5.819507e+05  788306.451613  1.118355e+06  1.251312e+06\n",
       "3  266576.274510  1.432137e+06  339117.647059  1.295769e+06  1.698713e+06"
      ]
     },
     "execution_count": 42,
     "metadata": {},
     "output_type": "execute_result"
    }
   ],
   "source": [
    "xgb = X.groupby(labels).mean()\n",
    "\n",
    "print(\"xgb type:\", type(xgb))\n",
    "print(\"xgb shape:\", xgb.shape)\n",
    "xgb"
   ]
  },
  {
   "cell_type": "markdown",
   "metadata": {},
   "source": [
    "Side-by-Side Bar Chart: Build Chart"
   ]
  },
  {
   "cell_type": "code",
   "execution_count": 43,
   "metadata": {},
   "outputs": [
    {
     "data": {
      "application/vnd.plotly.v1+json": {
       "config": {
        "plotlyServerURL": "https://plot.ly"
       },
       "data": [
        {
         "alignmentgroup": "True",
         "hovertemplate": "variable=DEBT<br>index=%{x}<br>value=%{y}<extra></extra>",
         "legendgroup": "DEBT",
         "marker": {
          "color": "#636efa",
          "pattern": {
           "shape": ""
          }
         },
         "name": "DEBT",
         "offsetgroup": "DEBT",
         "orientation": "v",
         "showlegend": true,
         "textposition": "auto",
         "type": "bar",
         "x": [
          0,
          1,
          2,
          3
         ],
         "xaxis": "x",
         "y": [
          205111.44004944374,
          28650.810926773454,
          669360.9677419355,
          266576.2745098039
         ],
         "yaxis": "y"
        },
        {
         "alignmentgroup": "True",
         "hovertemplate": "variable=NETWORTH<br>index=%{x}<br>value=%{y}<extra></extra>",
         "legendgroup": "NETWORTH",
         "marker": {
          "color": "#EF553B",
          "pattern": {
           "shape": ""
          }
         },
         "name": "NETWORTH",
         "offsetgroup": "NETWORTH",
         "orientation": "v",
         "showlegend": true,
         "textposition": "auto",
         "type": "bar",
         "x": [
          0,
          1,
          2,
          3
         ],
         "xaxis": "x",
         "y": [
          231433.29542645242,
          11765.357551487414,
          581950.6774193548,
          1432137.156862745
         ],
         "yaxis": "y"
        },
        {
         "alignmentgroup": "True",
         "hovertemplate": "variable=HOUSES<br>index=%{x}<br>value=%{y}<extra></extra>",
         "legendgroup": "HOUSES",
         "marker": {
          "color": "#00cc96",
          "pattern": {
           "shape": ""
          }
         },
         "name": "HOUSES",
         "offsetgroup": "HOUSES",
         "orientation": "v",
         "showlegend": true,
         "textposition": "auto",
         "type": "bar",
         "x": [
          0,
          1,
          2,
          3
         ],
         "xaxis": "x",
         "y": [
          261927.68850432633,
          14647.482837528603,
          788306.4516129033,
          339117.64705882355
         ],
         "yaxis": "y"
        },
        {
         "alignmentgroup": "True",
         "hovertemplate": "variable=NFIN<br>index=%{x}<br>value=%{y}<extra></extra>",
         "legendgroup": "NFIN",
         "marker": {
          "color": "#ab63fa",
          "pattern": {
           "shape": ""
          }
         },
         "name": "NFIN",
         "offsetgroup": "NFIN",
         "orientation": "v",
         "showlegend": true,
         "textposition": "auto",
         "type": "bar",
         "x": [
          0,
          1,
          2,
          3
         ],
         "xaxis": "x",
         "y": [
          351265.25339925836,
          28252.562929061784,
          1118354.8387096773,
          1295768.7254901961
         ],
         "yaxis": "y"
        },
        {
         "alignmentgroup": "True",
         "hovertemplate": "variable=ASSET<br>index=%{x}<br>value=%{y}<extra></extra>",
         "legendgroup": "ASSET",
         "marker": {
          "color": "#FFA15A",
          "pattern": {
           "shape": ""
          }
         },
         "name": "ASSET",
         "offsetgroup": "ASSET",
         "orientation": "v",
         "showlegend": true,
         "textposition": "auto",
         "type": "bar",
         "x": [
          0,
          1,
          2,
          3
         ],
         "xaxis": "x",
         "y": [
          436544.73547589616,
          40416.16847826087,
          1251311.6451612904,
          1698713.431372549
         ],
         "yaxis": "y"
        }
       ],
       "layout": {
        "barmode": "group",
        "legend": {
         "title": {
          "text": "variable"
         },
         "tracegroupgap": 0
        },
        "template": {
         "data": {
          "bar": [
           {
            "error_x": {
             "color": "#2a3f5f"
            },
            "error_y": {
             "color": "#2a3f5f"
            },
            "marker": {
             "line": {
              "color": "#E5ECF6",
              "width": 0.5
             },
             "pattern": {
              "fillmode": "overlay",
              "size": 10,
              "solidity": 0.2
             }
            },
            "type": "bar"
           }
          ],
          "barpolar": [
           {
            "marker": {
             "line": {
              "color": "#E5ECF6",
              "width": 0.5
             },
             "pattern": {
              "fillmode": "overlay",
              "size": 10,
              "solidity": 0.2
             }
            },
            "type": "barpolar"
           }
          ],
          "carpet": [
           {
            "aaxis": {
             "endlinecolor": "#2a3f5f",
             "gridcolor": "white",
             "linecolor": "white",
             "minorgridcolor": "white",
             "startlinecolor": "#2a3f5f"
            },
            "baxis": {
             "endlinecolor": "#2a3f5f",
             "gridcolor": "white",
             "linecolor": "white",
             "minorgridcolor": "white",
             "startlinecolor": "#2a3f5f"
            },
            "type": "carpet"
           }
          ],
          "choropleth": [
           {
            "colorbar": {
             "outlinewidth": 0,
             "ticks": ""
            },
            "type": "choropleth"
           }
          ],
          "contour": [
           {
            "colorbar": {
             "outlinewidth": 0,
             "ticks": ""
            },
            "colorscale": [
             [
              0,
              "#0d0887"
             ],
             [
              0.1111111111111111,
              "#46039f"
             ],
             [
              0.2222222222222222,
              "#7201a8"
             ],
             [
              0.3333333333333333,
              "#9c179e"
             ],
             [
              0.4444444444444444,
              "#bd3786"
             ],
             [
              0.5555555555555556,
              "#d8576b"
             ],
             [
              0.6666666666666666,
              "#ed7953"
             ],
             [
              0.7777777777777778,
              "#fb9f3a"
             ],
             [
              0.8888888888888888,
              "#fdca26"
             ],
             [
              1,
              "#f0f921"
             ]
            ],
            "type": "contour"
           }
          ],
          "contourcarpet": [
           {
            "colorbar": {
             "outlinewidth": 0,
             "ticks": ""
            },
            "type": "contourcarpet"
           }
          ],
          "heatmap": [
           {
            "colorbar": {
             "outlinewidth": 0,
             "ticks": ""
            },
            "colorscale": [
             [
              0,
              "#0d0887"
             ],
             [
              0.1111111111111111,
              "#46039f"
             ],
             [
              0.2222222222222222,
              "#7201a8"
             ],
             [
              0.3333333333333333,
              "#9c179e"
             ],
             [
              0.4444444444444444,
              "#bd3786"
             ],
             [
              0.5555555555555556,
              "#d8576b"
             ],
             [
              0.6666666666666666,
              "#ed7953"
             ],
             [
              0.7777777777777778,
              "#fb9f3a"
             ],
             [
              0.8888888888888888,
              "#fdca26"
             ],
             [
              1,
              "#f0f921"
             ]
            ],
            "type": "heatmap"
           }
          ],
          "heatmapgl": [
           {
            "colorbar": {
             "outlinewidth": 0,
             "ticks": ""
            },
            "colorscale": [
             [
              0,
              "#0d0887"
             ],
             [
              0.1111111111111111,
              "#46039f"
             ],
             [
              0.2222222222222222,
              "#7201a8"
             ],
             [
              0.3333333333333333,
              "#9c179e"
             ],
             [
              0.4444444444444444,
              "#bd3786"
             ],
             [
              0.5555555555555556,
              "#d8576b"
             ],
             [
              0.6666666666666666,
              "#ed7953"
             ],
             [
              0.7777777777777778,
              "#fb9f3a"
             ],
             [
              0.8888888888888888,
              "#fdca26"
             ],
             [
              1,
              "#f0f921"
             ]
            ],
            "type": "heatmapgl"
           }
          ],
          "histogram": [
           {
            "marker": {
             "pattern": {
              "fillmode": "overlay",
              "size": 10,
              "solidity": 0.2
             }
            },
            "type": "histogram"
           }
          ],
          "histogram2d": [
           {
            "colorbar": {
             "outlinewidth": 0,
             "ticks": ""
            },
            "colorscale": [
             [
              0,
              "#0d0887"
             ],
             [
              0.1111111111111111,
              "#46039f"
             ],
             [
              0.2222222222222222,
              "#7201a8"
             ],
             [
              0.3333333333333333,
              "#9c179e"
             ],
             [
              0.4444444444444444,
              "#bd3786"
             ],
             [
              0.5555555555555556,
              "#d8576b"
             ],
             [
              0.6666666666666666,
              "#ed7953"
             ],
             [
              0.7777777777777778,
              "#fb9f3a"
             ],
             [
              0.8888888888888888,
              "#fdca26"
             ],
             [
              1,
              "#f0f921"
             ]
            ],
            "type": "histogram2d"
           }
          ],
          "histogram2dcontour": [
           {
            "colorbar": {
             "outlinewidth": 0,
             "ticks": ""
            },
            "colorscale": [
             [
              0,
              "#0d0887"
             ],
             [
              0.1111111111111111,
              "#46039f"
             ],
             [
              0.2222222222222222,
              "#7201a8"
             ],
             [
              0.3333333333333333,
              "#9c179e"
             ],
             [
              0.4444444444444444,
              "#bd3786"
             ],
             [
              0.5555555555555556,
              "#d8576b"
             ],
             [
              0.6666666666666666,
              "#ed7953"
             ],
             [
              0.7777777777777778,
              "#fb9f3a"
             ],
             [
              0.8888888888888888,
              "#fdca26"
             ],
             [
              1,
              "#f0f921"
             ]
            ],
            "type": "histogram2dcontour"
           }
          ],
          "mesh3d": [
           {
            "colorbar": {
             "outlinewidth": 0,
             "ticks": ""
            },
            "type": "mesh3d"
           }
          ],
          "parcoords": [
           {
            "line": {
             "colorbar": {
              "outlinewidth": 0,
              "ticks": ""
             }
            },
            "type": "parcoords"
           }
          ],
          "pie": [
           {
            "automargin": true,
            "type": "pie"
           }
          ],
          "scatter": [
           {
            "fillpattern": {
             "fillmode": "overlay",
             "size": 10,
             "solidity": 0.2
            },
            "type": "scatter"
           }
          ],
          "scatter3d": [
           {
            "line": {
             "colorbar": {
              "outlinewidth": 0,
              "ticks": ""
             }
            },
            "marker": {
             "colorbar": {
              "outlinewidth": 0,
              "ticks": ""
             }
            },
            "type": "scatter3d"
           }
          ],
          "scattercarpet": [
           {
            "marker": {
             "colorbar": {
              "outlinewidth": 0,
              "ticks": ""
             }
            },
            "type": "scattercarpet"
           }
          ],
          "scattergeo": [
           {
            "marker": {
             "colorbar": {
              "outlinewidth": 0,
              "ticks": ""
             }
            },
            "type": "scattergeo"
           }
          ],
          "scattergl": [
           {
            "marker": {
             "colorbar": {
              "outlinewidth": 0,
              "ticks": ""
             }
            },
            "type": "scattergl"
           }
          ],
          "scattermapbox": [
           {
            "marker": {
             "colorbar": {
              "outlinewidth": 0,
              "ticks": ""
             }
            },
            "type": "scattermapbox"
           }
          ],
          "scatterpolar": [
           {
            "marker": {
             "colorbar": {
              "outlinewidth": 0,
              "ticks": ""
             }
            },
            "type": "scatterpolar"
           }
          ],
          "scatterpolargl": [
           {
            "marker": {
             "colorbar": {
              "outlinewidth": 0,
              "ticks": ""
             }
            },
            "type": "scatterpolargl"
           }
          ],
          "scatterternary": [
           {
            "marker": {
             "colorbar": {
              "outlinewidth": 0,
              "ticks": ""
             }
            },
            "type": "scatterternary"
           }
          ],
          "surface": [
           {
            "colorbar": {
             "outlinewidth": 0,
             "ticks": ""
            },
            "colorscale": [
             [
              0,
              "#0d0887"
             ],
             [
              0.1111111111111111,
              "#46039f"
             ],
             [
              0.2222222222222222,
              "#7201a8"
             ],
             [
              0.3333333333333333,
              "#9c179e"
             ],
             [
              0.4444444444444444,
              "#bd3786"
             ],
             [
              0.5555555555555556,
              "#d8576b"
             ],
             [
              0.6666666666666666,
              "#ed7953"
             ],
             [
              0.7777777777777778,
              "#fb9f3a"
             ],
             [
              0.8888888888888888,
              "#fdca26"
             ],
             [
              1,
              "#f0f921"
             ]
            ],
            "type": "surface"
           }
          ],
          "table": [
           {
            "cells": {
             "fill": {
              "color": "#EBF0F8"
             },
             "line": {
              "color": "white"
             }
            },
            "header": {
             "fill": {
              "color": "#C8D4E3"
             },
             "line": {
              "color": "white"
             }
            },
            "type": "table"
           }
          ]
         },
         "layout": {
          "annotationdefaults": {
           "arrowcolor": "#2a3f5f",
           "arrowhead": 0,
           "arrowwidth": 1
          },
          "autotypenumbers": "strict",
          "coloraxis": {
           "colorbar": {
            "outlinewidth": 0,
            "ticks": ""
           }
          },
          "colorscale": {
           "diverging": [
            [
             0,
             "#8e0152"
            ],
            [
             0.1,
             "#c51b7d"
            ],
            [
             0.2,
             "#de77ae"
            ],
            [
             0.3,
             "#f1b6da"
            ],
            [
             0.4,
             "#fde0ef"
            ],
            [
             0.5,
             "#f7f7f7"
            ],
            [
             0.6,
             "#e6f5d0"
            ],
            [
             0.7,
             "#b8e186"
            ],
            [
             0.8,
             "#7fbc41"
            ],
            [
             0.9,
             "#4d9221"
            ],
            [
             1,
             "#276419"
            ]
           ],
           "sequential": [
            [
             0,
             "#0d0887"
            ],
            [
             0.1111111111111111,
             "#46039f"
            ],
            [
             0.2222222222222222,
             "#7201a8"
            ],
            [
             0.3333333333333333,
             "#9c179e"
            ],
            [
             0.4444444444444444,
             "#bd3786"
            ],
            [
             0.5555555555555556,
             "#d8576b"
            ],
            [
             0.6666666666666666,
             "#ed7953"
            ],
            [
             0.7777777777777778,
             "#fb9f3a"
            ],
            [
             0.8888888888888888,
             "#fdca26"
            ],
            [
             1,
             "#f0f921"
            ]
           ],
           "sequentialminus": [
            [
             0,
             "#0d0887"
            ],
            [
             0.1111111111111111,
             "#46039f"
            ],
            [
             0.2222222222222222,
             "#7201a8"
            ],
            [
             0.3333333333333333,
             "#9c179e"
            ],
            [
             0.4444444444444444,
             "#bd3786"
            ],
            [
             0.5555555555555556,
             "#d8576b"
            ],
            [
             0.6666666666666666,
             "#ed7953"
            ],
            [
             0.7777777777777778,
             "#fb9f3a"
            ],
            [
             0.8888888888888888,
             "#fdca26"
            ],
            [
             1,
             "#f0f921"
            ]
           ]
          },
          "colorway": [
           "#636efa",
           "#EF553B",
           "#00cc96",
           "#ab63fa",
           "#FFA15A",
           "#19d3f3",
           "#FF6692",
           "#B6E880",
           "#FF97FF",
           "#FECB52"
          ],
          "font": {
           "color": "#2a3f5f"
          },
          "geo": {
           "bgcolor": "white",
           "lakecolor": "white",
           "landcolor": "#E5ECF6",
           "showlakes": true,
           "showland": true,
           "subunitcolor": "white"
          },
          "hoverlabel": {
           "align": "left"
          },
          "hovermode": "closest",
          "mapbox": {
           "style": "light"
          },
          "paper_bgcolor": "white",
          "plot_bgcolor": "#E5ECF6",
          "polar": {
           "angularaxis": {
            "gridcolor": "white",
            "linecolor": "white",
            "ticks": ""
           },
           "bgcolor": "#E5ECF6",
           "radialaxis": {
            "gridcolor": "white",
            "linecolor": "white",
            "ticks": ""
           }
          },
          "scene": {
           "xaxis": {
            "backgroundcolor": "#E5ECF6",
            "gridcolor": "white",
            "gridwidth": 2,
            "linecolor": "white",
            "showbackground": true,
            "ticks": "",
            "zerolinecolor": "white"
           },
           "yaxis": {
            "backgroundcolor": "#E5ECF6",
            "gridcolor": "white",
            "gridwidth": 2,
            "linecolor": "white",
            "showbackground": true,
            "ticks": "",
            "zerolinecolor": "white"
           },
           "zaxis": {
            "backgroundcolor": "#E5ECF6",
            "gridcolor": "white",
            "gridwidth": 2,
            "linecolor": "white",
            "showbackground": true,
            "ticks": "",
            "zerolinecolor": "white"
           }
          },
          "shapedefaults": {
           "line": {
            "color": "#2a3f5f"
           }
          },
          "ternary": {
           "aaxis": {
            "gridcolor": "white",
            "linecolor": "white",
            "ticks": ""
           },
           "baxis": {
            "gridcolor": "white",
            "linecolor": "white",
            "ticks": ""
           },
           "bgcolor": "#E5ECF6",
           "caxis": {
            "gridcolor": "white",
            "linecolor": "white",
            "ticks": ""
           }
          },
          "title": {
           "x": 0.05
          },
          "xaxis": {
           "automargin": true,
           "gridcolor": "white",
           "linecolor": "white",
           "ticks": "",
           "title": {
            "standoff": 15
           },
           "zerolinecolor": "white",
           "zerolinewidth": 2
          },
          "yaxis": {
           "automargin": true,
           "gridcolor": "white",
           "linecolor": "white",
           "ticks": "",
           "title": {
            "standoff": 15
           },
           "zerolinecolor": "white",
           "zerolinewidth": 2
          }
         }
        },
        "title": {
         "text": "Mean Household Finances by Cluster"
        },
        "xaxis": {
         "anchor": "y",
         "domain": [
          0,
          1
         ],
         "title": {
          "text": "Cluster"
         }
        },
        "yaxis": {
         "anchor": "x",
         "domain": [
          0,
          1
         ],
         "title": {
          "text": "Value [$]"
         }
        }
       }
      }
     },
     "metadata": {},
     "output_type": "display_data"
    }
   ],
   "source": [
    "# Create side-by-side bar chart of `xgb`\n",
    "fig = px.bar(\n",
    "    xgb,\n",
    "    barmode=\"group\",\n",
    "    title=\"Mean Household Finances by Cluster\"\n",
    ")\n",
    "fig.update_layout(xaxis_title=\"Cluster\", yaxis_title=\"Value [$]\")\n",
    "\n",
    "fig.show()"
   ]
  },
  {
   "cell_type": "markdown",
   "metadata": {},
   "source": [
    "- Note that our clusters are based partially on NETWORTH, which means that the households in the 0 cluster have the smallest net worth, and the households in the 2 cluster have the highest. Meaning:"
   ]
  },
  {
   "cell_type": "markdown",
   "metadata": {},
   "source": [
    "1. Debt: The lowest amount of debt is carried by the households in cluster 2, even though the value of their houses (shown in green) is roughly the same. You can't really tell from this data what's going on, but one possibility might be that the people in cluster 2 have enough money to pay down their debts, but not quite enough money to leverage what they have into additional debts. The people in cluster 3, by contrast, might not need to worry about carrying debt because their net worth is so high."
   ]
  },
  {
   "cell_type": "markdown",
   "metadata": {},
   "source": [
    "2. The value of the debt for the people in cluster 0 is higher than the value of their houses, suggesting that most of the debt being carried by those people is tied up in their mortgages — if they own a home at all. Contrast that with the other three clusters: the value of everyone else's debt is lower than the value of their homes."
   ]
  }
 ],
 "metadata": {
  "kernelspec": {
   "display_name": "venv",
   "language": "python",
   "name": "python3"
  },
  "language_info": {
   "codemirror_mode": {
    "name": "ipython",
    "version": 3
   },
   "file_extension": ".py",
   "mimetype": "text/x-python",
   "name": "python",
   "nbconvert_exporter": "python",
   "pygments_lexer": "ipython3",
   "version": "3.12.1"
  }
 },
 "nbformat": 4,
 "nbformat_minor": 2
}
