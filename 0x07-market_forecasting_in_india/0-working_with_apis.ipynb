{
 "cells": [
  {
   "cell_type": "markdown",
   "metadata": {},
   "source": [
    "# Working with APIs"
   ]
  },
  {
   "cell_type": "markdown",
   "metadata": {},
   "source": [
    "**Project Goal**: Obatining data with APIs and transforming it to a manageable format"
   ]
  },
  {
   "cell_type": "markdown",
   "metadata": {},
   "source": [
    "Specifics:"
   ]
  },
  {
   "cell_type": "markdown",
   "metadata": {},
   "source": [
    "1. Extract stock data from the AlphaVantage API using a URL.\n",
    "2. Extract stock data from AlphaVantage API using an HTTP request.\n",
    "3.  Write a function for transforming stock data.\n",
    "4.  Incorporate Python Exceptions into the function."
   ]
  },
  {
   "cell_type": "code",
   "execution_count": 8,
   "metadata": {},
   "outputs": [],
   "source": [
    "import pandas as pd \n",
    "import requests\n",
    "import numpy as np"
   ]
  },
  {
   "cell_type": "markdown",
   "metadata": {},
   "source": [
    "### 1. Accessing APIs Through a URL"
   ]
  },
  {
   "cell_type": "markdown",
   "metadata": {},
   "source": [
    "- Idenitify components of a URL\n",
    "- Add API key to config module\n",
    "- Incorporate AlphaVantage paramters into URL"
   ]
  },
  {
   "cell_type": "markdown",
   "metadata": {},
   "source": [
    "Identify components of a URL"
   ]
  },
  {
   "cell_type": "markdown",
   "metadata": {},
   "source": [
    "Notice that this URL has several components. Let's break them down one-by-one.\n",
    "\n",
    "| URL | Component |\n",
    "|:--- | :-------- |\n",
    "| `https://www.alphavantage.co` | This is the **hostname** or **base URL**. It is the web address for the server where we can get our stock data. |\n",
    "| `/query` | This is the **path**. Most APIs have lots of different operations they can do. The path is the name of the particular operation we want to access. |\n",
    "| `?` |  This question mark denotes that everything that follows in the URL is a **parameter**. Each parameter is separated by a `&` character. These parameters provide additional information that will change the operation's behavior. This is similar to the way we pass **arguments** into functions in Python. |\n",
    "| `function=TIME_SERIES_DAILY` | Our first parameter uses the `function` keyword. The value is `TIME_SERIES_DAILY`. In this case, we're asking for **daily** stock data. |\n",
    "| `symbol=IBM` | Our second parameter uses the `symbol` keyword. So we're asking for a data on a stock whose [**ticker symbol**](https://en.wikipedia.org/wiki/Ticker_symbol) is `IBM`. |\n",
    "| `apikey=demo` | Much in the same way you need a password to access some websites, an **API key** or **API token** is the password that you'll use to access the API. |"
   ]
  },
  {
   "cell_type": "code",
   "execution_count": 9,
   "metadata": {},
   "outputs": [
    {
     "name": "stdout",
     "output_type": "stream",
     "text": [
      "url type: <class 'str'>\n"
     ]
    },
    {
     "data": {
      "text/plain": [
       "'https://www.alphavantage.co/query?function=TIME_SERIES_DAILY&symbol=AMBUJACEM.BSEapikey=apikey'"
      ]
     },
     "execution_count": 9,
     "metadata": {},
     "output_type": "execute_result"
    }
   ],
   "source": [
    "url = (\"https://www.alphavantage.co/query?\"\n",
    "       \"function=TIME_SERIES_DAILY&\"\n",
    "       \"symbol=AMBUJACEM.BSE\"\n",
    "       \"apikey=apikey\")\n",
    "\n",
    "print(\"url type:\", type(url))\n",
    "url"
   ]
  },
  {
   "cell_type": "code",
   "execution_count": 10,
   "metadata": {},
   "outputs": [],
   "source": [
    "apikey=\"1E1IHGPX4WABET4Q\""
   ]
  },
  {
   "cell_type": "markdown",
   "metadata": {},
   "source": [
    "### 2. Accessing APIs through an HTTP request"
   ]
  },
  {
   "cell_type": "markdown",
   "metadata": {},
   "source": [
    "- Defining an HTTP Request\n",
    "- Make a get request to AlphaVantage API\n",
    "- Examine contents of API response"
   ]
  },
  {
   "cell_type": "code",
   "execution_count": 11,
   "metadata": {},
   "outputs": [
    {
     "name": "stdout",
     "output_type": "stream",
     "text": [
      "{'Meta Data': {'1. Information': 'Daily Prices (open, high, low, close) and Volumes', '2. Symbol': 'IBM', '3. Last Refreshed': '2024-06-05', '4. Output Size': 'Compact', '5. Time Zone': 'US/Eastern'}, 'Time Series (Daily)': {'2024-06-05': {'1. open': '166.4100', '2. high': '167.7900', '3. low': '165.7800', '4. close': '167.3800', '5. volume': '3049377'}, '2024-06-04': {'1. open': '164.6000', '2. high': '166.4000', '3. low': '163.8800', '4. close': '165.8100', '5. volume': '2594203'}, '2024-06-03': {'1. open': '166.5400', '2. high': '166.7800', '3. low': '163.5300', '4. close': '165.2800', '5. volume': '2776058'}, '2024-05-31': {'1. open': '165.7000', '2. high': '166.9700', '3. low': '163.8400', '4. close': '166.8500', '5. volume': '4905002'}, '2024-05-30': {'1. open': '165.5600', '2. high': '166.7300', '3. low': '164.2300', '4. close': '165.6300', '5. volume': '3852963'}, '2024-05-29': {'1. open': '168.0000', '2. high': '168.6300', '3. low': '166.2100', '4. close': '167.0500', '5. volume': '4206576'}, '2024-05-28': {'1. open': '170.4400', '2. high': '171.0850', '3. low': '168.6500', '4. close': '169.6600', '5. volume': '2629645'}, '2024-05-24': {'1. open': '171.4800', '2. high': '172.0100', '3. low': '170.2100', '4. close': '170.8900', '5. volume': '2587829'}, '2024-05-23': {'1. open': '175.3900', '2. high': '175.4600', '3. low': '170.4350', '4. close': '170.6700', '5. volume': '3341335'}, '2024-05-22': {'1. open': '173.3900', '2. high': '174.9900', '3. low': '172.7600', '4. close': '173.6900', '5. volume': '3294900'}, '2024-05-21': {'1. open': '169.9400', '2. high': '174.9700', '3. low': '169.9400', '4. close': '173.4700', '5. volume': '6459800'}, '2024-05-20': {'1. open': '169.0000', '2. high': '170.1600', '3. low': '168.3800', '4. close': '169.9200', '5. volume': '2726261'}, '2024-05-17': {'1. open': '168.9700', '2. high': '169.1100', '3. low': '167.3300', '4. close': '169.0300', '5. volume': '2956387'}, '2024-05-16': {'1. open': '168.2600', '2. high': '169.6300', '3. low': '167.7900', '4. close': '168.9700', '5. volume': '3492267'}, '2024-05-15': {'1. open': '167.9400', '2. high': '168.3500', '3. low': '167.3400', '4. close': '168.2600', '5. volume': '4468823'}, '2024-05-14': {'1. open': '167.8600', '2. high': '168.1300', '3. low': '166.4800', '4. close': '167.3600', '5. volume': '2600967'}, '2024-05-13': {'1. open': '167.5000', '2. high': '168.0600', '3. low': '166.7600', '4. close': '167.5600', '5. volume': '2414859'}, '2024-05-10': {'1. open': '167.1300', '2. high': '168.0700', '3. low': '166.3200', '4. close': '167.1500', '5. volume': '2255370'}, '2024-05-09': {'1. open': '167.5000', '2. high': '167.5500', '3. low': '165.8800', '4. close': '166.2700', '5. volume': '4266616'}, '2024-05-08': {'1. open': '168.0100', '2. high': '170.2600', '3. low': '167.9000', '4. close': '169.9000', '5. volume': '3522011'}, '2024-05-07': {'1. open': '169.0000', '2. high': '169.2900', '3. low': '167.9400', '4. close': '168.3800', '5. volume': '3155260'}, '2024-05-06': {'1. open': '166.5000', '2. high': '168.6700', '3. low': '166.3800', '4. close': '168.6100', '5. volume': '4222266'}, '2024-05-03': {'1. open': '165.0000', '2. high': '166.6100', '3. low': '164.9200', '4. close': '165.7100', '5. volume': '3400405'}, '2024-05-02': {'1. open': '164.3500', '2. high': '164.8800', '3. low': '162.6200', '4. close': '164.6900', '5. volume': '3829853'}, '2024-05-01': {'1. open': '165.6900', '2. high': '166.2700', '3. low': '164.3000', '4. close': '164.4300', '5. volume': '4030960'}, '2024-04-30': {'1. open': '166.4900', '2. high': '166.7600', '3. low': '165.2605', '4. close': '166.2000', '5. volume': '6011634'}, '2024-04-29': {'1. open': '167.4000', '2. high': '168.2200', '3. low': '166.2250', '4. close': '167.4300', '5. volume': '5263342'}, '2024-04-26': {'1. open': '167.5000', '2. high': '167.8700', '3. low': '165.7300', '4. close': '167.1300', '5. volume': '8983796'}, '2024-04-25': {'1. open': '168.2000', '2. high': '172.4500', '3. low': '165.6600', '4. close': '168.9100', '5. volume': '16702150'}, '2024-04-24': {'1. open': '183.1700', '2. high': '184.2900', '3. low': '181.4000', '4. close': '184.1000', '5. volume': '7616643'}, '2024-04-23': {'1. open': '182.7300', '2. high': '184.6800', '3. low': '179.0000', '4. close': '182.1900', '5. volume': '5950229'}, '2024-04-22': {'1. open': '182.4500', '2. high': '183.3150', '3. low': '180.4500', '4. close': '181.9000', '5. volume': '3076451'}, '2024-04-19': {'1. open': '182.4300', '2. high': '182.8000', '3. low': '180.5700', '4. close': '181.5800', '5. volume': '3037990'}, '2024-04-18': {'1. open': '182.3500', '2. high': '183.4600', '3. low': '180.1700', '4. close': '181.4700', '5. volume': '2886733'}, '2024-04-17': {'1. open': '184.1600', '2. high': '184.6700', '3. low': '181.7800', '4. close': '183.1000', '5. volume': '3003033'}, '2024-04-16': {'1. open': '185.5900', '2. high': '185.7100', '3. low': '182.8600', '4. close': '183.7500', '5. volume': '4473654'}, '2024-04-15': {'1. open': '185.5700', '2. high': '187.4800', '3. low': '180.8800', '4. close': '181.2500', '5. volume': '3528140'}, '2024-04-12': {'1. open': '184.0000', '2. high': '185.1699', '3. low': '181.6850', '4. close': '182.2700', '5. volume': '3547378'}, '2024-04-11': {'1. open': '186.0400', '2. high': '186.7950', '3. low': '184.5800', '4. close': '185.9000', '5. volume': '2861736'}, '2024-04-10': {'1. open': '187.4200', '2. high': '187.9150', '3. low': '185.5200', '4. close': '186.0400', '5. volume': '3081915'}, '2024-04-09': {'1. open': '190.5400', '2. high': '191.2500', '3. low': '186.6600', '4. close': '189.3100', '5. volume': '2790673'}, '2024-04-08': {'1. open': '189.2400', '2. high': '190.2400', '3. low': '188.9118', '4. close': '189.8200', '5. volume': '2673611'}, '2024-04-05': {'1. open': '188.5900', '2. high': '190.3200', '3. low': '188.0200', '4. close': '189.1400', '5. volume': '2012428'}, '2024-04-04': {'1. open': '192.0000', '2. high': '193.2800', '3. low': '187.3400', '4. close': '187.9400', '5. volume': '2924438'}, '2024-04-03': {'1. open': '188.6000', '2. high': '191.3500', '3. low': '188.4850', '4. close': '190.9000', '5. volume': '2818910'}, '2024-04-02': {'1. open': '189.1400', '2. high': '189.8000', '3. low': '187.6000', '4. close': '188.8800', '5. volume': '2689711'}, '2024-04-01': {'1. open': '190.0000', '2. high': '190.4600', '3. low': '188.5200', '4. close': '189.8300', '5. volume': '2362586'}, '2024-03-28': {'1. open': '190.9400', '2. high': '191.9299', '3. low': '190.3400', '4. close': '190.9600', '5. volume': '3742169'}, '2024-03-27': {'1. open': '189.6000', '2. high': '190.9600', '3. low': '188.6000', '4. close': '190.8000', '5. volume': '3693305'}, '2024-03-26': {'1. open': '189.0200', '2. high': '190.0000', '3. low': '188.5000', '4. close': '188.5000', '5. volume': '4229535'}, '2024-03-25': {'1. open': '190.2600', '2. high': '190.8200', '3. low': '188.7500', '4. close': '188.7900', '5. volume': '3718289'}, '2024-03-22': {'1. open': '192.0000', '2. high': '192.9850', '3. low': '190.5100', '4. close': '190.8400', '5. volume': '3988398'}, '2024-03-21': {'1. open': '193.0000', '2. high': '193.3700', '3. low': '190.0100', '4. close': '191.9000', '5. volume': '6013561'}, '2024-03-20': {'1. open': '192.8700', '2. high': '193.9800', '3. low': '191.3100', '4. close': '193.9600', '5. volume': '3238643'}, '2024-03-19': {'1. open': '191.4900', '2. high': '193.5800', '3. low': '190.2800', '4. close': '193.3400', '5. volume': '5317341'}, '2024-03-18': {'1. open': '191.7000', '2. high': '193.2300', '3. low': '190.3200', '4. close': '191.6900', '5. volume': '5410562'}, '2024-03-15': {'1. open': '191.9900', '2. high': '193.0573', '3. low': '190.7000', '4. close': '191.0700', '5. volume': '8828184'}, '2024-03-14': {'1. open': '196.9500', '2. high': '197.7480', '3. low': '192.1200', '4. close': '193.4300', '5. volume': '4102202'}, '2024-03-13': {'1. open': '197.5500', '2. high': '198.1000', '3. low': '195.3200', '4. close': '196.7000', '5. volume': '3960737'}, '2024-03-12': {'1. open': '192.4600', '2. high': '199.1800', '3. low': '192.1500', '4. close': '197.7800', '5. volume': '5862512'}, '2024-03-11': {'1. open': '195.0900', '2. high': '195.3800', '3. low': '190.8800', '4. close': '191.7300', '5. volume': '4712688'}, '2024-03-08': {'1. open': '196.0600', '2. high': '197.7700', '3. low': '194.3800', '4. close': '195.9500', '5. volume': '3943113'}, '2024-03-07': {'1. open': '197.5800', '2. high': '198.7300', '3. low': '196.1400', '4. close': '196.5400', '5. volume': '4604458'}, '2024-03-06': {'1. open': '193.5000', '2. high': '198.1300', '3. low': '192.9600', '4. close': '196.1600', '5. volume': '6945818'}, '2024-03-05': {'1. open': '192.0000', '2. high': '193.9400', '3. low': '190.5700', '4. close': '191.9500', '5. volume': '5653641'}, '2024-03-04': {'1. open': '187.7600', '2. high': '193.8980', '3. low': '187.6000', '4. close': '193.0600', '5. volume': '7938266'}, '2024-03-01': {'1. open': '185.4900', '2. high': '188.3800', '3. low': '185.1800', '4. close': '188.2000', '5. volume': '4018354'}, '2024-02-29': {'1. open': '186.1500', '2. high': '186.8495', '3. low': '184.6900', '4. close': '185.0300', '5. volume': '6458487'}, '2024-02-28': {'1. open': '184.6300', '2. high': '185.3700', '3. low': '183.5500', '4. close': '185.3000', '5. volume': '3216345'}, '2024-02-27': {'1. open': '184.1600', '2. high': '185.1300', '3. low': '182.6200', '4. close': '184.8700', '5. volume': '3641378'}, '2024-02-26': {'1. open': '185.6000', '2. high': '186.1250', '3. low': '184.0600', '4. close': '184.1300', '5. volume': '4620815'}, '2024-02-23': {'1. open': '184.9000', '2. high': '186.4550', '3. low': '184.5700', '4. close': '185.7200', '5. volume': '3433800'}, '2024-02-22': {'1. open': '182.4500', '2. high': '184.5500', '3. low': '181.9300', '4. close': '184.2100', '5. volume': '5078398'}, '2024-02-21': {'1. open': '182.5600', '2. high': '183.0300', '3. low': '178.7500', '4. close': '179.7000', '5. volume': '4728473'}, '2024-02-20': {'1. open': '187.6400', '2. high': '188.7700', '3. low': '183.0600', '4. close': '183.4400', '5. volume': '4247181'}, '2024-02-16': {'1. open': '186.6300', '2. high': '188.9500', '3. low': '185.9452', '4. close': '187.6400', '5. volume': '4842840'}, '2024-02-15': {'1. open': '183.6200', '2. high': '186.9800', '3. low': '183.6200', '4. close': '186.8700', '5. volume': '4714301'}, '2024-02-14': {'1. open': '185.0000', '2. high': '185.0000', '3. low': '182.2600', '4. close': '183.5700', '5. volume': '3173391'}, '2024-02-13': {'1. open': '184.2800', '2. high': '184.7700', '3. low': '182.3600', '4. close': '183.7000', '5. volume': '4290453'}, '2024-02-12': {'1. open': '185.9000', '2. high': '186.4800', '3. low': '184.0300', '4. close': '186.1600', '5. volume': '4724021'}, '2024-02-09': {'1. open': '184.4400', '2. high': '187.1800', '3. low': '183.8500', '4. close': '186.3400', '5. volume': '5064641'}, '2024-02-08': {'1. open': '182.6300', '2. high': '184.5500', '3. low': '181.4900', '4. close': '184.3600', '5. volume': '5161185'}, '2024-02-07': {'1. open': '183.3400', '2. high': '184.0200', '3. low': '182.6250', '4. close': '183.7400', '5. volume': '4841188'}, '2024-02-06': {'1. open': '183.5500', '2. high': '184.6800', '3. low': '183.0400', '4. close': '183.4100', '5. volume': '3338196'}, '2024-02-05': {'1. open': '185.5100', '2. high': '185.7800', '3. low': '183.2550', '4. close': '183.4200', '5. volume': '4379602'}, '2024-02-02': {'1. open': '187.1000', '2. high': '187.3900', '3. low': '185.6150', '4. close': '185.7900', '5. volume': '4055411'}, '2024-02-01': {'1. open': '183.6300', '2. high': '187.5100', '3. low': '182.7100', '4. close': '186.9000', '5. volume': '4669444'}, '2024-01-31': {'1. open': '187.0500', '2. high': '187.6500', '3. low': '183.1400', '4. close': '183.6600', '5. volume': '8876055'}, '2024-01-30': {'1. open': '187.7100', '2. high': '188.6500', '3. low': '186.7700', '4. close': '187.8700', '5. volume': '4575058'}, '2024-01-29': {'1. open': '187.4600', '2. high': '189.4600', '3. low': '186.0500', '4. close': '187.1400', '5. volume': '6107908'}, '2024-01-26': {'1. open': '191.3100', '2. high': '192.3896', '3. low': '186.1600', '4. close': '187.4200', '5. volume': '9895941'}, '2024-01-25': {'1. open': '184.9600', '2. high': '196.9000', '3. low': '184.8300', '4. close': '190.4300', '5. volume': '29596239'}, '2024-01-24': {'1. open': '174.7600', '2. high': '174.8600', '3. low': '172.9000', '4. close': '173.9300', '5. volume': '7831157'}, '2024-01-23': {'1. open': '172.9000', '2. high': '174.0200', '3. low': '172.4800', '4. close': '173.9400', '5. volume': '3983461'}, '2024-01-22': {'1. open': '172.8200', '2. high': '174.4500', '3. low': '172.4000', '4. close': '172.8300', '5. volume': '4925964'}, '2024-01-19': {'1. open': '170.5900', '2. high': '171.5791', '3. low': '169.1800', '4. close': '171.4800', '5. volume': '6929079'}, '2024-01-18': {'1. open': '166.4900', '2. high': '166.9900', '3. low': '165.0400', '4. close': '166.8400', '5. volume': '3776990'}, '2024-01-17': {'1. open': '166.7900', '2. high': '167.8200', '3. low': '165.4950', '4. close': '166.0800', '5. volume': '4288604'}, '2024-01-16': {'1. open': '165.8000', '2. high': '167.2500', '3. low': '165.3400', '4. close': '166.9600', '5. volume': '4869635'}, '2024-01-12': {'1. open': '162.9700', '2. high': '165.9800', '3. low': '162.3550', '4. close': '165.8000', '5. volume': '4958261'}}}\n"
     ]
    }
   ],
   "source": [
    "url = 'https://www.alphavantage.co/query?function=TIME_SERIES_DAILY&symbol=IBM&apikey=apikey'\n",
    "r = requests.get(url)\n",
    "data = r.json()\n",
    "\n",
    "print(data)"
   ]
  },
  {
   "cell_type": "code",
   "execution_count": 12,
   "metadata": {},
   "outputs": [
    {
     "data": {
      "text/plain": [
       "dict_keys(['Meta Data', 'Time Series (Daily)'])"
      ]
     },
     "execution_count": 12,
     "metadata": {},
     "output_type": "execute_result"
    }
   ],
   "source": [
    "data.keys()"
   ]
  },
  {
   "cell_type": "markdown",
   "metadata": {},
   "source": [
    "### 3. Defensive Programming for APIs"
   ]
  },
  {
   "cell_type": "markdown",
   "metadata": {},
   "source": [
    "- Create get_daily function\n",
    "- Raise Exceptions for bad requests "
   ]
  },
  {
   "cell_type": "code",
   "execution_count": 13,
   "metadata": {},
   "outputs": [],
   "source": [
    "def get_daily(ticker, output_size=\"full\"):\n",
    "\n",
    "    \"\"\"Get daily time series of an equity from AlphaVantage API\n",
    "\n",
    "    Parameters\n",
    "    ----------\n",
    "    ticker : str\n",
    "        The ticker symbol of the equity.\n",
    "    output_size : str, optional\n",
    "        Number of observations to retrieve. \"compact\" returns the\n",
    "        latest 100 observations. \"full\" returns all observations for\n",
    "        equity. By default \"full\".\n",
    "\n",
    "    Returns\n",
    "    -------\n",
    "    pd.DataFrame\n",
    "        Columns are 'open', 'high', 'low', 'close', and 'volume'.\n",
    "        All are numeric.\n",
    "    \"\"\"\n",
    "    # Create URL\n",
    "    url = (\"https://www.alphavantage.co/query?\"\n",
    "       \"function=TIME_SERIES_DAILY&\"\n",
    "       f\"symbol={ticker}&\"\n",
    "       f\"outputsize={output_size}&\"\n",
    "       \"datatype=json&\"\n",
    "       f\"apikey={apikey}\")\n",
    "    \n",
    "    \n",
    "    # Send request to Alphavantage API\n",
    "    response = requests.get(url=url)\n",
    "\n",
    "    # Extract JSON data from response\n",
    "    response_data = response.json()\n",
    "    if 'Time Series (Daily)' not in response_data.keys():\n",
    "        raise Exception (\n",
    "            f\"Invalid API Call.Check that ticker symbol'{ticker}' is correct\"\n",
    "        )\n",
    "    \n",
    "    # Read data into DataFrame\n",
    "    stock_data = response_data[\"Time Series (Daily)\"]\n",
    "    df = pd.DataFrame.from_dict(stock_data, orient=\"index\", dtype=float)\n",
    "    \n",
    "    # Convert index to `DatetimeIndex` named \"date\"\n",
    "    df.index = pd.to_datetime(df.index)\n",
    "    df.index.name = \"date\"\n",
    "\n",
    "    # Remove numbering from columns\n",
    "    df.columns = [c.split(\". \")[1] for c in df.columns]\n",
    "\n",
    "    # Return DataFrame\n",
    "    return df"
   ]
  },
  {
   "cell_type": "code",
   "execution_count": 14,
   "metadata": {},
   "outputs": [
    {
     "name": "stdout",
     "output_type": "stream",
     "text": [
      "<class 'pandas.core.frame.DataFrame'>\n",
      "DatetimeIndex: 4785 entries, 2024-06-05 to 2005-01-03\n",
      "Data columns (total 5 columns):\n",
      " #   Column  Non-Null Count  Dtype  \n",
      "---  ------  --------------  -----  \n",
      " 0   open    4785 non-null   float64\n",
      " 1   high    4785 non-null   float64\n",
      " 2   low     4785 non-null   float64\n",
      " 3   close   4785 non-null   float64\n",
      " 4   volume  4785 non-null   float64\n",
      "dtypes: float64(5)\n",
      "memory usage: 224.3 KB\n",
      "None\n"
     ]
    },
    {
     "data": {
      "text/html": [
       "<div>\n",
       "<style scoped>\n",
       "    .dataframe tbody tr th:only-of-type {\n",
       "        vertical-align: middle;\n",
       "    }\n",
       "\n",
       "    .dataframe tbody tr th {\n",
       "        vertical-align: top;\n",
       "    }\n",
       "\n",
       "    .dataframe thead th {\n",
       "        text-align: right;\n",
       "    }\n",
       "</style>\n",
       "<table border=\"1\" class=\"dataframe\">\n",
       "  <thead>\n",
       "    <tr style=\"text-align: right;\">\n",
       "      <th></th>\n",
       "      <th>open</th>\n",
       "      <th>high</th>\n",
       "      <th>low</th>\n",
       "      <th>close</th>\n",
       "      <th>volume</th>\n",
       "    </tr>\n",
       "    <tr>\n",
       "      <th>date</th>\n",
       "      <th></th>\n",
       "      <th></th>\n",
       "      <th></th>\n",
       "      <th></th>\n",
       "      <th></th>\n",
       "    </tr>\n",
       "  </thead>\n",
       "  <tbody>\n",
       "    <tr>\n",
       "      <th>2024-06-05</th>\n",
       "      <td>576.75</td>\n",
       "      <td>601.75</td>\n",
       "      <td>550.35</td>\n",
       "      <td>599.05</td>\n",
       "      <td>493444.0</td>\n",
       "    </tr>\n",
       "    <tr>\n",
       "      <th>2024-06-04</th>\n",
       "      <td>670.60</td>\n",
       "      <td>670.60</td>\n",
       "      <td>518.00</td>\n",
       "      <td>557.40</td>\n",
       "      <td>1110009.0</td>\n",
       "    </tr>\n",
       "    <tr>\n",
       "      <th>2024-06-03</th>\n",
       "      <td>665.05</td>\n",
       "      <td>676.65</td>\n",
       "      <td>653.20</td>\n",
       "      <td>670.60</td>\n",
       "      <td>558604.0</td>\n",
       "    </tr>\n",
       "    <tr>\n",
       "      <th>2024-05-31</th>\n",
       "      <td>628.95</td>\n",
       "      <td>639.40</td>\n",
       "      <td>623.45</td>\n",
       "      <td>634.30</td>\n",
       "      <td>84665.0</td>\n",
       "    </tr>\n",
       "    <tr>\n",
       "      <th>2024-05-30</th>\n",
       "      <td>625.05</td>\n",
       "      <td>631.15</td>\n",
       "      <td>617.00</td>\n",
       "      <td>618.70</td>\n",
       "      <td>115283.0</td>\n",
       "    </tr>\n",
       "  </tbody>\n",
       "</table>\n",
       "</div>"
      ],
      "text/plain": [
       "              open    high     low   close     volume\n",
       "date                                                 \n",
       "2024-06-05  576.75  601.75  550.35  599.05   493444.0\n",
       "2024-06-04  670.60  670.60  518.00  557.40  1110009.0\n",
       "2024-06-03  665.05  676.65  653.20  670.60   558604.0\n",
       "2024-05-31  628.95  639.40  623.45  634.30    84665.0\n",
       "2024-05-30  625.05  631.15  617.00  618.70   115283.0"
      ]
     },
     "execution_count": 14,
     "metadata": {},
     "output_type": "execute_result"
    }
   ],
   "source": [
    "# Testing the function\n",
    "df_ambuja = get_daily(ticker=\"AMBUJACEM.BSE\")\n",
    "print(df_ambuja.info())\n",
    "df_ambuja.head()"
   ]
  },
  {
   "cell_type": "code",
   "execution_count": 15,
   "metadata": {},
   "outputs": [
    {
     "ename": "Exception",
     "evalue": "Invalid API Call.Check that ticker symbol'ABUJACEM.BSE' is correct",
     "output_type": "error",
     "traceback": [
      "\u001b[1;31m---------------------------------------------------------------------------\u001b[0m",
      "\u001b[1;31mException\u001b[0m                                 Traceback (most recent call last)",
      "Cell \u001b[1;32mIn[15], line 2\u001b[0m\n\u001b[0;32m      1\u001b[0m \u001b[38;5;66;03m# Test Exception\u001b[39;00m\n\u001b[1;32m----> 2\u001b[0m df_test \u001b[38;5;241m=\u001b[39m \u001b[43mget_daily\u001b[49m\u001b[43m(\u001b[49m\u001b[43mticker\u001b[49m\u001b[38;5;241;43m=\u001b[39;49m\u001b[38;5;124;43m\"\u001b[39;49m\u001b[38;5;124;43mABUJACEM.BSE\u001b[39;49m\u001b[38;5;124;43m\"\u001b[39;49m\u001b[43m)\u001b[49m\n",
      "Cell \u001b[1;32mIn[13], line 35\u001b[0m, in \u001b[0;36mget_daily\u001b[1;34m(ticker, output_size)\u001b[0m\n\u001b[0;32m     33\u001b[0m response_data \u001b[38;5;241m=\u001b[39m response\u001b[38;5;241m.\u001b[39mjson()\n\u001b[0;32m     34\u001b[0m \u001b[38;5;28;01mif\u001b[39;00m \u001b[38;5;124m'\u001b[39m\u001b[38;5;124mTime Series (Daily)\u001b[39m\u001b[38;5;124m'\u001b[39m \u001b[38;5;129;01mnot\u001b[39;00m \u001b[38;5;129;01min\u001b[39;00m response_data\u001b[38;5;241m.\u001b[39mkeys():\n\u001b[1;32m---> 35\u001b[0m     \u001b[38;5;28;01mraise\u001b[39;00m \u001b[38;5;167;01mException\u001b[39;00m (\n\u001b[0;32m     36\u001b[0m         \u001b[38;5;124mf\u001b[39m\u001b[38;5;124m\"\u001b[39m\u001b[38;5;124mInvalid API Call.Check that ticker symbol\u001b[39m\u001b[38;5;124m'\u001b[39m\u001b[38;5;132;01m{\u001b[39;00mticker\u001b[38;5;132;01m}\u001b[39;00m\u001b[38;5;124m'\u001b[39m\u001b[38;5;124m is correct\u001b[39m\u001b[38;5;124m\"\u001b[39m\n\u001b[0;32m     37\u001b[0m     )\n\u001b[0;32m     39\u001b[0m \u001b[38;5;66;03m# Read data into DataFrame\u001b[39;00m\n\u001b[0;32m     40\u001b[0m stock_data \u001b[38;5;241m=\u001b[39m response_data[\u001b[38;5;124m\"\u001b[39m\u001b[38;5;124mTime Series (Daily)\u001b[39m\u001b[38;5;124m\"\u001b[39m]\n",
      "\u001b[1;31mException\u001b[0m: Invalid API Call.Check that ticker symbol'ABUJACEM.BSE' is correct"
     ]
    }
   ],
   "source": [
    "# Test Exception\n",
    "df_test = get_daily(ticker=\"ABUJACEM.BSE\")"
   ]
  }
 ],
 "metadata": {
  "kernelspec": {
   "display_name": "venv",
   "language": "python",
   "name": "python3"
  },
  "language_info": {
   "codemirror_mode": {
    "name": "ipython",
    "version": 3
   },
   "file_extension": ".py",
   "mimetype": "text/x-python",
   "name": "python",
   "nbconvert_exporter": "python",
   "pygments_lexer": "ipython3",
   "version": "3.12.1"
  }
 },
 "nbformat": 4,
 "nbformat_minor": 2
}
