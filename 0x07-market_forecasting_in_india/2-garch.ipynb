{
 "cells": [
  {
   "cell_type": "markdown",
   "metadata": {},
   "source": [
    "# Predicting Volatility"
   ]
  },
  {
   "cell_type": "markdown",
   "metadata": {},
   "source": [
    "**Project Goal**: "
   ]
  },
  {
   "cell_type": "code",
   "execution_count": 12,
   "metadata": {},
   "outputs": [],
   "source": [
    "import sqlite3\n",
    "\n",
    "import matplotlib.pyplot as plt\n",
    "import numpy as np\n",
    "import pandas as pd\n",
    "from arch import arch_model\n",
    "from config import settings\n",
    "from data import SQLRepository\n",
    "from statsmodels.graphics.tsaplots import plot_acf, plot_pacf"
   ]
  },
  {
   "cell_type": "markdown",
   "metadata": {},
   "source": [
    "### Prepare Data"
   ]
  },
  {
   "cell_type": "markdown",
   "metadata": {},
   "source": [
    "#### Import"
   ]
  },
  {
   "cell_type": "markdown",
   "metadata": {},
   "source": [
    "Connect to a database:"
   ]
  },
  {
   "cell_type": "code",
   "execution_count": 14,
   "metadata": {},
   "outputs": [
    {
     "name": "stdout",
     "output_type": "stream",
     "text": [
      "repo type: <class 'data.SQLRepository'>\n",
      "repo.connection type: <class 'sqlite3.Connection'>\n"
     ]
    }
   ],
   "source": [
    "connection = sqlite3.connect(settings.db_name, check_same_thread=False)\n",
    "repo = SQLRepository(connection=connection)\n",
    "\n",
    "print(\"repo type:\", type(repo))\n",
    "print(\"repo.connection type:\", type(repo.connection))"
   ]
  },
  {
   "cell_type": "markdown",
   "metadata": {},
   "source": [
    "Read Ambuja Data From Database"
   ]
  },
  {
   "cell_type": "code",
   "execution_count": 15,
   "metadata": {},
   "outputs": [
    {
     "name": "stdout",
     "output_type": "stream",
     "text": [
      "df_ambuja type: <class 'pandas.core.frame.DataFrame'>\n",
      "df_ambuja shape: (2500, 5)\n"
     ]
    },
    {
     "data": {
      "text/html": [
       "<div>\n",
       "<style scoped>\n",
       "    .dataframe tbody tr th:only-of-type {\n",
       "        vertical-align: middle;\n",
       "    }\n",
       "\n",
       "    .dataframe tbody tr th {\n",
       "        vertical-align: top;\n",
       "    }\n",
       "\n",
       "    .dataframe thead th {\n",
       "        text-align: right;\n",
       "    }\n",
       "</style>\n",
       "<table border=\"1\" class=\"dataframe\">\n",
       "  <thead>\n",
       "    <tr style=\"text-align: right;\">\n",
       "      <th></th>\n",
       "      <th>open</th>\n",
       "      <th>high</th>\n",
       "      <th>low</th>\n",
       "      <th>close</th>\n",
       "      <th>volume</th>\n",
       "    </tr>\n",
       "    <tr>\n",
       "      <th>date</th>\n",
       "      <th></th>\n",
       "      <th></th>\n",
       "      <th></th>\n",
       "      <th></th>\n",
       "      <th></th>\n",
       "    </tr>\n",
       "  </thead>\n",
       "  <tbody>\n",
       "    <tr>\n",
       "      <th>2024-06-05</th>\n",
       "      <td>576.75</td>\n",
       "      <td>601.75</td>\n",
       "      <td>550.35</td>\n",
       "      <td>599.05</td>\n",
       "      <td>493444.0</td>\n",
       "    </tr>\n",
       "    <tr>\n",
       "      <th>2024-06-04</th>\n",
       "      <td>670.60</td>\n",
       "      <td>670.60</td>\n",
       "      <td>518.00</td>\n",
       "      <td>557.40</td>\n",
       "      <td>1110009.0</td>\n",
       "    </tr>\n",
       "    <tr>\n",
       "      <th>2024-06-03</th>\n",
       "      <td>665.05</td>\n",
       "      <td>676.65</td>\n",
       "      <td>653.20</td>\n",
       "      <td>670.60</td>\n",
       "      <td>558604.0</td>\n",
       "    </tr>\n",
       "    <tr>\n",
       "      <th>2024-05-31</th>\n",
       "      <td>628.95</td>\n",
       "      <td>639.40</td>\n",
       "      <td>623.45</td>\n",
       "      <td>634.30</td>\n",
       "      <td>84665.0</td>\n",
       "    </tr>\n",
       "    <tr>\n",
       "      <th>2024-05-30</th>\n",
       "      <td>625.05</td>\n",
       "      <td>631.15</td>\n",
       "      <td>617.00</td>\n",
       "      <td>618.70</td>\n",
       "      <td>115283.0</td>\n",
       "    </tr>\n",
       "  </tbody>\n",
       "</table>\n",
       "</div>"
      ],
      "text/plain": [
       "              open    high     low   close     volume\n",
       "date                                                 \n",
       "2024-06-05  576.75  601.75  550.35  599.05   493444.0\n",
       "2024-06-04  670.60  670.60  518.00  557.40  1110009.0\n",
       "2024-06-03  665.05  676.65  653.20  670.60   558604.0\n",
       "2024-05-31  628.95  639.40  623.45  634.30    84665.0\n",
       "2024-05-30  625.05  631.15  617.00  618.70   115283.0"
      ]
     },
     "execution_count": 15,
     "metadata": {},
     "output_type": "execute_result"
    }
   ],
   "source": [
    "df_ambuja = repo.read_table(table_name=\"AMBUJACEM.BSE\", limit=2500)\n",
    "\n",
    "print(\"df_ambuja type:\", type(df_ambuja))\n",
    "print(\"df_ambuja shape:\", df_ambuja.shape)\n",
    "df_ambuja.head()"
   ]
  }
 ],
 "metadata": {
  "kernelspec": {
   "display_name": "venv",
   "language": "python",
   "name": "python3"
  },
  "language_info": {
   "codemirror_mode": {
    "name": "ipython",
    "version": 3
   },
   "file_extension": ".py",
   "mimetype": "text/x-python",
   "name": "python",
   "nbconvert_exporter": "python",
   "pygments_lexer": "ipython3",
   "version": "3.12.1"
  }
 },
 "nbformat": 4,
 "nbformat_minor": 2
}
