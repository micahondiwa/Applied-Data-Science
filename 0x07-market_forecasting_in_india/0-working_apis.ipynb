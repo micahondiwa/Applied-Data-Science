{
 "cells": [
  {
   "cell_type": "markdown",
   "metadata": {},
   "source": [
    "# Working with APIs"
   ]
  },
  {
   "cell_type": "markdown",
   "metadata": {},
   "source": [
    "**Project Goal**: Obatining data with APIs and transforming it to a manageable format"
   ]
  },
  {
   "cell_type": "markdown",
   "metadata": {},
   "source": [
    "Specifics:"
   ]
  },
  {
   "cell_type": "markdown",
   "metadata": {},
   "source": [
    "1. Extract stock data from the AlphaVantage API using a URL.\n",
    "2. Extract stock data from AlphaVantage API using an HTTP request.\n",
    "3.  Write a function for transforming stock data.\n",
    "4.  Incorporate Python Exceptions into the function."
   ]
  },
  {
   "cell_type": "code",
   "execution_count": 2,
   "metadata": {},
   "outputs": [],
   "source": [
    "import pandas as pd \n",
    "import requests"
   ]
  },
  {
   "cell_type": "markdown",
   "metadata": {},
   "source": [
    "### 1. Accessing APIs Through a URL"
   ]
  },
  {
   "cell_type": "markdown",
   "metadata": {},
   "source": [
    "- Idenitify components of a URL\n",
    "- Add API key to config module\n",
    "- Incorporate AlphaVantage paramters into URL"
   ]
  },
  {
   "cell_type": "markdown",
   "metadata": {},
   "source": [
    "Identify components of a URL"
   ]
  },
  {
   "cell_type": "markdown",
   "metadata": {},
   "source": [
    "Notice that this URL has several components. Let's break them down one-by-one.\n",
    "\n",
    "| URL | Component |\n",
    "|:--- | :-------- |\n",
    "| `https://www.alphavantage.co` | This is the **hostname** or **base URL**. It is the web address for the server where we can get our stock data. |\n",
    "| `/query` | This is the **path**. Most APIs have lots of different operations they can do. The path is the name of the particular operation we want to access. |\n",
    "| `?` |  This question mark denotes that everything that follows in the URL is a **parameter**. Each parameter is separated by a `&` character. These parameters provide additional information that will change the operation's behavior. This is similar to the way we pass **arguments** into functions in Python. |\n",
    "| `function=TIME_SERIES_DAILY` | Our first parameter uses the `function` keyword. The value is `TIME_SERIES_DAILY`. In this case, we're asking for **daily** stock data. |\n",
    "| `symbol=IBM` | Our second parameter uses the `symbol` keyword. So we're asking for a data on a stock whose [**ticker symbol**](https://en.wikipedia.org/wiki/Ticker_symbol) is `IBM`. |\n",
    "| `apikey=demo` | Much in the same way you need a password to access some websites, an **API key** or **API token** is the password that you'll use to access the API. |"
   ]
  },
  {
   "cell_type": "code",
   "execution_count": 4,
   "metadata": {},
   "outputs": [
    {
     "name": "stdout",
     "output_type": "stream",
     "text": [
      "url type: <class 'str'>\n"
     ]
    },
    {
     "data": {
      "text/plain": [
       "'https://www.alphavantage.co/query?function=TIME_SERIES_DAILY&symbol=AMBUJACEM.BSEapikey=apikey'"
      ]
     },
     "execution_count": 4,
     "metadata": {},
     "output_type": "execute_result"
    }
   ],
   "source": [
    "url = (\"https://www.alphavantage.co/query?\"\n",
    "       \"function=TIME_SERIES_DAILY&\"\n",
    "       \"symbol=AMBUJACEM.BSE\"\n",
    "       \"apikey=apikey\")\n",
    "\n",
    "print(\"url type:\", type(url))\n",
    "url"
   ]
  },
  {
   "cell_type": "code",
   "execution_count": null,
   "metadata": {},
   "outputs": [],
   "source": [
    "# Import settings\n",
    "from config import settings"
   ]
  },
  {
   "cell_type": "markdown",
   "metadata": {},
   "source": [
    "### 2. Accessing APIs through an HTTP request"
   ]
  },
  {
   "cell_type": "markdown",
   "metadata": {},
   "source": [
    "- Defining an HTTP Request\n",
    "- Make a get request to AlphaVantage API\n",
    "- Examine contents of API response"
   ]
  },
  {
   "cell_type": "markdown",
   "metadata": {},
   "source": [
    "### 3. Defensive Programming for APIs"
   ]
  },
  {
   "cell_type": "markdown",
   "metadata": {},
   "source": [
    "- Create get_daily function\n",
    "- Raise Exceptions for bad requests "
   ]
  },
  {
   "cell_type": "code",
   "execution_count": 12,
   "metadata": {},
   "outputs": [],
   "source": [
    "def get_daily(ticker, output_size=\"full\"):\n",
    "\n",
    "    \"\"\"Get daily time series of an equity from AlphaVantage API.\n",
    "\n",
    "    Parameters\n",
    "    ----------\n",
    "    ticker : str\n",
    "        The ticker symbol of the equity.\n",
    "    output_size : str, optional\n",
    "        Number of observations to retrieve. \"compact\" returns the\n",
    "        latest 100 observations. \"full\" returns all observations for\n",
    "        equity. By default \"full\".\n",
    "\n",
    "    Returns\n",
    "    -------\n",
    "    pd.DataFrame\n",
    "        Columns are 'open', 'high', 'low', 'close', and 'volume'.\n",
    "        All are numeric.\n",
    "    \"\"\"\n",
    "    # Create URL\n",
    "    url = (\"https://www.alphavantage.co/query?\"\n",
    "       \"function=TIME_SERIES_DAILY&\"\n",
    "       f\"symbol={ticker}&\"\n",
    "       f\"outputsize={output_size}&\"\n",
    "       \"datatype=json&\"\n",
    "       f\"apikey={apikey}\")\n",
    "    \n",
    "    \n",
    "    # Send request to API\n",
    "    response = requests.get(url=url)\n",
    "\n",
    "    # Extract JSON data from response\n",
    "    response_data = response.json()\n",
    "    if 'Time Series (Daily)' not in response_data.keys():\n",
    "        raise Exception (\n",
    "            f\"Invalid API Call.Check that ticker symbol'{ticker}' is correct\"\n",
    "        )\n",
    "    \n",
    "    # Read data into DataFrame\n",
    "    stock_data = response_data[\"Time Series (Daily)\"]\n",
    "    df = pd.DataFrame.from_dict(stock_data, orient=\"index\", dtype=float)\n",
    "    \n",
    "    # Convert index to `DatetimeIndex` named \"date\"\n",
    "    df.index = pd.to_datetime(df.index)\n",
    "    df.index.name = \"date\"\n",
    "\n",
    "    # Remove numbering from columns\n",
    "    df.columns = [c.split(\". \")[1] for c in df.columns]\n",
    "\n",
    "    # Return DataFrame\n",
    "    return df"
   ]
  },
  {
   "cell_type": "code",
   "execution_count": 15,
   "metadata": {},
   "outputs": [
    {
     "name": "stdout",
     "output_type": "stream",
     "text": [
      "<class 'pandas.core.frame.DataFrame'>\n",
      "DatetimeIndex: 4767 entries, 2024-05-09 to 2005-01-03\n",
      "Data columns (total 5 columns):\n",
      " #   Column  Non-Null Count  Dtype  \n",
      "---  ------  --------------  -----  \n",
      " 0   open    4767 non-null   float64\n",
      " 1   high    4767 non-null   float64\n",
      " 2   low     4767 non-null   float64\n",
      " 3   close   4767 non-null   float64\n",
      " 4   volume  4767 non-null   float64\n",
      "dtypes: float64(5)\n",
      "memory usage: 223.5 KB\n",
      "None\n"
     ]
    },
    {
     "data": {
      "text/html": [
       "<div>\n",
       "<style scoped>\n",
       "    .dataframe tbody tr th:only-of-type {\n",
       "        vertical-align: middle;\n",
       "    }\n",
       "\n",
       "    .dataframe tbody tr th {\n",
       "        vertical-align: top;\n",
       "    }\n",
       "\n",
       "    .dataframe thead th {\n",
       "        text-align: right;\n",
       "    }\n",
       "</style>\n",
       "<table border=\"1\" class=\"dataframe\">\n",
       "  <thead>\n",
       "    <tr style=\"text-align: right;\">\n",
       "      <th></th>\n",
       "      <th>open</th>\n",
       "      <th>high</th>\n",
       "      <th>low</th>\n",
       "      <th>close</th>\n",
       "      <th>volume</th>\n",
       "    </tr>\n",
       "    <tr>\n",
       "      <th>date</th>\n",
       "      <th></th>\n",
       "      <th></th>\n",
       "      <th></th>\n",
       "      <th></th>\n",
       "      <th></th>\n",
       "    </tr>\n",
       "  </thead>\n",
       "  <tbody>\n",
       "    <tr>\n",
       "      <th>2024-05-09</th>\n",
       "      <td>595.35</td>\n",
       "      <td>596.00</td>\n",
       "      <td>571.95</td>\n",
       "      <td>574.30</td>\n",
       "      <td>115025.0</td>\n",
       "    </tr>\n",
       "    <tr>\n",
       "      <th>2024-05-08</th>\n",
       "      <td>590.15</td>\n",
       "      <td>600.85</td>\n",
       "      <td>587.65</td>\n",
       "      <td>594.35</td>\n",
       "      <td>66462.0</td>\n",
       "    </tr>\n",
       "    <tr>\n",
       "      <th>2024-05-07</th>\n",
       "      <td>609.95</td>\n",
       "      <td>612.35</td>\n",
       "      <td>589.00</td>\n",
       "      <td>593.55</td>\n",
       "      <td>101391.0</td>\n",
       "    </tr>\n",
       "    <tr>\n",
       "      <th>2024-05-06</th>\n",
       "      <td>626.95</td>\n",
       "      <td>626.95</td>\n",
       "      <td>599.70</td>\n",
       "      <td>605.95</td>\n",
       "      <td>110232.0</td>\n",
       "    </tr>\n",
       "    <tr>\n",
       "      <th>2024-05-03</th>\n",
       "      <td>630.15</td>\n",
       "      <td>634.75</td>\n",
       "      <td>616.55</td>\n",
       "      <td>622.25</td>\n",
       "      <td>105089.0</td>\n",
       "    </tr>\n",
       "  </tbody>\n",
       "</table>\n",
       "</div>"
      ],
      "text/plain": [
       "              open    high     low   close    volume\n",
       "date                                                \n",
       "2024-05-09  595.35  596.00  571.95  574.30  115025.0\n",
       "2024-05-08  590.15  600.85  587.65  594.35   66462.0\n",
       "2024-05-07  609.95  612.35  589.00  593.55  101391.0\n",
       "2024-05-06  626.95  626.95  599.70  605.95  110232.0\n",
       "2024-05-03  630.15  634.75  616.55  622.25  105089.0"
      ]
     },
     "execution_count": 15,
     "metadata": {},
     "output_type": "execute_result"
    }
   ],
   "source": [
    "# Test function\n",
    "df_ambuja = get_daily(ticker=\"AMBUJACEM.BSE\")\n",
    "\n",
    "print(df_ambuja.info())\n",
    "df_ambuja.head()"
   ]
  }
 ],
 "metadata": {
  "kernelspec": {
   "display_name": "venv",
   "language": "python",
   "name": "python3"
  },
  "language_info": {
   "codemirror_mode": {
    "name": "ipython",
    "version": 3
   },
   "file_extension": ".py",
   "mimetype": "text/x-python",
   "name": "python",
   "nbconvert_exporter": "python",
   "pygments_lexer": "ipython3",
   "version": "3.12.1"
  }
 },
 "nbformat": 4,
 "nbformat_minor": 2
}
