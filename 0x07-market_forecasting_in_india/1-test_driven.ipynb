{
 "cells": [
  {
   "cell_type": "markdown",
   "metadata": {},
   "source": [
    "# Test Driven Development"
   ]
  },
  {
   "cell_type": "markdown",
   "metadata": {},
   "source": [
    "**Project Goals**: \n",
    "- Take the code for accessing the API and build an AlphaVantageAPI class.\n",
    "- Create a SQLRepository class that will help us load our stock into a SQLite database, then extract then extract it for later use."
   ]
  },
  {
   "cell_type": "code",
   "execution_count": 1,
   "metadata": {},
   "outputs": [
    {
     "name": "stderr",
     "output_type": "stream",
     "text": [
      "d:\\workspace\\applied-data_science\\venv\\Lib\\site-packages\\pydantic\\_internal\\_fields.py:160: UserWarning: Field \"model_directory\" has conflict with protected namespace \"model_\".\n",
      "\n",
      "You may be able to resolve this warning by setting `model_config['protected_namespaces'] = ('settings_',)`.\n",
      "  warnings.warn(\n"
     ]
    }
   ],
   "source": [
    "%load_ext autoreload\n",
    "%load_ext sql\n",
    "%autoreload 2\n",
    "\n",
    "import sqlite3\n",
    "\n",
    "import matplotlib.pyplot as plt\n",
    "import pandas as pd\n",
    "from config import settings"
   ]
  },
  {
   "cell_type": "markdown",
   "metadata": {},
   "source": [
    "### AlphaVantageAPI Class"
   ]
  },
  {
   "cell_type": "markdown",
   "metadata": {},
   "source": [
    "- Importing the ```AlphaVantageAPI``` class from the data module and create an instance of it "
   ]
  },
  {
   "cell_type": "code",
   "execution_count": 2,
   "metadata": {},
   "outputs": [
    {
     "name": "stdout",
     "output_type": "stream",
     "text": [
      "av type: <class 'data.AlphaVantageAPI'>\n"
     ]
    }
   ],
   "source": [
    "# Import `AlphaVantageAPI`\n",
    "from data import AlphaVantageAPI\n",
    "\n",
    "# Create instance of `AlphaVantageAPI` class\n",
    "av = AlphaVantageAPI()\n",
    "\n",
    "print(\"av type:\", type(av))"
   ]
  },
  {
   "cell_type": "markdown",
   "metadata": {},
   "source": [
    "### AlphaVantageAPI: Get_daily Method"
   ]
  },
  {
   "cell_type": "markdown",
   "metadata": {},
   "source": [
    "- Using the ```get_daily``` method to fetch the  stock data for the renewable energy company Suzlon and assign it to the DataFrame df_suzlon."
   ]
  },
  {
   "cell_type": "code",
   "execution_count": 3,
   "metadata": {},
   "outputs": [
    {
     "name": "stdout",
     "output_type": "stream",
     "text": [
      "df_suzlon type: <class 'pandas.core.frame.DataFrame'>\n",
      "df_suzlon shape: (4589, 5)\n"
     ]
    },
    {
     "data": {
      "text/html": [
       "<div>\n",
       "<style scoped>\n",
       "    .dataframe tbody tr th:only-of-type {\n",
       "        vertical-align: middle;\n",
       "    }\n",
       "\n",
       "    .dataframe tbody tr th {\n",
       "        vertical-align: top;\n",
       "    }\n",
       "\n",
       "    .dataframe thead th {\n",
       "        text-align: right;\n",
       "    }\n",
       "</style>\n",
       "<table border=\"1\" class=\"dataframe\">\n",
       "  <thead>\n",
       "    <tr style=\"text-align: right;\">\n",
       "      <th></th>\n",
       "      <th>open</th>\n",
       "      <th>high</th>\n",
       "      <th>low</th>\n",
       "      <th>close</th>\n",
       "      <th>volume</th>\n",
       "    </tr>\n",
       "    <tr>\n",
       "      <th>date</th>\n",
       "      <th></th>\n",
       "      <th></th>\n",
       "      <th></th>\n",
       "      <th></th>\n",
       "      <th></th>\n",
       "    </tr>\n",
       "  </thead>\n",
       "  <tbody>\n",
       "    <tr>\n",
       "      <th>2024-06-05</th>\n",
       "      <td>45.13</td>\n",
       "      <td>49.20</td>\n",
       "      <td>45.13</td>\n",
       "      <td>48.35</td>\n",
       "      <td>14381150.0</td>\n",
       "    </tr>\n",
       "    <tr>\n",
       "      <th>2024-06-04</th>\n",
       "      <td>52.19</td>\n",
       "      <td>52.19</td>\n",
       "      <td>47.50</td>\n",
       "      <td>47.50</td>\n",
       "      <td>8835466.0</td>\n",
       "    </tr>\n",
       "    <tr>\n",
       "      <th>2024-06-03</th>\n",
       "      <td>49.99</td>\n",
       "      <td>49.99</td>\n",
       "      <td>49.99</td>\n",
       "      <td>49.99</td>\n",
       "      <td>2611005.0</td>\n",
       "    </tr>\n",
       "    <tr>\n",
       "      <th>2024-05-31</th>\n",
       "      <td>45.40</td>\n",
       "      <td>47.62</td>\n",
       "      <td>44.21</td>\n",
       "      <td>47.61</td>\n",
       "      <td>4181822.0</td>\n",
       "    </tr>\n",
       "    <tr>\n",
       "      <th>2024-05-30</th>\n",
       "      <td>46.40</td>\n",
       "      <td>46.90</td>\n",
       "      <td>44.70</td>\n",
       "      <td>45.36</td>\n",
       "      <td>6019019.0</td>\n",
       "    </tr>\n",
       "  </tbody>\n",
       "</table>\n",
       "</div>"
      ],
      "text/plain": [
       "             open   high    low  close      volume\n",
       "date                                              \n",
       "2024-06-05  45.13  49.20  45.13  48.35  14381150.0\n",
       "2024-06-04  52.19  52.19  47.50  47.50   8835466.0\n",
       "2024-06-03  49.99  49.99  49.99  49.99   2611005.0\n",
       "2024-05-31  45.40  47.62  44.21  47.61   4181822.0\n",
       "2024-05-30  46.40  46.90  44.70  45.36   6019019.0"
      ]
     },
     "execution_count": 3,
     "metadata": {},
     "output_type": "execute_result"
    }
   ],
   "source": [
    "# Define Suzlon ticker symbol\n",
    "ticker = \"SUZLON.BSE\"\n",
    "\n",
    "# Use your `av` object to get daily data\n",
    "df_suzlon = av.get_daily(ticker)\n",
    "\n",
    "print(\"df_suzlon type:\", type(df_suzlon))\n",
    "print(\"df_suzlon shape:\", df_suzlon.shape)\n",
    "df_suzlon.head()"
   ]
  },
  {
   "cell_type": "markdown",
   "metadata": {},
   "source": [
    "### AlphaVantageAPI: Testing Get_daily Method"
   ]
  },
  {
   "cell_type": "markdown",
   "metadata": {},
   "source": [
    "- assert statements to test the output of your ```get_daily``` method"
   ]
  },
  {
   "cell_type": "code",
   "execution_count": 4,
   "metadata": {},
   "outputs": [],
   "source": [
    "# Does `get_daily` return a DataFrame?\n",
    "assert isinstance(df_suzlon, pd.DataFrame)\n",
    "\n",
    "# Does DataFrame have 5 columns?\n",
    "assert df_suzlon.shape[1] == 5\n",
    "\n",
    "# Does DataFrame have a DatetimeIndex?\n",
    "assert isinstance(df_suzlon.index , pd.DatetimeIndex)\n",
    "\n",
    "# Is the index name \"date\"?\n",
    "assert df_suzlon.index.name  == \"date\""
   ]
  },
  {
   "cell_type": "markdown",
   "metadata": {},
   "source": [
    "More Tests:"
   ]
  },
  {
   "cell_type": "code",
   "execution_count": 5,
   "metadata": {},
   "outputs": [],
   "source": [
    "# Does DataFrame have correct column names?\n",
    "assert all(df_suzlon.columns == ['open', 'high', 'low', 'close', 'volume'])\n",
    "assert df_suzlon.columns.to_list() == ['open', 'high', 'low', 'close', 'volume']\n",
    "# Are columns correct data type?\n",
    "assert all(df_suzlon.dtypes == float)"
   ]
  },
  {
   "cell_type": "markdown",
   "metadata": {},
   "source": [
    "### SQL Repository Class"
   ]
  },
  {
   "cell_type": "markdown",
   "metadata": {},
   "source": [
    "- For storing data into the database. Because our data is highly structured (each DataFrame we extract from AlphaVantage is always going to have the same five columns), it makes sense to use a SQL database."
   ]
  },
  {
   "cell_type": "markdown",
   "metadata": {},
   "source": [
    "#### Connect to Database"
   ]
  },
  {
   "cell_type": "code",
   "execution_count": 6,
   "metadata": {},
   "outputs": [
    {
     "name": "stdout",
     "output_type": "stream",
     "text": [
      "connection type: <class 'sqlite3.Connection'>\n"
     ]
    }
   ],
   "source": [
    "connection = sqlite3.connect(database=settings.db_name, check_same_thread=False)\n",
    "\n",
    "print(\"connection type:\", type(connection))"
   ]
  },
  {
   "cell_type": "markdown",
   "metadata": {},
   "source": [
    "#### SQLRepository: Tests"
   ]
  },
  {
   "cell_type": "code",
   "execution_count": 7,
   "metadata": {},
   "outputs": [],
   "source": [
    "# Import class definition\n",
    "from data import SQLRepository\n",
    "\n",
    "# Create instance of class\n",
    "repo = SQLRepository(connection=connection)\n",
    "\n",
    "# Does `repo` have a \"connection\" attribute?\n",
    "hasattr (repo, \"connection\") \n",
    "\n",
    "# # Is the \"connection\" attribute a SQLite `Connection`?\n",
    "assert isinstance(repo.connection, sqlite3.Connection)"
   ]
  },
  {
   "cell_type": "markdown",
   "metadata": {},
   "source": [
    "#### SQLRepository: Tests for Insert_table Method"
   ]
  },
  {
   "cell_type": "code",
   "execution_count": 8,
   "metadata": {},
   "outputs": [],
   "source": [
    "response = repo.insert_table(table_name=ticker, records=df_suzlon, if_exists=\"replace\")\n",
    "\n",
    "# Does your method return a dictionary?\n",
    "assert isinstance(response, dict)\n",
    "\n",
    "# Are the keys of that dictionary correct?\n",
    "assert sorted(list(response.keys())) == [\"records_inserted\", \"transaction_successful\"]"
   ]
  },
  {
   "cell_type": "code",
   "execution_count": 9,
   "metadata": {},
   "outputs": [
    {
     "data": {
      "text/plain": [
       "{'transaction_successful': True, 'records_inserted': 4589}"
      ]
     },
     "execution_count": 9,
     "metadata": {},
     "output_type": "execute_result"
    }
   ],
   "source": [
    "response"
   ]
  },
  {
   "cell_type": "markdown",
   "metadata": {},
   "source": []
  },
  {
   "cell_type": "code",
   "execution_count": 11,
   "metadata": {},
   "outputs": [
    {
     "name": "stdout",
     "output_type": "stream",
     "text": [
      "The sql extension is already loaded. To reload it, use:\n",
      "  %reload_ext sql\n"
     ]
    }
   ],
   "source": [
    "%load_ext sql\n",
    "%sql sqlite:///D:\\workspace\\applied-data_science\\0x07-market_forecasting_in_india\\stocks.sqlite"
   ]
  },
  {
   "cell_type": "code",
   "execution_count": 12,
   "metadata": {},
   "outputs": [
    {
     "name": "stdout",
     "output_type": "stream",
     "text": [
      " * sqlite:///D:\\workspace\\applied-data_science\\0x07-market_forecasting_in_india\\stocks.sqlite\n",
      "Done.\n"
     ]
    },
    {
     "data": {
      "text/html": [
       "<table>\n",
       "    <thead>\n",
       "        <tr>\n",
       "            <th>date</th>\n",
       "            <th>open</th>\n",
       "            <th>high</th>\n",
       "            <th>low</th>\n",
       "            <th>close</th>\n",
       "            <th>volume</th>\n",
       "        </tr>\n",
       "    </thead>\n",
       "    <tbody>\n",
       "        <tr>\n",
       "            <td>2024-06-05 00:00:00</td>\n",
       "            <td>45.13</td>\n",
       "            <td>49.2</td>\n",
       "            <td>45.13</td>\n",
       "            <td>48.35</td>\n",
       "            <td>14381150.0</td>\n",
       "        </tr>\n",
       "        <tr>\n",
       "            <td>2024-06-04 00:00:00</td>\n",
       "            <td>52.19</td>\n",
       "            <td>52.19</td>\n",
       "            <td>47.5</td>\n",
       "            <td>47.5</td>\n",
       "            <td>8835466.0</td>\n",
       "        </tr>\n",
       "        <tr>\n",
       "            <td>2024-06-03 00:00:00</td>\n",
       "            <td>49.99</td>\n",
       "            <td>49.99</td>\n",
       "            <td>49.99</td>\n",
       "            <td>49.99</td>\n",
       "            <td>2611005.0</td>\n",
       "        </tr>\n",
       "        <tr>\n",
       "            <td>2024-05-31 00:00:00</td>\n",
       "            <td>45.4</td>\n",
       "            <td>47.62</td>\n",
       "            <td>44.21</td>\n",
       "            <td>47.61</td>\n",
       "            <td>4181822.0</td>\n",
       "        </tr>\n",
       "        <tr>\n",
       "            <td>2024-05-30 00:00:00</td>\n",
       "            <td>46.4</td>\n",
       "            <td>46.9</td>\n",
       "            <td>44.7</td>\n",
       "            <td>45.36</td>\n",
       "            <td>6019019.0</td>\n",
       "        </tr>\n",
       "    </tbody>\n",
       "</table>"
      ],
      "text/plain": [
       "[('2024-06-05 00:00:00', 45.13, 49.2, 45.13, 48.35, 14381150.0),\n",
       " ('2024-06-04 00:00:00', 52.19, 52.19, 47.5, 47.5, 8835466.0),\n",
       " ('2024-06-03 00:00:00', 49.99, 49.99, 49.99, 49.99, 2611005.0),\n",
       " ('2024-05-31 00:00:00', 45.4, 47.62, 44.21, 47.61, 4181822.0),\n",
       " ('2024-05-30 00:00:00', 46.4, 46.9, 44.7, 45.36, 6019019.0)]"
      ]
     },
     "execution_count": 12,
     "metadata": {},
     "output_type": "execute_result"
    }
   ],
   "source": [
    "%%sql\n",
    "\n",
    "SELECT *\n",
    "FROM \"SUZLON.BSE\"\n",
    "LIMIT 5"
   ]
  },
  {
   "cell_type": "markdown",
   "metadata": {},
   "source": [
    "#### Read SQL Data with Pandas"
   ]
  },
  {
   "cell_type": "code",
   "execution_count": 13,
   "metadata": {},
   "outputs": [
    {
     "name": "stdout",
     "output_type": "stream",
     "text": [
      "df_suzlon_test type: <class 'pandas.core.frame.DataFrame'>\n",
      "\n",
      "<class 'pandas.core.frame.DataFrame'>\n",
      "DatetimeIndex: 4589 entries, 2024-06-05 to 2005-10-20\n",
      "Data columns (total 5 columns):\n",
      " #   Column  Non-Null Count  Dtype  \n",
      "---  ------  --------------  -----  \n",
      " 0   open    4589 non-null   float64\n",
      " 1   high    4589 non-null   float64\n",
      " 2   low     4589 non-null   float64\n",
      " 3   close   4589 non-null   float64\n",
      " 4   volume  4589 non-null   float64\n",
      "dtypes: float64(5)\n",
      "memory usage: 215.1 KB\n",
      "None\n"
     ]
    },
    {
     "data": {
      "text/html": [
       "<div>\n",
       "<style scoped>\n",
       "    .dataframe tbody tr th:only-of-type {\n",
       "        vertical-align: middle;\n",
       "    }\n",
       "\n",
       "    .dataframe tbody tr th {\n",
       "        vertical-align: top;\n",
       "    }\n",
       "\n",
       "    .dataframe thead th {\n",
       "        text-align: right;\n",
       "    }\n",
       "</style>\n",
       "<table border=\"1\" class=\"dataframe\">\n",
       "  <thead>\n",
       "    <tr style=\"text-align: right;\">\n",
       "      <th></th>\n",
       "      <th>open</th>\n",
       "      <th>high</th>\n",
       "      <th>low</th>\n",
       "      <th>close</th>\n",
       "      <th>volume</th>\n",
       "    </tr>\n",
       "    <tr>\n",
       "      <th>date</th>\n",
       "      <th></th>\n",
       "      <th></th>\n",
       "      <th></th>\n",
       "      <th></th>\n",
       "      <th></th>\n",
       "    </tr>\n",
       "  </thead>\n",
       "  <tbody>\n",
       "    <tr>\n",
       "      <th>2024-06-05</th>\n",
       "      <td>45.13</td>\n",
       "      <td>49.20</td>\n",
       "      <td>45.13</td>\n",
       "      <td>48.35</td>\n",
       "      <td>14381150.0</td>\n",
       "    </tr>\n",
       "    <tr>\n",
       "      <th>2024-06-04</th>\n",
       "      <td>52.19</td>\n",
       "      <td>52.19</td>\n",
       "      <td>47.50</td>\n",
       "      <td>47.50</td>\n",
       "      <td>8835466.0</td>\n",
       "    </tr>\n",
       "    <tr>\n",
       "      <th>2024-06-03</th>\n",
       "      <td>49.99</td>\n",
       "      <td>49.99</td>\n",
       "      <td>49.99</td>\n",
       "      <td>49.99</td>\n",
       "      <td>2611005.0</td>\n",
       "    </tr>\n",
       "    <tr>\n",
       "      <th>2024-05-31</th>\n",
       "      <td>45.40</td>\n",
       "      <td>47.62</td>\n",
       "      <td>44.21</td>\n",
       "      <td>47.61</td>\n",
       "      <td>4181822.0</td>\n",
       "    </tr>\n",
       "    <tr>\n",
       "      <th>2024-05-30</th>\n",
       "      <td>46.40</td>\n",
       "      <td>46.90</td>\n",
       "      <td>44.70</td>\n",
       "      <td>45.36</td>\n",
       "      <td>6019019.0</td>\n",
       "    </tr>\n",
       "  </tbody>\n",
       "</table>\n",
       "</div>"
      ],
      "text/plain": [
       "             open   high    low  close      volume\n",
       "date                                              \n",
       "2024-06-05  45.13  49.20  45.13  48.35  14381150.0\n",
       "2024-06-04  52.19  52.19  47.50  47.50   8835466.0\n",
       "2024-06-03  49.99  49.99  49.99  49.99   2611005.0\n",
       "2024-05-31  45.40  47.62  44.21  47.61   4181822.0\n",
       "2024-05-30  46.40  46.90  44.70  45.36   6019019.0"
      ]
     },
     "execution_count": 13,
     "metadata": {},
     "output_type": "execute_result"
    }
   ],
   "source": [
    "sql = 'SELECT * FROM \"SUZLON.BSE\"'\n",
    "df_suzlon_test = pd.read_sql(\n",
    "    sql=sql, con = connection,\n",
    "    parse_dates=[\"date\"],\n",
    "    index_col=\"date\"\n",
    ")\n",
    "\n",
    "print(\"df_suzlon_test type:\", type(df_suzlon_test))\n",
    "print()\n",
    "print(df_suzlon_test.info())\n",
    "df_suzlon_test.head()"
   ]
  },
  {
   "cell_type": "markdown",
   "metadata": {},
   "source": [
    "#### Read_table Function Tests"
   ]
  },
  {
   "cell_type": "code",
   "execution_count": 14,
   "metadata": {},
   "outputs": [
    {
     "name": "stdout",
     "output_type": "stream",
     "text": [
      "df_suzlon shape: (2500, 5)\n",
      "\n",
      "<class 'pandas.core.frame.DataFrame'>\n",
      "DatetimeIndex: 2500 entries, 2024-06-05 to 2014-04-11\n",
      "Data columns (total 5 columns):\n",
      " #   Column  Non-Null Count  Dtype  \n",
      "---  ------  --------------  -----  \n",
      " 0   open    2500 non-null   float64\n",
      " 1   high    2500 non-null   float64\n",
      " 2   low     2500 non-null   float64\n",
      " 3   close   2500 non-null   float64\n",
      " 4   volume  2500 non-null   float64\n",
      "dtypes: float64(5)\n",
      "memory usage: 117.2 KB\n",
      "None\n"
     ]
    },
    {
     "data": {
      "text/html": [
       "<div>\n",
       "<style scoped>\n",
       "    .dataframe tbody tr th:only-of-type {\n",
       "        vertical-align: middle;\n",
       "    }\n",
       "\n",
       "    .dataframe tbody tr th {\n",
       "        vertical-align: top;\n",
       "    }\n",
       "\n",
       "    .dataframe thead th {\n",
       "        text-align: right;\n",
       "    }\n",
       "</style>\n",
       "<table border=\"1\" class=\"dataframe\">\n",
       "  <thead>\n",
       "    <tr style=\"text-align: right;\">\n",
       "      <th></th>\n",
       "      <th>open</th>\n",
       "      <th>high</th>\n",
       "      <th>low</th>\n",
       "      <th>close</th>\n",
       "      <th>volume</th>\n",
       "    </tr>\n",
       "    <tr>\n",
       "      <th>date</th>\n",
       "      <th></th>\n",
       "      <th></th>\n",
       "      <th></th>\n",
       "      <th></th>\n",
       "      <th></th>\n",
       "    </tr>\n",
       "  </thead>\n",
       "  <tbody>\n",
       "    <tr>\n",
       "      <th>2024-06-05</th>\n",
       "      <td>45.13</td>\n",
       "      <td>49.20</td>\n",
       "      <td>45.13</td>\n",
       "      <td>48.35</td>\n",
       "      <td>14381150.0</td>\n",
       "    </tr>\n",
       "    <tr>\n",
       "      <th>2024-06-04</th>\n",
       "      <td>52.19</td>\n",
       "      <td>52.19</td>\n",
       "      <td>47.50</td>\n",
       "      <td>47.50</td>\n",
       "      <td>8835466.0</td>\n",
       "    </tr>\n",
       "    <tr>\n",
       "      <th>2024-06-03</th>\n",
       "      <td>49.99</td>\n",
       "      <td>49.99</td>\n",
       "      <td>49.99</td>\n",
       "      <td>49.99</td>\n",
       "      <td>2611005.0</td>\n",
       "    </tr>\n",
       "    <tr>\n",
       "      <th>2024-05-31</th>\n",
       "      <td>45.40</td>\n",
       "      <td>47.62</td>\n",
       "      <td>44.21</td>\n",
       "      <td>47.61</td>\n",
       "      <td>4181822.0</td>\n",
       "    </tr>\n",
       "    <tr>\n",
       "      <th>2024-05-30</th>\n",
       "      <td>46.40</td>\n",
       "      <td>46.90</td>\n",
       "      <td>44.70</td>\n",
       "      <td>45.36</td>\n",
       "      <td>6019019.0</td>\n",
       "    </tr>\n",
       "  </tbody>\n",
       "</table>\n",
       "</div>"
      ],
      "text/plain": [
       "             open   high    low  close      volume\n",
       "date                                              \n",
       "2024-06-05  45.13  49.20  45.13  48.35  14381150.0\n",
       "2024-06-04  52.19  52.19  47.50  47.50   8835466.0\n",
       "2024-06-03  49.99  49.99  49.99  49.99   2611005.0\n",
       "2024-05-31  45.40  47.62  44.21  47.61   4181822.0\n",
       "2024-05-30  46.40  46.90  44.70  45.36   6019019.0"
      ]
     },
     "execution_count": 14,
     "metadata": {},
     "output_type": "execute_result"
    }
   ],
   "source": [
    "# Assign `read_table` output to `df_suzlon`\n",
    "df_suzlon = repo.read_table(table_name=\"SUZLON.BSE\", limit=2500)  # noQA F821\n",
    "\n",
    "# Is `df_suzlon` a DataFrame?\n",
    "assert isinstance(df_suzlon, pd.DataFrame)\n",
    "\n",
    "# Does it have a `DatetimeIndex`?\n",
    "\n",
    "assert isinstance(df_suzlon.index, pd.DatetimeIndex)\n",
    "# Is the index named \"date\"?\n",
    "\n",
    "assert df_suzlon.index.name == \"date\"\n",
    "# Does it have 2,500 rows and 5 columns?\n",
    "\n",
    "df_suzlon.shape == (2500, 5)\n",
    "\n",
    "# Are the column names correct?\n",
    "\n",
    "assert df_suzlon.columns.to_list() == ['open', 'high', 'low', 'close', 'volume']\n",
    "# Are the column data types correct?\n",
    "\n",
    "assert all(df_suzlon.dtypes == float)\n",
    "# Print `df_suzlon` info\n",
    "print(\"df_suzlon shape:\", df_suzlon.shape)\n",
    "print()\n",
    "print(df_suzlon.info())\n",
    "df_suzlon.head()"
   ]
  },
  {
   "cell_type": "markdown",
   "metadata": {},
   "source": [
    "#### Read_table Function"
   ]
  },
  {
   "cell_type": "code",
   "execution_count": 15,
   "metadata": {},
   "outputs": [
    {
     "name": "stdout",
     "output_type": "stream",
     "text": [
      "SELECT * FROM 'AAPL' LIMIT 50\n"
     ]
    }
   ],
   "source": [
    "table_name = \"AAPL\"\n",
    "limit = 50\n",
    "\n",
    "if limit:\n",
    "    sql = f\"SELECT * FROM '{table_name}' LIMIT {limit}\"\n",
    "else:\n",
    "    sql = f\"SELECT * FROM '{table_name}'\"\n",
    "\n",
    "print(sql)"
   ]
  },
  {
   "cell_type": "code",
   "execution_count": 16,
   "metadata": {},
   "outputs": [],
   "source": [
    "def read_table(table_name, limit=None):\n",
    "    \n",
    "        \"\"\"Read table from database.\n",
    "\n",
    "        Parameters\n",
    "        ----------\n",
    "        table_name : str\n",
    "            Name of table in SQLite database.\n",
    "        limit : int, None, optional\n",
    "            Number of most recent records to retrieve. If `None`, all\n",
    "            records are retrieved. By default, `None`.\n",
    "\n",
    "        Returns\n",
    "        -------\n",
    "        pd.DataFrame\n",
    "            Index is DatetimeIndex \"date\". Columns are 'open', 'high',\n",
    "            'low', 'close', and 'volume'. All columns are numeric.\n",
    "        \"\"\"\n",
    "        # Create SQL query (with optional limit)\n",
    "        if limit:\n",
    "            sql = f\"SELECT * FROM '{table_name}' LIMIT {limit}\"\n",
    "        else:\n",
    "            sql = f\"SELECT * FROM '{table_name}'\"\n",
    "\n",
    "        # Retrieve data, read into DataFrame\n",
    "        \n",
    "        df= pd.read_sql(\n",
    "            sql=sql, con = connection,\n",
    "            parse_dates=[\"date\"],\n",
    "            index_col=\"date\"\n",
    "        )\n",
    "\n",
    "        # Return DataFrame\n",
    "        return df"
   ]
  },
  {
   "cell_type": "code",
   "execution_count": 17,
   "metadata": {},
   "outputs": [
    {
     "data": {
      "text/html": [
       "<div>\n",
       "<style scoped>\n",
       "    .dataframe tbody tr th:only-of-type {\n",
       "        vertical-align: middle;\n",
       "    }\n",
       "\n",
       "    .dataframe tbody tr th {\n",
       "        vertical-align: top;\n",
       "    }\n",
       "\n",
       "    .dataframe thead th {\n",
       "        text-align: right;\n",
       "    }\n",
       "</style>\n",
       "<table border=\"1\" class=\"dataframe\">\n",
       "  <thead>\n",
       "    <tr style=\"text-align: right;\">\n",
       "      <th></th>\n",
       "      <th>open</th>\n",
       "      <th>high</th>\n",
       "      <th>low</th>\n",
       "      <th>close</th>\n",
       "      <th>volume</th>\n",
       "    </tr>\n",
       "    <tr>\n",
       "      <th>date</th>\n",
       "      <th></th>\n",
       "      <th></th>\n",
       "      <th></th>\n",
       "      <th></th>\n",
       "      <th></th>\n",
       "    </tr>\n",
       "  </thead>\n",
       "  <tbody>\n",
       "    <tr>\n",
       "      <th>2024-06-05</th>\n",
       "      <td>45.13</td>\n",
       "      <td>49.20</td>\n",
       "      <td>45.13</td>\n",
       "      <td>48.35</td>\n",
       "      <td>14381150.0</td>\n",
       "    </tr>\n",
       "    <tr>\n",
       "      <th>2024-06-04</th>\n",
       "      <td>52.19</td>\n",
       "      <td>52.19</td>\n",
       "      <td>47.50</td>\n",
       "      <td>47.50</td>\n",
       "      <td>8835466.0</td>\n",
       "    </tr>\n",
       "    <tr>\n",
       "      <th>2024-06-03</th>\n",
       "      <td>49.99</td>\n",
       "      <td>49.99</td>\n",
       "      <td>49.99</td>\n",
       "      <td>49.99</td>\n",
       "      <td>2611005.0</td>\n",
       "    </tr>\n",
       "    <tr>\n",
       "      <th>2024-05-31</th>\n",
       "      <td>45.40</td>\n",
       "      <td>47.62</td>\n",
       "      <td>44.21</td>\n",
       "      <td>47.61</td>\n",
       "      <td>4181822.0</td>\n",
       "    </tr>\n",
       "    <tr>\n",
       "      <th>2024-05-30</th>\n",
       "      <td>46.40</td>\n",
       "      <td>46.90</td>\n",
       "      <td>44.70</td>\n",
       "      <td>45.36</td>\n",
       "      <td>6019019.0</td>\n",
       "    </tr>\n",
       "  </tbody>\n",
       "</table>\n",
       "</div>"
      ],
      "text/plain": [
       "             open   high    low  close      volume\n",
       "date                                              \n",
       "2024-06-05  45.13  49.20  45.13  48.35  14381150.0\n",
       "2024-06-04  52.19  52.19  47.50  47.50   8835466.0\n",
       "2024-06-03  49.99  49.99  49.99  49.99   2611005.0\n",
       "2024-05-31  45.40  47.62  44.21  47.61   4181822.0\n",
       "2024-05-30  46.40  46.90  44.70  45.36   6019019.0"
      ]
     },
     "execution_count": 17,
     "metadata": {},
     "output_type": "execute_result"
    }
   ],
   "source": [
    "read_table(\"SUZLON.BSE\", 5)"
   ]
  },
  {
   "cell_type": "markdown",
   "metadata": {},
   "source": [
    "### Comparing Stock Returns"
   ]
  },
  {
   "cell_type": "code",
   "execution_count": 18,
   "metadata": {},
   "outputs": [
    {
     "data": {
      "text/plain": [
       "{'transaction_successful': True, 'records_inserted': 4785}"
      ]
     },
     "execution_count": 18,
     "metadata": {},
     "output_type": "execute_result"
    }
   ],
   "source": [
    "ticker = \"AMBUJACEM.BSE\"\n",
    "\n",
    "# Get Ambuja data using `av`\n",
    "ambuja_records = av.get_daily(ticker)\n",
    "\n",
    "# Insert `ambuja_records` database using `repo`\n",
    "response = repo.insert_table(\n",
    "    table_name=ticker,\n",
    "    records=ambuja_records,\n",
    "    if_exists=\"replace\"\n",
    ")\n",
    "\n",
    "response"
   ]
  },
  {
   "cell_type": "code",
   "execution_count": 19,
   "metadata": {},
   "outputs": [
    {
     "data": {
      "text/plain": [
       "(4785, 5)"
      ]
     },
     "execution_count": 19,
     "metadata": {},
     "output_type": "execute_result"
    }
   ],
   "source": [
    "ambuja_records.shape"
   ]
  },
  {
   "cell_type": "markdown",
   "metadata": {},
   "source": [
    "Read Ambuja Data From Database"
   ]
  },
  {
   "cell_type": "code",
   "execution_count": 20,
   "metadata": {},
   "outputs": [
    {
     "name": "stdout",
     "output_type": "stream",
     "text": [
      "df_ambuja type: <class 'pandas.core.frame.DataFrame'>\n",
      "df_ambuja shape: (2500, 5)\n"
     ]
    },
    {
     "data": {
      "text/html": [
       "<div>\n",
       "<style scoped>\n",
       "    .dataframe tbody tr th:only-of-type {\n",
       "        vertical-align: middle;\n",
       "    }\n",
       "\n",
       "    .dataframe tbody tr th {\n",
       "        vertical-align: top;\n",
       "    }\n",
       "\n",
       "    .dataframe thead th {\n",
       "        text-align: right;\n",
       "    }\n",
       "</style>\n",
       "<table border=\"1\" class=\"dataframe\">\n",
       "  <thead>\n",
       "    <tr style=\"text-align: right;\">\n",
       "      <th></th>\n",
       "      <th>open</th>\n",
       "      <th>high</th>\n",
       "      <th>low</th>\n",
       "      <th>close</th>\n",
       "      <th>volume</th>\n",
       "    </tr>\n",
       "    <tr>\n",
       "      <th>date</th>\n",
       "      <th></th>\n",
       "      <th></th>\n",
       "      <th></th>\n",
       "      <th></th>\n",
       "      <th></th>\n",
       "    </tr>\n",
       "  </thead>\n",
       "  <tbody>\n",
       "    <tr>\n",
       "      <th>2024-06-05</th>\n",
       "      <td>576.75</td>\n",
       "      <td>601.75</td>\n",
       "      <td>550.35</td>\n",
       "      <td>599.05</td>\n",
       "      <td>493444.0</td>\n",
       "    </tr>\n",
       "    <tr>\n",
       "      <th>2024-06-04</th>\n",
       "      <td>670.60</td>\n",
       "      <td>670.60</td>\n",
       "      <td>518.00</td>\n",
       "      <td>557.40</td>\n",
       "      <td>1110009.0</td>\n",
       "    </tr>\n",
       "    <tr>\n",
       "      <th>2024-06-03</th>\n",
       "      <td>665.05</td>\n",
       "      <td>676.65</td>\n",
       "      <td>653.20</td>\n",
       "      <td>670.60</td>\n",
       "      <td>558604.0</td>\n",
       "    </tr>\n",
       "    <tr>\n",
       "      <th>2024-05-31</th>\n",
       "      <td>628.95</td>\n",
       "      <td>639.40</td>\n",
       "      <td>623.45</td>\n",
       "      <td>634.30</td>\n",
       "      <td>84665.0</td>\n",
       "    </tr>\n",
       "    <tr>\n",
       "      <th>2024-05-30</th>\n",
       "      <td>625.05</td>\n",
       "      <td>631.15</td>\n",
       "      <td>617.00</td>\n",
       "      <td>618.70</td>\n",
       "      <td>115283.0</td>\n",
       "    </tr>\n",
       "  </tbody>\n",
       "</table>\n",
       "</div>"
      ],
      "text/plain": [
       "              open    high     low   close     volume\n",
       "date                                                 \n",
       "2024-06-05  576.75  601.75  550.35  599.05   493444.0\n",
       "2024-06-04  670.60  670.60  518.00  557.40  1110009.0\n",
       "2024-06-03  665.05  676.65  653.20  670.60   558604.0\n",
       "2024-05-31  628.95  639.40  623.45  634.30    84665.0\n",
       "2024-05-30  625.05  631.15  617.00  618.70   115283.0"
      ]
     },
     "execution_count": 20,
     "metadata": {},
     "output_type": "execute_result"
    }
   ],
   "source": [
    "ticker = \"AMBUJACEM.BSE\"\n",
    "df_ambuja = repo.read_table(table_name=ticker, limit=2500)\n",
    "\n",
    "print(\"df_ambuja type:\", type(df_ambuja))\n",
    "print(\"df_ambuja shape:\", df_ambuja.shape)\n",
    "df_ambuja.head()"
   ]
  },
  {
   "cell_type": "markdown",
   "metadata": {},
   "source": [
    "#### Plot Ambuja Closing Price"
   ]
  },
  {
   "cell_type": "code",
   "execution_count": 21,
   "metadata": {},
   "outputs": [
    {
     "data": {
      "image/png": "[encoded data removed]",
      "text/plain": [
       "<Figure size 1500x600 with 1 Axes>"
      ]
     },
     "metadata": {},
     "output_type": "display_data"
    }
   ],
   "source": [
    "fig, ax = plt.subplots(figsize=(15, 6))\n",
    "# Plot `df_ambuja` closing price\n",
    "df_ambuja[\"close\"].plot(ax=ax, label=\"AMBUJACEM\", color=\"C1\")\n",
    "\n",
    "# Label axes\n",
    "plt.xlabel(\"Date\")\n",
    "plt.ylabel(\"Closing Price\")\n",
    "\n",
    "\n",
    "# Add legend\n",
    "plt.legend();"
   ]
  },
  {
   "cell_type": "markdown",
   "metadata": {},
   "source": [
    "#### Comparing Ambuja and Suzlon Closing Price"
   ]
  },
  {
   "cell_type": "code",
   "execution_count": 22,
   "metadata": {},
   "outputs": [],
   "source": [
    "ticker = \"SUZLON.BSE\"\n",
    "df_suzlon = repo.read_table(table_name=ticker, limit=2500)"
   ]
  }
 ],
 "metadata": {
  "kernelspec": {
   "display_name": "venv",
   "language": "python",
   "name": "python3"
  },
  "language_info": {
   "codemirror_mode": {
    "name": "ipython",
    "version": 3
   },
   "file_extension": ".py",
   "mimetype": "text/x-python",
   "name": "python",
   "nbconvert_exporter": "python",
   "pygments_lexer": "ipython3",
   "version": "3.12.1"
  }
 },
 "nbformat": 4,
 "nbformat_minor": 2
}
