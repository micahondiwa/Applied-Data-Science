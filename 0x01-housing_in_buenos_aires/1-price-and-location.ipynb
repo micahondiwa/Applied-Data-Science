{
 "cells": [
  {
   "cell_type": "markdown",
   "metadata": {},
   "source": [
    "## Predicting Price with Location"
   ]
  },
  {
   "cell_type": "markdown",
   "metadata": {},
   "source": [
    "**Project Goal:  Building from the work done on ```0-price-and-size.ipynb```, constructing a more complext ```wrangle``` function, use it to clean more data, and build a model that considers more features when predicting apartment price.** "
   ]
  },
  {
   "cell_type": "code",
   "execution_count": 1,
   "metadata": {},
   "outputs": [],
   "source": [
    "import warnings\n",
    "\n",
    "import numpy as np\n",
    "import pandas as pd\n",
    "import plotly.express as px\n",
    "import plotly.graph_objects as go \n",
    "from sklearn.impute import SimpleImputer\n",
    "from sklearn.linear_model import LinearRegression\n",
    "from sklearn.metrics import mean_absolute_error\n",
    "from sklearn.pipeline import Pipeline, make_pipeline\n",
    "from sklearn.utils.validation import check_is_fitted\n",
    "\n",
    "warnings.simplefilter(action=\"ignore\", category=FutureWarning)"
   ]
  },
  {
   "cell_type": "markdown",
   "metadata": {},
   "source": [
    "### 1. Prepare Data"
   ]
  },
  {
   "cell_type": "markdown",
   "metadata": {},
   "source": [
    "#### Import"
   ]
  },
  {
   "cell_type": "code",
   "execution_count": 13,
   "metadata": {},
   "outputs": [],
   "source": [
    "def wrangle(filepath):\n",
    "    # Read csv file\n",
    "    df = pd.read_csv(filepath)\n",
    "\n",
    "    # subset data: Apartments in 'Capital Federal', less than 400, 000\n",
    "    mask_ba = df[\"place_with_parent_names\"].str.contains(\"Capital Federal\")\n",
    "    mask_apt = df[\"property_type\"] == \"apartment\"\n",
    "    mask_price = df[\"price_aprox_usd\"] < 400_000\n",
    "\n",
    "    # subset data: Remove outliers for \"surface_covered_in_m2\"\n",
    "    low, high = df[\"surface_covered_in_m2\"].quantile([0.1, 0.9])\n",
    "    mask_area = df[\"surface_covered_in_m2\"].between(low, high)\n",
    "\n",
    "    df = df[mask_ba & mask_apt & mask_price & mask_area]\n",
    "\n",
    "    return df"
   ]
  },
  {
   "cell_type": "code",
   "execution_count": 14,
   "metadata": {},
   "outputs": [
    {
     "name": "stdout",
     "output_type": "stream",
     "text": [
      "<class 'pandas.core.frame.DataFrame'>\n",
      "Index: 1413 entries, 0 to 8604\n",
      "Data columns (total 16 columns):\n",
      " #   Column                      Non-Null Count  Dtype  \n",
      "---  ------                      --------------  -----  \n",
      " 0   operation                   1413 non-null   object \n",
      " 1   property_type               1413 non-null   object \n",
      " 2   place_with_parent_names     1413 non-null   object \n",
      " 3   lat-lon                     1369 non-null   object \n",
      " 4   price                       1413 non-null   float64\n",
      " 5   currency                    1413 non-null   object \n",
      " 6   price_aprox_local_currency  1413 non-null   float64\n",
      " 7   price_aprox_usd             1413 non-null   float64\n",
      " 8   surface_total_in_m2         1008 non-null   float64\n",
      " 9   surface_covered_in_m2       1413 non-null   float64\n",
      " 10  price_usd_per_m2            969 non-null    float64\n",
      " 11  price_per_m2                1413 non-null   float64\n",
      " 12  floor                       400 non-null    float64\n",
      " 13  rooms                       1151 non-null   float64\n",
      " 14  expenses                    380 non-null    float64\n",
      " 15  properati_url               1413 non-null   object \n",
      "dtypes: float64(10), object(6)\n",
      "memory usage: 187.7+ KB\n",
      "None\n"
     ]
    },
    {
     "data": {
      "text/html": [
       "<div>\n",
       "<style scoped>\n",
       "    .dataframe tbody tr th:only-of-type {\n",
       "        vertical-align: middle;\n",
       "    }\n",
       "\n",
       "    .dataframe tbody tr th {\n",
       "        vertical-align: top;\n",
       "    }\n",
       "\n",
       "    .dataframe thead th {\n",
       "        text-align: right;\n",
       "    }\n",
       "</style>\n",
       "<table border=\"1\" class=\"dataframe\">\n",
       "  <thead>\n",
       "    <tr style=\"text-align: right;\">\n",
       "      <th></th>\n",
       "      <th>operation</th>\n",
       "      <th>property_type</th>\n",
       "      <th>place_with_parent_names</th>\n",
       "      <th>lat-lon</th>\n",
       "      <th>price</th>\n",
       "      <th>currency</th>\n",
       "      <th>price_aprox_local_currency</th>\n",
       "      <th>price_aprox_usd</th>\n",
       "      <th>surface_total_in_m2</th>\n",
       "      <th>surface_covered_in_m2</th>\n",
       "      <th>price_usd_per_m2</th>\n",
       "      <th>price_per_m2</th>\n",
       "      <th>floor</th>\n",
       "      <th>rooms</th>\n",
       "      <th>expenses</th>\n",
       "      <th>properati_url</th>\n",
       "    </tr>\n",
       "  </thead>\n",
       "  <tbody>\n",
       "    <tr>\n",
       "      <th>0</th>\n",
       "      <td>sell</td>\n",
       "      <td>apartment</td>\n",
       "      <td>|Argentina|Capital Federal|Villa Crespo|</td>\n",
       "      <td>-34.6047834183,-58.4586812499</td>\n",
       "      <td>180000.0</td>\n",
       "      <td>USD</td>\n",
       "      <td>2729232.0</td>\n",
       "      <td>180000.0</td>\n",
       "      <td>120.0</td>\n",
       "      <td>110.0</td>\n",
       "      <td>1500.000000</td>\n",
       "      <td>1636.363636</td>\n",
       "      <td>NaN</td>\n",
       "      <td>4.0</td>\n",
       "      <td>NaN</td>\n",
       "      <td>http://villa-crespo.properati.com.ar/12egq_ven...</td>\n",
       "    </tr>\n",
       "    <tr>\n",
       "      <th>4</th>\n",
       "      <td>sell</td>\n",
       "      <td>apartment</td>\n",
       "      <td>|Argentina|Capital Federal|Chacarita|</td>\n",
       "      <td>-34.5846508988,-58.4546932614</td>\n",
       "      <td>129000.0</td>\n",
       "      <td>USD</td>\n",
       "      <td>1955949.6</td>\n",
       "      <td>129000.0</td>\n",
       "      <td>76.0</td>\n",
       "      <td>70.0</td>\n",
       "      <td>1697.368421</td>\n",
       "      <td>1842.857143</td>\n",
       "      <td>NaN</td>\n",
       "      <td>NaN</td>\n",
       "      <td>NaN</td>\n",
       "      <td>http://chacarita.properati.com.ar/10qlv_venta_...</td>\n",
       "    </tr>\n",
       "    <tr>\n",
       "      <th>9</th>\n",
       "      <td>sell</td>\n",
       "      <td>apartment</td>\n",
       "      <td>|Argentina|Capital Federal|Villa Luro|</td>\n",
       "      <td>-34.6389789,-58.500115</td>\n",
       "      <td>87000.0</td>\n",
       "      <td>USD</td>\n",
       "      <td>1319128.8</td>\n",
       "      <td>87000.0</td>\n",
       "      <td>48.0</td>\n",
       "      <td>42.0</td>\n",
       "      <td>1812.500000</td>\n",
       "      <td>2071.428571</td>\n",
       "      <td>NaN</td>\n",
       "      <td>NaN</td>\n",
       "      <td>NaN</td>\n",
       "      <td>http://villa-luro.properati.com.ar/12m82_venta...</td>\n",
       "    </tr>\n",
       "    <tr>\n",
       "      <th>29</th>\n",
       "      <td>sell</td>\n",
       "      <td>apartment</td>\n",
       "      <td>|Argentina|Capital Federal|Caballito|</td>\n",
       "      <td>-34.615847,-58.459957</td>\n",
       "      <td>118000.0</td>\n",
       "      <td>USD</td>\n",
       "      <td>1789163.2</td>\n",
       "      <td>118000.0</td>\n",
       "      <td>NaN</td>\n",
       "      <td>54.0</td>\n",
       "      <td>NaN</td>\n",
       "      <td>2185.185185</td>\n",
       "      <td>NaN</td>\n",
       "      <td>2.0</td>\n",
       "      <td>NaN</td>\n",
       "      <td>http://caballito.properati.com.ar/11wqh_venta_...</td>\n",
       "    </tr>\n",
       "    <tr>\n",
       "      <th>40</th>\n",
       "      <td>sell</td>\n",
       "      <td>apartment</td>\n",
       "      <td>|Argentina|Capital Federal|Constitución|</td>\n",
       "      <td>-34.6252219,-58.3823825</td>\n",
       "      <td>57000.0</td>\n",
       "      <td>USD</td>\n",
       "      <td>864256.8</td>\n",
       "      <td>57000.0</td>\n",
       "      <td>42.0</td>\n",
       "      <td>42.0</td>\n",
       "      <td>1357.142857</td>\n",
       "      <td>1357.142857</td>\n",
       "      <td>5.0</td>\n",
       "      <td>2.0</td>\n",
       "      <td>364.0</td>\n",
       "      <td>http://constitucion.properati.com.ar/k2f0_vent...</td>\n",
       "    </tr>\n",
       "  </tbody>\n",
       "</table>\n",
       "</div>"
      ],
      "text/plain": [
       "   operation property_type                   place_with_parent_names  \\\n",
       "0       sell     apartment  |Argentina|Capital Federal|Villa Crespo|   \n",
       "4       sell     apartment     |Argentina|Capital Federal|Chacarita|   \n",
       "9       sell     apartment    |Argentina|Capital Federal|Villa Luro|   \n",
       "29      sell     apartment     |Argentina|Capital Federal|Caballito|   \n",
       "40      sell     apartment  |Argentina|Capital Federal|Constitución|   \n",
       "\n",
       "                          lat-lon     price currency  \\\n",
       "0   -34.6047834183,-58.4586812499  180000.0      USD   \n",
       "4   -34.5846508988,-58.4546932614  129000.0      USD   \n",
       "9          -34.6389789,-58.500115   87000.0      USD   \n",
       "29          -34.615847,-58.459957  118000.0      USD   \n",
       "40        -34.6252219,-58.3823825   57000.0      USD   \n",
       "\n",
       "    price_aprox_local_currency  price_aprox_usd  surface_total_in_m2  \\\n",
       "0                    2729232.0         180000.0                120.0   \n",
       "4                    1955949.6         129000.0                 76.0   \n",
       "9                    1319128.8          87000.0                 48.0   \n",
       "29                   1789163.2         118000.0                  NaN   \n",
       "40                    864256.8          57000.0                 42.0   \n",
       "\n",
       "    surface_covered_in_m2  price_usd_per_m2  price_per_m2  floor  rooms  \\\n",
       "0                   110.0       1500.000000   1636.363636    NaN    4.0   \n",
       "4                    70.0       1697.368421   1842.857143    NaN    NaN   \n",
       "9                    42.0       1812.500000   2071.428571    NaN    NaN   \n",
       "29                   54.0               NaN   2185.185185    NaN    2.0   \n",
       "40                   42.0       1357.142857   1357.142857    5.0    2.0   \n",
       "\n",
       "    expenses                                      properati_url  \n",
       "0        NaN  http://villa-crespo.properati.com.ar/12egq_ven...  \n",
       "4        NaN  http://chacarita.properati.com.ar/10qlv_venta_...  \n",
       "9        NaN  http://villa-luro.properati.com.ar/12m82_venta...  \n",
       "29       NaN  http://caballito.properati.com.ar/11wqh_venta_...  \n",
       "40     364.0  http://constitucion.properati.com.ar/k2f0_vent...  "
      ]
     },
     "execution_count": 14,
     "metadata": {},
     "output_type": "execute_result"
    }
   ],
   "source": [
    "frame1 = wrangle(\"data/buenos-aires-real-estate-1.csv\")\n",
    "print(frame1.info())\n",
    "frame1.head()"
   ]
  },
  {
   "cell_type": "markdown",
   "metadata": {},
   "source": [
    "The model is going to consider apartment location, specifically, latitude and longitude. From ```info```, location information s a single column where the data type is object (pandas term for str). To build our model, we need latityude and longitude to be in their own column where the data type is float."
   ]
  },
  {
   "cell_type": "markdown",
   "metadata": {},
   "source": [
    "##### Split \"Lat-Lon\" Column"
   ]
  },
  {
   "cell_type": "markdown",
   "metadata": {},
   "source": [
    "The next step is to modify the ```wrangle``` function so that, in the DataFrame it returns the ```\"lat-lon\"```  column replaced by seperate ```lat``` and ```lon``` columns and drop the ```lat-lon``` column. "
   ]
  },
  {
   "cell_type": "code",
   "execution_count": null,
   "metadata": {},
   "outputs": [],
   "source": []
  },
  {
   "cell_type": "markdown",
   "metadata": {},
   "source": [
    "### 2. Build Model"
   ]
  },
  {
   "cell_type": "code",
   "execution_count": null,
   "metadata": {},
   "outputs": [],
   "source": []
  },
  {
   "cell_type": "markdown",
   "metadata": {},
   "source": [
    "### 3. Communicate Results"
   ]
  },
  {
   "cell_type": "code",
   "execution_count": null,
   "metadata": {},
   "outputs": [],
   "source": []
  },
  {
   "cell_type": "code",
   "execution_count": null,
   "metadata": {},
   "outputs": [],
   "source": []
  }
 ],
 "metadata": {
  "kernelspec": {
   "display_name": "Python 3",
   "language": "python",
   "name": "python3"
  },
  "language_info": {
   "codemirror_mode": {
    "name": "ipython",
    "version": 3
   },
   "file_extension": ".py",
   "mimetype": "text/x-python",
   "name": "python",
   "nbconvert_exporter": "python",
   "pygments_lexer": "ipython3",
   "version": "3.12.1"
  }
 },
 "nbformat": 4,
 "nbformat_minor": 2
}
