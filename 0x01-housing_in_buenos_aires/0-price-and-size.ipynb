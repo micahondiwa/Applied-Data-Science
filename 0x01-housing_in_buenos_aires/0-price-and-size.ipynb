{
 "cells": [
  {
   "cell_type": "markdown",
   "metadata": {},
   "source": [
    "### Predicting Price with Size"
   ]
  },
  {
   "cell_type": "code",
   "execution_count": 2,
   "metadata": {},
   "outputs": [],
   "source": [
    "import warnings\n",
    "\n",
    "import matplotlib.pyplot as plt\n",
    "import pandas as pd\n",
    "from sklearn.linear_model import  LinearRegression\n",
    "from sklearn.metrics import mean_absolute_error\n",
    "from sklearn.utils.validation import check_is_fitted\n",
    "\n",
    "\n",
    "warnings.simplefilter(action=\"ignore\", category=FutureWarning)\n"
   ]
  },
  {
   "cell_type": "markdown",
   "metadata": {},
   "source": [
    "### Prepare Data"
   ]
  },
  {
   "cell_type": "markdown",
   "metadata": {},
   "source": [
    "#### Import"
   ]
  },
  {
   "cell_type": "code",
   "execution_count": 4,
   "metadata": {},
   "outputs": [],
   "source": [
    "df1=pd.read_csv(\"data/buenos-aires-real-estate-1.csv\")"
   ]
  },
  {
   "cell_type": "code",
   "execution_count": 8,
   "metadata": {},
   "outputs": [
    {
     "name": "stdout",
     "output_type": "stream",
     "text": [
      "<class 'pandas.core.frame.DataFrame'>\n",
      "RangeIndex: 4628 entries, 0 to 4627\n",
      "Data columns (total 16 columns):\n",
      " #   Column                      Non-Null Count  Dtype  \n",
      "---  ------                      --------------  -----  \n",
      " 0   operation                   4628 non-null   object \n",
      " 1   property_type               4628 non-null   object \n",
      " 2   place_with_parent_names     4628 non-null   object \n",
      " 3   lat-lon                     4129 non-null   object \n",
      " 4   price                       4558 non-null   float64\n",
      " 5   currency                    4558 non-null   object \n",
      " 6   price_aprox_local_currency  4558 non-null   float64\n",
      " 7   price_aprox_usd             4558 non-null   float64\n",
      " 8   surface_total_in_m2         1745 non-null   float64\n",
      " 9   surface_covered_in_m2       4442 non-null   float64\n",
      " 10  price_usd_per_m2            1247 non-null   float64\n",
      " 11  price_per_m2                4271 non-null   float64\n",
      " 12  floor                       302 non-null    float64\n",
      " 13  rooms                       126 non-null    float64\n",
      " 14  expenses                    1 non-null      float64\n",
      " 15  properati_url               4628 non-null   object \n",
      "dtypes: float64(10), object(6)\n",
      "memory usage: 578.6+ KB\n"
     ]
    }
   ],
   "source": [
    "df1.head()\n",
    "df1.info()"
   ]
  }
 ],
 "metadata": {
  "kernelspec": {
   "display_name": "Python 3",
   "language": "python",
   "name": "python3"
  },
  "language_info": {
   "codemirror_mode": {
    "name": "ipython",
    "version": 3
   },
   "file_extension": ".py",
   "mimetype": "text/x-python",
   "name": "python",
   "nbconvert_exporter": "python",
   "pygments_lexer": "ipython3",
   "version": "3.12.1"
  }
 },
 "nbformat": 4,
 "nbformat_minor": 2
}
