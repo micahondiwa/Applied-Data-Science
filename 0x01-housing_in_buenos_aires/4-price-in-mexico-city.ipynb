{
 "cells": [
  {
   "cell_type": "markdown",
   "metadata": {},
   "source": [
    "## Predicting Apartment Prices in Mexico City "
   ]
  },
  {
   "cell_type": "markdown",
   "metadata": {},
   "source": [
    "Goal: A consolidation of the contents in 0-price-and size, 1-price-and-location, 2-price-and-neighborhood, and price-and-everything using the mexico dataset."
   ]
  },
  {
   "cell_type": "code",
   "execution_count": 1,
   "metadata": {},
   "outputs": [],
   "source": [
    "# Import libraries here\n",
    "from glob import glob\n",
    "\n",
    "import pandas as pd\n",
    "import numpy as np\n",
    "import seaborn as sns\n",
    "from category_encoders import OneHotEncoder\n",
    "from ipywidgets import Dropdown, FloatSlider, IntSlider, interact\n",
    "\n",
    "\n",
    "from sklearn.impute import SimpleImputer\n",
    "from sklearn.linear_model import LinearRegression, Ridge\n",
    "from sklearn.metrics import mean_absolute_error\n",
    "from sklearn.pipeline import make_pipeline\n",
    "from sklearn.utils.validation import check_is_fitted"
   ]
  },
  {
   "cell_type": "markdown",
   "metadata": {},
   "source": [
    "### Prepare Data"
   ]
  },
  {
   "cell_type": "markdown",
   "metadata": {},
   "source": [
    "#### Import"
   ]
  },
  {
   "cell_type": "code",
   "execution_count": 3,
   "metadata": {},
   "outputs": [],
   "source": [
    "# Build your `wrangle` function\n",
    "def wrangle(filepath):\n",
    "    df = pd.read_csv(filepath)\n",
    "    \n",
    "    # Subset data: Apartments in \"Distrito Federal\", less than 100, 0000\n",
    "    mask_ba = df[\"place_with_parent_names\"].str.contains(\"Distrito Federal\")\n",
    "    mask_apt = df[\"property_type\"] == \"apartment\"\n",
    "    mask_price = df[\"price_aprox_usd\"] < 100_000\n",
    "    df = df[mask_ba & mask_apt & mask_price]\n",
    "    \n",
    "    # subset data: Remove outliers for \"surface_covered_in_m2\"\n",
    "    low, high = df[\"surface_covered_in_m2\"].quantile([0.1, 0.9])\n",
    "    mask_area = df[\"surface_covered_in_m2\"].between(low, high)\n",
    "    df = df[mask_area]\n",
    "    \n",
    "    # split lat and lon columns\n",
    "    df[[\"lat\", \"lon\"]] = df[\"lat-lon\"].str.split(\",\", expand=True).astype(float)\n",
    "    df.drop(columns=\"lat-lon\", inplace=True)\n",
    "    \n",
    "    # Create a feature \"borough\"\n",
    "    df[\"borough\"] = df[\"place_with_parent_names\"].str.split(\"|\", expand=True)[1]\n",
    "    df.drop(columns=\"place_with_parent_names\", inplace=True)\n",
    "    \n",
    "    # Drop columns with more than 50% null values\n",
    "    df.drop(columns =[\"surface_total_in_m2\",\n",
    "                      \"price_usd_per_m2\",\n",
    "                      \"rooms\",\n",
    "                      \"floor\",\n",
    "                      \"expenses\"], inplace=True)\n",
    "    # Drropp columns with low and high cardinality categiorical variables\n",
    "    df.drop(columns=[\"operation\", \"property_type\", \"currency\", \"properati_url\"], inplace=True)\n",
    "    \n",
    "    # drop leaky columns\n",
    "    df.drop(columns=[\"price\", \"price_aprox_local_currency\", \"price_per_m2\"], inplace=True)\n",
    "    \n",
    "    # drop columns with multicollinearity\n",
    "    None\n",
    "    return df"
   ]
  },
  {
   "cell_type": "code",
   "execution_count": 4,
   "metadata": {},
   "outputs": [
    {
     "data": {
      "image/png": "[encoded data removed]",
      "text/plain": [
       "<Figure size 640x480 with 2 Axes>"
      ]
     },
     "metadata": {},
     "output_type": "display_data"
    }
   ],
   "source": [
    "# Testing wrangle function and explore the data\n",
    "files = glob(\"data/mexico-city-real-estate*.csv\")\n",
    "frames = [wrangle(file) for file in files]\n",
    "df = pd.concat(frames)\n",
    "corr = round(df.select_dtypes(\"number\").drop(columns=\"price_aprox_usd\").corr(), 4)\n",
    "sns.heatmap(corr);"
   ]
  },
  {
   "cell_type": "markdown",
   "metadata": {},
   "source": [
    "Collect files using glob function"
   ]
  },
  {
   "cell_type": "code",
   "execution_count": null,
   "metadata": {},
   "outputs": [],
   "source": [
    "file = glob(\"data/mexico-city-real-*.csv\")\n",
    "files"
   ]
  }
 ],
 "metadata": {
  "kernelspec": {
   "display_name": "Python 3",
   "language": "python",
   "name": "python3"
  },
  "language_info": {
   "codemirror_mode": {
    "name": "ipython",
    "version": 3
   },
   "file_extension": ".py",
   "mimetype": "text/x-python",
   "name": "python",
   "nbconvert_exporter": "python",
   "pygments_lexer": "ipython3",
   "version": "3.12.1"
  }
 },
 "nbformat": 4,
 "nbformat_minor": 2
}
