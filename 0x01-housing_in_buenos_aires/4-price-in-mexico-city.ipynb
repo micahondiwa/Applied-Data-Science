{
 "cells": [
  {
   "cell_type": "markdown",
   "metadata": {},
   "source": [
    "### Predicting Apartment Prices in Mexico City "
   ]
  },
  {
   "cell_type": "markdown",
   "metadata": {},
   "source": [
    "Goal: A consolidation of the contents in 0-price-and size, 1-price-and-location, 2-price-and-neighborhood, and price-and-everything using the mexico dataset."
   ]
  }
 ],
 "metadata": {
  "language_info": {
   "name": "python"
  }
 },
 "nbformat": 4,
 "nbformat_minor": 2
}
