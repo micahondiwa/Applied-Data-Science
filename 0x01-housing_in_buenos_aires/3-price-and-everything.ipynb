{
 "cells": [
  {
   "cell_type": "markdown",
   "metadata": {},
   "source": [
    "### Predicting Price with Size, Location, and Neighborhood"
   ]
  }
 ],
 "metadata": {
  "language_info": {
   "name": "python"
  }
 },
 "nbformat": 4,
 "nbformat_minor": 2
}
