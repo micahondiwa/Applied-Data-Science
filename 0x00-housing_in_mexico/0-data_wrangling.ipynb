{
 "cells": [
  {
   "cell_type": "markdown",
   "metadata": {},
   "source": [
    "### Data Wrangling with Pandas"
   ]
  },
  {
   "cell_type": "code",
   "execution_count": 1,
   "metadata": {},
   "outputs": [],
   "source": [
    "import pandas as pd\n"
   ]
  },
  {
   "cell_type": "markdown",
   "metadata": {},
   "source": [
    "#### Importing data"
   ]
  },
  {
   "cell_type": "code",
   "execution_count": 2,
   "metadata": {},
   "outputs": [],
   "source": [
    "df1 = pd.read_csv(\"data/mexico-real-estate-1.csv\", encoding='latin-1') \n",
    "df2 = pd.read_csv(\"data/mexico-real-estate-2.csv\", encoding='latin-1')\n",
    "df3 = pd.read_csv(\"data/mexico-real-estate-3.csv\", encoding='latin-1')\n"
   ]
  },
  {
   "cell_type": "code",
   "execution_count": 15,
   "metadata": {},
   "outputs": [
    {
     "name": "stdout",
     "output_type": "stream",
     "text": [
      "[9, 8, 9, 1.125]\n",
      "[6, 8, 2, 0.75]\n",
      "[6, 7, 8, 0.8571428571428571]\n"
     ]
    }
   ],
   "source": [
    "# # List\n",
    "# house_nested_list = [[9,8,9],\n",
    "# [6,8,2], \n",
    "# [6,7,8]]\n",
    "# for house in house_nested_list:\n",
    "#     price_meter_squared = house[0] / house[1]\n",
    "#     house.append(price_meter_squared)\n",
    "#     print(house)\n",
    "\n",
    "# # Dictionary\n",
    "# house_0_dict = {\"no\":0, \"price\": 80, \"rooms\": 5}\n",
    "# print(house_0_dict['price'])"
   ]
  },
  {
   "cell_type": "code",
   "execution_count": null,
   "metadata": {},
   "outputs": [],
   "source": []
  },
  {
   "cell_type": "code",
   "execution_count": null,
   "metadata": {},
   "outputs": [],
   "source": []
  }
 ],
 "metadata": {
  "kernelspec": {
   "display_name": "Python 3",
   "language": "python",
   "name": "python3"
  },
  "language_info": {
   "codemirror_mode": {
    "name": "ipython",
    "version": 3
   },
   "file_extension": ".py",
   "mimetype": "text/x-python",
   "name": "python",
   "nbconvert_exporter": "python",
   "pygments_lexer": "ipython3",
   "version": "3.12.1"
  }
 },
 "nbformat": 4,
 "nbformat_minor": 2
}
