{
 "cells": [
  {
   "cell_type": "markdown",
   "metadata": {},
   "source": [
    "### Data Wrangling with Pandas"
   ]
  },
  {
   "cell_type": "code",
   "execution_count": 1,
   "metadata": {},
   "outputs": [],
   "source": [
    "import pandas as pd\n"
   ]
  },
  {
   "cell_type": "markdown",
   "metadata": {},
   "source": [
    "#### Importing data"
   ]
  },
  {
   "cell_type": "code",
   "execution_count": 28,
   "metadata": {},
   "outputs": [
    {
     "name": "stdout",
     "output_type": "stream",
     "text": [
      "df1 type: <class 'pandas.core.frame.DataFrame'>\n",
      "df1 shape: (700, 7)\n",
      "<class 'pandas.core.frame.DataFrame'>\n",
      "RangeIndex: 700 entries, 0 to 699\n",
      "Data columns (total 7 columns):\n",
      " #   Column         Non-Null Count  Dtype  \n",
      "---  ------         --------------  -----  \n",
      " 0   Unnamed: 0     700 non-null    int64  \n",
      " 1   property_type  700 non-null    object \n",
      " 2   state          700 non-null    object \n",
      " 3   lat            583 non-null    float64\n",
      " 4   lon            583 non-null    float64\n",
      " 5   area_m2        700 non-null    int64  \n",
      " 6   price_usd      700 non-null    object \n",
      "dtypes: float64(2), int64(2), object(3)\n",
      "memory usage: 38.4+ KB\n",
      "df1 info: None\n",
      "\n",
      "df2 type: <class 'pandas.core.frame.DataFrame'>\n",
      "df2 shape: (700, 7)\n",
      "<class 'pandas.core.frame.DataFrame'>\n",
      "RangeIndex: 700 entries, 0 to 699\n",
      "Data columns (total 7 columns):\n",
      " #   Column         Non-Null Count  Dtype  \n",
      "---  ------         --------------  -----  \n",
      " 0   Unnamed: 0     700 non-null    int64  \n",
      " 1   property_type  700 non-null    object \n",
      " 2   state          700 non-null    object \n",
      " 3   lat            571 non-null    float64\n",
      " 4   lon            571 non-null    float64\n",
      " 5   area_m2        700 non-null    int64  \n",
      " 6   price_mxn      700 non-null    int64  \n",
      "dtypes: float64(2), int64(3), object(2)\n",
      "memory usage: 38.4+ KB\n",
      "df2 info: None\n",
      "\n",
      "df3 type: <class 'pandas.core.frame.DataFrame'>\n",
      "df3 shape: (700, 6)\n",
      "<class 'pandas.core.frame.DataFrame'>\n",
      "RangeIndex: 700 entries, 0 to 699\n",
      "Data columns (total 6 columns):\n",
      " #   Column                   Non-Null Count  Dtype  \n",
      "---  ------                   --------------  -----  \n",
      " 0   Unnamed: 0               700 non-null    int64  \n",
      " 1   property_type            700 non-null    object \n",
      " 2   place_with_parent_names  700 non-null    object \n",
      " 3   lat-lon                  582 non-null    object \n",
      " 4   area_m2                  700 non-null    int64  \n",
      " 5   price_usd                700 non-null    float64\n",
      "dtypes: float64(1), int64(2), object(3)\n",
      "memory usage: 32.9+ KB\n",
      "df3 info: None\n",
      "\n"
     ]
    }
   ],
   "source": [
    "# Load csv files into DataFrames\n",
    "df1 = pd.read_csv(\"data/mexico-real-estate-1.csv\", encoding='latin-1') \n",
    "df2 = pd.read_csv(\"data/mexico-real-estate-2.csv\", encoding='latin-1')\n",
    "df3 = pd.read_csv(\"data/mexico-real-estate-3.csv\", encoding='latin-1')\n",
    "\n",
    "# Object type, info and shape for DataFrames\n",
    "print(\"df1 type:\", type(df1))\n",
    "print(\"df1 shape:\", df1.shape)\n",
    "print(\"df1 info:\", df1.info())\n",
    "print()\n",
    "\n",
    "print(\"df2 type:\", type(df2))\n",
    "print(\"df2 shape:\", df2.shape)\n",
    "print(\"df2 info:\", df2.info())\n",
    "print()\n",
    "\n",
    "print(\"df3 type:\", type(df3))\n",
    "print(\"df3 shape:\", df3.shape)\n",
    "print(\"df3 info:\", df3.info())\n",
    "print()"
   ]
  },
  {
   "cell_type": "code",
   "execution_count": null,
   "metadata": {},
   "outputs": [],
   "source": []
  },
  {
   "cell_type": "code",
   "execution_count": null,
   "metadata": {},
   "outputs": [],
   "source": []
  },
  {
   "cell_type": "code",
   "execution_count": null,
   "metadata": {},
   "outputs": [],
   "source": []
  }
 ],
 "metadata": {
  "kernelspec": {
   "display_name": "Python 3",
   "language": "python",
   "name": "python3"
  },
  "language_info": {
   "codemirror_mode": {
    "name": "ipython",
    "version": 3
   },
   "file_extension": ".py",
   "mimetype": "text/x-python",
   "name": "python",
   "nbconvert_exporter": "python",
   "pygments_lexer": "ipython3",
   "version": "3.12.1"
  }
 },
 "nbformat": 4,
 "nbformat_minor": 2
}
